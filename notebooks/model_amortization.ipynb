{
 "cells": [
  {
   "cell_type": "code",
   "execution_count": 1,
   "metadata": {},
   "outputs": [
    {
     "data": {
      "text/html": [
       "\n",
       "<style>\n",
       "    div#notebook-container    { width: 95%; }\n",
       "    div#menubar-container     { width: 65%; }\n",
       "    div#maintoolbar-container { width: 99%; }\n",
       "</style>\n"
      ],
      "text/plain": [
       "<IPython.core.display.HTML object>"
      ]
     },
     "metadata": {},
     "output_type": "display_data"
    }
   ],
   "source": [
    "from IPython.display import display, HTML\n",
    "\n",
    "display(HTML(data=\"\"\"\n",
    "<style>\n",
    "    div#notebook-container    { width: 95%; }\n",
    "    div#menubar-container     { width: 65%; }\n",
    "    div#maintoolbar-container { width: 99%; }\n",
    "</style>\n",
    "\"\"\"))"
   ]
  },
  {
   "cell_type": "code",
   "execution_count": 1,
   "metadata": {
    "collapsed": true
   },
   "outputs": [],
   "source": [
    "#im skipping leap days currently in multiple places\n",
    "import sys\n",
    "import os\n",
    "import numpy as np\n",
    "import pickle\n",
    "import matplotlib.pyplot as plt\n",
    "import datetime\n",
    "import pandas as pd\n",
    "import seaborn\n",
    "import random\n",
    "import json\n",
    "import pickle\n",
    "import time\n",
    "import copy\n",
    "\n",
    "import torch\n",
    "import torchvision\n",
    "import torchvision.transforms as transforms\n",
    "from torch.autograd import Variable\n",
    "import torch.nn as nn\n",
    "import torch.nn.functional as F\n",
    "import torch.optim as optim\n",
    "\n",
    "%load_ext autoreload\n",
    "%autoreload 2\n",
    "%matplotlib inline"
   ]
  },
  {
   "cell_type": "code",
   "execution_count": 2,
   "metadata": {
    "collapsed": true
   },
   "outputs": [],
   "source": [
    "#ercot 2017 loads\n",
    "\n",
    "path = \"/home/chase/projects/peakload/data/ercot/\"\n",
    "ercot2017 = pd.read_excel(path + \"native_Load_2017.xlsx\")\n",
    "\n",
    "testloads = np.array(list(ercot2017['ERCOT']))"
   ]
  },
  {
   "cell_type": "code",
   "execution_count": 3,
   "metadata": {
    "collapsed": true
   },
   "outputs": [],
   "source": [
    "startdate = datetime.datetime(year=2010, month=1, day=1, hour=0, minute=0, second=0)\n",
    "curr = startdate\n",
    "enddate = datetime.datetime(year=2018, month=1, day=1, hour=0, minute=0, second=0)\n",
    "\n",
    "allhours = []\n",
    "\n",
    "while curr < enddate:\n",
    "    allhours.append(curr)\n",
    "    curr += datetime.timedelta(hours=1)\n",
    "    \n",
    "trainhours = np.array(allhours[0:-8760]) #all but last year, not a leap year\n",
    "testhours = np.array(allhours[-8760:])\n",
    "\n",
    "#get indecies of day starts in testhours\n",
    "startdate = datetime.datetime(year=2017, month=1, day=1, hour=0, minute=0, second=0)\n",
    "curr = startdate\n",
    "enddate = datetime.datetime(year=2018, month=1, day=1, hour=0, minute=0, second=0)\n",
    "\n",
    "day_start_i = []\n",
    "i = 0\n",
    "\n",
    "while curr < enddate:\n",
    "    if curr.hour == 0:\n",
    "        day_start_i.append(i)\n",
    "    curr += datetime.timedelta(hours=1)\n",
    "    i += 1\n"
   ]
  },
  {
   "cell_type": "code",
   "execution_count": null,
   "metadata": {
    "collapsed": true
   },
   "outputs": [],
   "source": []
  },
  {
   "cell_type": "code",
   "execution_count": 4,
   "metadata": {},
   "outputs": [
    {
     "data": {
      "text/plain": [
       "array([datetime.datetime(2017, 7, 28, 15, 0),\n",
       "       datetime.datetime(2017, 7, 28, 16, 0),\n",
       "       datetime.datetime(2017, 7, 28, 14, 0),\n",
       "       datetime.datetime(2017, 7, 20, 15, 0),\n",
       "       datetime.datetime(2017, 7, 27, 15, 0)], dtype=object)"
      ]
     },
     "execution_count": 4,
     "metadata": {},
     "output_type": "execute_result"
    },
    {
     "data": {
      "image/png": "[encoded data removed]",
      "text/plain": [
       "<matplotlib.figure.Figure at 0x7f6c45b0e358>"
      ]
     },
     "metadata": {},
     "output_type": "display_data"
    }
   ],
   "source": [
    "#July peak was calculated to have occured at datetime.datetime(2017, 7, 28, 17, 0)\n",
    "\n",
    "plt.plot(testloads)\n",
    "testhours[testloads.argsort()[-5:][::-1]]"
   ]
  },
  {
   "cell_type": "code",
   "execution_count": 60,
   "metadata": {},
   "outputs": [
    {
     "name": "stdout",
     "output_type": "stream",
     "text": [
      "[5007 5008 5006 4815 4983]\n"
     ]
    }
   ],
   "source": [
    "print(testloads.argsort()[-5:][::-1])"
   ]
  },
  {
   "cell_type": "code",
   "execution_count": 5,
   "metadata": {},
   "outputs": [
    {
     "name": "stdout",
     "output_type": "stream",
     "text": [
      "[5007 5008 5006 4815]\n",
      "0.010736832404036679\n"
     ]
    }
   ],
   "source": [
    "#percentage difference in top two\n",
    "print(testloads.argsort()[-4:][::-1])\n",
    "testloads[5007] - testloads[4815] #largest loads exceeds second largest load by 722.3 MW\n",
    "\n",
    "#average peak was 67,273.1 MW\n",
    "print(722.3/67273.1) \n",
    "\n",
    "#1% of load reduction would result in peak time shift, so I can consider a business using up to approx 700 MW in 2017 without annual peak occuring at some other time\n",
    "\n",
    "#per ERCOT Day-ahead load forecast error for July was 2.27%"
   ]
  },
  {
   "cell_type": "code",
   "execution_count": 6,
   "metadata": {
    "collapsed": true
   },
   "outputs": [],
   "source": [
    "#lmps\n",
    "xls = pd.ExcelFile(path + \"LMPS/rpt.00013060.0000000000000000.DAMLZHBSPP_2016.xlsx\")\n",
    "sheets_2016 = [\"Jan_1\", \"Feb_2\", \"Mar_3\", \"Apr_4\", \"May_5\", \"Jun_6\", \"Jul_7\", \"Aug_8\", \"Sep_9\", \"Oct_10\", \"Nov_11\", \"Dec_12\"]\n",
    "hourly_lmp_2016 = []\n",
    "for sheet in sheets_2016:\n",
    "    lmps = pd.read_excel(xls, sheet)\n",
    "    for i in range(len(lmps['Settlement Point Price'])):\n",
    "        if lmps['Settlement Point'][i] == 'HB_BUSAVG':\n",
    "            hourly_lmp_2016.append(lmps['Settlement Point Price'][i])\n",
    "            \n",
    "xls = pd.ExcelFile(path + \"LMPS/rpt.00013060.0000000000000000.DAMLZHBSPP_2017.xlsx\")\n",
    "sheets_2017 = [\"Jan\", \"Feb\", \"Mar\", \"Apr\", \"May\", \"Jun\", \"Jul\", \"Aug\", \"Sep\", \"Oct\", \"Nov\", \"Dec\"]\n",
    "hourly_lmp = []\n",
    "for sheet in sheets_2017:\n",
    "    lmps = pd.read_excel(xls, sheet)\n",
    "    for i in range(len(lmps['Settlement Point Price'])):\n",
    "        if lmps['Settlement Point'][i] == 'HB_BUSAVG':\n",
    "            hourly_lmp.append(lmps['Settlement Point Price'][i])\n",
    "            \n",
    "hourly_lmp = np.array(hourly_lmp)"
   ]
  },
  {
   "cell_type": "code",
   "execution_count": 7,
   "metadata": {},
   "outputs": [
    {
     "data": {
      "text/plain": [
       "<matplotlib.legend.Legend at 0x7efe7daf25c0>"
      ]
     },
     "execution_count": 7,
     "metadata": {},
     "output_type": "execute_result"
    },
    {
     "data": {
      "image/png": "[encoded data removed]",
      "text/plain": [
       "<matplotlib.figure.Figure at 0x7efe7a1b08d0>"
      ]
     },
     "metadata": {},
     "output_type": "display_data"
    }
   ],
   "source": [
    "#per megawatt price\n",
    "plt.plot(hourly_lmp_2016, color=\"orange\", label=\"2016\")\n",
    "plt.plot(hourly_lmp, color=\"blue\", label=\"2017\")\n",
    "plt.legend()"
   ]
  },
  {
   "cell_type": "code",
   "execution_count": 8,
   "metadata": {},
   "outputs": [
    {
     "name": "stdout",
     "output_type": "stream",
     "text": [
      "[206.47  59.55 257.04]\n"
     ]
    }
   ],
   "source": [
    "#peak lmp's occured \n",
    "print(hourly_lmp[[5007, 5008, 5006]])"
   ]
  },
  {
   "cell_type": "code",
   "execution_count": 44,
   "metadata": {},
   "outputs": [
    {
     "ename": "NameError",
     "evalue": "name 'hourly_lmp' is not defined",
     "output_type": "error",
     "traceback": [
      "\u001b[0;31m---------------------------------------------------------------------------\u001b[0m",
      "\u001b[0;31mNameError\u001b[0m                                 Traceback (most recent call last)",
      "\u001b[0;32m<ipython-input-44-21953def6e4c>\u001b[0m in \u001b[0;36m<module>\u001b[0;34m()\u001b[0m\n\u001b[0;32m----> 1\u001b[0;31m \u001b[0mprint\u001b[0m\u001b[0;34m(\u001b[0m\u001b[0mtesthours\u001b[0m\u001b[0;34m[\u001b[0m\u001b[0mhourly_lmp\u001b[0m\u001b[0;34m.\u001b[0m\u001b[0margsort\u001b[0m\u001b[0;34m(\u001b[0m\u001b[0;34m)\u001b[0m\u001b[0;34m[\u001b[0m\u001b[0;34m-\u001b[0m\u001b[0;36m5\u001b[0m\u001b[0;34m:\u001b[0m\u001b[0;34m]\u001b[0m\u001b[0;34m[\u001b[0m\u001b[0;34m:\u001b[0m\u001b[0;34m:\u001b[0m\u001b[0;34m-\u001b[0m\u001b[0;36m1\u001b[0m\u001b[0;34m]\u001b[0m\u001b[0;34m]\u001b[0m\u001b[0;34m)\u001b[0m\u001b[0;34m\u001b[0m\u001b[0m\n\u001b[0m",
      "\u001b[0;31mNameError\u001b[0m: name 'hourly_lmp' is not defined"
     ]
    }
   ],
   "source": [
    "print(testhours[hourly_lmp.argsort()[-5:][::-1]])"
   ]
  },
  {
   "cell_type": "code",
   "execution_count": 10,
   "metadata": {
    "collapsed": true
   },
   "outputs": [],
   "source": [
    "#concave utility function from 0 to 500 MW\n",
    "#500 MW at $2150 per MW CP costs = 1.075mil per annum\n",
    "#maximum daily utility set equal to transmission costs\n",
    "#17.5(x)(500 - x) - (pi_e + pi_cp)x = y utility\n",
    "#-17.5x^2 + [8750 - (pi_e + pi_cp)]x = y\n",
    "#dy/dx = -35x + [8750 - (pi_e + pi_cp)], max x = [8750 - (pi_e + pi_cp)]/35\n",
    "\n",
    "\n",
    "cp_perMW = 2150.0"
   ]
  },
  {
   "cell_type": "code",
   "execution_count": 11,
   "metadata": {
    "collapsed": true
   },
   "outputs": [],
   "source": [
    "def hourly_utility(power, pi_e, pi_cp):\n",
    "    utility = -17.5*np.power(power, 2) + (8750.0 - (pi_e + pi_cp))*power\n",
    "    return(utility)\n",
    "\n",
    "def max_power(pi_e, pi_cp):\n",
    "    max_pow = (8750.0 - (pi_e + pi_cp))/35.0\n",
    "    return(max_pow)\n",
    "\n",
    "def cp_curtailment(cdfval, min_thresh=0.85):\n",
    "    #returns a fractional curtailment of power demand as a function\n",
    "    #of predicted CDF value of load\n",
    "    curtail_val = (cdfval - min_thresh)/(1 - min_thresh)\n",
    "    outval = np.min([0, curtail_val])\n",
    "    return(outval)"
   ]
  },
  {
   "cell_type": "code",
   "execution_count": null,
   "metadata": {
    "collapsed": true
   },
   "outputs": [],
   "source": []
  },
  {
   "cell_type": "code",
   "execution_count": 166,
   "metadata": {},
   "outputs": [
    {
     "name": "stdout",
     "output_type": "stream",
     "text": [
      "2919.0\n"
     ]
    }
   ],
   "source": [
    "#perfect knowledge optimal performance during workday\n",
    "\n",
    "ann_util_opt = 0.0\n",
    "\n",
    "for i in range(len(testhours)):\n",
    "    dt = testhours[i]\n",
    "    if dt.hour in [9, 10, 11, 12, 13, 14, 15, 16]:\n",
    "        #pi_e = hourly_lmp[i]\n",
    "        if i == 5007: #CP:\n",
    "            pi_cp = 2150.0\n",
    "            mp = max_power(pi_e, pi_cp)\n",
    "        else:\n",
    "            pi_cp = 0.0\n",
    "            mp = max_power(pi_e, pi_cp)\n",
    "\n",
    "            ann_util_opt += hourly_utility(mp, pi_e, pi_cp)\n",
    "\n",
    "print(ann_util_opt)\n",
    "\n",
    "#for each hour\n",
    "    #calculate max_power, include CP price if annual CP (check that this returns a non-negative value)\n",
    "    #add utility to annual sum"
   ]
  },
  {
   "cell_type": "code",
   "execution_count": 6,
   "metadata": {
    "collapsed": true
   },
   "outputs": [],
   "source": [
    "#perfect knowledge optimal performance during workday\n",
    "#marginal utility model\n",
    "\n",
    "alphas = np.arange(0.85, 0.999, 0.001)\n",
    "\n",
    "perfect = []\n",
    "\n",
    "for a in alphas:\n",
    "    ann_util_opt = 0.0\n",
    "\n",
    "    for i in range(len(testhours)):\n",
    "        dt = testhours[i]\n",
    "        #if dt.hour in [i for i in range(24)]:\n",
    "        if dt.hour in [9, 10, 11, 12, 13, 14, 15, 16]:\n",
    "            if i == 5007: #CP:\n",
    "                pass\n",
    "            else:\n",
    "                ann_util_opt += 1\n",
    "\n",
    "    perfect.append(ann_util_opt)\n"
   ]
  },
  {
   "cell_type": "code",
   "execution_count": null,
   "metadata": {
    "collapsed": true
   },
   "outputs": [],
   "source": []
  },
  {
   "cell_type": "code",
   "execution_count": null,
   "metadata": {
    "collapsed": true
   },
   "outputs": [],
   "source": []
  },
  {
   "cell_type": "code",
   "execution_count": 7,
   "metadata": {
    "collapsed": true
   },
   "outputs": [],
   "source": [
    "#generate historical average model"
   ]
  },
  {
   "cell_type": "code",
   "execution_count": 8,
   "metadata": {},
   "outputs": [
    {
     "name": "stdout",
     "output_type": "stream",
     "text": [
      "570.2781314827672 36556.57900951147\n"
     ]
    },
    {
     "name": "stderr",
     "output_type": "stream",
     "text": [
      "/home/chase/applications/anaconda3/lib/python3.6/site-packages/ipykernel/__main__.py:25: FutureWarning: `rcond` parameter will change to the default of machine precision times ``max(M, N)`` where M and N are the input matrix dimensions.\n",
      "To use the future default and silence this warning we advise to pass `rcond=None`, to keep using the old, explicitly pass `rcond=-1`.\n"
     ]
    },
    {
     "data": {
      "image/png": "[encoded data removed]",
      "text/plain": [
       "<matplotlib.figure.Figure at 0x7f6c400b0400>"
      ]
     },
     "metadata": {},
     "output_type": "display_data"
    }
   ],
   "source": [
    "#ERCOT data\n",
    "lds = datetime.datetime(year=2016, month=2, day=29, hour=0, minute=0) #lines 1415 to 1439\n",
    "lde = datetime.datetime(year=2016, month=2, day=29, hour=23, minute=0)\n",
    "\n",
    "path = \"/home/chase/projects/peakload/data/ercot/\"\n",
    "ercot2017 = pd.read_excel(path + \"native_Load_2017.xlsx\")\n",
    "ercot2016 = pd.read_excel(path + \"native_Load_2016.xlsx\") #leap year\n",
    "ercot2016.drop(ercot2016.index[1415:1439], inplace=True) #dropping leap days so years line up\n",
    "\n",
    "ercot2015 = pd.read_excel(path + \"native_Load_2015.xls\")\n",
    "ercot2014 = pd.read_excel(path + \"2014_ERCOT_Hourly_Load_Data.xls\")\n",
    "ercot2013 = pd.read_excel(path + \"2013_ERCOT_Hourly_Load_Data.xls\")\n",
    "ercot2012 = pd.read_excel(path + \"2012_ERCOT_Hourly_Load_Data.xls\") #leap year\n",
    "ercot2012.drop(ercot2012.index[1415:1439], inplace=True)\n",
    "\n",
    "ercot2011 = pd.read_excel(path + \"2011_ERCOT_Hourly_Load_Data.xls\")\n",
    "ercot2010 = pd.read_excel(path + \"2010_ERCOT_Hourly_Load_Data.xls\")\n",
    "\n",
    "yearly_data = [ercot2010, ercot2011, ercot2012, ercot2013, ercot2014, ercot2015, ercot2016, ercot2017]\n",
    "training = [list(ercot2010['ERCOT']), list(ercot2011['ERCOT']), list(ercot2012['ERCOT']), list(ercot2013['ERCOT']), list(ercot2014['ERCOT']), list(ercot2015['ERCOT']), list(ercot2016['ERCOT'])]\n",
    "means = [ np.nanmean(y) for y in training ]\n",
    "\n",
    "#use system-wide loadgrowth for all regions\n",
    "A = np.vstack((np.array([0, 1, 2, 3, 4, 5, 6]), np.array([1, 1, 1, 1, 1, 1, 1]))).T\n",
    "a, b = np.linalg.lstsq(A, np.array(means))[0]\n",
    "print(a, b)\n",
    "projected_mean = a*7.0 + b\n",
    "plt.plot(means + [projected_mean])\n",
    "means.append(projected_mean)\n",
    "load_growth = np.array(means)\n",
    "\n",
    "yearly_loads = np.zeros((8,8760))\n",
    "\n",
    "for i in range(len(yearly_data)):\n",
    "    yearly_loads[i,:] = np.array(yearly_data[i]['ERCOT']) - load_growth[i]\n",
    "    \n",
    "model = np.nanmean(yearly_loads[0:6,:], axis=0)\n",
    "test = yearly_loads[7,:]\n",
    "plt.plot(model, color=\"blue\", label=\"model\")\n",
    "plt.plot(test, color=\"red\", label=\"test data\")\n",
    "plt.legend()\n",
    "plt.show()"
   ]
  },
  {
   "cell_type": "code",
   "execution_count": 10,
   "metadata": {},
   "outputs": [
    {
     "data": {
      "text/plain": [
       "<matplotlib.legend.Legend at 0x7f6c454aacc0>"
      ]
     },
     "execution_count": 10,
     "metadata": {},
     "output_type": "execute_result"
    },
    {
     "data": {
      "image/png": "[encoded data removed]",
      "text/plain": [
       "<matplotlib.figure.Figure at 0x7f6c417ba518>"
      ]
     },
     "metadata": {},
     "output_type": "display_data"
    }
   ],
   "source": [
    "model_ranks = np.zeros((yearly_loads.shape[1], 1))\n",
    "test_ranks = np.zeros((yearly_loads.shape[1], 1))\n",
    "\n",
    "for i in range(model_ranks.shape[0]):\n",
    "    greater = np.sum([ 1 for k in model[:,] if k >= model[i,] ])/float(model.shape[0])\n",
    "    model_ranks[i,0] = 1.0 - greater\n",
    "    \n",
    "for i in range(test_ranks.shape[0]):\n",
    "    greater = np.sum([ 1 for k in test[:,] if k >= test[i,] ])/float(test.shape[0])\n",
    "    test_ranks[i,0] = 1.0 - greater\n",
    "    \n",
    "plt.plot(model_ranks, label=\"model ranks\")\n",
    "plt.plot(test_ranks, label=\"test ranks\")\n",
    "plt.legend()"
   ]
  },
  {
   "cell_type": "code",
   "execution_count": null,
   "metadata": {},
   "outputs": [],
   "source": [
    "for i in range(9,17):\n",
    "    print(i)"
   ]
  },
  {
   "cell_type": "code",
   "execution_count": null,
   "metadata": {},
   "outputs": [],
   "source": [
    "ann_util = 0.0\n",
    "\n",
    "for i in day_start_i:\n",
    "    dt = testhours[i]\n",
    "    cdf_vals = model_ranks[i:i+24]\n",
    "    #for h in range(24):\n",
    "    for h in range(9,17):\n",
    "        g += 1\n",
    "        ann_hour = i+h\n",
    "        pi_e = hourly_lmp[ann_hour]\n",
    "        mp = max_power(pi_e, 0.0)\n",
    "        curtail_mp = cp_curtailment(cdf_vals[h])\n",
    "        rp = curtail_mp * mp\n",
    "        if ann_hour == 5007:\n",
    "            #cp occurence\n",
    "            pi_cp = 2150.0\n",
    "        else:\n",
    "            pi_cp = 0.0\n",
    "            \n",
    "        ann_util += hourly_utility(rp, pi_e, pi_cp)\n",
    "        \n",
    "print(ann_util/ann_util_opt)"
   ]
  },
  {
   "cell_type": "code",
   "execution_count": null,
   "metadata": {},
   "outputs": [],
   "source": [
    "alphas"
   ]
  },
  {
   "cell_type": "code",
   "execution_count": 352,
   "metadata": {},
   "outputs": [],
   "source": [
    "#marginal utility model\n",
    "def cp_curtailment(cdfval, min_thresh=0.85):\n",
    "    #returns a fractional curtailment of power demand as a function\n",
    "    #of predicted CDF value of load\n",
    "    curtail_val = (cdfval - min_thresh)/(1 - min_thresh)\n",
    "    outval = np.nanmax([0, curtail_val])\n",
    "    return(outval)\n",
    "\n",
    "historical_by_alpha = []\n",
    "top_k = 10\n",
    "top_i = testloads.argsort()[-top_k:][::-1]\n",
    "\n",
    "for a in alphas:\n",
    "    ann_util = 0.0\n",
    "\n",
    "    for i in day_start_i:\n",
    "        dt = testhours[i]\n",
    "        if dt.weekday() == 5 or dt.weekday() == 6:\n",
    "            pass\n",
    "        #for h in range(24):\n",
    "        else:\n",
    "            cdf_vals = model_ranks[i:i+24]\n",
    "            for h in range(9,17):\n",
    "                ann_hour = i+h\n",
    "                curtail_mp = cp_curtailment(cdf_vals[h], min_thresh=a)\n",
    "                if ann_hour in top_i:\n",
    "                    ann_util += np.log(1000*(1.01 - curtail_mp)) + (1.0 - curtail_mp)*(-10.0)\n",
    "                else:\n",
    "                    ann_util += np.log(1000*(1.01 - curtail_mp))\n",
    "\n",
    "    #print(ann_util/ann_util_opt)\n",
    "    historical_by_alpha.append(ann_util)"
   ]
  },
  {
   "cell_type": "code",
   "execution_count": null,
   "metadata": {},
   "outputs": [],
   "source": []
  },
  {
   "cell_type": "code",
   "execution_count": null,
   "metadata": {
    "collapsed": true
   },
   "outputs": [],
   "source": []
  },
  {
   "cell_type": "code",
   "execution_count": 353,
   "metadata": {},
   "outputs": [
    {
     "name": "stdout",
     "output_type": "stream",
     "text": [
      "[0.9859589]\n"
     ]
    }
   ],
   "source": [
    "#lost utility due to curtailment\n",
    "\n",
    "lost_historical_by_alpha = []\n",
    "\n",
    "for a in alphas:\n",
    "    ann_util = 0.0\n",
    "\n",
    "    for i in day_start_i:\n",
    "        dt = testhours[i]\n",
    "        cdf_vals = model_ranks[i:i+24]\n",
    "        #for h in range(24):\n",
    "        for h in range(9,17):\n",
    "            ann_hour = i+h\n",
    "            curtail_mp = 1.0 - cp_curtailment(cdf_vals[h], min_thresh=a)\n",
    "            ann_util += curtail_mp\n",
    "            \n",
    "            if ann_hour == 5007:\n",
    "                peak = cdf_vals[h]\n",
    "            #    ann_util += curtail_mp*(100)\n",
    "            #else:\n",
    "            #    ann_util += curtail_mp\n",
    "\n",
    "    #print(ann_util/ann_util_opt)\n",
    "    lost_historical_by_alpha.append(ann_util)\n",
    "print(peak)"
   ]
  },
  {
   "cell_type": "code",
   "execution_count": null,
   "metadata": {},
   "outputs": [],
   "source": []
  },
  {
   "cell_type": "code",
   "execution_count": 363,
   "metadata": {},
   "outputs": [],
   "source": [
    "#neural net model\n",
    "#with weather data\n",
    "def torch_reshape_data(databatch):\n",
    "    #flattens array inputs for a single list of training, target pairs\n",
    "    inputs = []\n",
    "    labels = []\n",
    "    for sample in databatch:\n",
    "        inputs.append(sample[0].flatten())\n",
    "        labels.append(sample[1].flatten())\n",
    "    return(torch.Tensor(np.asarray(inputs)), torch.Tensor(np.asarray(labels)))\n",
    "\n",
    "path = \"/home/chase/projects/peakload/data/nets/models/\"\n",
    "#mname = 'triple_hidden_1903.pt'\n",
    "mname = 'triple_hidden_3224.pt'\n",
    "#mname = 'triple_hidden_3080.pt'\n",
    "#mname = 'triple_hidden_3120.pt' #L1 weather loss\n",
    "#mname = 'triple_hidden_6772.pt' #load data only\n",
    "\n",
    "sys.path.append(\"/home/chase/projects/peakload/src/python/nets/triple_hidden\")\n",
    "\n",
    "nnmodel = torch.load(path + mname)\n",
    "\n",
    "random.seed(45) #fixed for all experiments, my high school football jersey number\n",
    "torch.manual_seed(45)\n",
    "\n",
    "#test_data_path = \"/home/chase/projects/peakload/data/ercot/weather_pairs/regional_formatted/load_features/test\"#\n",
    "test_data_path = \"/home/chase/projects/peakload/data/ercot/weather_pairs/regional_formatted/load_features_wplus/test\"\n",
    "#test_data_path = \"/home/chase/projects/peakload/data/ercot/regional_formatted/load_features/test\"\n",
    "files = os.listdir(test_data_path)\n",
    "weather_normed_test_data_pairs = []\n",
    "\n",
    "for i in range(8735):\n",
    "    fname = str(i) + \"_all_weather_load_features.pck\"\n",
    "    with open(test_data_path + \"/\" + fname, 'rb') as d:\n",
    "        weather_normed_test_data_pairs.append(pickle.load(d))"
   ]
  },
  {
   "cell_type": "code",
   "execution_count": null,
   "metadata": {},
   "outputs": [],
   "source": []
  },
  {
   "cell_type": "code",
   "execution_count": 364,
   "metadata": {
    "collapsed": true
   },
   "outputs": [],
   "source": [
    "day_pairs = []\n",
    "\n",
    "for i in day_start_i:\n",
    "    try:\n",
    "        day_pairs.append(weather_normed_test_data_pairs[i])\n",
    "    except:\n",
    "        pass"
   ]
  },
  {
   "cell_type": "code",
   "execution_count": 365,
   "metadata": {},
   "outputs": [
    {
     "ename": "RuntimeError",
     "evalue": "size mismatch at /opt/conda/conda-bld/pytorch_1503970438496/work/torch/lib/THC/generic/THCTensorMathBlas.cu:243",
     "output_type": "error",
     "traceback": [
      "\u001b[0;31m---------------------------------------------------------------------------\u001b[0m",
      "\u001b[0;31mRuntimeError\u001b[0m                              Traceback (most recent call last)",
      "\u001b[0;32m<ipython-input-365-d418cf0ca05c>\u001b[0m in \u001b[0;36m<module>\u001b[0;34m()\u001b[0m\n\u001b[1;32m      3\u001b[0m \u001b[0mlabels\u001b[0m \u001b[0;34m=\u001b[0m \u001b[0mVariable\u001b[0m\u001b[0;34m(\u001b[0m\u001b[0mlabels\u001b[0m\u001b[0;34m.\u001b[0m\u001b[0mcuda\u001b[0m\u001b[0;34m(\u001b[0m\u001b[0;34m)\u001b[0m\u001b[0;34m)\u001b[0m\u001b[0;34m\u001b[0m\u001b[0m\n\u001b[1;32m      4\u001b[0m \u001b[0minputs\u001b[0m \u001b[0;34m=\u001b[0m \u001b[0mVariable\u001b[0m\u001b[0;34m(\u001b[0m\u001b[0minputs\u001b[0m\u001b[0;34m.\u001b[0m\u001b[0mcuda\u001b[0m\u001b[0;34m(\u001b[0m\u001b[0;34m)\u001b[0m\u001b[0;34m)\u001b[0m\u001b[0;34m\u001b[0m\u001b[0m\n\u001b[0;32m----> 5\u001b[0;31m \u001b[0moutputs\u001b[0m \u001b[0;34m=\u001b[0m \u001b[0mnnmodel\u001b[0m\u001b[0;34m(\u001b[0m\u001b[0minputs\u001b[0m\u001b[0;34m)\u001b[0m\u001b[0;34m\u001b[0m\u001b[0m\n\u001b[0m\u001b[1;32m      6\u001b[0m \u001b[0;34m\u001b[0m\u001b[0m\n\u001b[1;32m      7\u001b[0m \u001b[0mlabels\u001b[0m \u001b[0;34m=\u001b[0m \u001b[0mlabels\u001b[0m\u001b[0;34m.\u001b[0m\u001b[0mdata\u001b[0m\u001b[0;34m.\u001b[0m\u001b[0mcpu\u001b[0m\u001b[0;34m(\u001b[0m\u001b[0;34m)\u001b[0m\u001b[0;34m.\u001b[0m\u001b[0mnumpy\u001b[0m\u001b[0;34m(\u001b[0m\u001b[0;34m)\u001b[0m\u001b[0;34m\u001b[0m\u001b[0m\n",
      "\u001b[0;32m~/applications/anaconda3/lib/python3.6/site-packages/torch/nn/modules/module.py\u001b[0m in \u001b[0;36m__call__\u001b[0;34m(self, *input, **kwargs)\u001b[0m\n\u001b[1;32m    222\u001b[0m         \u001b[0;32mfor\u001b[0m \u001b[0mhook\u001b[0m \u001b[0;32min\u001b[0m \u001b[0mself\u001b[0m\u001b[0;34m.\u001b[0m\u001b[0m_forward_pre_hooks\u001b[0m\u001b[0;34m.\u001b[0m\u001b[0mvalues\u001b[0m\u001b[0;34m(\u001b[0m\u001b[0;34m)\u001b[0m\u001b[0;34m:\u001b[0m\u001b[0;34m\u001b[0m\u001b[0m\n\u001b[1;32m    223\u001b[0m             \u001b[0mhook\u001b[0m\u001b[0;34m(\u001b[0m\u001b[0mself\u001b[0m\u001b[0;34m,\u001b[0m \u001b[0minput\u001b[0m\u001b[0;34m)\u001b[0m\u001b[0;34m\u001b[0m\u001b[0m\n\u001b[0;32m--> 224\u001b[0;31m         \u001b[0mresult\u001b[0m \u001b[0;34m=\u001b[0m \u001b[0mself\u001b[0m\u001b[0;34m.\u001b[0m\u001b[0mforward\u001b[0m\u001b[0;34m(\u001b[0m\u001b[0;34m*\u001b[0m\u001b[0minput\u001b[0m\u001b[0;34m,\u001b[0m \u001b[0;34m**\u001b[0m\u001b[0mkwargs\u001b[0m\u001b[0;34m)\u001b[0m\u001b[0;34m\u001b[0m\u001b[0m\n\u001b[0m\u001b[1;32m    225\u001b[0m         \u001b[0;32mfor\u001b[0m \u001b[0mhook\u001b[0m \u001b[0;32min\u001b[0m \u001b[0mself\u001b[0m\u001b[0;34m.\u001b[0m\u001b[0m_forward_hooks\u001b[0m\u001b[0;34m.\u001b[0m\u001b[0mvalues\u001b[0m\u001b[0;34m(\u001b[0m\u001b[0;34m)\u001b[0m\u001b[0;34m:\u001b[0m\u001b[0;34m\u001b[0m\u001b[0m\n\u001b[1;32m    226\u001b[0m             \u001b[0mhook_result\u001b[0m \u001b[0;34m=\u001b[0m \u001b[0mhook\u001b[0m\u001b[0;34m(\u001b[0m\u001b[0mself\u001b[0m\u001b[0;34m,\u001b[0m \u001b[0minput\u001b[0m\u001b[0;34m,\u001b[0m \u001b[0mresult\u001b[0m\u001b[0;34m)\u001b[0m\u001b[0;34m\u001b[0m\u001b[0m\n",
      "\u001b[0;32m~/projects/peakload/src/python/nets/triple_hidden/triple_hidden.py\u001b[0m in \u001b[0;36mforward\u001b[0;34m(self, x)\u001b[0m\n\u001b[1;32m     17\u001b[0m \u001b[0;34m\u001b[0m\u001b[0m\n\u001b[1;32m     18\u001b[0m     \u001b[0;32mdef\u001b[0m \u001b[0mforward\u001b[0m\u001b[0;34m(\u001b[0m\u001b[0mself\u001b[0m\u001b[0;34m,\u001b[0m \u001b[0mx\u001b[0m\u001b[0;34m)\u001b[0m\u001b[0;34m:\u001b[0m\u001b[0;34m\u001b[0m\u001b[0m\n\u001b[0;32m---> 19\u001b[0;31m         \u001b[0mx\u001b[0m \u001b[0;34m=\u001b[0m \u001b[0mF\u001b[0m\u001b[0;34m.\u001b[0m\u001b[0msigmoid\u001b[0m\u001b[0;34m(\u001b[0m\u001b[0mself\u001b[0m\u001b[0;34m.\u001b[0m\u001b[0ml1\u001b[0m\u001b[0;34m(\u001b[0m\u001b[0mx\u001b[0m\u001b[0;34m)\u001b[0m\u001b[0;34m)\u001b[0m\u001b[0;34m\u001b[0m\u001b[0m\n\u001b[0m\u001b[1;32m     20\u001b[0m         \u001b[0mx\u001b[0m \u001b[0;34m=\u001b[0m \u001b[0mF\u001b[0m\u001b[0;34m.\u001b[0m\u001b[0msigmoid\u001b[0m\u001b[0;34m(\u001b[0m\u001b[0mself\u001b[0m\u001b[0;34m.\u001b[0m\u001b[0ml2\u001b[0m\u001b[0;34m(\u001b[0m\u001b[0mx\u001b[0m\u001b[0;34m)\u001b[0m\u001b[0;34m)\u001b[0m\u001b[0;34m\u001b[0m\u001b[0m\n\u001b[1;32m     21\u001b[0m         \u001b[0mx\u001b[0m \u001b[0;34m=\u001b[0m \u001b[0mF\u001b[0m\u001b[0;34m.\u001b[0m\u001b[0msigmoid\u001b[0m\u001b[0;34m(\u001b[0m\u001b[0mself\u001b[0m\u001b[0;34m.\u001b[0m\u001b[0ml3\u001b[0m\u001b[0;34m(\u001b[0m\u001b[0mx\u001b[0m\u001b[0;34m)\u001b[0m\u001b[0;34m)\u001b[0m\u001b[0;34m\u001b[0m\u001b[0m\n",
      "\u001b[0;32m~/applications/anaconda3/lib/python3.6/site-packages/torch/nn/modules/module.py\u001b[0m in \u001b[0;36m__call__\u001b[0;34m(self, *input, **kwargs)\u001b[0m\n\u001b[1;32m    222\u001b[0m         \u001b[0;32mfor\u001b[0m \u001b[0mhook\u001b[0m \u001b[0;32min\u001b[0m \u001b[0mself\u001b[0m\u001b[0;34m.\u001b[0m\u001b[0m_forward_pre_hooks\u001b[0m\u001b[0;34m.\u001b[0m\u001b[0mvalues\u001b[0m\u001b[0;34m(\u001b[0m\u001b[0;34m)\u001b[0m\u001b[0;34m:\u001b[0m\u001b[0;34m\u001b[0m\u001b[0m\n\u001b[1;32m    223\u001b[0m             \u001b[0mhook\u001b[0m\u001b[0;34m(\u001b[0m\u001b[0mself\u001b[0m\u001b[0;34m,\u001b[0m \u001b[0minput\u001b[0m\u001b[0;34m)\u001b[0m\u001b[0;34m\u001b[0m\u001b[0m\n\u001b[0;32m--> 224\u001b[0;31m         \u001b[0mresult\u001b[0m \u001b[0;34m=\u001b[0m \u001b[0mself\u001b[0m\u001b[0;34m.\u001b[0m\u001b[0mforward\u001b[0m\u001b[0;34m(\u001b[0m\u001b[0;34m*\u001b[0m\u001b[0minput\u001b[0m\u001b[0;34m,\u001b[0m \u001b[0;34m**\u001b[0m\u001b[0mkwargs\u001b[0m\u001b[0;34m)\u001b[0m\u001b[0;34m\u001b[0m\u001b[0m\n\u001b[0m\u001b[1;32m    225\u001b[0m         \u001b[0;32mfor\u001b[0m \u001b[0mhook\u001b[0m \u001b[0;32min\u001b[0m \u001b[0mself\u001b[0m\u001b[0;34m.\u001b[0m\u001b[0m_forward_hooks\u001b[0m\u001b[0;34m.\u001b[0m\u001b[0mvalues\u001b[0m\u001b[0;34m(\u001b[0m\u001b[0;34m)\u001b[0m\u001b[0;34m:\u001b[0m\u001b[0;34m\u001b[0m\u001b[0m\n\u001b[1;32m    226\u001b[0m             \u001b[0mhook_result\u001b[0m \u001b[0;34m=\u001b[0m \u001b[0mhook\u001b[0m\u001b[0;34m(\u001b[0m\u001b[0mself\u001b[0m\u001b[0;34m,\u001b[0m \u001b[0minput\u001b[0m\u001b[0;34m,\u001b[0m \u001b[0mresult\u001b[0m\u001b[0;34m)\u001b[0m\u001b[0;34m\u001b[0m\u001b[0m\n",
      "\u001b[0;32m~/applications/anaconda3/lib/python3.6/site-packages/torch/nn/modules/linear.py\u001b[0m in \u001b[0;36mforward\u001b[0;34m(self, input)\u001b[0m\n\u001b[1;32m     51\u001b[0m \u001b[0;34m\u001b[0m\u001b[0m\n\u001b[1;32m     52\u001b[0m     \u001b[0;32mdef\u001b[0m \u001b[0mforward\u001b[0m\u001b[0;34m(\u001b[0m\u001b[0mself\u001b[0m\u001b[0;34m,\u001b[0m \u001b[0minput\u001b[0m\u001b[0;34m)\u001b[0m\u001b[0;34m:\u001b[0m\u001b[0;34m\u001b[0m\u001b[0m\n\u001b[0;32m---> 53\u001b[0;31m         \u001b[0;32mreturn\u001b[0m \u001b[0mF\u001b[0m\u001b[0;34m.\u001b[0m\u001b[0mlinear\u001b[0m\u001b[0;34m(\u001b[0m\u001b[0minput\u001b[0m\u001b[0;34m,\u001b[0m \u001b[0mself\u001b[0m\u001b[0;34m.\u001b[0m\u001b[0mweight\u001b[0m\u001b[0;34m,\u001b[0m \u001b[0mself\u001b[0m\u001b[0;34m.\u001b[0m\u001b[0mbias\u001b[0m\u001b[0;34m)\u001b[0m\u001b[0;34m\u001b[0m\u001b[0m\n\u001b[0m\u001b[1;32m     54\u001b[0m \u001b[0;34m\u001b[0m\u001b[0m\n\u001b[1;32m     55\u001b[0m     \u001b[0;32mdef\u001b[0m \u001b[0m__repr__\u001b[0m\u001b[0;34m(\u001b[0m\u001b[0mself\u001b[0m\u001b[0;34m)\u001b[0m\u001b[0;34m:\u001b[0m\u001b[0;34m\u001b[0m\u001b[0m\n",
      "\u001b[0;32m~/applications/anaconda3/lib/python3.6/site-packages/torch/nn/functional.py\u001b[0m in \u001b[0;36mlinear\u001b[0;34m(input, weight, bias)\u001b[0m\n\u001b[1;32m    551\u001b[0m     \u001b[0;32mif\u001b[0m \u001b[0minput\u001b[0m\u001b[0;34m.\u001b[0m\u001b[0mdim\u001b[0m\u001b[0;34m(\u001b[0m\u001b[0;34m)\u001b[0m \u001b[0;34m==\u001b[0m \u001b[0;36m2\u001b[0m \u001b[0;32mand\u001b[0m \u001b[0mbias\u001b[0m \u001b[0;32mis\u001b[0m \u001b[0;32mnot\u001b[0m \u001b[0;32mNone\u001b[0m\u001b[0;34m:\u001b[0m\u001b[0;34m\u001b[0m\u001b[0m\n\u001b[1;32m    552\u001b[0m         \u001b[0;31m# fused op is marginally faster\u001b[0m\u001b[0;34m\u001b[0m\u001b[0;34m\u001b[0m\u001b[0m\n\u001b[0;32m--> 553\u001b[0;31m         \u001b[0;32mreturn\u001b[0m \u001b[0mtorch\u001b[0m\u001b[0;34m.\u001b[0m\u001b[0maddmm\u001b[0m\u001b[0;34m(\u001b[0m\u001b[0mbias\u001b[0m\u001b[0;34m,\u001b[0m \u001b[0minput\u001b[0m\u001b[0;34m,\u001b[0m \u001b[0mweight\u001b[0m\u001b[0;34m.\u001b[0m\u001b[0mt\u001b[0m\u001b[0;34m(\u001b[0m\u001b[0;34m)\u001b[0m\u001b[0;34m)\u001b[0m\u001b[0;34m\u001b[0m\u001b[0m\n\u001b[0m\u001b[1;32m    554\u001b[0m \u001b[0;34m\u001b[0m\u001b[0m\n\u001b[1;32m    555\u001b[0m     \u001b[0moutput\u001b[0m \u001b[0;34m=\u001b[0m \u001b[0minput\u001b[0m\u001b[0;34m.\u001b[0m\u001b[0mmatmul\u001b[0m\u001b[0;34m(\u001b[0m\u001b[0mweight\u001b[0m\u001b[0;34m.\u001b[0m\u001b[0mt\u001b[0m\u001b[0;34m(\u001b[0m\u001b[0;34m)\u001b[0m\u001b[0;34m)\u001b[0m\u001b[0;34m\u001b[0m\u001b[0m\n",
      "\u001b[0;32m~/applications/anaconda3/lib/python3.6/site-packages/torch/autograd/variable.py\u001b[0m in \u001b[0;36maddmm\u001b[0;34m(cls, *args)\u001b[0m\n\u001b[1;32m    922\u001b[0m         \u001b[0;34m@\u001b[0m\u001b[0mclassmethod\u001b[0m\u001b[0;34m\u001b[0m\u001b[0m\n\u001b[1;32m    923\u001b[0m         \u001b[0;32mdef\u001b[0m \u001b[0maddmm\u001b[0m\u001b[0;34m(\u001b[0m\u001b[0mcls\u001b[0m\u001b[0;34m,\u001b[0m \u001b[0;34m*\u001b[0m\u001b[0margs\u001b[0m\u001b[0;34m)\u001b[0m\u001b[0;34m:\u001b[0m\u001b[0;34m\u001b[0m\u001b[0m\n\u001b[0;32m--> 924\u001b[0;31m             \u001b[0;32mreturn\u001b[0m \u001b[0mcls\u001b[0m\u001b[0;34m.\u001b[0m\u001b[0m_blas\u001b[0m\u001b[0;34m(\u001b[0m\u001b[0mAddmm\u001b[0m\u001b[0;34m,\u001b[0m \u001b[0margs\u001b[0m\u001b[0;34m,\u001b[0m \u001b[0;32mFalse\u001b[0m\u001b[0;34m)\u001b[0m\u001b[0;34m\u001b[0m\u001b[0m\n\u001b[0m\u001b[1;32m    925\u001b[0m \u001b[0;34m\u001b[0m\u001b[0m\n\u001b[1;32m    926\u001b[0m         \u001b[0;34m@\u001b[0m\u001b[0mclassmethod\u001b[0m\u001b[0;34m\u001b[0m\u001b[0m\n",
      "\u001b[0;32m~/applications/anaconda3/lib/python3.6/site-packages/torch/autograd/variable.py\u001b[0m in \u001b[0;36m_blas\u001b[0;34m(cls, args, inplace)\u001b[0m\n\u001b[1;32m    918\u001b[0m             \u001b[0;32melse\u001b[0m\u001b[0;34m:\u001b[0m\u001b[0;34m\u001b[0m\u001b[0m\n\u001b[1;32m    919\u001b[0m                 \u001b[0mtensors\u001b[0m \u001b[0;34m=\u001b[0m \u001b[0margs\u001b[0m\u001b[0;34m\u001b[0m\u001b[0m\n\u001b[0;32m--> 920\u001b[0;31m             \u001b[0;32mreturn\u001b[0m \u001b[0mcls\u001b[0m\u001b[0;34m.\u001b[0m\u001b[0mapply\u001b[0m\u001b[0;34m(\u001b[0m\u001b[0;34m*\u001b[0m\u001b[0;34m(\u001b[0m\u001b[0mtensors\u001b[0m \u001b[0;34m+\u001b[0m \u001b[0;34m(\u001b[0m\u001b[0malpha\u001b[0m\u001b[0;34m,\u001b[0m \u001b[0mbeta\u001b[0m\u001b[0;34m,\u001b[0m \u001b[0minplace\u001b[0m\u001b[0;34m)\u001b[0m\u001b[0;34m)\u001b[0m\u001b[0;34m)\u001b[0m\u001b[0;34m\u001b[0m\u001b[0m\n\u001b[0m\u001b[1;32m    921\u001b[0m \u001b[0;34m\u001b[0m\u001b[0m\n\u001b[1;32m    922\u001b[0m         \u001b[0;34m@\u001b[0m\u001b[0mclassmethod\u001b[0m\u001b[0;34m\u001b[0m\u001b[0m\n",
      "\u001b[0;32m~/applications/anaconda3/lib/python3.6/site-packages/torch/autograd/_functions/blas.py\u001b[0m in \u001b[0;36mforward\u001b[0;34m(ctx, add_matrix, matrix1, matrix2, alpha, beta, inplace)\u001b[0m\n\u001b[1;32m     24\u001b[0m         \u001b[0moutput\u001b[0m \u001b[0;34m=\u001b[0m \u001b[0m_get_output\u001b[0m\u001b[0;34m(\u001b[0m\u001b[0mctx\u001b[0m\u001b[0;34m,\u001b[0m \u001b[0madd_matrix\u001b[0m\u001b[0;34m,\u001b[0m \u001b[0minplace\u001b[0m\u001b[0;34m=\u001b[0m\u001b[0minplace\u001b[0m\u001b[0;34m)\u001b[0m\u001b[0;34m\u001b[0m\u001b[0m\n\u001b[1;32m     25\u001b[0m         return torch.addmm(alpha, add_matrix, beta,\n\u001b[0;32m---> 26\u001b[0;31m                            matrix1, matrix2, out=output)\n\u001b[0m\u001b[1;32m     27\u001b[0m \u001b[0;34m\u001b[0m\u001b[0m\n\u001b[1;32m     28\u001b[0m     \u001b[0;34m@\u001b[0m\u001b[0mstaticmethod\u001b[0m\u001b[0;34m\u001b[0m\u001b[0m\n",
      "\u001b[0;31mRuntimeError\u001b[0m: size mismatch at /opt/conda/conda-bld/pytorch_1503970438496/work/torch/lib/THC/generic/THCTensorMathBlas.cu:243"
     ]
    }
   ],
   "source": [
    "#do prediction on test data\n",
    "inputs, labels = torch_reshape_data(day_pairs)\n",
    "labels = Variable(labels.cuda())\n",
    "inputs = Variable(inputs.cuda())\n",
    "outputs = nnmodel(inputs)\n",
    "    \n",
    "labels = labels.data.cpu().numpy()\n",
    "outputs = outputs.data.cpu().numpy()\n",
    "inputs = inputs.data.cpu().numpy()"
   ]
  },
  {
   "cell_type": "code",
   "execution_count": null,
   "metadata": {},
   "outputs": [],
   "source": []
  },
  {
   "cell_type": "code",
   "execution_count": 307,
   "metadata": {},
   "outputs": [
    {
     "data": {
      "text/plain": [
       "(364, 24)"
      ]
     },
     "execution_count": 307,
     "metadata": {},
     "output_type": "execute_result"
    }
   ],
   "source": [
    "outputs.shape"
   ]
  },
  {
   "cell_type": "code",
   "execution_count": 308,
   "metadata": {},
   "outputs": [
    {
     "data": {
      "text/plain": [
       "(364, 24)"
      ]
     },
     "execution_count": 308,
     "metadata": {},
     "output_type": "execute_result"
    }
   ],
   "source": [
    "labels.shape"
   ]
  },
  {
   "cell_type": "code",
   "execution_count": 214,
   "metadata": {},
   "outputs": [
    {
     "ename": "SyntaxError",
     "evalue": "invalid syntax (<ipython-input-214-d1658d0aabb8>, line 7)",
     "output_type": "error",
     "traceback": [
      "\u001b[0;36m  File \u001b[0;32m\"<ipython-input-214-d1658d0aabb8>\"\u001b[0;36m, line \u001b[0;32m7\u001b[0m\n\u001b[0;31m    if dt.weekday() == 5 or dt.weekday() == 6\u001b[0m\n\u001b[0m                                             ^\u001b[0m\n\u001b[0;31mSyntaxError\u001b[0m\u001b[0;31m:\u001b[0m invalid syntax\n"
     ]
    }
   ],
   "source": [
    "nn_ann_util = 0.0\n",
    "hourly_utils = []\n",
    "\n",
    "j = 0\n",
    "for i in day_start_i:\n",
    "    dt = testhours[i]\n",
    "    if dt.weekday() == 5 or dt.weekday() == 6\n",
    "    if j == 364:\n",
    "        break\n",
    "    cdf_vals = outputs[j,:]\n",
    "    #for h in range(24):\n",
    "    for h in range(9,17):\n",
    "        ann_hour = i+h\n",
    "        pi_e = hourly_lmp[ann_hour]\n",
    "        mp = max_power(pi_e, 0.0)\n",
    "        curtail_mp = cp_curtailment(cdf_vals[h])\n",
    "        rp = curtail_mp * mp\n",
    "        if ann_hour == 5007:\n",
    "            #cp occurence\n",
    "            pi_cp = 2150.0\n",
    "        else:\n",
    "            pi_cp = 0.0\n",
    "            \n",
    "        nn_ann_util += hourly_utility(rp, pi_e, pi_cp)\n",
    "        hourly_utils.append(hourly_utility(rp, pi_e, pi_cp))\n",
    "    j += 1\n",
    "\n",
    "print((nn_ann_util + 24*np.mean(hourly_utils))/ann_util_opt)"
   ]
  },
  {
   "cell_type": "code",
   "execution_count": null,
   "metadata": {},
   "outputs": [],
   "source": []
  },
  {
   "cell_type": "code",
   "execution_count": null,
   "metadata": {},
   "outputs": [],
   "source": []
  },
  {
   "cell_type": "code",
   "execution_count": null,
   "metadata": {},
   "outputs": [],
   "source": []
  },
  {
   "cell_type": "code",
   "execution_count": 354,
   "metadata": {},
   "outputs": [],
   "source": [
    "x = []\n",
    "y = []\n",
    "pairs = []\n",
    "\n",
    "for i in range(outputs.shape[0]):\n",
    "    daystart = i*24\n",
    "    if i == 364:\n",
    "        break\n",
    "    cdf_vals = outputs[i,:]\n",
    "    powers = testloads[daystart:daystart+24,]\n",
    "    \n",
    "    #x.append(powers)\n",
    "    #y.append(cdf_vals)\n",
    "    \n",
    "    for k in range(len(powers)):\n",
    "        x.append(powers[k])\n",
    "        y.append(cdf_vals[k])\n",
    "    #    pairs.append((powers[k],cdf_vals[k]))"
   ]
  },
  {
   "cell_type": "code",
   "execution_count": 355,
   "metadata": {},
   "outputs": [
    {
     "data": {
      "text/plain": [
       "8736"
      ]
     },
     "execution_count": 355,
     "metadata": {},
     "output_type": "execute_result"
    }
   ],
   "source": [
    "len(x)"
   ]
  },
  {
   "cell_type": "code",
   "execution_count": 356,
   "metadata": {},
   "outputs": [
    {
     "data": {
      "text/plain": [
       "<matplotlib.collections.PathCollection at 0x7f6c37fc4be0>"
      ]
     },
     "execution_count": 356,
     "metadata": {},
     "output_type": "execute_result"
    },
    {
     "data": {
      "image/png": "[encoded data removed]",
      "text/plain": [
       "<matplotlib.figure.Figure at 0x7f6c3c0b3a20>"
      ]
     },
     "metadata": {},
     "output_type": "display_data"
    }
   ],
   "source": [
    "plt.scatter(x,y)"
   ]
  },
  {
   "cell_type": "code",
   "execution_count": null,
   "metadata": {},
   "outputs": [],
   "source": []
  },
  {
   "cell_type": "code",
   "execution_count": null,
   "metadata": {},
   "outputs": [],
   "source": []
  },
  {
   "cell_type": "code",
   "execution_count": null,
   "metadata": {},
   "outputs": [],
   "source": []
  },
  {
   "cell_type": "code",
   "execution_count": 357,
   "metadata": {},
   "outputs": [
    {
     "name": "stdout",
     "output_type": "stream",
     "text": [
      "0.9256468\n"
     ]
    }
   ],
   "source": [
    "#marginal utility model\n",
    "\n",
    "nn_by_alpha = []\n",
    "\n",
    "for a in alphas:\n",
    "    nn_ann_util = 0.0\n",
    "\n",
    "    j = 0\n",
    "    for i in day_start_i:\n",
    "        dt = testhours[i]\n",
    "        if j == 364:\n",
    "            nn_ann_util += 1\n",
    "            break\n",
    "        if dt.weekday() == 5 or dt.weekday() == 6:\n",
    "            pass\n",
    "        else:\n",
    "            cdf_vals = outputs[j,:]\n",
    "            #for h in range(24):\n",
    "            for h in range(9,17):\n",
    "                ann_hour = i+h\n",
    "                curtail_mp = cp_curtailment(cdf_vals[h], min_thresh=a)\n",
    "                if curtail_mp < 0.0:\n",
    "                    curtail_mp = 0.0\n",
    "                    #print(\"over\")\n",
    "                if ann_hour in top_i:\n",
    "                    nn_ann_util += np.log(1000*(1.01 - curtail_mp)) + (1.0 - curtail_mp)*(-10.0)\n",
    "                else:\n",
    "                    nn_ann_util += np.log(1000*(1.01 - curtail_mp))\n",
    "                if ann_hour == 5007:\n",
    "                    peak = cdf_vals[h]\n",
    "\n",
    "        j += 1\n",
    "\n",
    "    nn_by_alpha.append(nn_ann_util)\n",
    "print(peak)\n",
    "    #print(nn_ann_util/ann_util_opt)"
   ]
  },
  {
   "cell_type": "code",
   "execution_count": null,
   "metadata": {},
   "outputs": [],
   "source": []
  },
  {
   "cell_type": "code",
   "execution_count": null,
   "metadata": {},
   "outputs": [],
   "source": []
  },
  {
   "cell_type": "code",
   "execution_count": 358,
   "metadata": {},
   "outputs": [],
   "source": [
    "#lost marginal utility model\n",
    "\n",
    "lost_nn_by_alpha = []\n",
    "\n",
    "for a in alphas:\n",
    "    nn_ann_util = 0.0\n",
    "    hourly_utils = []\n",
    "\n",
    "    j = 0\n",
    "    for i in day_start_i:\n",
    "        dt = testhours[i]\n",
    "        if j == 364:\n",
    "            nn_ann_util += 1\n",
    "            break\n",
    "        cdf_vals = outputs[j,:]\n",
    "        #for h in range(24):\n",
    "        for h in range(9,17):\n",
    "            ann_hour = i+h\n",
    "            curtail_mp = 1.0 - cp_curtailment(cdf_vals[h], min_thresh=a)\n",
    "            nn_ann_util += curtail_mp\n",
    "            if curtail_mp < 0.0:\n",
    "                curtail_mp = 0.0\n",
    "                #print(\"over\")\n",
    "            #if ann_hour == 5007:\n",
    "            #    nn_ann_util += curtail_mp*(-0.1)\n",
    "            #else:\n",
    "            #    nn_ann_util += curtail_mp\n",
    "\n",
    "        j += 1\n",
    "\n",
    "    lost_nn_by_alpha.append(nn_ann_util)\n",
    "    #print(nn_ann_util/ann_util_opt)"
   ]
  },
  {
   "cell_type": "code",
   "execution_count": 359,
   "metadata": {},
   "outputs": [
    {
     "data": {
      "text/plain": [
       "<matplotlib.legend.Legend at 0x7f6c37fad518>"
      ]
     },
     "execution_count": 359,
     "metadata": {},
     "output_type": "execute_result"
    },
    {
     "data": {
      "image/png": "[encoded data removed]",
      "text/plain": [
       "<matplotlib.figure.Figure at 0x7f6c37f90e48>"
      ]
     },
     "metadata": {},
     "output_type": "display_data"
    }
   ],
   "source": [
    "#plt.plot(alphas, perfect, color=\"blue\", label=\"perfect predictor\")\n",
    "plt.plot(alphas, nn_by_alpha, color=\"orange\", label=\"nn predictor\")\n",
    "plt.plot(alphas, historical_by_alpha, color=\"green\", label=\"historical predictor\")\n",
    "plt.xlabel(\"Alpha\")\n",
    "plt.ylabel(\"Annual utility\")\n",
    "#plt.ylim(0,3500)\n",
    "#plt.xlim(0.98,1)\n",
    "\n",
    "plt.legend()"
   ]
  },
  {
   "cell_type": "code",
   "execution_count": 360,
   "metadata": {},
   "outputs": [
    {
     "data": {
      "text/plain": [
       "[<matplotlib.lines.Line2D at 0x7f6c37f16d68>]"
      ]
     },
     "execution_count": 360,
     "metadata": {},
     "output_type": "execute_result"
    },
    {
     "data": {
      "image/png": "[encoded data removed]",
      "text/plain": [
       "<matplotlib.figure.Figure at 0x7f6c37f41a20>"
      ]
     },
     "metadata": {},
     "output_type": "display_data"
    }
   ],
   "source": [
    "plt.plot(np.array(nn_by_alpha) - np.array(historical_by_alpha))"
   ]
  },
  {
   "cell_type": "code",
   "execution_count": 362,
   "metadata": {},
   "outputs": [
    {
     "name": "stdout",
     "output_type": "stream",
     "text": [
      "[25.70775034 26.06093978 26.43990744 26.85828866 27.30310428 27.74957152\n",
      " 28.22058032 28.7002043  29.1731564  29.66392734 30.1671097  30.66960788\n",
      " 31.17865481 31.68671896 32.19748392 32.70205806 33.2138889  33.72638861\n",
      " 34.23314771 34.75631488 35.29514204 35.83084704 36.35046628 36.87845688\n",
      " 37.38315822 37.86138304 38.34396534 38.81321514 39.27610677 39.7332678\n",
      " 40.1848485  40.63859006 41.10706538 41.58264344 42.05383449 42.51514961\n",
      " 42.98647575 43.49662526 43.98706073 44.48092351 44.9830673  45.47101217\n",
      " 45.98512361 46.54698798 47.11394487 47.70535702 48.29732673 48.89049344\n",
      " 49.49232422 50.12197964 50.74939391 51.36173961 51.95736547 52.49816193\n",
      " 52.96331737 53.35285972 53.69283944 53.99248255 54.30504425 54.59660194\n",
      " 54.86843876 55.1230985  55.36475599 55.56433635 55.79923292 56.04682165\n",
      " 56.27227924 56.51122849 56.75916015 56.97982338 57.22442884 57.54073855\n",
      " 57.87869855 58.26140191 58.62056977 58.95599892 59.38017092 59.90489313\n",
      " 60.60866566 61.39167097 62.23004762 63.07322041 63.90800353 64.70760821\n",
      " 65.51644002 66.3301324  67.07161362 67.76239363 68.39111695 68.93305235\n",
      " 69.46946032 69.99702584 70.52863694 70.90330245 71.17883202 71.35740993\n",
      " 71.44967493 71.48660719 71.46005191 71.42496911 71.26339962 70.98753299\n",
      " 70.65640385 70.22202736 69.5603805  68.83816395 67.98213744 67.08484149\n",
      " 66.23363204 65.45236494 64.6332902  63.79155704 62.93847728 61.9949908\n",
      " 61.1354269  60.41356215 59.78444457 59.18896779 58.60321981 58.24090591\n",
      " 58.05941148 58.11243091 58.24330703 58.45720055 58.76704032 59.22018036\n",
      " 59.80017222 60.0535495  60.21953352 60.51387948 60.57291231 60.58678087\n",
      " 60.68005959 60.35513547 59.39209539 58.1014762  57.02727195 55.2918461\n",
      " 52.69867479 50.20636398 47.20841443 42.99029949 38.4592453  33.86997544\n",
      " 29.05238197 23.99893046 18.62941061 13.27808073  8.50779894  3.99145888]\n"
     ]
    }
   ],
   "source": [
    "print(np.array(nn_by_alpha) - np.array(historical_by_alpha))"
   ]
  },
  {
   "cell_type": "code",
   "execution_count": 361,
   "metadata": {},
   "outputs": [
    {
     "data": {
      "text/plain": [
       "<matplotlib.legend.Legend at 0x7f6c37efbf28>"
      ]
     },
     "execution_count": 361,
     "metadata": {},
     "output_type": "execute_result"
    },
    {
     "data": {
      "image/png": "[encoded data removed]",
      "text/plain": [
       "<matplotlib.figure.Figure at 0x7f6c37f50828>"
      ]
     },
     "metadata": {},
     "output_type": "display_data"
    }
   ],
   "source": [
    "#plt.plot(alphas, perfect, color=\"blue\", label=\"perfect predictor\")\n",
    "plt.plot(alphas, lost_nn_by_alpha, color=\"orange\", label=\"nn predictor\")\n",
    "plt.plot(alphas, lost_historical_by_alpha, color=\"green\", label=\"historical predictor\")\n",
    "plt.xlabel(\"Alpha\")\n",
    "plt.ylabel(\"Lost annual utility\")\n",
    "#plt.ylim(2000,3500)\n",
    "\n",
    "plt.legend()"
   ]
  },
  {
   "cell_type": "code",
   "execution_count": null,
   "metadata": {},
   "outputs": [],
   "source": [
    "#plt.plot(alphas, perfect, color=\"blue\", label=\"perfect predictor\")\n",
    "plt.plot(alphas, (np.array(nn_by_alpha)/np.array(perfect))*100, color=\"orange\", label=\"nn predictor\")\n",
    "plt.plot(alphas, (np.array(historical_by_alpha)/np.array(perfect))*100, color=\"green\", label=\"historical predictor\")\n",
    "plt.xlabel(\"Alpha\")\n",
    "plt.ylabel(\"Percentage of perfect predictor\")\n",
    "#plt.ylim(80,100)\n",
    "plt.xlim(0.9, 1)\n",
    "plt.legend()"
   ]
  },
  {
   "cell_type": "code",
   "execution_count": null,
   "metadata": {},
   "outputs": [],
   "source": []
  },
  {
   "cell_type": "code",
   "execution_count": 65,
   "metadata": {},
   "outputs": [
    {
     "data": {
      "text/plain": [
       "array([249.88909093, 248.70542643, 247.53991739, 246.40187252,\n",
       "       245.26557466, 244.1176187 , 242.96030237, 241.81014229,\n",
       "       240.66317493, 239.51545449, 238.38006868, 237.22752628,\n",
       "       236.0811546 , 234.94072329, 233.79810296, 232.67254262,\n",
       "       231.54755632, 230.41701493, 229.27281633, 228.13402882,\n",
       "       227.00066893, 225.85164095, 224.6951766 , 223.5364547 ,\n",
       "       222.36024163, 221.15765479, 219.94471586, 218.72085253,\n",
       "       217.49800152, 216.2607742 , 215.00374555, 213.74481486,\n",
       "       212.48391755, 211.20301108, 209.93531542, 208.69043356,\n",
       "       207.42421406, 206.15111644, 204.89534741, 203.64868856,\n",
       "       202.38150429, 201.08911674, 199.76312946, 198.44603246,\n",
       "       197.12473945, 195.81352429, 194.50985728, 193.1995915 ,\n",
       "       191.87215642, 190.52941743, 189.18047   , 187.85001662,\n",
       "       186.54161169, 185.19123631, 183.81997632, 182.44507711,\n",
       "       181.02232936, 179.56681436, 178.10344512, 176.58058759,\n",
       "       175.01847476, 173.4760858 , 171.92417863, 170.34370168,\n",
       "       168.74535693, 167.16346663, 165.56226388, 163.92469849,\n",
       "       162.27784192, 160.63571059, 158.96569718, 157.26798959,\n",
       "       155.55589163, 153.83697181, 152.09994637, 150.31817443,\n",
       "       148.52672872, 146.66040346, 144.75180272, 142.77535638,\n",
       "       140.7943804 , 138.79987037, 136.76676489, 134.67329627,\n",
       "       132.52088872, 130.34593763, 128.14141012, 125.88457766,\n",
       "       123.59661807, 121.3218024 , 118.9574742 , 116.60464272,\n",
       "       114.22097191, 111.7481897 , 109.19663833, 106.53791696,\n",
       "       103.72326111, 100.88756973,  98.04162041,  95.11333147,\n",
       "        92.11923749,  89.00795812,  85.81968153,  82.5650838 ,\n",
       "        79.27036833,  75.95335116,  72.60219496,  69.2225409 ,\n",
       "        65.83910183,  62.38991632,  58.88533778,  55.29782722,\n",
       "        51.65365805,  47.92925364,  44.13974887,  40.58001146,\n",
       "        39.60512864,  38.78440846,  38.01570102,  37.38827997,\n",
       "        36.85412247,  36.42739713,  36.08411207,  35.8473395 ,\n",
       "        35.65266662,  35.49150024,  35.35333676,  35.21713238,\n",
       "        35.21916582,  35.42757079,  35.88458012,  36.61303779,\n",
       "        37.75355901,  39.32376427,  41.29042625,  43.90796152,\n",
       "        47.18851861,  43.82731034,  40.18442665,  36.49275271,\n",
       "        32.89408278,  29.27642809,  25.54491062,  21.68427919,\n",
       "        17.75038052,  13.79908676,   9.8196347 ,   5.64383562,\n",
       "         1.26712329,  -3.10958904])"
      ]
     },
     "execution_count": 65,
     "metadata": {},
     "output_type": "execute_result"
    }
   ],
   "source": [
    "np.array(nn_by_alpha) - np.array(historical_by_alpha)"
   ]
  },
  {
   "cell_type": "code",
   "execution_count": 28,
   "metadata": {},
   "outputs": [
    {
     "data": {
      "text/plain": [
       "array([0.85 , 0.855, 0.86 , 0.865, 0.87 , 0.875, 0.88 , 0.885, 0.89 ,\n",
       "       0.895, 0.9  , 0.905, 0.91 , 0.915, 0.92 , 0.925, 0.93 , 0.935,\n",
       "       0.94 , 0.945, 0.95 , 0.955, 0.96 , 0.965, 0.97 , 0.975, 0.98 ,\n",
       "       0.985, 0.99 , 0.995])"
      ]
     },
     "execution_count": 28,
     "metadata": {},
     "output_type": "execute_result"
    }
   ],
   "source": [
    "alphas"
   ]
  },
  {
   "cell_type": "code",
   "execution_count": null,
   "metadata": {
    "collapsed": true
   },
   "outputs": [],
   "source": []
  }
 ],
 "metadata": {
  "kernelspec": {
   "display_name": "Python [conda env:anaconda3]",
   "language": "python",
   "name": "conda-env-anaconda3-py"
  },
  "language_info": {
   "codemirror_mode": {
    "name": "ipython",
    "version": 3
   },
   "file_extension": ".py",
   "mimetype": "text/x-python",
   "name": "python",
   "nbconvert_exporter": "python",
   "pygments_lexer": "ipython3",
   "version": "3.6.3"
  }
 },
 "nbformat": 4,
 "nbformat_minor": 2
}
