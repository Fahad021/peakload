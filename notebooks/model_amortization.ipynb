{
 "cells": [
  {
   "cell_type": "code",
   "execution_count": 1,
   "metadata": {},
   "outputs": [
    {
     "data": {
      "text/html": [
       "\n",
       "<style>\n",
       "    div#notebook-container    { width: 95%; }\n",
       "    div#menubar-container     { width: 65%; }\n",
       "    div#maintoolbar-container { width: 99%; }\n",
       "</style>\n"
      ],
      "text/plain": [
       "<IPython.core.display.HTML object>"
      ]
     },
     "metadata": {},
     "output_type": "display_data"
    }
   ],
   "source": [
    "from IPython.display import display, HTML\n",
    "\n",
    "display(HTML(data=\"\"\"\n",
    "<style>\n",
    "    div#notebook-container    { width: 95%; }\n",
    "    div#menubar-container     { width: 65%; }\n",
    "    div#maintoolbar-container { width: 99%; }\n",
    "</style>\n",
    "\"\"\"))"
   ]
  },
  {
   "cell_type": "code",
   "execution_count": 2,
   "metadata": {
    "collapsed": true
   },
   "outputs": [],
   "source": [
    "#im skipping leap days currently in multiple places\n",
    "import sys\n",
    "import os\n",
    "import numpy as np\n",
    "import pickle\n",
    "import matplotlib.pyplot as plt\n",
    "import datetime\n",
    "import pandas as pd\n",
    "import seaborn\n",
    "import random\n",
    "import json\n",
    "import pickle\n",
    "import time\n",
    "import copy\n",
    "\n",
    "import torch\n",
    "import torchvision\n",
    "import torchvision.transforms as transforms\n",
    "from torch.autograd import Variable\n",
    "import torch.nn as nn\n",
    "import torch.nn.functional as F\n",
    "import torch.optim as optim\n",
    "\n",
    "%load_ext autoreload\n",
    "%autoreload 2\n",
    "%matplotlib inline"
   ]
  },
  {
   "cell_type": "code",
   "execution_count": 38,
   "metadata": {
    "collapsed": true
   },
   "outputs": [],
   "source": [
    "#ercot 2017 loads\n",
    "\n",
    "path = \"/home/chase/projects/peakload/data/ercot/\"\n",
    "ercot2017 = pd.read_excel(path + \"native_Load_2017.xlsx\")\n",
    "\n",
    "testloads = np.array(list(ercot2017['ERCOT']))"
   ]
  },
  {
   "cell_type": "code",
   "execution_count": 75,
   "metadata": {},
   "outputs": [],
   "source": [
    "startdate = datetime.datetime(year=2010, month=1, day=1, hour=0, minute=0, second=0)\n",
    "curr = startdate\n",
    "enddate = datetime.datetime(year=2018, month=1, day=1, hour=0, minute=0, second=0)\n",
    "\n",
    "allhours = []\n",
    "\n",
    "while curr < enddate:\n",
    "    allhours.append(curr)\n",
    "    curr += datetime.timedelta(hours=1)\n",
    "    \n",
    "trainhours = np.array(allhours[0:-8760]) #all but last year, not a leap year\n",
    "testhours = np.array(allhours[-8760:])\n",
    "\n",
    "#get indecies of day starts in testhours\n",
    "startdate = datetime.datetime(year=2017, month=1, day=1, hour=0, minute=0, second=0)\n",
    "curr = startdate\n",
    "enddate = datetime.datetime(year=2018, month=1, day=1, hour=0, minute=0, second=0)\n",
    "\n",
    "day_start_i = []\n",
    "i = 0\n",
    "\n",
    "while curr < enddate:\n",
    "    if curr.hour == 0:\n",
    "        day_start_i.append(i)\n",
    "    curr += datetime.timedelta(hours=1)\n",
    "    i += 1\n"
   ]
  },
  {
   "cell_type": "code",
   "execution_count": null,
   "metadata": {},
   "outputs": [],
   "source": []
  },
  {
   "cell_type": "code",
   "execution_count": 41,
   "metadata": {},
   "outputs": [
    {
     "data": {
      "text/plain": [
       "array([datetime.datetime(2017, 7, 28, 15, 0),\n",
       "       datetime.datetime(2017, 7, 28, 16, 0),\n",
       "       datetime.datetime(2017, 7, 28, 14, 0),\n",
       "       datetime.datetime(2017, 7, 20, 15, 0),\n",
       "       datetime.datetime(2017, 7, 27, 15, 0)], dtype=object)"
      ]
     },
     "execution_count": 41,
     "metadata": {},
     "output_type": "execute_result"
    },
    {
     "data": {
      "image/png": "[encoded data removed]",
      "text/plain": [
       "<matplotlib.figure.Figure at 0x7fa2456ff588>"
      ]
     },
     "metadata": {},
     "output_type": "display_data"
    }
   ],
   "source": [
    "#July peak was calculated to have occured at datetime.datetime(2017, 7, 28, 17, 0)\n",
    "\n",
    "plt.plot(testloads)\n",
    "testhours[testloads.argsort()[-5:][::-1]]"
   ]
  },
  {
   "cell_type": "code",
   "execution_count": 51,
   "metadata": {},
   "outputs": [
    {
     "name": "stdout",
     "output_type": "stream",
     "text": [
      "[5007 5008 5006 4815]\n",
      "0.010736832404036679\n"
     ]
    }
   ],
   "source": [
    "#percentage difference in top two\n",
    "print(testloads.argsort()[-4:][::-1])\n",
    "testloads[5007] - testloads[4815] #largest loads exceeds second largest load by 722.3 MW\n",
    "\n",
    "#average peak was 67,273.1 MW\n",
    "print(722.3/67273.1) \n",
    "\n",
    "#1% of load reduction would result in peak time shift, so I can consider a business using up to approx 700 MW in 2017 without annual peak occuring at some other time\n",
    "\n",
    "#per ERCOT Day-ahead load forecast error for July was 2.27%"
   ]
  },
  {
   "cell_type": "code",
   "execution_count": 59,
   "metadata": {
    "collapsed": true
   },
   "outputs": [],
   "source": [
    "#lmps\n",
    "xls = pd.ExcelFile(path + \"LMPS/rpt.00013060.0000000000000000.DAMLZHBSPP_2016.xlsx\")\n",
    "sheets_2016 = [\"Jan_1\", \"Feb_2\", \"Mar_3\", \"Apr_4\", \"May_5\", \"Jun_6\", \"Jul_7\", \"Aug_8\", \"Sep_9\", \"Oct_10\", \"Nov_11\", \"Dec_12\"]\n",
    "hourly_lmp_2016 = []\n",
    "for sheet in sheets_2016:\n",
    "    lmps = pd.read_excel(xls, sheet)\n",
    "    for i in range(len(lmps['Settlement Point Price'])):\n",
    "        if lmps['Settlement Point'][i] == 'HB_BUSAVG':\n",
    "            hourly_lmp_2016.append(lmps['Settlement Point Price'][i])\n",
    "            \n",
    "xls = pd.ExcelFile(path + \"LMPS/rpt.00013060.0000000000000000.DAMLZHBSPP_2017.xlsx\")\n",
    "sheets_2017 = [\"Jan\", \"Feb\", \"Mar\", \"Apr\", \"May\", \"Jun\", \"Jul\", \"Aug\", \"Sep\", \"Oct\", \"Nov\", \"Dec\"]\n",
    "hourly_lmp = []\n",
    "for sheet in sheets_2017:\n",
    "    lmps = pd.read_excel(xls, sheet)\n",
    "    for i in range(len(lmps['Settlement Point Price'])):\n",
    "        if lmps['Settlement Point'][i] == 'HB_BUSAVG':\n",
    "            hourly_lmp.append(lmps['Settlement Point Price'][i])\n",
    "            \n",
    "hourly_lmp = np.array(hourly_lmp)"
   ]
  },
  {
   "cell_type": "code",
   "execution_count": 60,
   "metadata": {},
   "outputs": [
    {
     "data": {
      "text/plain": [
       "<matplotlib.legend.Legend at 0x7fa24b806cc0>"
      ]
     },
     "execution_count": 60,
     "metadata": {},
     "output_type": "execute_result"
    },
    {
     "data": {
      "image/png": "[encoded data removed]",
      "text/plain": [
       "<matplotlib.figure.Figure at 0x7fa24b130940>"
      ]
     },
     "metadata": {},
     "output_type": "display_data"
    }
   ],
   "source": [
    "#per megawatt price\n",
    "plt.plot(hourly_lmp_2016, color=\"orange\", label=\"2016\")\n",
    "plt.plot(hourly_lmp, color=\"blue\", label=\"2017\")\n",
    "plt.legend()"
   ]
  },
  {
   "cell_type": "code",
   "execution_count": 53,
   "metadata": {},
   "outputs": [
    {
     "name": "stdout",
     "output_type": "stream",
     "text": [
      "[206.47  59.55 257.04]\n"
     ]
    }
   ],
   "source": [
    "#peak lmp's occured \n",
    "print(hourly_lmp[[5007, 5008, 5006]])"
   ]
  },
  {
   "cell_type": "code",
   "execution_count": 43,
   "metadata": {},
   "outputs": [
    {
     "data": {
      "text/plain": [
       "array([datetime.datetime(2017, 7, 28, 14, 0),\n",
       "       datetime.datetime(2017, 7, 28, 15, 0),\n",
       "       datetime.datetime(2017, 7, 28, 13, 0),\n",
       "       datetime.datetime(2017, 7, 29, 14, 0),\n",
       "       datetime.datetime(2017, 10, 9, 14, 0)], dtype=object)"
      ]
     },
     "execution_count": 43,
     "metadata": {},
     "output_type": "execute_result"
    }
   ],
   "source": [
    "testhours[hourly_lmp.argsort()[-5:][::-1]]"
   ]
  },
  {
   "cell_type": "code",
   "execution_count": 61,
   "metadata": {
    "collapsed": true
   },
   "outputs": [],
   "source": [
    "#concave utility function from 0 to 500 MW\n",
    "#500 MW at $2150 per MW CP costs = 1.075mil per annum\n",
    "#maximum daily utility set equal to transmission costs\n",
    "#17.5(x)(500 - x) - (pi_e + pi_cp)x = y utility\n",
    "#-17.5x^2 + [8750 - (pi_e + pi_cp)]x = y\n",
    "#dy/dx = -35x + [8750 - (pi_e + pi_cp)], max x = [8750 - (pi_e + pi_cp)]/35\n",
    "\n",
    "\n",
    "cp_perMW = 2150.0"
   ]
  },
  {
   "cell_type": "code",
   "execution_count": 170,
   "metadata": {},
   "outputs": [],
   "source": [
    "def hourly_utility(power, pi_e, pi_cp):\n",
    "    utility = -17.5*np.power(power, 2) + (8750.0 - (pi_e + pi_cp))*power\n",
    "    return(utility)\n",
    "\n",
    "def max_power(pi_e, pi_cp):\n",
    "    max_pow = (8750.0 - (pi_e + pi_cp))/35.0\n",
    "    return(max_pow)\n",
    "\n",
    "def cp_curtailment(cdfval, min_thresh=0.85):\n",
    "    #returns a fractional curtailment of power demand as a function\n",
    "    #of predicted CDF value of load\n",
    "    curtail_val = (cdfval - min_thresh)/(1 - min_thresh)\n",
    "    outval = np.min([0, curtail_val])\n",
    "    return(outval)"
   ]
  },
  {
   "cell_type": "code",
   "execution_count": null,
   "metadata": {},
   "outputs": [],
   "source": []
  },
  {
   "cell_type": "code",
   "execution_count": 166,
   "metadata": {},
   "outputs": [
    {
     "name": "stdout",
     "output_type": "stream",
     "text": [
      "2919.0\n"
     ]
    }
   ],
   "source": [
    "#perfect knowledge optimal performance during workday\n",
    "\n",
    "ann_util_opt = 0.0\n",
    "\n",
    "for i in range(len(testhours)):\n",
    "    dt = testhours[i]\n",
    "    if dt.hour in [9, 10, 11, 12, 13, 14, 15, 16]:\n",
    "        #pi_e = hourly_lmp[i]\n",
    "        if i == 5007: #CP:\n",
    "            pi_cp = 2150.0\n",
    "            mp = max_power(pi_e, pi_cp)\n",
    "        else:\n",
    "            pi_cp = 0.0\n",
    "            mp = max_power(pi_e, pi_cp)\n",
    "\n",
    "            ann_util_opt += hourly_utility(mp, pi_e, pi_cp)\n",
    "\n",
    "print(ann_util_opt)\n",
    "\n",
    "#for each hour\n",
    "    #calculate max_power, include CP price if annual CP (check that this returns a non-negative value)\n",
    "    #add utility to annual sum"
   ]
  },
  {
   "cell_type": "code",
   "execution_count": 245,
   "metadata": {},
   "outputs": [],
   "source": [
    "#perfect knowledge optimal performance during workday\n",
    "#marginal utility model\n",
    "\n",
    "alphas = np.arange(0.85, 0.995, 0.005)\n",
    "\n",
    "perfect = []\n",
    "\n",
    "for a in alphas:\n",
    "    ann_util_opt = 0.0\n",
    "\n",
    "    for i in range(len(testhours)):\n",
    "        dt = testhours[i]\n",
    "        #if dt.hour in [i for i in range(24)]:\n",
    "        if dt.hour in [9, 10, 11, 12, 13, 14, 15, 16]:\n",
    "            if i == 5007: #CP:\n",
    "                pass\n",
    "            else:\n",
    "                ann_util_opt += 1\n",
    "\n",
    "    perfect.append(ann_util_opt)\n"
   ]
  },
  {
   "cell_type": "code",
   "execution_count": null,
   "metadata": {
    "collapsed": true
   },
   "outputs": [],
   "source": []
  },
  {
   "cell_type": "code",
   "execution_count": null,
   "metadata": {},
   "outputs": [],
   "source": []
  },
  {
   "cell_type": "code",
   "execution_count": null,
   "metadata": {
    "collapsed": true
   },
   "outputs": [],
   "source": [
    "#generate historical average model"
   ]
  },
  {
   "cell_type": "code",
   "execution_count": 168,
   "metadata": {},
   "outputs": [
    {
     "name": "stdout",
     "output_type": "stream",
     "text": [
      "570.2781314827672 36556.57900951147\n"
     ]
    },
    {
     "name": "stderr",
     "output_type": "stream",
     "text": [
      "/home/chase/applications/anaconda3/lib/python3.6/site-packages/ipykernel/__main__.py:25: FutureWarning: `rcond` parameter will change to the default of machine precision times ``max(M, N)`` where M and N are the input matrix dimensions.\n",
      "To use the future default and silence this warning we advise to pass `rcond=None`, to keep using the old, explicitly pass `rcond=-1`.\n"
     ]
    },
    {
     "data": {
      "image/png": "[encoded data removed]",
      "text/plain": [
       "<matplotlib.figure.Figure at 0x7fa244cf00f0>"
      ]
     },
     "metadata": {},
     "output_type": "display_data"
    }
   ],
   "source": [
    "#ERCOT data\n",
    "lds = datetime.datetime(year=2016, month=2, day=29, hour=0, minute=0) #lines 1415 to 1439\n",
    "lde = datetime.datetime(year=2016, month=2, day=29, hour=23, minute=0)\n",
    "\n",
    "path = \"/home/chase/projects/peakload/data/ercot/\"\n",
    "ercot2017 = pd.read_excel(path + \"native_Load_2017.xlsx\")\n",
    "ercot2016 = pd.read_excel(path + \"native_Load_2016.xlsx\") #leap year\n",
    "ercot2016.drop(ercot2016.index[1415:1439], inplace=True) #dropping leap days so years line up\n",
    "\n",
    "ercot2015 = pd.read_excel(path + \"native_Load_2015.xls\")\n",
    "ercot2014 = pd.read_excel(path + \"2014_ERCOT_Hourly_Load_Data.xls\")\n",
    "ercot2013 = pd.read_excel(path + \"2013_ERCOT_Hourly_Load_Data.xls\")\n",
    "ercot2012 = pd.read_excel(path + \"2012_ERCOT_Hourly_Load_Data.xls\") #leap year\n",
    "ercot2012.drop(ercot2012.index[1415:1439], inplace=True)\n",
    "\n",
    "ercot2011 = pd.read_excel(path + \"2011_ERCOT_Hourly_Load_Data.xls\")\n",
    "ercot2010 = pd.read_excel(path + \"2010_ERCOT_Hourly_Load_Data.xls\")\n",
    "\n",
    "yearly_data = [ercot2010, ercot2011, ercot2012, ercot2013, ercot2014, ercot2015, ercot2016, ercot2017]\n",
    "training = [list(ercot2010['ERCOT']), list(ercot2011['ERCOT']), list(ercot2012['ERCOT']), list(ercot2013['ERCOT']), list(ercot2014['ERCOT']), list(ercot2015['ERCOT']), list(ercot2016['ERCOT'])]\n",
    "means = [ np.nanmean(y) for y in training ]\n",
    "\n",
    "#use system-wide loadgrowth for all regions\n",
    "A = np.vstack((np.array([0, 1, 2, 3, 4, 5, 6]), np.array([1, 1, 1, 1, 1, 1, 1]))).T\n",
    "a, b = np.linalg.lstsq(A, np.array(means))[0]\n",
    "print(a, b)\n",
    "projected_mean = a*7.0 + b\n",
    "plt.plot(means + [projected_mean])\n",
    "means.append(projected_mean)\n",
    "load_growth = np.array(means)\n",
    "\n",
    "yearly_loads = np.zeros((8,8760))\n",
    "\n",
    "for i in range(len(yearly_data)):\n",
    "    yearly_loads[i,:] = np.array(yearly_data[i]['ERCOT']) - load_growth[i]\n",
    "    \n",
    "model = np.nanmean(yearly_loads[0:6,:], axis=0)\n",
    "test = yearly_loads[7,:]\n",
    "plt.plot(model, color=\"blue\", label=\"model\")\n",
    "plt.plot(test, color=\"red\", label=\"test data\")\n",
    "plt.legend()\n",
    "plt.show()"
   ]
  },
  {
   "cell_type": "code",
   "execution_count": 169,
   "metadata": {},
   "outputs": [
    {
     "data": {
      "text/plain": [
       "<matplotlib.legend.Legend at 0x7fa24b451dd8>"
      ]
     },
     "execution_count": 169,
     "metadata": {},
     "output_type": "execute_result"
    },
    {
     "data": {
      "image/png": "[encoded data removed]",
      "text/plain": [
       "<matplotlib.figure.Figure at 0x7fa249341b38>"
      ]
     },
     "metadata": {},
     "output_type": "display_data"
    }
   ],
   "source": [
    "model_ranks = np.zeros((yearly_loads.shape[1], 1))\n",
    "test_ranks = np.zeros((yearly_loads.shape[1], 1))\n",
    "\n",
    "for i in range(model_ranks.shape[0]):\n",
    "    greater = np.sum([ 1 for k in model[:,] if k >= model[i,] ])/float(model.shape[0])\n",
    "    model_ranks[i,0] = 1.0 - greater\n",
    "    \n",
    "for i in range(test_ranks.shape[0]):\n",
    "    greater = np.sum([ 1 for k in test[:,] if k >= test[i,] ])/float(test.shape[0])\n",
    "    test_ranks[i,0] = 1.0 - greater\n",
    "    \n",
    "plt.plot(model_ranks, label=\"model ranks\")\n",
    "plt.plot(test_ranks, label=\"test ranks\")\n",
    "plt.legend()"
   ]
  },
  {
   "cell_type": "code",
   "execution_count": 155,
   "metadata": {},
   "outputs": [
    {
     "name": "stdout",
     "output_type": "stream",
     "text": [
      "9\n",
      "10\n",
      "11\n",
      "12\n",
      "13\n",
      "14\n",
      "15\n",
      "16\n"
     ]
    }
   ],
   "source": [
    "for i in range(9,17):\n",
    "    print(i)"
   ]
  },
  {
   "cell_type": "code",
   "execution_count": 160,
   "metadata": {},
   "outputs": [
    {
     "name": "stdout",
     "output_type": "stream",
     "text": [
      "0.911508616716043\n"
     ]
    }
   ],
   "source": [
    "ann_util = 0.0\n",
    "\n",
    "for i in day_start_i:\n",
    "    dt = testhours[i]\n",
    "    cdf_vals = model_ranks[i:i+24]\n",
    "    #for h in range(24):\n",
    "    for h in range(9,17):\n",
    "        g += 1\n",
    "        ann_hour = i+h\n",
    "        pi_e = hourly_lmp[ann_hour]\n",
    "        mp = max_power(pi_e, 0.0)\n",
    "        curtail_mp = cp_curtailment(cdf_vals[h])\n",
    "        rp = curtail_mp * mp\n",
    "        if ann_hour == 5007:\n",
    "            #cp occurence\n",
    "            pi_cp = 2150.0\n",
    "        else:\n",
    "            pi_cp = 0.0\n",
    "            \n",
    "        ann_util += hourly_utility(rp, pi_e, pi_cp)\n",
    "        \n",
    "print(ann_util/ann_util_opt)"
   ]
  },
  {
   "cell_type": "code",
   "execution_count": 188,
   "metadata": {},
   "outputs": [
    {
     "data": {
      "text/plain": [
       "array([0.85 , 0.855, 0.86 , 0.865, 0.87 , 0.875, 0.88 , 0.885, 0.89 ,\n",
       "       0.895, 0.9  , 0.905, 0.91 , 0.915, 0.92 , 0.925, 0.93 , 0.935,\n",
       "       0.94 , 0.945, 0.95 , 0.955, 0.96 , 0.965, 0.97 , 0.975, 0.98 ,\n",
       "       0.985, 0.99 , 0.995, 1.   ])"
      ]
     },
     "execution_count": 188,
     "metadata": {},
     "output_type": "execute_result"
    }
   ],
   "source": [
    "alphas"
   ]
  },
  {
   "cell_type": "code",
   "execution_count": 244,
   "metadata": {},
   "outputs": [],
   "source": [
    "#marginal utility model\n",
    "def cp_curtailment(cdfval, min_thresh=0.85):\n",
    "    #returns a fractional curtailment of power demand as a function\n",
    "    #of predicted CDF value of load\n",
    "    curtail_val = (cdfval - min_thresh)/(1 - min_thresh)\n",
    "    outval = np.max([0, curtail_val])\n",
    "    return(outval)\n",
    "\n",
    "historical_by_alpha = []\n",
    "\n",
    "for a in alphas:\n",
    "    ann_util = 0.0\n",
    "\n",
    "    for i in day_start_i:\n",
    "        dt = testhours[i]\n",
    "        cdf_vals = model_ranks[i:i+24]\n",
    "        #for h in range(24):\n",
    "        for h in range(9,17):\n",
    "            ann_hour = i+h\n",
    "            curtail_mp = 1.0 - cp_curtailment(cdf_vals[h], min_thresh=a)\n",
    "            if ann_hour == 5007:\n",
    "                ann_util += curtail_mp*(-100.0)\n",
    "            else:\n",
    "                ann_util += curtail_mp\n",
    "\n",
    "    #print(ann_util/ann_util_opt)\n",
    "    historical_by_alpha.append(ann_util)"
   ]
  },
  {
   "cell_type": "code",
   "execution_count": null,
   "metadata": {},
   "outputs": [],
   "source": []
  },
  {
   "cell_type": "code",
   "execution_count": null,
   "metadata": {
    "collapsed": true
   },
   "outputs": [],
   "source": []
  },
  {
   "cell_type": "code",
   "execution_count": 143,
   "metadata": {
    "collapsed": true
   },
   "outputs": [],
   "source": [
    "#neural net model\n",
    "#with weather data\n",
    "def torch_reshape_data(databatch):\n",
    "    #flattens array inputs for a single list of training, target pairs\n",
    "    inputs = []\n",
    "    labels = []\n",
    "    for sample in databatch:\n",
    "        inputs.append(sample[0].flatten())\n",
    "        labels.append(sample[1].flatten())\n",
    "    return(torch.Tensor(np.asarray(inputs)), torch.Tensor(np.asarray(labels)))\n",
    "\n",
    "path = \"/home/chase/projects/peakload/data/nets/models/\"\n",
    "mname = 'triple_hidden_2593.pt'\n",
    "\n",
    "sys.path.append(\"/home/chase/projects/peakload/src/python/nets/triple_hidden\")\n",
    "\n",
    "nnmodel = torch.load(path + mname)\n",
    "\n",
    "random.seed(45) #fixed for all experiments, my high school football jersey number\n",
    "torch.manual_seed(45)\n",
    "\n",
    "test_data_path = \"/home/chase/projects/peakload/data/ercot/weather_pairs/regional_formatted/load_features/test\"\n",
    "files = os.listdir(test_data_path)\n",
    "weather_normed_test_data_pairs = []\n",
    "for f in files:\n",
    "    with open(test_data_path + \"/\" + f, 'rb') as d:\n",
    "        weather_normed_test_data_pairs.append(pickle.load(d))"
   ]
  },
  {
   "cell_type": "code",
   "execution_count": 144,
   "metadata": {},
   "outputs": [],
   "source": [
    "day_pairs = []\n",
    "\n",
    "for i in day_start_i:\n",
    "    try:\n",
    "        day_pairs.append(weather_normed_test_data_pairs[i])\n",
    "    except:\n",
    "        pass"
   ]
  },
  {
   "cell_type": "code",
   "execution_count": 145,
   "metadata": {},
   "outputs": [],
   "source": [
    "#do prediction on test data\n",
    "inputs, labels = torch_reshape_data(day_pairs)\n",
    "labels = Variable(labels.cuda())\n",
    "inputs = Variable(inputs.cuda())\n",
    "outputs = nnmodel(inputs)\n",
    "    \n",
    "labels = labels.data.cpu().numpy()\n",
    "outputs = outputs.data.cpu().numpy()"
   ]
  },
  {
   "cell_type": "code",
   "execution_count": 161,
   "metadata": {},
   "outputs": [
    {
     "name": "stdout",
     "output_type": "stream",
     "text": [
      "0.9701981009873685\n"
     ]
    }
   ],
   "source": [
    "nn_ann_util = 0.0\n",
    "hourly_utils = []\n",
    "\n",
    "j = 0\n",
    "for i in day_start_i:\n",
    "    dt = testhours[i]\n",
    "    if j == 364:\n",
    "        break\n",
    "    cdf_vals = outputs[j,:]\n",
    "    #for h in range(24):\n",
    "    for h in range(9,17):\n",
    "        ann_hour = i+h\n",
    "        pi_e = hourly_lmp[ann_hour]\n",
    "        mp = max_power(pi_e, 0.0)\n",
    "        curtail_mp = cp_curtailment(cdf_vals[h])\n",
    "        rp = curtail_mp * mp\n",
    "        if ann_hour == 5007:\n",
    "            #cp occurence\n",
    "            pi_cp = 2150.0\n",
    "        else:\n",
    "            pi_cp = 0.0\n",
    "            \n",
    "        nn_ann_util += hourly_utility(rp, pi_e, pi_cp)\n",
    "        hourly_utils.append(hourly_utility(rp, pi_e, pi_cp))\n",
    "    j += 1\n",
    "\n",
    "print((nn_ann_util + 24*np.mean(hourly_utils))/ann_util_opt)"
   ]
  },
  {
   "cell_type": "code",
   "execution_count": 262,
   "metadata": {},
   "outputs": [],
   "source": [
    "#marginal utility model\n",
    "\n",
    "nn_by_alpha = []\n",
    "\n",
    "for a in alphas:\n",
    "    nn_ann_util = 0.0\n",
    "    hourly_utils = []\n",
    "\n",
    "    j = 0\n",
    "    for i in day_start_i:\n",
    "        dt = testhours[i]\n",
    "        if j == 364:\n",
    "            nn_ann_util += 1\n",
    "            break\n",
    "        cdf_vals = outputs[j,:]\n",
    "        #for h in range(24):\n",
    "        for h in range(9,17):\n",
    "            ann_hour = i+h\n",
    "            curtail_mp = 1.0 - cp_curtailment(cdf_vals[h], min_thresh=a)\n",
    "            if curtail_mp < 0.0:\n",
    "                curtail_mp = 0.0\n",
    "                #print(\"over\")\n",
    "            if ann_hour == 5007:\n",
    "                nn_ann_util += curtail_mp*(-100.0)\n",
    "            else:\n",
    "                nn_ann_util += curtail_mp\n",
    "\n",
    "        j += 1\n",
    "\n",
    "    nn_by_alpha.append(nn_ann_util)\n",
    "    #print(nn_ann_util/ann_util_opt)"
   ]
  },
  {
   "cell_type": "code",
   "execution_count": 263,
   "metadata": {},
   "outputs": [
    {
     "data": {
      "text/plain": [
       "<matplotlib.legend.Legend at 0x7fa24c37ffd0>"
      ]
     },
     "execution_count": 263,
     "metadata": {},
     "output_type": "execute_result"
    },
    {
     "data": {
      "image/png": "[encoded data removed]",
      "text/plain": [
       "<matplotlib.figure.Figure at 0x7fa244241198>"
      ]
     },
     "metadata": {},
     "output_type": "display_data"
    }
   ],
   "source": [
    "plt.plot(alphas, perfect, color=\"blue\", label=\"perfect predictor\")\n",
    "plt.plot(alphas, nn_by_alpha, color=\"orange\", label=\"nn predictor\")\n",
    "plt.plot(alphas, historical_by_alpha, color=\"green\", label=\"historical predictor\")\n",
    "plt.xlabel(\"Alpha\")\n",
    "plt.ylabel(\"Annual utility\")\n",
    "#plt.ylim(2000,3500)\n",
    "\n",
    "plt.legend()"
   ]
  },
  {
   "cell_type": "code",
   "execution_count": 264,
   "metadata": {},
   "outputs": [
    {
     "data": {
      "text/plain": [
       "<matplotlib.legend.Legend at 0x7fa24acb5710>"
      ]
     },
     "execution_count": 264,
     "metadata": {},
     "output_type": "execute_result"
    },
    {
     "data": {
      "image/png": "[encoded data removed]",
      "text/plain": [
       "<matplotlib.figure.Figure at 0x7fa24c36b400>"
      ]
     },
     "metadata": {},
     "output_type": "display_data"
    }
   ],
   "source": [
    "#plt.plot(alphas, perfect, color=\"blue\", label=\"perfect predictor\")\n",
    "plt.plot(alphas, (np.array(nn_by_alpha)/np.array(perfect))*100, color=\"orange\", label=\"nn predictor\")\n",
    "plt.plot(alphas, (np.array(historical_by_alpha)/np.array(perfect))*100, color=\"green\", label=\"historical predictor\")\n",
    "plt.xlabel(\"Alpha\")\n",
    "plt.ylabel(\"Percentage of perfect predictor\")\n",
    "#plt.ylim(80,100)\n",
    "#plt.xlim(0, 1)\n",
    "plt.legend()"
   ]
  },
  {
   "cell_type": "code",
   "execution_count": 265,
   "metadata": {},
   "outputs": [
    {
     "data": {
      "text/plain": [
       "array([164.39365276, 158.65901457, 153.05448354, 147.4681012 ,\n",
       "       141.73289468, 135.98624375, 130.14553352, 124.25261565,\n",
       "       118.0488436 , 111.76039037, 105.48926796,  99.37689364,\n",
       "        92.79715858,  86.38201838,  80.20219196,  73.84158459,\n",
       "        67.28574958,  60.50271333,  53.32544268,  46.47291239,\n",
       "        40.05281145,  33.99281494,  27.99439157,  21.82494343,\n",
       "        17.20776644,  14.57980524,  15.67261826,  26.07204262,\n",
       "        19.88542652,   4.67090816])"
      ]
     },
     "execution_count": 265,
     "metadata": {},
     "output_type": "execute_result"
    }
   ],
   "source": [
    "np.array(nn_by_alpha) - np.array(historical_by_alpha)"
   ]
  },
  {
   "cell_type": "code",
   "execution_count": null,
   "metadata": {
    "collapsed": true
   },
   "outputs": [],
   "source": []
  }
 ],
 "metadata": {
  "kernelspec": {
   "display_name": "Python [conda env:anaconda3]",
   "language": "python",
   "name": "conda-env-anaconda3-py"
  },
  "language_info": {
   "codemirror_mode": {
    "name": "ipython",
    "version": 3
   },
   "file_extension": ".py",
   "mimetype": "text/x-python",
   "name": "python",
   "nbconvert_exporter": "python",
   "pygments_lexer": "ipython3",
   "version": "3.6.3"
  }
 },
 "nbformat": 4,
 "nbformat_minor": 2
}
