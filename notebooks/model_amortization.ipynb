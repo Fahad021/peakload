{
 "cells": [
  {
   "cell_type": "code",
   "execution_count": 1,
   "metadata": {},
   "outputs": [
    {
     "data": {
      "text/html": [
       "\n",
       "<style>\n",
       "    div#notebook-container    { width: 95%; }\n",
       "    div#menubar-container     { width: 65%; }\n",
       "    div#maintoolbar-container { width: 99%; }\n",
       "</style>\n"
      ],
      "text/plain": [
       "<IPython.core.display.HTML object>"
      ]
     },
     "metadata": {},
     "output_type": "display_data"
    }
   ],
   "source": [
    "from IPython.display import display, HTML\n",
    "\n",
    "display(HTML(data=\"\"\"\n",
    "<style>\n",
    "    div#notebook-container    { width: 95%; }\n",
    "    div#menubar-container     { width: 65%; }\n",
    "    div#maintoolbar-container { width: 99%; }\n",
    "</style>\n",
    "\"\"\"))"
   ]
  },
  {
   "cell_type": "code",
   "execution_count": 2,
   "metadata": {
    "collapsed": true
   },
   "outputs": [],
   "source": [
    "#im skipping leap days currently in multiple places\n",
    "import sys\n",
    "import os\n",
    "import numpy as np\n",
    "import pickle\n",
    "import matplotlib.pyplot as plt\n",
    "import datetime\n",
    "import pandas as pd\n",
    "import seaborn\n",
    "import random\n",
    "import json\n",
    "import pickle\n",
    "import time\n",
    "import copy\n",
    "\n",
    "import torch\n",
    "import torchvision\n",
    "import torchvision.transforms as transforms\n",
    "from torch.autograd import Variable\n",
    "import torch.nn as nn\n",
    "import torch.nn.functional as F\n",
    "import torch.optim as optim\n",
    "\n",
    "%load_ext autoreload\n",
    "%autoreload 2\n",
    "%matplotlib inline"
   ]
  },
  {
   "cell_type": "code",
   "execution_count": 3,
   "metadata": {
    "collapsed": true
   },
   "outputs": [],
   "source": [
    "#ercot 2017 loads\n",
    "\n",
    "path = \"/home/chase/projects/peakload/data/ercot/\"\n",
    "ercot2017 = pd.read_excel(path + \"native_Load_2017.xlsx\")\n",
    "\n",
    "testloads = np.array(list(ercot2017['ERCOT']))"
   ]
  },
  {
   "cell_type": "code",
   "execution_count": 4,
   "metadata": {
    "collapsed": true
   },
   "outputs": [],
   "source": [
    "startdate = datetime.datetime(year=2010, month=1, day=1, hour=0, minute=0, second=0)\n",
    "curr = startdate\n",
    "enddate = datetime.datetime(year=2018, month=1, day=1, hour=0, minute=0, second=0)\n",
    "\n",
    "allhours = []\n",
    "\n",
    "while curr < enddate:\n",
    "    allhours.append(curr)\n",
    "    curr += datetime.timedelta(hours=1)\n",
    "    \n",
    "trainhours = np.array(allhours[0:-8760]) #all but last year, not a leap year\n",
    "testhours = np.array(allhours[-8760:])\n",
    "\n",
    "#get indecies of day starts in testhours\n",
    "startdate = datetime.datetime(year=2017, month=1, day=1, hour=0, minute=0, second=0)\n",
    "curr = startdate\n",
    "enddate = datetime.datetime(year=2018, month=1, day=1, hour=0, minute=0, second=0)\n",
    "\n",
    "day_start_i = []\n",
    "i = 0\n",
    "\n",
    "while curr < enddate:\n",
    "    if curr.hour == 0:\n",
    "        day_start_i.append(i)\n",
    "    curr += datetime.timedelta(hours=1)\n",
    "    i += 1\n"
   ]
  },
  {
   "cell_type": "code",
   "execution_count": null,
   "metadata": {
    "collapsed": true
   },
   "outputs": [],
   "source": []
  },
  {
   "cell_type": "code",
   "execution_count": 5,
   "metadata": {},
   "outputs": [
    {
     "data": {
      "text/plain": [
       "array([datetime.datetime(2017, 7, 28, 15, 0),\n",
       "       datetime.datetime(2017, 7, 28, 16, 0),\n",
       "       datetime.datetime(2017, 7, 28, 14, 0),\n",
       "       datetime.datetime(2017, 7, 20, 15, 0),\n",
       "       datetime.datetime(2017, 7, 27, 15, 0)], dtype=object)"
      ]
     },
     "execution_count": 5,
     "metadata": {},
     "output_type": "execute_result"
    },
    {
     "data": {
      "image/png": "[encoded data removed]",
      "text/plain": [
       "<matplotlib.figure.Figure at 0x7fe6a23459b0>"
      ]
     },
     "metadata": {},
     "output_type": "display_data"
    }
   ],
   "source": [
    "#July peak was calculated to have occured at datetime.datetime(2017, 7, 28, 17, 0)\n",
    "\n",
    "plt.plot(testloads)\n",
    "testhours[testloads.argsort()[-5:][::-1]]"
   ]
  },
  {
   "cell_type": "code",
   "execution_count": 6,
   "metadata": {},
   "outputs": [
    {
     "name": "stdout",
     "output_type": "stream",
     "text": [
      "[5007 5008 5006 4815 4983]\n"
     ]
    }
   ],
   "source": [
    "print(testloads.argsort()[-5:][::-1])"
   ]
  },
  {
   "cell_type": "code",
   "execution_count": 7,
   "metadata": {},
   "outputs": [
    {
     "name": "stdout",
     "output_type": "stream",
     "text": [
      "[5007 5008 5006 4815]\n",
      "0.010736832404036679\n"
     ]
    }
   ],
   "source": [
    "#percentage difference in top two\n",
    "print(testloads.argsort()[-4:][::-1])\n",
    "testloads[5007] - testloads[4815] #largest loads exceeds second largest load by 722.3 MW\n",
    "\n",
    "#average peak was 67,273.1 MW\n",
    "print(722.3/67273.1) \n",
    "\n",
    "#1% of load reduction would result in peak time shift, so I can consider a business using up to approx 700 MW in 2017 without annual peak occuring at some other time\n",
    "\n",
    "#per ERCOT Day-ahead load forecast error for July was 2.27%"
   ]
  },
  {
   "cell_type": "code",
   "execution_count": 6,
   "metadata": {
    "collapsed": true
   },
   "outputs": [],
   "source": [
    "#lmps\n",
    "xls = pd.ExcelFile(path + \"LMPS/rpt.00013060.0000000000000000.DAMLZHBSPP_2016.xlsx\")\n",
    "sheets_2016 = [\"Jan_1\", \"Feb_2\", \"Mar_3\", \"Apr_4\", \"May_5\", \"Jun_6\", \"Jul_7\", \"Aug_8\", \"Sep_9\", \"Oct_10\", \"Nov_11\", \"Dec_12\"]\n",
    "hourly_lmp_2016 = []\n",
    "for sheet in sheets_2016:\n",
    "    lmps = pd.read_excel(xls, sheet)\n",
    "    for i in range(len(lmps['Settlement Point Price'])):\n",
    "        if lmps['Settlement Point'][i] == 'HB_BUSAVG':\n",
    "            hourly_lmp_2016.append(lmps['Settlement Point Price'][i])\n",
    "            \n",
    "xls = pd.ExcelFile(path + \"LMPS/rpt.00013060.0000000000000000.DAMLZHBSPP_2017.xlsx\")\n",
    "sheets_2017 = [\"Jan\", \"Feb\", \"Mar\", \"Apr\", \"May\", \"Jun\", \"Jul\", \"Aug\", \"Sep\", \"Oct\", \"Nov\", \"Dec\"]\n",
    "hourly_lmp = []\n",
    "for sheet in sheets_2017:\n",
    "    lmps = pd.read_excel(xls, sheet)\n",
    "    for i in range(len(lmps['Settlement Point Price'])):\n",
    "        if lmps['Settlement Point'][i] == 'HB_BUSAVG':\n",
    "            hourly_lmp.append(lmps['Settlement Point Price'][i])\n",
    "            \n",
    "hourly_lmp = np.array(hourly_lmp)"
   ]
  },
  {
   "cell_type": "code",
   "execution_count": 7,
   "metadata": {},
   "outputs": [
    {
     "data": {
      "text/plain": [
       "<matplotlib.legend.Legend at 0x7efe7daf25c0>"
      ]
     },
     "execution_count": 7,
     "metadata": {},
     "output_type": "execute_result"
    },
    {
     "data": {
      "image/png": "[encoded data removed]",
      "text/plain": [
       "<matplotlib.figure.Figure at 0x7efe7a1b08d0>"
      ]
     },
     "metadata": {},
     "output_type": "display_data"
    }
   ],
   "source": [
    "#per megawatt price\n",
    "plt.plot(hourly_lmp_2016, color=\"orange\", label=\"2016\")\n",
    "plt.plot(hourly_lmp, color=\"blue\", label=\"2017\")\n",
    "plt.legend()"
   ]
  },
  {
   "cell_type": "code",
   "execution_count": 8,
   "metadata": {},
   "outputs": [
    {
     "name": "stdout",
     "output_type": "stream",
     "text": [
      "[206.47  59.55 257.04]\n"
     ]
    }
   ],
   "source": [
    "#peak lmp's occured \n",
    "print(hourly_lmp[[5007, 5008, 5006]])"
   ]
  },
  {
   "cell_type": "code",
   "execution_count": 44,
   "metadata": {},
   "outputs": [
    {
     "ename": "NameError",
     "evalue": "name 'hourly_lmp' is not defined",
     "output_type": "error",
     "traceback": [
      "\u001b[0;31m---------------------------------------------------------------------------\u001b[0m",
      "\u001b[0;31mNameError\u001b[0m                                 Traceback (most recent call last)",
      "\u001b[0;32m<ipython-input-44-21953def6e4c>\u001b[0m in \u001b[0;36m<module>\u001b[0;34m()\u001b[0m\n\u001b[0;32m----> 1\u001b[0;31m \u001b[0mprint\u001b[0m\u001b[0;34m(\u001b[0m\u001b[0mtesthours\u001b[0m\u001b[0;34m[\u001b[0m\u001b[0mhourly_lmp\u001b[0m\u001b[0;34m.\u001b[0m\u001b[0margsort\u001b[0m\u001b[0;34m(\u001b[0m\u001b[0;34m)\u001b[0m\u001b[0;34m[\u001b[0m\u001b[0;34m-\u001b[0m\u001b[0;36m5\u001b[0m\u001b[0;34m:\u001b[0m\u001b[0;34m]\u001b[0m\u001b[0;34m[\u001b[0m\u001b[0;34m:\u001b[0m\u001b[0;34m:\u001b[0m\u001b[0;34m-\u001b[0m\u001b[0;36m1\u001b[0m\u001b[0;34m]\u001b[0m\u001b[0;34m]\u001b[0m\u001b[0;34m)\u001b[0m\u001b[0;34m\u001b[0m\u001b[0m\n\u001b[0m",
      "\u001b[0;31mNameError\u001b[0m: name 'hourly_lmp' is not defined"
     ]
    }
   ],
   "source": [
    "print(testhours[hourly_lmp.argsort()[-5:][::-1]])"
   ]
  },
  {
   "cell_type": "code",
   "execution_count": 10,
   "metadata": {
    "collapsed": true
   },
   "outputs": [],
   "source": [
    "#concave utility function from 0 to 500 MW\n",
    "#500 MW at $2150 per MW CP costs = 1.075mil per annum\n",
    "#maximum daily utility set equal to transmission costs\n",
    "#17.5(x)(500 - x) - (pi_e + pi_cp)x = y utility\n",
    "#-17.5x^2 + [8750 - (pi_e + pi_cp)]x = y\n",
    "#dy/dx = -35x + [8750 - (pi_e + pi_cp)], max x = [8750 - (pi_e + pi_cp)]/35\n",
    "\n",
    "\n",
    "cp_perMW = 2150.0"
   ]
  },
  {
   "cell_type": "code",
   "execution_count": null,
   "metadata": {
    "collapsed": true
   },
   "outputs": [],
   "source": []
  },
  {
   "cell_type": "code",
   "execution_count": null,
   "metadata": {
    "collapsed": true
   },
   "outputs": [],
   "source": [
    "\n"
   ]
  },
  {
   "cell_type": "code",
   "execution_count": 7,
   "metadata": {
    "collapsed": true
   },
   "outputs": [],
   "source": [
    "#generate historical average model"
   ]
  },
  {
   "cell_type": "code",
   "execution_count": 6,
   "metadata": {},
   "outputs": [
    {
     "name": "stdout",
     "output_type": "stream",
     "text": [
      "570.2781314827672 36556.57900951147\n"
     ]
    },
    {
     "name": "stderr",
     "output_type": "stream",
     "text": [
      "/home/chase/applications/anaconda3/lib/python3.6/site-packages/ipykernel/__main__.py:25: FutureWarning: `rcond` parameter will change to the default of machine precision times ``max(M, N)`` where M and N are the input matrix dimensions.\n",
      "To use the future default and silence this warning we advise to pass `rcond=None`, to keep using the old, explicitly pass `rcond=-1`.\n"
     ]
    },
    {
     "data": {
      "image/png": "[encoded data removed]",
      "text/plain": [
       "<matplotlib.figure.Figure at 0x7fe69d234550>"
      ]
     },
     "metadata": {},
     "output_type": "display_data"
    }
   ],
   "source": [
    "#ERCOT data\n",
    "lds = datetime.datetime(year=2016, month=2, day=29, hour=0, minute=0) #lines 1415 to 1439\n",
    "lde = datetime.datetime(year=2016, month=2, day=29, hour=23, minute=0)\n",
    "\n",
    "path = \"/home/chase/projects/peakload/data/ercot/\"\n",
    "ercot2017 = pd.read_excel(path + \"native_Load_2017.xlsx\")\n",
    "ercot2016 = pd.read_excel(path + \"native_Load_2016.xlsx\") #leap year\n",
    "ercot2016.drop(ercot2016.index[1415:1439], inplace=True) #dropping leap days so years line up\n",
    "\n",
    "ercot2015 = pd.read_excel(path + \"native_Load_2015.xls\")\n",
    "ercot2014 = pd.read_excel(path + \"2014_ERCOT_Hourly_Load_Data.xls\")\n",
    "ercot2013 = pd.read_excel(path + \"2013_ERCOT_Hourly_Load_Data.xls\")\n",
    "ercot2012 = pd.read_excel(path + \"2012_ERCOT_Hourly_Load_Data.xls\") #leap year\n",
    "ercot2012.drop(ercot2012.index[1415:1439], inplace=True)\n",
    "\n",
    "ercot2011 = pd.read_excel(path + \"2011_ERCOT_Hourly_Load_Data.xls\")\n",
    "ercot2010 = pd.read_excel(path + \"2010_ERCOT_Hourly_Load_Data.xls\")\n",
    "\n",
    "yearly_data = [ercot2010, ercot2011, ercot2012, ercot2013, ercot2014, ercot2015, ercot2016, ercot2017]\n",
    "training = [list(ercot2010['ERCOT']), list(ercot2011['ERCOT']), list(ercot2012['ERCOT']), list(ercot2013['ERCOT']), list(ercot2014['ERCOT']), list(ercot2015['ERCOT']), list(ercot2016['ERCOT'])]\n",
    "means = [ np.nanmean(y) for y in training ]\n",
    "\n",
    "#use system-wide loadgrowth for all regions\n",
    "A = np.vstack((np.array([0, 1, 2, 3, 4, 5, 6]), np.array([1, 1, 1, 1, 1, 1, 1]))).T\n",
    "a, b = np.linalg.lstsq(A, np.array(means))[0]\n",
    "print(a, b)\n",
    "projected_mean = a*7.0 + b\n",
    "plt.plot(means + [projected_mean])\n",
    "means.append(projected_mean)\n",
    "load_growth = np.array(means)\n",
    "\n",
    "yearly_loads = np.zeros((8,8760))\n",
    "\n",
    "for i in range(len(yearly_data)):\n",
    "    yearly_loads[i,:] = np.array(yearly_data[i]['ERCOT']) - load_growth[i]\n",
    "    \n",
    "model = np.nanmean(yearly_loads[0:6,:], axis=0)\n",
    "test = yearly_loads[7,:]\n",
    "plt.plot(model, color=\"blue\", label=\"model\")\n",
    "plt.plot(test, color=\"red\", label=\"test data\")\n",
    "plt.legend()\n",
    "plt.show()"
   ]
  },
  {
   "cell_type": "code",
   "execution_count": 7,
   "metadata": {},
   "outputs": [
    {
     "name": "stdout",
     "output_type": "stream",
     "text": [
      "69496.239761\n"
     ]
    },
    {
     "data": {
      "image/png": "[encoded data removed]",
      "text/plain": [
       "<matplotlib.figure.Figure at 0x7fe69dfe3278>"
      ]
     },
     "metadata": {},
     "output_type": "display_data"
    }
   ],
   "source": [
    "plt.plot(test + load_growth[-1])\n",
    "print(np.max(test + load_growth[-1]))"
   ]
  },
  {
   "cell_type": "code",
   "execution_count": 11,
   "metadata": {
    "collapsed": true
   },
   "outputs": [],
   "source": [
    "#model_ranks = np.zeros((yearly_loads.shape[1], 1))\n",
    "#test_ranks = np.zeros((yearly_loads.shape[1], 1))\n",
    "#\n",
    "#for i in range(model_ranks.shape[0]):\n",
    "#    greater = np.sum([ 1 for k in model[:,] if k >= model[i,] ])/float(model.shape[0])\n",
    "#    model_ranks[i,0] = 1.0 - greater\n",
    "#    \n",
    "#for i in range(test_ranks.shape[0]):\n",
    "#    greater = np.sum([ 1 for k in test[:,] if k >= test[i,] ])/float(test.shape[0])\n",
    "#    test_ranks[i,0] = 1.0 - greater\n",
    "#    \n",
    "#plt.plot(model_ranks, label=\"model ranks\")\n",
    "#plt.plot(test_ranks, label=\"test ranks\")\n",
    "#plt.legend()"
   ]
  },
  {
   "cell_type": "code",
   "execution_count": 8,
   "metadata": {},
   "outputs": [
    {
     "ename": "KeyboardInterrupt",
     "evalue": "",
     "output_type": "error",
     "traceback": [
      "\u001b[0;31m---------------------------------------------------------------------------\u001b[0m",
      "\u001b[0;31mKeyboardInterrupt\u001b[0m                         Traceback (most recent call last)",
      "\u001b[0;32m<ipython-input-8-bd752a8c48be>\u001b[0m in \u001b[0;36m<module>\u001b[0;34m()\u001b[0m\n\u001b[1;32m     17\u001b[0m \u001b[0mtrue_cdf\u001b[0m \u001b[0;34m=\u001b[0m \u001b[0;34m[\u001b[0m\u001b[0;34m]\u001b[0m\u001b[0;34m\u001b[0m\u001b[0m\n\u001b[1;32m     18\u001b[0m \u001b[0;32mfor\u001b[0m \u001b[0mp\u001b[0m \u001b[0;32min\u001b[0m \u001b[0mpower_vals\u001b[0m\u001b[0;34m:\u001b[0m\u001b[0;34m\u001b[0m\u001b[0m\n\u001b[0;32m---> 19\u001b[0;31m     \u001b[0mgreater\u001b[0m \u001b[0;34m=\u001b[0m \u001b[0mnp\u001b[0m\u001b[0;34m.\u001b[0m\u001b[0msum\u001b[0m\u001b[0;34m(\u001b[0m\u001b[0;34m[\u001b[0m \u001b[0;36m1\u001b[0m \u001b[0;32mfor\u001b[0m \u001b[0mk\u001b[0m \u001b[0;32min\u001b[0m \u001b[0mtest\u001b[0m\u001b[0;34m[\u001b[0m\u001b[0;34m:\u001b[0m\u001b[0;34m,\u001b[0m\u001b[0;34m]\u001b[0m \u001b[0;32mif\u001b[0m \u001b[0mk\u001b[0m \u001b[0;34m>=\u001b[0m \u001b[0mp\u001b[0m \u001b[0;34m]\u001b[0m\u001b[0;34m)\u001b[0m\u001b[0;34m/\u001b[0m\u001b[0mfloat\u001b[0m\u001b[0;34m(\u001b[0m\u001b[0mmodel\u001b[0m\u001b[0;34m.\u001b[0m\u001b[0mshape\u001b[0m\u001b[0;34m[\u001b[0m\u001b[0;36m0\u001b[0m\u001b[0;34m]\u001b[0m\u001b[0;34m)\u001b[0m\u001b[0;34m\u001b[0m\u001b[0m\n\u001b[0m\u001b[1;32m     20\u001b[0m     \u001b[0mtrue_cdf\u001b[0m\u001b[0;34m.\u001b[0m\u001b[0mappend\u001b[0m\u001b[0;34m(\u001b[0m\u001b[0;36m1.0\u001b[0m \u001b[0;34m-\u001b[0m \u001b[0mgreater\u001b[0m\u001b[0;34m)\u001b[0m\u001b[0;34m\u001b[0m\u001b[0m\n\u001b[1;32m     21\u001b[0m \u001b[0;34m\u001b[0m\u001b[0m\n",
      "\u001b[0;32m<ipython-input-8-bd752a8c48be>\u001b[0m in \u001b[0;36m<listcomp>\u001b[0;34m(.0)\u001b[0m\n\u001b[1;32m     17\u001b[0m \u001b[0mtrue_cdf\u001b[0m \u001b[0;34m=\u001b[0m \u001b[0;34m[\u001b[0m\u001b[0;34m]\u001b[0m\u001b[0;34m\u001b[0m\u001b[0m\n\u001b[1;32m     18\u001b[0m \u001b[0;32mfor\u001b[0m \u001b[0mp\u001b[0m \u001b[0;32min\u001b[0m \u001b[0mpower_vals\u001b[0m\u001b[0;34m:\u001b[0m\u001b[0;34m\u001b[0m\u001b[0m\n\u001b[0;32m---> 19\u001b[0;31m     \u001b[0mgreater\u001b[0m \u001b[0;34m=\u001b[0m \u001b[0mnp\u001b[0m\u001b[0;34m.\u001b[0m\u001b[0msum\u001b[0m\u001b[0;34m(\u001b[0m\u001b[0;34m[\u001b[0m \u001b[0;36m1\u001b[0m \u001b[0;32mfor\u001b[0m \u001b[0mk\u001b[0m \u001b[0;32min\u001b[0m \u001b[0mtest\u001b[0m\u001b[0;34m[\u001b[0m\u001b[0;34m:\u001b[0m\u001b[0;34m,\u001b[0m\u001b[0;34m]\u001b[0m \u001b[0;32mif\u001b[0m \u001b[0mk\u001b[0m \u001b[0;34m>=\u001b[0m \u001b[0mp\u001b[0m \u001b[0;34m]\u001b[0m\u001b[0;34m)\u001b[0m\u001b[0;34m/\u001b[0m\u001b[0mfloat\u001b[0m\u001b[0;34m(\u001b[0m\u001b[0mmodel\u001b[0m\u001b[0;34m.\u001b[0m\u001b[0mshape\u001b[0m\u001b[0;34m[\u001b[0m\u001b[0;36m0\u001b[0m\u001b[0;34m]\u001b[0m\u001b[0;34m)\u001b[0m\u001b[0;34m\u001b[0m\u001b[0m\n\u001b[0m\u001b[1;32m     20\u001b[0m     \u001b[0mtrue_cdf\u001b[0m\u001b[0;34m.\u001b[0m\u001b[0mappend\u001b[0m\u001b[0;34m(\u001b[0m\u001b[0;36m1.0\u001b[0m \u001b[0;34m-\u001b[0m \u001b[0mgreater\u001b[0m\u001b[0;34m)\u001b[0m\u001b[0;34m\u001b[0m\u001b[0m\n\u001b[1;32m     21\u001b[0m \u001b[0;34m\u001b[0m\u001b[0m\n",
      "\u001b[0;31mKeyboardInterrupt\u001b[0m: "
     ]
    },
    {
     "data": {
      "image/png": "[encoded data removed]",
      "text/plain": [
       "<matplotlib.figure.Figure at 0x7fe69df18940>"
      ]
     },
     "metadata": {},
     "output_type": "display_data"
    }
   ],
   "source": [
    "#with perfect forecasting\n",
    "def find_nearest_idx(array, value):\n",
    "    array = np.asarray(array)\n",
    "    idx = (np.abs(array - value)).argmin()\n",
    "    return(idx)\n",
    "\n",
    "power_vals = np.arange(np.min(model),np.max(model),0.5)\n",
    "empirical_cdf = []\n",
    "for p in power_vals:\n",
    "    greater = np.sum([ 1 for k in model[:,] if k >= p ])/float(model.shape[0])\n",
    "    empirical_cdf.append(1.0 - greater)\n",
    "    \n",
    "#plt.plot(sorted(model))\n",
    "#plt.plot(sorted(test))\n",
    "plt.plot(power_vals, empirical_cdf)\n",
    "\n",
    "true_cdf = []\n",
    "for p in power_vals:\n",
    "    greater = np.sum([ 1 for k in test[:,] if k >= p ])/float(model.shape[0])\n",
    "    true_cdf.append(1.0 - greater)\n",
    "    \n",
    "model_ranks = []\n",
    "test_ranks = []\n",
    "\n",
    "for val in test:\n",
    "    idx = find_nearest_idx(power_vals, val)\n",
    "    mod = empirical_cdf[idx]\n",
    "    model_ranks.append(mod)\n",
    "    true = true_cdf[idx]\n",
    "    test_ranks.append(true)"
   ]
  },
  {
   "cell_type": "code",
   "execution_count": null,
   "metadata": {
    "collapsed": true
   },
   "outputs": [],
   "source": []
  },
  {
   "cell_type": "code",
   "execution_count": null,
   "metadata": {
    "collapsed": true
   },
   "outputs": [],
   "source": []
  },
  {
   "cell_type": "code",
   "execution_count": null,
   "metadata": {},
   "outputs": [],
   "source": [
    "plt.plot(model_ranks, label=\"model\")\n",
    "plt.plot(test_ranks, label=\"true\")\n",
    "plt.legend()\n",
    "plt.show()"
   ]
  },
  {
   "cell_type": "code",
   "execution_count": null,
   "metadata": {
    "collapsed": true
   },
   "outputs": [],
   "source": [
    "\n"
   ]
  },
  {
   "cell_type": "code",
   "execution_count": null,
   "metadata": {},
   "outputs": [],
   "source": [
    "#marginal utility model\n",
    "def cp_curtailment(cdfval, min_thresh=0.85):\n",
    "    #returns a fractional curtailment of power demand as a function\n",
    "    #of predicted CDF value of load\n",
    "    curtail_val = (cdfval - min_thresh)/(1 - min_thresh)\n",
    "    outval = np.nanmax([0, curtail_val])\n",
    "    return(outval)\n",
    "\n",
    "historical_by_alpha = []\n",
    "top_k = 10\n",
    "top_i = testloads.argsort()[-top_k:][::-1]\n",
    "pmax = 500\n",
    "increment = 0.05\n",
    "power_range = np.arange(0,pmax + increment,increment)\n",
    "total_cp_cost = 8000\n",
    "cp_cost = total_cp_cost/(top_k * pmax)\n",
    "alphas = np.arange(0.85,1.05,0.05)\n",
    "\n",
    "\n",
    "for a in alphas:\n",
    "    ann_util = 0.0\n",
    "\n",
    "    for i in day_start_i:\n",
    "        dt = testhours[i]\n",
    "        if dt.weekday() == 5 or dt.weekday() == 6:\n",
    "            pass\n",
    "        #for h in range(24):\n",
    "        else:\n",
    "            #cdf_vals = model_ranks[i:i+24] #without perfect forecast\n",
    "            cdf_vals = model_ranks[i:i+24] #with perfect forecast\n",
    "            #noise= np.random.normal(0,0.1,24) #1% noise\n",
    "            #noise = np.random.uniform(-0.01,0.01,24)\n",
    "            #load_vals = test[i:i+24] + noise\n",
    "            #cdf_vals = []\n",
    "            #for l in range(len(load_vals)):\n",
    "            #    cdf_idx = find_nearest_idx(power_vals, load_vals[l])\n",
    "            #    cdf_vals.append(empirical_cdf[cdf_idx])\n",
    "            for h in range(9,17):\n",
    "                ann_hour = i+h\n",
    "                curtail_mp = cp_curtailment(cdf_vals[h], min_thresh=a)\n",
    "                optim_vals = 1.61*np.log(1 + power_range) - curtail_mp*cp_cost*power_range\n",
    "                opt = power_range[np.argmax(optim_vals)]\n",
    "                if ann_hour in top_i:\n",
    "                    util = 1.61*np.log(1 + opt) - cp_cost*opt\n",
    "                    ann_util += util\n",
    "                else:\n",
    "                    util = 1.61*np.log(1 + opt)\n",
    "                    ann_util += util\n",
    "\n",
    "    #print(ann_util/ann_util_opt)\n",
    "    historical_by_alpha.append(ann_util)"
   ]
  },
  {
   "cell_type": "code",
   "execution_count": null,
   "metadata": {
    "collapsed": true
   },
   "outputs": [],
   "source": []
  },
  {
   "cell_type": "code",
   "execution_count": 20,
   "metadata": {},
   "outputs": [
    {
     "name": "stderr",
     "output_type": "stream",
     "text": [
      "/home/chase/applications/anaconda3/lib/python3.6/site-packages/ipykernel/__main__.py:5: RuntimeWarning: divide by zero encountered in double_scalars\n"
     ]
    }
   ],
   "source": [
    "#with noise\n",
    "all_by_alpha = []\n",
    "#noises = [0.01, 0.05, 0.1, 0.25, .3]\n",
    "noises = [0.05]\n",
    "for n in noises:\n",
    "    noisy_historical_by_alpha = []\n",
    "    mcs = 3\n",
    "    #alphas_trunc = np.arange(0.98,1.001,0.001)\n",
    "    alphas_trunc = np.arange(0.96,1.005,0.005)\n",
    "\n",
    "    for a in alphas_trunc:\n",
    "\n",
    "        mc_alpha = []\n",
    "        for m in range(mcs):\n",
    "            ann_util = 0.0\n",
    "            for i in day_start_i:\n",
    "                dt = testhours[i]\n",
    "                if dt.weekday() == 5 or dt.weekday() == 6:\n",
    "                    pass\n",
    "                #for h in range(24):\n",
    "                else:\n",
    "                    #cdf_vals = model_ranks[i:i+24] #without perfect forecast\n",
    "                    #cdf_vals = model_ranks[i:i+24] #with perfect forecast\n",
    "                    #noise= np.random.normal(0,n,24) #1% noise\n",
    "                    noise = np.random.uniform(-n,n,24)\n",
    "                    load_vals = test[i:i+24] + test[i:i+24]*noise\n",
    "                    cdf_vals = []\n",
    "                    for l in range(len(load_vals)):\n",
    "                        cdf_idx = find_nearest_idx(power_vals, load_vals[l])\n",
    "                        cdf_vals.append(empirical_cdf[cdf_idx])\n",
    "                    for h in range(9,17):\n",
    "                        ann_hour = i+h\n",
    "                        curtail_mp = cp_curtailment(cdf_vals[h], min_thresh=a)\n",
    "                        optim_vals = 1.61*np.log(1 + power_range) - curtail_mp*cp_cost*power_range\n",
    "                        opt = power_range[np.argmax(optim_vals)]\n",
    "                        if ann_hour in top_i:\n",
    "                            util = 1.61*np.log(1 + opt) - cp_cost*opt\n",
    "                            ann_util += util\n",
    "                        else:\n",
    "                            util = 1.61*np.log(1 + opt)\n",
    "                            ann_util += util\n",
    "            mc_alpha.append(ann_util)\n",
    "\n",
    "        #print(ann_util/ann_util_opt)\n",
    "        noisy_historical_by_alpha.append(np.mean(mc_alpha))\n",
    "    all_by_alpha.append(noisy_historical_by_alpha)"
   ]
  },
  {
   "cell_type": "code",
   "execution_count": null,
   "metadata": {
    "collapsed": true
   },
   "outputs": [],
   "source": []
  },
  {
   "cell_type": "code",
   "execution_count": 21,
   "metadata": {},
   "outputs": [
    {
     "data": {
      "image/png": "[encoded data removed]",
      "text/plain": [
       "<matplotlib.figure.Figure at 0x7f16e5f09198>"
      ]
     },
     "metadata": {},
     "output_type": "display_data"
    }
   ],
   "source": [
    "plt.plot(alphas, historical_by_alpha, label=\"perfect forecast\")\n",
    "for i in range(len(noises)):\n",
    "    plt.plot(alphas_trunc, all_by_alpha[i], label=str(100*noises[i]) + \"% error\")\n",
    "plt.legend()\n",
    "plt.show()"
   ]
  },
  {
   "cell_type": "code",
   "execution_count": 18,
   "metadata": {
    "collapsed": true
   },
   "outputs": [],
   "source": [
    "gaussian_all_by_alpha = all_by_alpha"
   ]
  },
  {
   "cell_type": "code",
   "execution_count": null,
   "metadata": {},
   "outputs": [],
   "source": [
    "#lost utility due to curtailment\n",
    "\n",
    "lost_historical_by_alpha = []\n",
    "\n",
    "for a in alphas:\n",
    "    ann_util = 0.0\n",
    "\n",
    "    for i in day_start_i:\n",
    "        dt = testhours[i]\n",
    "        cdf_vals = model_ranks[i:i+24]\n",
    "        #for h in range(24):\n",
    "        for h in range(9,17):\n",
    "            ann_hour = i+h\n",
    "            if ann_hour not in top_i:\n",
    "                curtail_mp = cp_curtailment(cdf_vals[h], min_thresh=a)\n",
    "                ann_util += curtail_mp\n",
    "            \n",
    "            if ann_hour == 5007:\n",
    "                peak = cdf_vals[h]\n",
    "            #    ann_util += curtail_mp*(100)\n",
    "            #else:\n",
    "            #    ann_util += curtail_mp\n",
    "\n",
    "    #print(ann_util/ann_util_opt)\n",
    "    lost_historical_by_alpha.append(ann_util)\n",
    "print(peak)"
   ]
  },
  {
   "cell_type": "code",
   "execution_count": null,
   "metadata": {
    "collapsed": true
   },
   "outputs": [],
   "source": []
  },
  {
   "cell_type": "code",
   "execution_count": null,
   "metadata": {
    "collapsed": true
   },
   "outputs": [],
   "source": []
  },
  {
   "cell_type": "code",
   "execution_count": null,
   "metadata": {},
   "outputs": [],
   "source": [
    "#perfect knowledge curtailment\n",
    "opt_by_alpha = []\n",
    "ann_util = 0.0\n",
    "\n",
    "for i in day_start_i:\n",
    "    dt = testhours[i]\n",
    "    if dt.weekday() == 5 or dt.weekday() == 6:\n",
    "        pass\n",
    "    else:\n",
    "        for h in range(9,17):\n",
    "            ann_hour = i+h\n",
    "            if ann_hour in top_i:\n",
    "                optim_vals = 1.61*np.log(1 + power_range) - cp_cost*power_range\n",
    "                opt = power_range[np.argmax(optim_vals)]\n",
    "                ann_util += 1.61*np.log(1 + opt) - cp_cost*opt\n",
    "            else:\n",
    "                util = 1.61*np.log(1.0 + 500.0)\n",
    "                ann_util += util\n",
    "                \n",
    "for a in alphas:\n",
    "    opt_by_alpha.append(ann_util)\n",
    "    \n",
    "print(ann_util)"
   ]
  },
  {
   "cell_type": "code",
   "execution_count": null,
   "metadata": {
    "collapsed": true
   },
   "outputs": [],
   "source": []
  },
  {
   "cell_type": "code",
   "execution_count": null,
   "metadata": {},
   "outputs": [],
   "source": [
    "#no activity lost utility\n",
    "\n",
    "naive_by_alpha = []\n",
    "ann_util = 0.0\n",
    "\n",
    "for i in day_start_i:\n",
    "    dt = testhours[i]\n",
    "    if dt.weekday() == 5 or dt.weekday() == 6:\n",
    "        pass\n",
    "    else:\n",
    "        for h in range(9,17):\n",
    "            ann_hour = i+h\n",
    "            if ann_hour in top_i:\n",
    "                util = 1.61*np.log(1.0 + 500.0) - cp_cost*500.0\n",
    "                ann_util += util\n",
    "            else:\n",
    "                util = 1.61*np.log(1.0 + 500.0)\n",
    "                ann_util += util\n",
    "                \n",
    "for a in alphas:\n",
    "    naive_by_alpha.append(ann_util)\n",
    "    \n",
    "print(ann_util)\n"
   ]
  },
  {
   "cell_type": "code",
   "execution_count": null,
   "metadata": {
    "collapsed": true
   },
   "outputs": [],
   "source": []
  },
  {
   "cell_type": "code",
   "execution_count": null,
   "metadata": {
    "collapsed": true
   },
   "outputs": [],
   "source": [
    "#neural net model\n",
    "#with weather data\n",
    "def torch_reshape_data(databatch):\n",
    "    #flattens array inputs for a single list of training, target pairs\n",
    "    inputs = []\n",
    "    labels = []\n",
    "    for sample in databatch:\n",
    "        inputs.append(sample[0].flatten())\n",
    "        labels.append(sample[1].flatten())\n",
    "    return(torch.Tensor(np.asarray(inputs)), torch.Tensor(np.asarray(labels)))\n",
    "\n",
    "path = \"/home/jimin/chase/peakload/data/nets/models/\"\n",
    "#mname = 'triple_hidden_1903.pt'\n",
    "#mname = 'triple_hidden_3224.pt'\n",
    "mname = 'tanh_deep_1863.pt'\n",
    "#mname = 'triple_hidden_3080.pt'\n",
    "#mname = 'triple_hidden_3120.pt' #L1 weather loss\n",
    "#mname = 'triple_hidden_6772.pt' #load data only\n",
    "\n",
    "sys.path.append(\"/home/jimin/chase/peakload/src/python/nets/tanh_deep\")\n",
    "\n",
    "nnmodel = torch.load(path + mname)\n",
    "\n",
    "random.seed(45) #fixed for all experiments, my high school football jersey number\n",
    "torch.manual_seed(45)\n",
    "\n",
    "#test_data_path = \"/home/chase/projects/peakload/data/ercot/weather_pairs/regional_formatted/load_features/test\"#\n",
    "test_data_path = \"/home/jimin/chase/peakload/data/load_features_wplus/test\"\n",
    "#test_data_path = \"/home/chase/projects/peakload/data/ercot/regional_formatted/load_features/test\"\n",
    "files = os.listdir(test_data_path)\n",
    "weather_normed_test_data_pairs = []\n",
    "\n",
    "for i in range(8735):\n",
    "    fname = str(i) + \"_all_weather_load_features.pck\"\n",
    "    with open(test_data_path + \"/\" + fname, 'rb') as d:\n",
    "        weather_normed_test_data_pairs.append(pickle.load(d))"
   ]
  },
  {
   "cell_type": "code",
   "execution_count": null,
   "metadata": {
    "collapsed": true
   },
   "outputs": [],
   "source": []
  },
  {
   "cell_type": "code",
   "execution_count": null,
   "metadata": {
    "collapsed": true
   },
   "outputs": [],
   "source": [
    "day_pairs = []\n",
    "\n",
    "for i in day_start_i:\n",
    "    try:\n",
    "        day_pairs.append(weather_normed_test_data_pairs[i])\n",
    "    except:\n",
    "        pass"
   ]
  },
  {
   "cell_type": "code",
   "execution_count": null,
   "metadata": {
    "collapsed": true
   },
   "outputs": [],
   "source": [
    "#do prediction on test data\n",
    "inputs, labels = torch_reshape_data(day_pairs)\n",
    "labels = Variable(labels.cuda())\n",
    "inputs = Variable(inputs.cuda())\n",
    "outputs = nnmodel(inputs)\n",
    "    \n",
    "labels = labels.data.cpu().numpy()\n",
    "outputs = outputs.data.cpu().numpy()\n",
    "inputs = inputs.data.cpu().numpy()"
   ]
  },
  {
   "cell_type": "code",
   "execution_count": null,
   "metadata": {
    "collapsed": true
   },
   "outputs": [],
   "source": []
  },
  {
   "cell_type": "code",
   "execution_count": null,
   "metadata": {
    "collapsed": true
   },
   "outputs": [],
   "source": [
    "x = []\n",
    "y = []\n",
    "pairs = []\n",
    "\n",
    "for i in range(outputs.shape[0]):\n",
    "    daystart = i*24\n",
    "    if i == 364:\n",
    "        break\n",
    "    cdf_vals = outputs[i,:]\n",
    "    powers = testloads[daystart:daystart+24,]\n",
    "    \n",
    "    #x.append(powers)\n",
    "    #y.append(cdf_vals)\n",
    "    \n",
    "    for k in range(len(powers)):\n",
    "        x.append(powers[k])\n",
    "        y.append(cdf_vals[k])\n",
    "    #    pairs.append((powers[k],cdf_vals[k]))"
   ]
  },
  {
   "cell_type": "code",
   "execution_count": null,
   "metadata": {},
   "outputs": [],
   "source": [
    "len(x)"
   ]
  },
  {
   "cell_type": "code",
   "execution_count": null,
   "metadata": {},
   "outputs": [],
   "source": [
    "plt.scatter(x,y)"
   ]
  },
  {
   "cell_type": "code",
   "execution_count": null,
   "metadata": {
    "collapsed": true
   },
   "outputs": [],
   "source": []
  },
  {
   "cell_type": "code",
   "execution_count": null,
   "metadata": {
    "collapsed": true
   },
   "outputs": [],
   "source": []
  },
  {
   "cell_type": "code",
   "execution_count": null,
   "metadata": {
    "collapsed": true
   },
   "outputs": [],
   "source": []
  },
  {
   "cell_type": "code",
   "execution_count": null,
   "metadata": {},
   "outputs": [],
   "source": [
    "#marginal utility model\n",
    "\n",
    "nn_by_alpha = []\n",
    "\n",
    "for a in alphas:\n",
    "    nn_ann_util = 0.0\n",
    "\n",
    "    j = 0\n",
    "    for i in day_start_i:\n",
    "        dt = testhours[i]\n",
    "        if j == 364:\n",
    "            nn_ann_util += 10\n",
    "            break\n",
    "        if dt.weekday() == 5 or dt.weekday() == 6:\n",
    "            pass\n",
    "        else:\n",
    "            cdf_vals = outputs[j,:]\n",
    "            #for h in range(24):\n",
    "            for h in range(9,17):\n",
    "                ann_hour = i+h\n",
    "                curtail_mp = cp_curtailment(cdf_vals[h], min_thresh=a)\n",
    "                if curtail_mp > 1.0:\n",
    "                    curtail_mp = 1.0\n",
    "                optim_vals = 1.61*np.log(1 + power_range) - curtail_mp*cp_cost*power_range\n",
    "                opt = power_range[np.argmax(optim_vals)]\n",
    "                    #print(\"over\")\n",
    "                if ann_hour in top_i:\n",
    "                    util = 1.61*np.log(1 + opt) - cp_cost*opt\n",
    "                    nn_ann_util += util\n",
    "                else:\n",
    "                    util = 1.61*np.log(1 + opt)\n",
    "                    nn_ann_util += util\n",
    "                if ann_hour == 5007:\n",
    "                    peak = cdf_vals[h]\n",
    "\n",
    "        j += 1\n",
    "\n",
    "    nn_by_alpha.append(nn_ann_util)\n",
    "print(peak)\n",
    "    #print(nn_ann_util/ann_util_opt)"
   ]
  },
  {
   "cell_type": "code",
   "execution_count": null,
   "metadata": {
    "collapsed": true
   },
   "outputs": [],
   "source": []
  },
  {
   "cell_type": "code",
   "execution_count": null,
   "metadata": {
    "collapsed": true
   },
   "outputs": [],
   "source": []
  },
  {
   "cell_type": "code",
   "execution_count": null,
   "metadata": {
    "collapsed": true
   },
   "outputs": [],
   "source": []
  },
  {
   "cell_type": "code",
   "execution_count": null,
   "metadata": {},
   "outputs": [],
   "source": [
    "#lost marginal utility model\n",
    "\n",
    "lost_nn_by_alpha = []\n",
    "\n",
    "for a in alphas:\n",
    "    nn_ann_util = 0.0\n",
    "    hourly_utils = []\n",
    "\n",
    "    j = 0\n",
    "    for i in day_start_i:\n",
    "        dt = testhours[i]\n",
    "        if j == 364:\n",
    "            nn_ann_util += 1\n",
    "            break\n",
    "        cdf_vals = outputs[j,:]\n",
    "        #for h in range(24):\n",
    "        for h in range(9,17):\n",
    "            ann_hour = i+h\n",
    "            if ann_hour not in top_i:\n",
    "                curtail_mp = cp_curtailment(cdf_vals[h], min_thresh=a)\n",
    "                nn_ann_util += curtail_mp\n",
    "            #if curtail_mp > 1.0:\n",
    "            #    curtail_mp = 1.0\n",
    "                #print(\"over\")\n",
    "            #if ann_hour == 5007:\n",
    "            #    nn_ann_util += curtail_mp*(-0.1)\n",
    "            #else:\n",
    "            #    nn_ann_util += curtail_mp\n",
    "\n",
    "        j += 1\n",
    "\n",
    "    lost_nn_by_alpha.append(nn_ann_util)\n",
    "    #print(nn_ann_util/ann_util_opt)"
   ]
  },
  {
   "cell_type": "code",
   "execution_count": 46,
   "metadata": {},
   "outputs": [
    {
     "name": "stdout",
     "output_type": "stream",
     "text": [
      "20195.396113040308\n",
      "20394.749307935042\n"
     ]
    },
    {
     "data": {
      "image/png": "[encoded data removed]",
      "text/plain": [
       "<Figure size 432x288 with 1 Axes>"
      ]
     },
     "metadata": {},
     "output_type": "display_data"
    }
   ],
   "source": [
    "\n",
    "#plt.title(\"Annual utility as function of curtailment threshold\")\n",
    "plt.plot(alphas, naive_by_alpha, color=\"red\", ls='--', lw=3, label=\"No predictor\")\n",
    "plt.plot(alphas, opt_by_alpha, color=\"purple\", ls='--', lw=3, label=\"Perfect predictor\")\n",
    "plt.plot(alphas, nn_by_alpha, color=\"orange\", lw=3, label=\"NN predictor\")\n",
    "plt.plot(alphas_trunc, noisy_historical_by_alpha, color=\"green\", lw=3, label=\"Historical predictor\")\n",
    "plt.xlabel(\"Alpha\", fontsize=16)\n",
    "plt.ylabel(\"Annual utility\", fontsize=16)\n",
    "plt.tick_params(axis='both', which='major', labelsize=12)\n",
    "plt.xlim(0.9,1)\n",
    "plt.ylim(12500,22000)\n",
    "#plt.ylim(0,3500)\n",
    "#plt.xlim(0.98,1)\n",
    "\n",
    "plt.legend(fontsize=12,loc=(0.03,0.15))#'lower left')\n",
    "\n",
    "print(np.max(nn_by_alpha))\n",
    "print(np.max(historical_by_alpha))"
   ]
  },
  {
   "cell_type": "code",
   "execution_count": 81,
   "metadata": {},
   "outputs": [
    {
     "data": {
      "text/plain": [
       "<matplotlib.legend.Legend at 0x7fccb71ffe48>"
      ]
     },
     "execution_count": 81,
     "metadata": {},
     "output_type": "execute_result"
    },
    {
     "data": {
      "image/png": "[encoded data removed]",
      "text/plain": [
       "<Figure size 432x288 with 1 Axes>"
      ]
     },
     "metadata": {},
     "output_type": "display_data"
    }
   ],
   "source": [
    "plt.title(\"Percentage of optimal utility as function of curtailment threshold\")\n",
    "plt.plot(alphas, (np.array(nn_by_alpha)/np.array(opt_by_alpha))*100.0, color=\"orange\", label=\"NN predictor\")\n",
    "plt.plot(alphas, (np.array(historical_by_alpha)/np.array(opt_by_alpha))*100.0, color=\"green\", label=\"Historical predictor\")\n",
    "plt.xlabel(\"Alpha\")\n",
    "plt.ylabel(\"Percentage of optimal\")\n",
    "plt.xlim(0.9,1)\n",
    "#plt.ylim(0,3500)\n",
    "#plt.xlim(0.98,1)\n",
    "\n",
    "plt.legend()"
   ]
  },
  {
   "cell_type": "code",
   "execution_count": null,
   "metadata": {
    "collapsed": true
   },
   "outputs": [],
   "source": []
  },
  {
   "cell_type": "code",
   "execution_count": null,
   "metadata": {
    "collapsed": true
   },
   "outputs": [],
   "source": []
  },
  {
   "cell_type": "code",
   "execution_count": 43,
   "metadata": {},
   "outputs": [
    {
     "data": {
      "text/plain": [
       "Text(0,0.5,'Annual utility difference')"
      ]
     },
     "execution_count": 43,
     "metadata": {},
     "output_type": "execute_result"
    },
    {
     "data": {
      "image/png": "[encoded data removed]",
      "text/plain": [
       "<Figure size 432x288 with 1 Axes>"
      ]
     },
     "metadata": {},
     "output_type": "display_data"
    }
   ],
   "source": [
    "plt.plot(alphas, np.array(nn_by_alpha) - np.array(historical_by_alpha))\n",
    "plt.xlabel(\"Alpha\")\n",
    "plt.ylabel(\"Annual utility difference\")"
   ]
  },
  {
   "cell_type": "code",
   "execution_count": 36,
   "metadata": {},
   "outputs": [
    {
     "name": "stdout",
     "output_type": "stream",
     "text": [
      "[100.49720056 100.78811201 101.07449257 101.37605383 101.69948858\n",
      " 102.02302804 102.35964285 102.70961357 103.08180142 103.46382799\n",
      " 103.85964918 104.25610441 104.67802133 105.10461213 105.53577811\n",
      " 105.96522487 106.39252163 106.80606345 107.20039123 107.58344197\n",
      " 107.99522051 108.41905149 108.82798186 109.24601419 109.65225018\n",
      " 110.04714257 110.4312984  110.80931136 111.18214484 111.55224913\n",
      " 111.90804331 112.28868139 112.67838628 113.08228927 113.46892902\n",
      " 113.8569341  114.26283516 114.70134749 115.12509107 115.55076462\n",
      " 115.98512687 116.3980594  116.80958485 117.26433736 117.72339864\n",
      " 118.16225662 118.60735188 119.06037112 119.54081191 120.02069347\n",
      " 120.47592646 120.93626426 121.40490111 121.87973962 122.34211511\n",
      " 122.78312018 123.1870982  123.57378972 123.95992288 124.31018374\n",
      " 124.65076315 124.98848683 125.29669599 125.55148078 125.83015715\n",
      " 126.12133    126.42885501 126.7645433  127.14461507 127.52670368\n",
      " 127.90559061 128.26445407 128.58970704 128.87890725 129.13868183\n",
      " 129.40975895 129.70650164 129.98137735 130.26953605 130.55095281\n",
      " 130.81942695 131.10018907 131.37091885 131.59019957 131.82084129\n",
      " 132.03961325 132.19901123 132.29096739 132.37796071 132.45563245\n",
      " 132.53584686 132.60344148 132.67397853 132.70207462 132.69670333\n",
      " 132.66648421 132.54100228 132.41976196 132.30471477 132.18027121\n",
      " 132.01691264 131.74744697 131.4730401  131.19616083 130.85896695\n",
      " 130.55604705 130.26888859 129.96475994 129.56993571 129.05257866\n",
      " 128.5538574  128.08317552 127.5827712  126.97142534 126.3899408\n",
      " 125.70023708 125.04345562 124.39414709 123.67764225 122.80687314\n",
      " 121.83352044 120.8146233  119.77265398 118.67836424 117.55098065\n",
      " 116.42661306 115.1512533  113.46721719 111.51988506 109.36507647\n",
      " 107.15750227 104.88934124 102.55989658  99.68863303  96.03503236\n",
      "  91.65764198  87.94295103  83.66092     78.41425697  72.9726632\n",
      "  67.01233279  60.7369916   54.10767568  47.77308672  41.50745633\n",
      "  34.66830061  27.57156357  20.69352567  13.89267842   9.37633836]\n"
     ]
    }
   ],
   "source": [
    "print(np.array(nn_by_alpha) - np.array(historical_by_alpha))"
   ]
  },
  {
   "cell_type": "code",
   "execution_count": 58,
   "metadata": {},
   "outputs": [
    {
     "data": {
      "text/plain": [
       "<matplotlib.legend.Legend at 0x7fccb4aa57b8>"
      ]
     },
     "execution_count": 58,
     "metadata": {},
     "output_type": "execute_result"
    },
    {
     "data": {
      "image/png": "[encoded data removed]",
      "text/plain": [
       "<Figure size 432x288 with 1 Axes>"
      ]
     },
     "metadata": {},
     "output_type": "display_data"
    }
   ],
   "source": [
    "#plt.plot(alphas, perfect, color=\"blue\", label=\"perfect predictor\")\n",
    "plt.plot(alphas, lost_nn_by_alpha, color=\"orange\", label=\"nn predictor\")\n",
    "plt.plot(alphas, lost_historical_by_alpha, color=\"green\", label=\"historical predictor\")\n",
    "plt.xlabel(\"Alpha\")\n",
    "plt.ylabel(\"Total annual curtailment\")\n",
    "#plt.ylim(2000,3500)\n",
    "\n",
    "plt.legend()"
   ]
  },
  {
   "cell_type": "code",
   "execution_count": 48,
   "metadata": {},
   "outputs": [
    {
     "data": {
      "text/plain": [
       "array([13.77212985, 13.95308718, 14.13980031, 14.33312137, 14.54289254,\n",
       "       14.73113181, 14.93260501, 15.15166518, 15.40803811, 15.67981538,\n",
       "       15.9626745 , 16.23334439, 16.51724456, 16.81828952, 17.13212377,\n",
       "       17.4528292 , 17.78119795, 18.10589373, 18.41048885, 18.70917536,\n",
       "       19.03552501, 19.37100662, 19.6993654 , 20.04333482, 20.37530957,\n",
       "       20.70065015, 21.01674607, 21.33035628, 21.64206496, 21.96166618,\n",
       "       22.28049493, 22.63759323, 23.01633335, 23.42308465, 23.82933939,\n",
       "       24.24175235, 24.65863324, 25.09986998, 25.53813556, 25.98306222,\n",
       "       26.42589183, 26.85433026, 27.2783613 , 27.75630161, 28.25852331,\n",
       "       28.73459337, 29.20104247, 29.68202335, 30.18214316, 30.65520808,\n",
       "       31.12150587, 31.61416905, 32.14298256, 32.71040373, 33.27634619,\n",
       "       33.82492662, 34.34356661, 34.8736812 , 35.43032119, 35.96607822,\n",
       "       36.49589875, 37.05597666, 37.60583383, 38.12573317, 38.66326418,\n",
       "       39.23269536, 39.83050872, 40.4868167 , 41.19438065, 41.91936474,\n",
       "       42.64531012, 43.37232381, 44.07896994, 44.76241405, 45.43950496,\n",
       "       46.14631691, 46.85725885, 47.53460497, 48.23120401, 48.93111727,\n",
       "       49.65074438, 50.3999476 , 51.17451354, 51.89491661, 52.59957151,\n",
       "       53.28294965, 53.93961691, 54.55773089, 55.17917546, 55.85871657,\n",
       "       56.54790108, 57.2425555 , 57.95647854, 58.67175042, 59.37060954,\n",
       "       60.05004753, 60.62773948, 61.23471035, 61.84154169, 62.39318345,\n",
       "       62.86353786, 63.20495626, 63.55928143, 63.94167332, 64.28284197,\n",
       "       64.62116388, 65.01627809, 65.43507186, 65.80748968, 66.04358506,\n",
       "       66.30572971, 66.55311246, 66.73327328, 66.8130277 , 66.86578707,\n",
       "       66.90506618, 67.0191193 , 67.15718307, 67.20753962, 67.13262231,\n",
       "       66.89042647, 66.61368525, 66.38777806, 66.07113537, 65.74105176,\n",
       "       65.40152776, 64.90946858, 64.10544094, 63.12148497, 61.89042013,\n",
       "       60.53726778, 59.01830178, 57.35106845, 55.55057307, 53.5032265 ,\n",
       "       51.27949998, 49.07479503, 46.38698057, 43.35491147, 40.15989117,\n",
       "       37.04434824, 33.74541105, 30.27294816, 26.70031264, 23.10241954,\n",
       "       19.50913305, 15.70719257, 11.64383562,  7.26712329,  2.89041096])"
      ]
     },
     "execution_count": 48,
     "metadata": {},
     "output_type": "execute_result"
    }
   ],
   "source": [
    "np.array(lost_historical_by_alpha) - np.array(lost_nn_by_alpha)"
   ]
  },
  {
   "cell_type": "code",
   "execution_count": 1,
   "metadata": {},
   "outputs": [
    {
     "ename": "NameError",
     "evalue": "name 'plt' is not defined",
     "output_type": "error",
     "traceback": [
      "\u001b[0;31m---------------------------------------------------------------------------\u001b[0m",
      "\u001b[0;31mNameError\u001b[0m                                 Traceback (most recent call last)",
      "\u001b[0;32m<ipython-input-1-adbb9c62d8a0>\u001b[0m in \u001b[0;36m<module>\u001b[0;34m()\u001b[0m\n\u001b[1;32m      1\u001b[0m \u001b[0;31m#plt.plot(alphas, perfect, color=\"blue\", label=\"perfect predictor\")\u001b[0m\u001b[0;34m\u001b[0m\u001b[0;34m\u001b[0m\u001b[0m\n\u001b[0;32m----> 2\u001b[0;31m \u001b[0mplt\u001b[0m\u001b[0;34m.\u001b[0m\u001b[0mplot\u001b[0m\u001b[0;34m(\u001b[0m\u001b[0malphas\u001b[0m\u001b[0;34m,\u001b[0m \u001b[0;34m(\u001b[0m\u001b[0mnp\u001b[0m\u001b[0;34m.\u001b[0m\u001b[0marray\u001b[0m\u001b[0;34m(\u001b[0m\u001b[0mnn_by_alpha\u001b[0m\u001b[0;34m)\u001b[0m\u001b[0;34m/\u001b[0m\u001b[0;36m20000\u001b[0m\u001b[0;34m)\u001b[0m\u001b[0;34m*\u001b[0m\u001b[0;36m100\u001b[0m\u001b[0;34m,\u001b[0m \u001b[0mcolor\u001b[0m\u001b[0;34m=\u001b[0m\u001b[0;34m\"orange\"\u001b[0m\u001b[0;34m,\u001b[0m \u001b[0mlabel\u001b[0m\u001b[0;34m=\u001b[0m\u001b[0;34m\"nn predictor\"\u001b[0m\u001b[0;34m)\u001b[0m\u001b[0;34m\u001b[0m\u001b[0m\n\u001b[0m\u001b[1;32m      3\u001b[0m \u001b[0mplt\u001b[0m\u001b[0;34m.\u001b[0m\u001b[0mplot\u001b[0m\u001b[0;34m(\u001b[0m\u001b[0malphas\u001b[0m\u001b[0;34m,\u001b[0m \u001b[0;34m(\u001b[0m\u001b[0mnp\u001b[0m\u001b[0;34m.\u001b[0m\u001b[0marray\u001b[0m\u001b[0;34m(\u001b[0m\u001b[0mhistorical_by_alpha\u001b[0m\u001b[0;34m)\u001b[0m\u001b[0;34m/\u001b[0m\u001b[0;36m20000\u001b[0m\u001b[0;34m)\u001b[0m\u001b[0;34m*\u001b[0m\u001b[0;36m100\u001b[0m\u001b[0;34m,\u001b[0m \u001b[0mcolor\u001b[0m\u001b[0;34m=\u001b[0m\u001b[0;34m\"green\"\u001b[0m\u001b[0;34m,\u001b[0m \u001b[0mlabel\u001b[0m\u001b[0;34m=\u001b[0m\u001b[0;34m\"historical predictor\"\u001b[0m\u001b[0;34m)\u001b[0m\u001b[0;34m\u001b[0m\u001b[0m\n\u001b[1;32m      4\u001b[0m \u001b[0mplt\u001b[0m\u001b[0;34m.\u001b[0m\u001b[0mxlabel\u001b[0m\u001b[0;34m(\u001b[0m\u001b[0;34m\"Alpha\"\u001b[0m\u001b[0;34m)\u001b[0m\u001b[0;34m\u001b[0m\u001b[0m\n\u001b[1;32m      5\u001b[0m \u001b[0mplt\u001b[0m\u001b[0;34m.\u001b[0m\u001b[0mylabel\u001b[0m\u001b[0;34m(\u001b[0m\u001b[0;34m\"Percentage of perfect predictor\"\u001b[0m\u001b[0;34m)\u001b[0m\u001b[0;34m\u001b[0m\u001b[0m\n",
      "\u001b[0;31mNameError\u001b[0m: name 'plt' is not defined"
     ]
    }
   ],
   "source": [
    "#plt.plot(alphas, perfect, color=\"blue\", label=\"perfect predictor\")\n",
    "plt.plot(alphas, (np.array(nn_by_alpha)/20000)*100, color=\"orange\", label=\"nn predictor\")\n",
    "plt.plot(alphas, (np.array(historical_by_alpha)/20000)*100, color=\"green\", label=\"historical predictor\")\n",
    "plt.xlabel(\"Alpha\")\n",
    "plt.ylabel(\"Percentage of perfect predictor\")\n",
    "#plt.ylim(80,100)\n",
    "plt.xlim(0.9, 1)\n",
    "#plt.axvline(x=0.9988)\n",
    "plt.legend()"
   ]
  },
  {
   "cell_type": "code",
   "execution_count": null,
   "metadata": {
    "collapsed": true
   },
   "outputs": [],
   "source": []
  },
  {
   "cell_type": "code",
   "execution_count": 65,
   "metadata": {},
   "outputs": [
    {
     "data": {
      "text/plain": [
       "array([249.88909093, 248.70542643, 247.53991739, 246.40187252,\n",
       "       245.26557466, 244.1176187 , 242.96030237, 241.81014229,\n",
       "       240.66317493, 239.51545449, 238.38006868, 237.22752628,\n",
       "       236.0811546 , 234.94072329, 233.79810296, 232.67254262,\n",
       "       231.54755632, 230.41701493, 229.27281633, 228.13402882,\n",
       "       227.00066893, 225.85164095, 224.6951766 , 223.5364547 ,\n",
       "       222.36024163, 221.15765479, 219.94471586, 218.72085253,\n",
       "       217.49800152, 216.2607742 , 215.00374555, 213.74481486,\n",
       "       212.48391755, 211.20301108, 209.93531542, 208.69043356,\n",
       "       207.42421406, 206.15111644, 204.89534741, 203.64868856,\n",
       "       202.38150429, 201.08911674, 199.76312946, 198.44603246,\n",
       "       197.12473945, 195.81352429, 194.50985728, 193.1995915 ,\n",
       "       191.87215642, 190.52941743, 189.18047   , 187.85001662,\n",
       "       186.54161169, 185.19123631, 183.81997632, 182.44507711,\n",
       "       181.02232936, 179.56681436, 178.10344512, 176.58058759,\n",
       "       175.01847476, 173.4760858 , 171.92417863, 170.34370168,\n",
       "       168.74535693, 167.16346663, 165.56226388, 163.92469849,\n",
       "       162.27784192, 160.63571059, 158.96569718, 157.26798959,\n",
       "       155.55589163, 153.83697181, 152.09994637, 150.31817443,\n",
       "       148.52672872, 146.66040346, 144.75180272, 142.77535638,\n",
       "       140.7943804 , 138.79987037, 136.76676489, 134.67329627,\n",
       "       132.52088872, 130.34593763, 128.14141012, 125.88457766,\n",
       "       123.59661807, 121.3218024 , 118.9574742 , 116.60464272,\n",
       "       114.22097191, 111.7481897 , 109.19663833, 106.53791696,\n",
       "       103.72326111, 100.88756973,  98.04162041,  95.11333147,\n",
       "        92.11923749,  89.00795812,  85.81968153,  82.5650838 ,\n",
       "        79.27036833,  75.95335116,  72.60219496,  69.2225409 ,\n",
       "        65.83910183,  62.38991632,  58.88533778,  55.29782722,\n",
       "        51.65365805,  47.92925364,  44.13974887,  40.58001146,\n",
       "        39.60512864,  38.78440846,  38.01570102,  37.38827997,\n",
       "        36.85412247,  36.42739713,  36.08411207,  35.8473395 ,\n",
       "        35.65266662,  35.49150024,  35.35333676,  35.21713238,\n",
       "        35.21916582,  35.42757079,  35.88458012,  36.61303779,\n",
       "        37.75355901,  39.32376427,  41.29042625,  43.90796152,\n",
       "        47.18851861,  43.82731034,  40.18442665,  36.49275271,\n",
       "        32.89408278,  29.27642809,  25.54491062,  21.68427919,\n",
       "        17.75038052,  13.79908676,   9.8196347 ,   5.64383562,\n",
       "         1.26712329,  -3.10958904])"
      ]
     },
     "execution_count": 65,
     "metadata": {},
     "output_type": "execute_result"
    }
   ],
   "source": [
    "np.array(nn_by_alpha) - np.array(historical_by_alpha)"
   ]
  },
  {
   "cell_type": "code",
   "execution_count": 28,
   "metadata": {},
   "outputs": [
    {
     "data": {
      "text/plain": [
       "array([0.85 , 0.855, 0.86 , 0.865, 0.87 , 0.875, 0.88 , 0.885, 0.89 ,\n",
       "       0.895, 0.9  , 0.905, 0.91 , 0.915, 0.92 , 0.925, 0.93 , 0.935,\n",
       "       0.94 , 0.945, 0.95 , 0.955, 0.96 , 0.965, 0.97 , 0.975, 0.98 ,\n",
       "       0.985, 0.99 , 0.995])"
      ]
     },
     "execution_count": 28,
     "metadata": {},
     "output_type": "execute_result"
    }
   ],
   "source": [
    "alphas"
   ]
  },
  {
   "cell_type": "code",
   "execution_count": null,
   "metadata": {
    "collapsed": true
   },
   "outputs": [],
   "source": []
  }
 ],
 "metadata": {
  "kernelspec": {
   "display_name": "Python [default]",
   "language": "python",
   "name": "python3"
  },
  "language_info": {
   "codemirror_mode": {
    "name": "ipython",
    "version": 3
   },
   "file_extension": ".py",
   "mimetype": "text/x-python",
   "name": "python",
   "nbconvert_exporter": "python",
   "pygments_lexer": "ipython3",
   "version": "3.6.3"
  }
 },
 "nbformat": 4,
 "nbformat_minor": 2
}
