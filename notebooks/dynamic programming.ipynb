{
 "cells": [
  {
   "cell_type": "code",
   "execution_count": 10,
   "metadata": {},
   "outputs": [],
   "source": [
    "import numpy as np\n",
    "import matplotlib.pyplot as plt\n",
    "from scipy.stats import *"
   ]
  },
  {
   "cell_type": "code",
   "execution_count": 11,
   "metadata": {},
   "outputs": [],
   "source": [
    "def util(x):\n",
    "    return(np.log(1 + x))\n",
    "\n",
    "def prob_t_is_max(max_so_far, t, T):\n",
    "    coeff = 1.0/(T - t)\n",
    "    prod = (1.0 - np.power(norm.cdf(max_so_far), T-t))\n",
    "    return(coeff*prod)\n",
    "\n",
    "def prob_any_next_t_is_max(max_so_far, t, T):\n",
    "    prod = (1.0 - np.power(norm.cdf(max_so_far), T-t))\n",
    "    return(prod)\n",
    "\n",
    "def opt_util(p_t, pi_cp, xbar=1.0):\n",
    "    #g(x) = log(1 + x), x in [0,xbar]\n",
    "    x = (1.0/(pi_cp * p_t)) - 1.0\n",
    "    if x > xbar:\n",
    "        x = xbar\n",
    "    if x < 0:\n",
    "        x = 0\n",
    "    return(x)"
   ]
  },
  {
   "cell_type": "code",
   "execution_count": null,
   "metadata": {},
   "outputs": [],
   "source": [
    "T = 10\n",
    "ramp_const = 0.1\n",
    "system_noise_var = 1.0\n",
    "x_bar = 1.0\n",
    "pi_cp = 2.0\n",
    "\n",
    "max_so_far = 0\n",
    "\n",
    "for t in range(T):\n",
    "    p_t = prob_t_is_max(max_so_far, t, T)\n",
    "    opt = opt_util \n",
    "    "
   ]
  },
  {
   "cell_type": "code",
   "execution_count": 53,
   "metadata": {},
   "outputs": [
    {
     "name": "stdout",
     "output_type": "stream",
     "text": [
      "0\n"
     ]
    }
   ],
   "source": [
    "#T = 3\n",
    "\n",
    "MC = 100\n",
    "max_s_f = 0\n",
    "noise_var = 1.0\n",
    "g = np.arange(0,1.0,0.05)\n",
    "ramp_const = 0.5\n",
    "pi_cp = 1.2\n",
    "\n",
    "\n",
    "RT_mc = []\n",
    "r1_mc = []\n",
    "r1s_mc = np.zeros((20,20,20))\n",
    "r2_mc = []\n",
    "r3_mc = []\n",
    "\n",
    "for i in range(MC):\n",
    "    \n",
    "    #initialize max_s_f\n",
    "    max_s_f = 0.0\n",
    "    \n",
    "    if i%100 == 0:\n",
    "        print(i)\n",
    "    #g(x) = log(1 + x)\n",
    "    #step one\n",
    "    p = (1.0/3.0)*prob_any_next_t_is_max(max_s_f, 0, 3)\n",
    "    max_r1 = 0.0\n",
    "    max_r1_p = [0.0, 0.0, 0.0]\n",
    "    for i in range(g.shape[0]):\n",
    "        for j in range(g.shape[0]):\n",
    "            for k in range(g.shape[0]):\n",
    "                point = [g[i], g[j], g[k]]\n",
    "                x1 = point[0]\n",
    "                x2 = point[1]\n",
    "                x3 = point[2]\n",
    "                if np.abs(g[i] - g[j]) > ramp_const:\n",
    "                    pass\n",
    "                elif np.abs(g[j] - g[k]) > ramp_const:\n",
    "                    pass\n",
    "                else:\n",
    "                    r1 = np.log(1 + x1) + np.log(1 + x2) + np.log(1 + x3) - pi_cp*p*(x1 + x2 + x3)\n",
    "                    if r1 > max_r1:\n",
    "                        max_r1 = r1\n",
    "                        max_r1_p = point\n",
    "                    r1s_mc[i,j,k] = r1\n",
    "    s_1 = np.random.normal(0,1)\n",
    "    max_s_f = s_1\n",
    "    #if s_1 > max_s_f:  #do we update no matter what s_1 is or do we keep it at 0?\n",
    "    #    max_s_f = s_1\n",
    "                    \n",
    "    #step two\n",
    "    x1star = max_r1_p[0]\n",
    "    p = (1.0/2.0)*prob_any_next_t_is_max(max_s_f, 1, 3)\n",
    "    max_r2 = 0.0\n",
    "    max_r2_p = [x1star, 0.0, 0.0]\n",
    "    for j in range(g.shape[0]):\n",
    "        for k in range(g.shape[0]):\n",
    "            point = [x1star, g[j], g[k]]\n",
    "            x2 = point[1]\n",
    "            x3 = point[2]\n",
    "            if np.abs(x1star - g[j]) > ramp_const:\n",
    "                pass\n",
    "            elif np.abs(g[j] - g[k]) > ramp_const:\n",
    "                pass\n",
    "            else:\n",
    "                r2 = np.log(1 + x1star) + np.log(1 + x2) + np.log(1 + x3) - pi_cp*((1 - 2*p)*x1star + p*x2 + p*x3)\n",
    "                if r2 > max_r2:\n",
    "                    max_r2 = r2\n",
    "                    max_r2_p = point\n",
    "    s_2 = np.random.normal(0,1)\n",
    "    if s_2 > max_s_f:\n",
    "        max_s_f = s_2\n",
    "    r2_mc.append(r2)\n",
    "    \n",
    "    #step three\n",
    "    x2star = max_r2_p[1]\n",
    "    plays_so_far = [x1star, x2star]\n",
    "    max_noise_t = np.argmax([s_1, s_2])\n",
    "    p = prob_any_next_t_is_max(max_s_f, 2, 3)\n",
    "    max_r3 = 0.0\n",
    "    max_r3_p = [x1star, x2star, 0.0]\n",
    "    for k in range(g.shape[0]):\n",
    "        point = [x1star, x2star, g[k]]\n",
    "        x3 = point[2]\n",
    "        if np.abs(x2star - g[k]) > ramp_const:\n",
    "            pass\n",
    "        else:\n",
    "            r3 = np.log(1 + x1star) + np.log(1 + x2star) + np.log(1 + x3) - pi_cp*((1 - p)*plays_so_far[max_noise_t] + p*x3 )\n",
    "            if r3 > max_r3:\n",
    "                max_r3 = r3\n",
    "                max_r3_p = point\n",
    "    s_3 = np.random.normal(0,1)\n",
    "    if s_3 > max_s_f:\n",
    "        max_s_f = s_3\n",
    "    r3_mc.append(r3)\n",
    "    \n",
    "    x3star = max_r3_p[2]\n",
    "    plays_so_far.append(x3star)\n",
    "    s = [s_1, s_2, s_3]\n",
    "    max_noise_t = np.argmax(s)\n",
    "    \n",
    "    R = np.log(1 + x1star) + np.log(1 + x2star) + np.log(1 + x3star) - pi_cp*(plays_so_far[max_noise_t])\n",
    "    RT_mc.append(R)\n",
    "                    \n",
    "    "
   ]
  },
  {
   "cell_type": "code",
   "execution_count": null,
   "metadata": {},
   "outputs": [],
   "source": []
  },
  {
   "cell_type": "code",
   "execution_count": 55,
   "metadata": {},
   "outputs": [
    {
     "data": {
      "text/plain": [
       "0.5061554953692631"
      ]
     },
     "execution_count": 55,
     "metadata": {},
     "output_type": "execute_result"
    }
   ],
   "source": [
    "np.min(RT_mc)"
   ]
  },
  {
   "cell_type": "code",
   "execution_count": 56,
   "metadata": {},
   "outputs": [
    {
     "data": {
      "text/plain": [
       "1.1672223015837941"
      ]
     },
     "execution_count": 56,
     "metadata": {},
     "output_type": "execute_result"
    }
   ],
   "source": [
    "np.max(RT_mc)"
   ]
  },
  {
   "cell_type": "code",
   "execution_count": 57,
   "metadata": {},
   "outputs": [
    {
     "data": {
      "text/plain": [
       "0.8897228531522804"
      ]
     },
     "execution_count": 57,
     "metadata": {},
     "output_type": "execute_result"
    }
   ],
   "source": [
    "np.mean(RT_mc)"
   ]
  },
  {
   "cell_type": "code",
   "execution_count": null,
   "metadata": {},
   "outputs": [],
   "source": []
  }
 ],
 "metadata": {
  "kernelspec": {
   "display_name": "Python 3",
   "language": "python",
   "name": "python3"
  },
  "language_info": {
   "codemirror_mode": {
    "name": "ipython",
    "version": 3
   },
   "file_extension": ".py",
   "mimetype": "text/x-python",
   "name": "python",
   "nbconvert_exporter": "python",
   "pygments_lexer": "ipython3",
   "version": "3.7.1"
  }
 },
 "nbformat": 4,
 "nbformat_minor": 2
}
