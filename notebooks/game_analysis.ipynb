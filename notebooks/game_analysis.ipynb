{
 "cells": [
  {
   "cell_type": "code",
   "execution_count": 4,
   "metadata": {},
   "outputs": [
    {
     "data": {
      "text/html": [
       "\n",
       "<style>\n",
       "    div#notebook-container    { width: 95%; }\n",
       "    div#menubar-container     { width: 65%; }\n",
       "    div#maintoolbar-container { width: 99%; }\n",
       "</style>\n"
      ],
      "text/plain": [
       "<IPython.core.display.HTML object>"
      ]
     },
     "metadata": {},
     "output_type": "display_data"
    }
   ],
   "source": [
    "from IPython.display import display, HTML\n",
    "\n",
    "display(HTML(data=\"\"\"\n",
    "<style>\n",
    "    div#notebook-container    { width: 95%; }\n",
    "    div#menubar-container     { width: 65%; }\n",
    "    div#maintoolbar-container { width: 99%; }\n",
    "</style>\n",
    "\"\"\"))"
   ]
  },
  {
   "cell_type": "code",
   "execution_count": 5,
   "metadata": {
    "collapsed": true
   },
   "outputs": [],
   "source": [
    "import sys\n",
    "import os\n",
    "import numpy as np\n",
    "import scipy as sp\n",
    "import pickle\n",
    "import matplotlib.pyplot as plt\n",
    "import datetime\n",
    "import pandas as pd\n",
    "import seaborn\n",
    "import random\n",
    "from sklearn import preprocessing\n",
    "from sklearn.metrics import *\n",
    "import datetime\n",
    "from scipy import stats\n",
    "\n",
    "from cvxpy import *"
   ]
  },
  {
   "cell_type": "markdown",
   "metadata": {},
   "source": [
    "The Don\n",
    "\n",
    "A group of mobsters and their leader just robbed a bank and are short on time before\n",
    "the police arrive in time $T$. To divide the loot, they each simulatenously take any amount $p_t$ \n",
    "up to some maximum for some number of rounds $T$, for which they receive concave utility $g(p_t)$.\n",
    "While supervising the heist, the Don reminds the mobsters who's in charge by collecting\n",
    "a hefty fee from each mobster on the round when the gange collectively take the most money.\n",
    "\n",
    "The fee for mobster $i$ is equal to $d * p_{t, i}$. The goal for each mobster is to maximize\n",
    "$\\sum_{t} g(p_{t})$. What is the optimal strategy? What happens when $d*p_{t,i} < g(p_{t})$, \n",
    "$d*p_{t,i} > g(p_{t})$, and $d*p_{t,i} >> g(p_{t})$?"
   ]
  },
  {
   "cell_type": "code",
   "execution_count": 273,
   "metadata": {
    "collapsed": true
   },
   "outputs": [],
   "source": [
    "rounds = 100\n",
    "players = 5\n",
    "max_draw = 1\n",
    "\n",
    "def log_utility(draw):\n",
    "    return(np.log(draw + 1))\n",
    "\n",
    "def fix_strategy(draw=max_draw):\n",
    "    return(draw)\n",
    "\n",
    "def uniform_noisy_strategy(draw=max_draw, noise_factor=0.1):\n",
    "    dout = draw - np.random.uniform(0,noise_factor)\n",
    "    return(dout)\n",
    "\n",
    "def uniform_random_strategy(draw=max_draw):\n",
    "    return(np.random.uniform(0,draw))\n",
    "    "
   ]
  },
  {
   "cell_type": "code",
   "execution_count": 3,
   "metadata": {},
   "outputs": [
    {
     "name": "stdout",
     "output_type": "stream",
     "text": [
      "0 5\n",
      "{0: 90, 1: 90, 2: 90, 3: 90, 4: 90}\n"
     ]
    }
   ],
   "source": [
    "#all fixed_strategy\n",
    "#d is large\n",
    "#linear utility\n",
    "\n",
    "#fixed max is a stable equillibrium because\n",
    "#if any player takes less than max, that's not\n",
    "#the peak, and therefore they receive less\n",
    "\n",
    "d = 10 #0.5, 1, 10, 80\n",
    "\n",
    "player_rewards = {}\n",
    "for p in range(players):\n",
    "    player_rewards[p] = []\n",
    "\n",
    "pool = 100000 #larger than any possible total game draw\n",
    "\n",
    "#play game\n",
    "round_sizes = []\n",
    "for r in range(rounds):\n",
    "    round_size = 0\n",
    "    for p in range(players):\n",
    "        draw = fix_strategy()\n",
    "        player_rewards[p].append(draw)\n",
    "        round_size += draw\n",
    "        pool -= draw\n",
    "    round_sizes.append(round_size)\n",
    "\n",
    "#run mafia tax\n",
    "print(np.argmax(round_sizes), np.max(round_sizes))\n",
    "end_player_rewards = {}\n",
    "for p in range(players):\n",
    "    end_player_rewards[p] = 0\n",
    "\n",
    "for p in range(players):\n",
    "    tax = d * player_rewards[p][np.argmax(round_sizes)]\n",
    "    end_player_rewards[p] = np.sum(player_rewards[p]) - tax\n",
    "\n",
    "print(end_player_rewards)"
   ]
  },
  {
   "cell_type": "code",
   "execution_count": 21,
   "metadata": {},
   "outputs": [
    {
     "name": "stdout",
     "output_type": "stream",
     "text": [
      "86 4.999956033577068\n",
      "{0: 49.50868757669949, 1: 50, 2: 50, 3: 50, 4: 50}\n"
     ]
    }
   ],
   "source": [
    "#one noisy player\n",
    "#d is large\n",
    "#linear utility\n",
    "\n",
    "d = 50 #0.5, 1, 10, 80\n",
    "\n",
    "player_rewards = {}\n",
    "for p in range(players):\n",
    "    player_rewards[p] = []\n",
    "\n",
    "pool = 2 * rounds * players * max_draw #larger than any possible total game draw\n",
    "\n",
    "#play game\n",
    "round_sizes = []\n",
    "for r in range(rounds):\n",
    "    round_size = 0\n",
    "    for p in range(players):\n",
    "        if p == 0:\n",
    "            draw = uniform_noisy_strategy(noise_factor=0.01)\n",
    "            player_rewards[p].append(draw)\n",
    "        else:\n",
    "            draw = fix_strategy()\n",
    "            player_rewards[p].append(draw)\n",
    "        round_size += draw\n",
    "        pool -= draw\n",
    "    round_sizes.append(round_size)\n",
    "\n",
    "#run mafia tax\n",
    "print(np.argmax(round_sizes), np.max(round_sizes))\n",
    "end_player_rewards = {}\n",
    "for p in range(players):\n",
    "    end_player_rewards[p] = 0\n",
    "\n",
    "for p in range(players):\n",
    "    tax = d * player_rewards[p][np.argmax(round_sizes)]\n",
    "    end_player_rewards[p] = np.sum(player_rewards[p]) - tax\n",
    "\n",
    "print(end_player_rewards)"
   ]
  },
  {
   "cell_type": "code",
   "execution_count": null,
   "metadata": {
    "collapsed": true
   },
   "outputs": [],
   "source": []
  },
  {
   "cell_type": "code",
   "execution_count": 24,
   "metadata": {},
   "outputs": [
    {
     "name": "stdout",
     "output_type": "stream",
     "text": [
      "{0: 9.510289135942758, 1: 9.60380807210543, 2: 9.786756859141825, 3: 9.263393519864092, 4: 9.29197150286795}\n"
     ]
    }
   ],
   "source": [
    "#all random players\n",
    "#d is large\n",
    "#linear utility\n",
    "\n",
    "#play many games to see expected reward\n",
    "\n",
    "MC = 1000\n",
    "all_game_rewards = {}\n",
    "for p in range(players):\n",
    "    all_game_rewards[p] = []\n",
    "    \n",
    "for i in range(MC):\n",
    "    d = 50 #0.5, 1, 10, 80\n",
    "\n",
    "    player_rewards = {}\n",
    "    for p in range(players):\n",
    "        player_rewards[p] = []\n",
    "\n",
    "    pool = 2 * rounds * players * max_draw #larger than any possible total game draw\n",
    "\n",
    "    #play game\n",
    "    round_sizes = []\n",
    "    for r in range(rounds):\n",
    "        round_size = 0\n",
    "        for p in range(players):\n",
    "            draw = uniform_random_strategy()\n",
    "            round_size += draw\n",
    "            pool -= draw\n",
    "            player_rewards[p].append(draw)\n",
    "        round_sizes.append(round_size)\n",
    "\n",
    "    #run mafia tax\n",
    "    #print(np.argmax(round_sizes), np.max(round_sizes))\n",
    "    end_player_rewards = {}\n",
    "    for p in range(players):\n",
    "        end_player_rewards[p] = 0\n",
    "\n",
    "    for p in range(players):\n",
    "        tax = d * player_rewards[p][np.argmax(round_sizes)]\n",
    "        all_game_rewards[p].append( np.sum(player_rewards[p]) - tax )\n",
    "\n",
    "expected_rewards = {}\n",
    "for p in range(players):\n",
    "    expected_rewards[p] = np.mean(all_game_rewards[p])\n",
    "    \n",
    "print(expected_rewards)"
   ]
  },
  {
   "cell_type": "code",
   "execution_count": 38,
   "metadata": {},
   "outputs": [
    {
     "name": "stdout",
     "output_type": "stream",
     "text": [
      "{0: 50.0, 1: 8.009807612653564, 2: 8.05079454749581, 3: 7.854265378944513, 4: 7.5962878061334305}\n"
     ]
    }
   ],
   "source": [
    "#one fixed player\n",
    "#d is large\n",
    "#linear utility\n",
    "\n",
    "#play many games to see expected reward\n",
    "\n",
    "MC = 1000\n",
    "all_game_rewards = {}\n",
    "for p in range(players):\n",
    "    all_game_rewards[p] = []\n",
    "    \n",
    "for i in range(MC):\n",
    "    d = 50 #0.5, 1, 10, 80\n",
    "\n",
    "    player_rewards = {}\n",
    "    for p in range(players):\n",
    "        player_rewards[p] = []\n",
    "\n",
    "    pool = 2 * rounds * players * max_draw #larger than any possible total game draw\n",
    "\n",
    "    #play game\n",
    "    round_sizes = []\n",
    "    for r in range(rounds):\n",
    "        round_size = 0\n",
    "        for p in range(players):\n",
    "            if p == 0:\n",
    "                draw = fix_strategy()\n",
    "                player_rewards[p].append(draw)\n",
    "            else:\n",
    "                draw = uniform_random_strategy()\n",
    "                player_rewards[p].append(draw)\n",
    "            round_size += draw\n",
    "            pool -= draw\n",
    "            \n",
    "        round_sizes.append(round_size)\n",
    "\n",
    "    #run mafia tax\n",
    "    #print(np.argmax(round_sizes), np.max(round_sizes))\n",
    "    end_player_rewards = {}\n",
    "    for p in range(players):\n",
    "        end_player_rewards[p] = 0\n",
    "\n",
    "    for p in range(players):\n",
    "        tax = d * player_rewards[p][np.argmax(round_sizes)]\n",
    "        all_game_rewards[p].append( np.sum(player_rewards[p]) - tax )\n",
    "\n",
    "expected_rewards = {}\n",
    "for p in range(players):\n",
    "    expected_rewards[p] = np.mean(all_game_rewards[p])\n",
    "    \n",
    "print(expected_rewards)"
   ]
  },
  {
   "cell_type": "code",
   "execution_count": 49,
   "metadata": {},
   "outputs": [
    {
     "name": "stdout",
     "output_type": "stream",
     "text": [
      "{0: 19.31471805599454, 1: -3.2787719320539956, 2: -3.8346351660434284, 3: -3.7472303413863224, 4: -3.4775634119773744}\n"
     ]
    },
    {
     "data": {
      "text/plain": [
       "68.62157087543459"
      ]
     },
     "execution_count": 49,
     "metadata": {},
     "output_type": "execute_result"
    }
   ],
   "source": [
    "#one fixed player\n",
    "#d is large\n",
    "#concave utility\n",
    "\n",
    "#play many games to see expected reward\n",
    "\n",
    "MC = 1000\n",
    "all_game_rewards = {}\n",
    "for p in range(players):\n",
    "    all_game_rewards[p] = []\n",
    "    \n",
    "for i in range(MC):\n",
    "    d = 50 #0.5, 1, 10, 80\n",
    "\n",
    "    player_draws = {}\n",
    "    for p in range(players):\n",
    "        player_draws[p] = []\n",
    "\n",
    "    pool = 2 * rounds * players * max_draw #larger than any possible total game draw\n",
    "\n",
    "    #play game\n",
    "    round_sizes = []\n",
    "    for r in range(rounds):\n",
    "        round_size = 0\n",
    "        for p in range(players):\n",
    "            if p == 0:\n",
    "                draw = fix_strategy()\n",
    "                player_draws[p].append(draw)\n",
    "            else:\n",
    "                draw = uniform_random_strategy()\n",
    "                player_draws[p].append(draw)\n",
    "            round_size += draw\n",
    "            pool -= draw\n",
    "            \n",
    "        round_sizes.append(round_size)\n",
    "\n",
    "    #run mafia tax\n",
    "    #print(np.argmax(round_sizes), np.max(round_sizes))\n",
    "    end_player_rewards = {}\n",
    "    for p in range(players):\n",
    "        end_player_rewards = 0\n",
    "\n",
    "    for p in range(players):\n",
    "        tax = d * player_draws[p][np.argmax(round_sizes)]\n",
    "        all_game_rewards[p].append( np.sum(log_utility(np.asarray(player_draws[p]))) - tax )\n",
    "\n",
    "expected_rewards = {}\n",
    "for p in range(players):\n",
    "    expected_rewards[p] = np.mean(all_game_rewards[p])\n",
    "    \n",
    "print(expected_rewards)\n",
    "\n",
    "#calculate what perfect post hoc could have been\n",
    "np.sum(log_utility(np.asarray([max_draw for i in range(rounds - 1)])))"
   ]
  },
  {
   "cell_type": "code",
   "execution_count": 65,
   "metadata": {},
   "outputs": [
    {
     "name": "stdout",
     "output_type": "stream",
     "text": [
      "{0: 19.31471805599454, 1: 19.023417264465163, 2: -5.575102726654444, 3: -5.626926631698089, 4: -5.6333863330697005}\n"
     ]
    },
    {
     "data": {
      "text/plain": [
       "68.62157087543459"
      ]
     },
     "execution_count": 65,
     "metadata": {},
     "output_type": "execute_result"
    }
   ],
   "source": [
    "#one fixed player\n",
    "#one noisy player\n",
    "#d is large\n",
    "#concave utility\n",
    "\n",
    "#play many games to see expected reward\n",
    "\n",
    "MC = 1000\n",
    "all_game_rewards = {}\n",
    "for p in range(players):\n",
    "    all_game_rewards[p] = []\n",
    "    \n",
    "for i in range(MC):\n",
    "    d = 50 #0.5, 1, 10, 80\n",
    "\n",
    "    player_draws = {}\n",
    "    for p in range(players):\n",
    "        player_draws[p] = []\n",
    "\n",
    "    pool = 2 * rounds * players * max_draw #larger than any possible total game draw\n",
    "\n",
    "    #play game\n",
    "    round_sizes = []\n",
    "    for r in range(rounds):\n",
    "        round_size = 0\n",
    "        for p in range(players):\n",
    "            if p == 0:\n",
    "                draw = fix_strategy()\n",
    "                player_draws[p].append(draw)\n",
    "            elif p == 1:\n",
    "                draw = uniform_noisy_strategy(noise_factor=0.1)\n",
    "                player_draws[p].append(draw)\n",
    "            else:\n",
    "                draw = uniform_random_strategy()\n",
    "                player_draws[p].append(draw)\n",
    "            round_size += draw\n",
    "            pool -= draw\n",
    "            \n",
    "        round_sizes.append(round_size)\n",
    "\n",
    "    #run mafia tax\n",
    "    #print(np.argmax(round_sizes), np.max(round_sizes))\n",
    "    end_player_rewards = {}\n",
    "    for p in range(players):\n",
    "        end_player_rewards = 0\n",
    "\n",
    "    for p in range(players):\n",
    "        tax = d * player_draws[p][np.argmax(round_sizes)]\n",
    "        all_game_rewards[p].append( np.sum(log_utility(np.asarray(player_draws[p]))) - tax )\n",
    "\n",
    "expected_rewards = {}\n",
    "for p in range(players):\n",
    "    expected_rewards[p] = np.mean(all_game_rewards[p])\n",
    "    \n",
    "print(expected_rewards)\n",
    "\n",
    "#calculate what perfect post hoc could have been\n",
    "np.sum(log_utility(np.asarray([max_draw for i in range(rounds - 1)])))"
   ]
  },
  {
   "cell_type": "markdown",
   "metadata": {},
   "source": [
    "So really it seems like it boils down to who has the most flexibility to outplay those who have the least. Need to import data on distribution of sizes of players and do some analysis to see what the \"play\" room looks like.\n",
    "\n",
    "This game is as if I lined up all the hours that have the potential to be the CP back to back, but each hour isn't the same. All the action occurs in the play room. Even in the room between what would have been the CP and next closest system peak, if everyone backs out then the play room is exceeded and another hour becomes the system peak and every player is again subject to CP costs. The competitive version of the game means every player should still take the max to make up for all the possible lost utility because whoever blinks loses utility and some other hour is still the CP.\n",
    "\n",
    "The best version of the game is then cooperative. In the cooperative game each player reduces as much as possible without exceeding gap between CP and next closest, they ensure maximum utility and minimum CP bill."
   ]
  },
  {
   "cell_type": "code",
   "execution_count": 12,
   "metadata": {},
   "outputs": [
    {
     "data": {
      "text/plain": [
       "0.5"
      ]
     },
     "execution_count": 12,
     "metadata": {},
     "output_type": "execute_result"
    }
   ],
   "source": [
    "\n",
    "\n",
    "#stats.norm.cdf(X in P(x < X), mean, std)"
   ]
  },
  {
   "cell_type": "code",
   "execution_count": 6,
   "metadata": {
    "collapsed": true
   },
   "outputs": [],
   "source": [
    "#single player game with noise, two rounds\n",
    "\n",
    "alphas = np.arange(0.01, 0.5, 0.01) #different action tolerances to test\n",
    "R_p_alpha = []\n",
    "\n",
    "for a in alphas:\n",
    "    d = 1.2 #1 < d < T = 2\n",
    "    p_max = 1.0 \n",
    "    p_1 = p_max\n",
    "    T = 2\n",
    "    eps = a #tolerance for curtailment action\n",
    "    delta = 0.01 #increase play by this amount + noise gap\n",
    "    inc = 0.01 #search increment when determining maximum amount able to curtail by\n",
    "    std = 1 #noise standard deviation\n",
    "\n",
    "    MC_rounds = 1000\n",
    "    MC_rewards = []\n",
    "\n",
    "    for mc in range(MC_rounds):\n",
    "        z_1 = np.random.normal(0,std)\n",
    "        z_2 = np.random.normal(0,std)\n",
    "        true_gap = z_2 - z_1\n",
    "        target_gap = z_1 + delta\n",
    "\n",
    "        #what's the probability that the round 2 gap is greater than 0\n",
    "        prb_zero = 1.0 - stats.norm.cdf(0, -1.0*z_1, std)\n",
    "\n",
    "        if prb_zero > (1.0 - eps):\n",
    "            x = 0\n",
    "            n_prb = prb_zero\n",
    "            while n_prb > (1.0 - eps):\n",
    "                n_prb = 1.0 - stats.norm.cdf(x, -1.0*z_1, std)\n",
    "                if n_prb <= (1.0 - eps):\n",
    "                    break\n",
    "                x += inc\n",
    "            p_2 = p_max - (x + delta)\n",
    "        else:\n",
    "            p_2 = p_max\n",
    "\n",
    "        #compute MC round reward\n",
    "        #determine largest round\n",
    "        s_1 = p_1 + z_1\n",
    "        s_2 = p_2 + z_2\n",
    "        rounds = np.array([p_1, p_2])\n",
    "        sys_rounds = np.array([s_1, s_2])\n",
    "        p_c = rounds[np.argmax(sys_rounds)]\n",
    "        R_m = p_1 + p_2 - (d * p_c)\n",
    "        MC_rewards.append(R_m)\n",
    "     \n",
    "    #compute expected reward under curtailment\n",
    "    R_p = np.mean(np.asarray(MC_rewards))\n",
    "    R_p_alpha.append(R_p)\n"
   ]
  },
  {
   "cell_type": "code",
   "execution_count": 7,
   "metadata": {
    "collapsed": true
   },
   "outputs": [],
   "source": [
    "#compute fixed strategy reward\n",
    "R_f = T * p_max - d * p_max\n",
    "\n",
    "R_f_rep = [R_f for i in range(len(R_p_alpha))]"
   ]
  },
  {
   "cell_type": "code",
   "execution_count": 9,
   "metadata": {},
   "outputs": [
    {
     "data": {
      "image/png": "[encoded data removed]",
      "text/plain": [
       "<matplotlib.figure.Figure at 0x7fdabbaae6a0>"
      ]
     },
     "metadata": {},
     "output_type": "display_data"
    }
   ],
   "source": [
    "plt.plot(1.0 - alphas, R_p_alpha, color=\"orange\", label=\"curtailment\")\n",
    "#plt.plot(R_p_alpha, color=\"orange\", label=\"curtailment\")\n",
    "plt.plot(1.0 - alphas, R_f_rep, color=\"blue\", label=\"fixed max\")\n",
    "#plt.plot(R_f_rep, color=\"blue\", label=\"fixed max\")\n",
    "plt.xlabel(\"Curtailment probability threshold\")\n",
    "plt.ylabel(\"reward\")\n",
    "plt.title(\"2 round, single player with IID noise, 1000 trials\")\n",
    "plt.legend(loc=4)\n",
    "plt.xlim(0.7,1)\n",
    "#plt.ylim(0.76,0.81)\n",
    "plt.show()"
   ]
  },
  {
   "cell_type": "code",
   "execution_count": 31,
   "metadata": {},
   "outputs": [
    {
     "data": {
      "text/plain": [
       "2.866515719235352e-07"
      ]
     },
     "execution_count": 31,
     "metadata": {},
     "output_type": "execute_result"
    }
   ],
   "source": [
    "1.0 - stats.norm.cdf(5,0,1)"
   ]
  },
  {
   "cell_type": "code",
   "execution_count": 242,
   "metadata": {
    "collapsed": true
   },
   "outputs": [],
   "source": [
    "def find_prob_max(beta, T):\n",
    "    prob = (1 - beta)*np.exp(-1.0 * T)\n",
    "    return(True)\n",
    "\n",
    "def prob_next_t_is_max(max_z, t, T, std=1):\n",
    "    p1 = 1.0/(T - t)\n",
    "    p2 = 1.0 - np.power(stats.norm.cdf(max_z,0,std),(T - t))\n",
    "    return(p1 * p2)\n",
    "    \n",
    "def prob_any_next_is_max(max_z, t, T, std=1): \n",
    "    return(1.0 - np.power(stats.norm.cdf(max_z,0,std),(T - t)))\n",
    "    \n",
    "def prob_next_is_max(max_z, std=1):\n",
    "    return(1.0 - stats.norm.cdf(max_z,0,std))\n",
    "\n",
    "def optimal_log_util(p_t, pi_cp):\n",
    "    #for g(p) = log(p + 1)\n",
    "    return( (1 - p_t*pi_cp) / (p_t*pi_cp) )"
   ]
  },
  {
   "cell_type": "code",
   "execution_count": 308,
   "metadata": {},
   "outputs": [
    {
     "data": {
      "image/png": "[encoded data removed]",
      "text/plain": [
       "<matplotlib.figure.Figure at 0x7f50c4629e10>"
      ]
     },
     "metadata": {},
     "output_type": "display_data"
    }
   ],
   "source": [
    "seq_len = 10\n",
    "noise_var = 1.0\n",
    "max_so_far = -np.inf\n",
    "system_vals = []\n",
    "probs = []\n",
    "\n",
    "for i in range(seq_len):\n",
    "    s_t = np.random.normal(0,noise_var)\n",
    "    system_vals.append(s_t)\n",
    "    if s_t > max_so_far:\n",
    "        max_so_far = s_t\n",
    "    p_t = prob_next_t_is_max(max_so_far, i, seq_len, noise_var)\n",
    "    probs.append(p_t)\n",
    "    \n",
    "plt.plot(probs)\n",
    "plt.xlabel(\"round number\")\n",
    "plt.ylabel(\"probability next round is max\")\n",
    "plt.show()"
   ]
  },
  {
   "cell_type": "code",
   "execution_count": 314,
   "metadata": {},
   "outputs": [],
   "source": [
    "#MC of above\n",
    "\n",
    "seq_len = 100\n",
    "noise_var = 1.0\n",
    "mc_rounds = 1000\n",
    "probs_MC = np.zeros((mc_rounds, seq_len))\n",
    "\n",
    "for mc in range(mc_rounds):\n",
    "\n",
    "\n",
    "    max_so_far = -np.inf\n",
    "    system_vals = []\n",
    "    probs = []\n",
    "\n",
    "    for i in range(seq_len):\n",
    "        s_t = np.random.normal(0,noise_var)\n",
    "        system_vals.append(s_t)\n",
    "        if s_t > max_so_far:\n",
    "            max_so_far = s_t\n",
    "        p_t = prob_next_t_is_max(max_so_far, i, seq_len, noise_var)\n",
    "        probs.append(p_t)\n",
    "        \n",
    "    probs_MC[mc,:] = np.asarray(probs)\n",
    "    "
   ]
  },
  {
   "cell_type": "code",
   "execution_count": 319,
   "metadata": {},
   "outputs": [
    {
     "data": {
      "image/png": "[encoded data removed]",
      "text/plain": [
       "<matplotlib.figure.Figure at 0x7f50ad9e4ba8>"
      ]
     },
     "metadata": {},
     "output_type": "display_data"
    }
   ],
   "source": [
    "plt.plot(np.mean(probs_MC.T, axis=1))\n",
    "plt.xlabel(\"round number\")\n",
    "plt.ylabel(\"probability next round is max\")\n",
    "plt.show()"
   ]
  },
  {
   "cell_type": "code",
   "execution_count": null,
   "metadata": {},
   "outputs": [],
   "source": []
  },
  {
   "cell_type": "code",
   "execution_count": 296,
   "metadata": {},
   "outputs": [
    {
     "ename": "KeyboardInterrupt",
     "evalue": "",
     "output_type": "error",
     "traceback": [
      "\u001b[0;31m---------------------------------------------------------------------------\u001b[0m",
      "\u001b[0;31mKeyboardInterrupt\u001b[0m                         Traceback (most recent call last)",
      "\u001b[0;32m<ipython-input-296-07b91389e048>\u001b[0m in \u001b[0;36m<module>\u001b[0;34m()\u001b[0m\n\u001b[1;32m     38\u001b[0m                     \u001b[0mmax_so_far\u001b[0m \u001b[0;34m=\u001b[0m \u001b[0mz_t\u001b[0m\u001b[0;34m\u001b[0m\u001b[0m\n\u001b[1;32m     39\u001b[0m                 \u001b[0;31m#p_t = (1.0/(T-(t))*(prob_max_so_far(max_so_far, t, T)))\u001b[0m\u001b[0;34m\u001b[0m\u001b[0;34m\u001b[0m\u001b[0m\n\u001b[0;32m---> 40\u001b[0;31m                 \u001b[0mp_t\u001b[0m \u001b[0;34m=\u001b[0m \u001b[0mprob_next_t_is_max\u001b[0m\u001b[0;34m(\u001b[0m\u001b[0mmax_so_far\u001b[0m\u001b[0;34m,\u001b[0m \u001b[0mt\u001b[0m\u001b[0;34m,\u001b[0m \u001b[0mT\u001b[0m\u001b[0;34m,\u001b[0m \u001b[0mnoise_var\u001b[0m\u001b[0;34m)\u001b[0m\u001b[0;34m\u001b[0m\u001b[0m\n\u001b[0m\u001b[1;32m     41\u001b[0m \u001b[0;34m\u001b[0m\u001b[0m\n\u001b[1;32m     42\u001b[0m                 \u001b[0mprobs\u001b[0m\u001b[0;34m.\u001b[0m\u001b[0mappend\u001b[0m\u001b[0;34m(\u001b[0m\u001b[0mp_t\u001b[0m\u001b[0;34m)\u001b[0m\u001b[0;34m\u001b[0m\u001b[0m\n",
      "\u001b[0;32m<ipython-input-242-9afdc8c4fc44>\u001b[0m in \u001b[0;36mprob_next_t_is_max\u001b[0;34m(max_z, t, T, std)\u001b[0m\n\u001b[1;32m      5\u001b[0m \u001b[0;32mdef\u001b[0m \u001b[0mprob_next_t_is_max\u001b[0m\u001b[0;34m(\u001b[0m\u001b[0mmax_z\u001b[0m\u001b[0;34m,\u001b[0m \u001b[0mt\u001b[0m\u001b[0;34m,\u001b[0m \u001b[0mT\u001b[0m\u001b[0;34m,\u001b[0m \u001b[0mstd\u001b[0m\u001b[0;34m=\u001b[0m\u001b[0;36m1\u001b[0m\u001b[0;34m)\u001b[0m\u001b[0;34m:\u001b[0m\u001b[0;34m\u001b[0m\u001b[0m\n\u001b[1;32m      6\u001b[0m     \u001b[0mp1\u001b[0m \u001b[0;34m=\u001b[0m \u001b[0;36m1.0\u001b[0m\u001b[0;34m/\u001b[0m\u001b[0;34m(\u001b[0m\u001b[0mT\u001b[0m \u001b[0;34m-\u001b[0m \u001b[0mt\u001b[0m\u001b[0;34m)\u001b[0m\u001b[0;34m\u001b[0m\u001b[0m\n\u001b[0;32m----> 7\u001b[0;31m     \u001b[0mp2\u001b[0m \u001b[0;34m=\u001b[0m \u001b[0;36m1.0\u001b[0m \u001b[0;34m-\u001b[0m \u001b[0mnp\u001b[0m\u001b[0;34m.\u001b[0m\u001b[0mpower\u001b[0m\u001b[0;34m(\u001b[0m\u001b[0mstats\u001b[0m\u001b[0;34m.\u001b[0m\u001b[0mnorm\u001b[0m\u001b[0;34m.\u001b[0m\u001b[0mcdf\u001b[0m\u001b[0;34m(\u001b[0m\u001b[0mmax_z\u001b[0m\u001b[0;34m,\u001b[0m\u001b[0;36m0\u001b[0m\u001b[0;34m,\u001b[0m\u001b[0mstd\u001b[0m\u001b[0;34m)\u001b[0m\u001b[0;34m,\u001b[0m\u001b[0;34m(\u001b[0m\u001b[0mT\u001b[0m \u001b[0;34m-\u001b[0m \u001b[0mt\u001b[0m\u001b[0;34m)\u001b[0m\u001b[0;34m)\u001b[0m\u001b[0;34m\u001b[0m\u001b[0m\n\u001b[0m\u001b[1;32m      8\u001b[0m     \u001b[0;32mreturn\u001b[0m\u001b[0;34m(\u001b[0m\u001b[0mp1\u001b[0m \u001b[0;34m*\u001b[0m \u001b[0mp2\u001b[0m\u001b[0;34m)\u001b[0m\u001b[0;34m\u001b[0m\u001b[0m\n\u001b[1;32m      9\u001b[0m \u001b[0;34m\u001b[0m\u001b[0m\n",
      "\u001b[0;32m~/applications/anaconda3/lib/python3.6/site-packages/scipy/stats/_distn_infrastructure.py\u001b[0m in \u001b[0;36mcdf\u001b[0;34m(self, x, *args, **kwds)\u001b[0m\n\u001b[1;32m   1730\u001b[0m         \"\"\"\n\u001b[1;32m   1731\u001b[0m         \u001b[0margs\u001b[0m\u001b[0;34m,\u001b[0m \u001b[0mloc\u001b[0m\u001b[0;34m,\u001b[0m \u001b[0mscale\u001b[0m \u001b[0;34m=\u001b[0m \u001b[0mself\u001b[0m\u001b[0;34m.\u001b[0m\u001b[0m_parse_args\u001b[0m\u001b[0;34m(\u001b[0m\u001b[0;34m*\u001b[0m\u001b[0margs\u001b[0m\u001b[0;34m,\u001b[0m \u001b[0;34m**\u001b[0m\u001b[0mkwds\u001b[0m\u001b[0;34m)\u001b[0m\u001b[0;34m\u001b[0m\u001b[0m\n\u001b[0;32m-> 1732\u001b[0;31m         \u001b[0mx\u001b[0m\u001b[0;34m,\u001b[0m \u001b[0mloc\u001b[0m\u001b[0;34m,\u001b[0m \u001b[0mscale\u001b[0m \u001b[0;34m=\u001b[0m \u001b[0mmap\u001b[0m\u001b[0;34m(\u001b[0m\u001b[0masarray\u001b[0m\u001b[0;34m,\u001b[0m \u001b[0;34m(\u001b[0m\u001b[0mx\u001b[0m\u001b[0;34m,\u001b[0m \u001b[0mloc\u001b[0m\u001b[0;34m,\u001b[0m \u001b[0mscale\u001b[0m\u001b[0;34m)\u001b[0m\u001b[0;34m)\u001b[0m\u001b[0;34m\u001b[0m\u001b[0m\n\u001b[0m\u001b[1;32m   1733\u001b[0m         \u001b[0margs\u001b[0m \u001b[0;34m=\u001b[0m \u001b[0mtuple\u001b[0m\u001b[0;34m(\u001b[0m\u001b[0mmap\u001b[0m\u001b[0;34m(\u001b[0m\u001b[0masarray\u001b[0m\u001b[0;34m,\u001b[0m \u001b[0margs\u001b[0m\u001b[0;34m)\u001b[0m\u001b[0;34m)\u001b[0m\u001b[0;34m\u001b[0m\u001b[0m\n\u001b[1;32m   1734\u001b[0m         \u001b[0mdtyp\u001b[0m \u001b[0;34m=\u001b[0m \u001b[0mnp\u001b[0m\u001b[0;34m.\u001b[0m\u001b[0mfind_common_type\u001b[0m\u001b[0;34m(\u001b[0m\u001b[0;34m[\u001b[0m\u001b[0mx\u001b[0m\u001b[0;34m.\u001b[0m\u001b[0mdtype\u001b[0m\u001b[0;34m,\u001b[0m \u001b[0mnp\u001b[0m\u001b[0;34m.\u001b[0m\u001b[0mfloat64\u001b[0m\u001b[0;34m]\u001b[0m\u001b[0;34m,\u001b[0m \u001b[0;34m[\u001b[0m\u001b[0;34m]\u001b[0m\u001b[0;34m)\u001b[0m\u001b[0;34m\u001b[0m\u001b[0m\n",
      "\u001b[0;32m~/applications/anaconda3/lib/python3.6/site-packages/numpy/core/numeric.py\u001b[0m in \u001b[0;36masarray\u001b[0;34m(a, dtype, order)\u001b[0m\n\u001b[1;32m    490\u001b[0m \u001b[0;34m\u001b[0m\u001b[0m\n\u001b[1;32m    491\u001b[0m     \"\"\"\n\u001b[0;32m--> 492\u001b[0;31m     \u001b[0;32mreturn\u001b[0m \u001b[0marray\u001b[0m\u001b[0;34m(\u001b[0m\u001b[0ma\u001b[0m\u001b[0;34m,\u001b[0m \u001b[0mdtype\u001b[0m\u001b[0;34m,\u001b[0m \u001b[0mcopy\u001b[0m\u001b[0;34m=\u001b[0m\u001b[0;32mFalse\u001b[0m\u001b[0;34m,\u001b[0m \u001b[0morder\u001b[0m\u001b[0;34m=\u001b[0m\u001b[0morder\u001b[0m\u001b[0;34m)\u001b[0m\u001b[0;34m\u001b[0m\u001b[0m\n\u001b[0m\u001b[1;32m    493\u001b[0m \u001b[0;34m\u001b[0m\u001b[0m\n\u001b[1;32m    494\u001b[0m \u001b[0;34m\u001b[0m\u001b[0m\n",
      "\u001b[0;31mKeyboardInterrupt\u001b[0m: "
     ]
    }
   ],
   "source": [
    "rounds = np.arange(500,1000,1)\n",
    "#noise_vars = np.arange(0.1,4,0.1)\n",
    "#discounts = np.arange(1.1,20,0.1)\n",
    "discounts = np.array([20.0])\n",
    "\n",
    "size_2 = len(discounts) #len(noise_vars)\n",
    "\n",
    "adaptive_scores = np.zeros((len(rounds), size_2))\n",
    "fixed_scores = np.zeros((len(rounds), size_2))\n",
    "perfect_scores = np.zeros((len(rounds), size_2))\n",
    "mc_prob_sum = np.zeros((len(rounds), size_2))\n",
    "\n",
    "for i in range(rounds.shape[0]):\n",
    "    T = rounds[i]\n",
    "    #for j in range(noise_vars.shape[0]):\n",
    "    for j in range(discounts.shape[0]):\n",
    "        pi_cp = discounts[j]\n",
    "        #pi_cp = 1.2\n",
    "        #noise_var = noise_vars[j]\n",
    "        noise_var = 1.0\n",
    "\n",
    "        MC_rounds = 1000\n",
    "        mc_adaptive = []\n",
    "        mc_probs = np.zeros((MC_rounds, T))\n",
    "        p_max = 100.0    #large rewards w/ potentially large CP cost pi_cp*p_max\n",
    "\n",
    "        for r in range(MC_rounds):\n",
    "            max_so_far = -np.inf\n",
    "            system_vals = []\n",
    "            rewards = []\n",
    "            probs = []\n",
    "            plays = []\n",
    "\n",
    "            for t in range(T):\n",
    "                z_t = np.random.normal(0,noise_var)\n",
    "                system_vals.append(z_t)\n",
    "                if z_t > max_so_far:\n",
    "                    max_so_far = z_t\n",
    "                #p_t = (1.0/(T-(t))*(prob_max_so_far(max_so_far, t, T)))\n",
    "                p_t = prob_next_t_is_max(max_so_far, t, T, noise_var)\n",
    "\n",
    "                probs.append(p_t)\n",
    "\n",
    "                #play = 1.0 - p_t * pi_cp #linear util\n",
    "                #util = play\n",
    "\n",
    "                play = optimal_log_util(p_t, pi_cp)  #log(x + 1) concave util\n",
    "                if play < 0:\n",
    "                    play = 0.0\n",
    "                if play > p_max:\n",
    "                    play = p_max\n",
    "                util = np.log(play + 1)\n",
    "\n",
    "                rewards.append(util)\n",
    "                plays.append(play)\n",
    "\n",
    "            mc_probs[r,:] = np.asarray(probs)\n",
    "            mc_adaptive.append(np.sum(rewards) - pi_cp*plays[np.argmax(system_vals)])\n",
    "\n",
    "\n",
    "        perfect = (T-1)*np.log(p_max + 1)\n",
    "        fixed = T*np.log(p_max + 1) - pi_cp*p_max\n",
    "        adaptive = np.mean(mc_adaptive)\n",
    "        \n",
    "        perfect_scores[i,j] = perfect\n",
    "        fixed_scores[i,j] = fixed\n",
    "        adaptive_scores[i,j] = adaptive\n",
    "        mc_prob_sum[i,j] = np.sum(np.mean(mc_probs,axis=0))\n",
    "\n",
    "\n",
    "print(perfect)\n",
    "print(fixed)\n",
    "print(adaptive)\n"
   ]
  },
  {
   "cell_type": "code",
   "execution_count": 304,
   "metadata": {},
   "outputs": [
    {
     "data": {
      "text/plain": [
       "100.0"
      ]
     },
     "execution_count": 304,
     "metadata": {},
     "output_type": "execute_result"
    }
   ],
   "source": []
  },
  {
   "cell_type": "code",
   "execution_count": null,
   "metadata": {},
   "outputs": [],
   "source": []
  },
  {
   "cell_type": "code",
   "execution_count": 303,
   "metadata": {},
   "outputs": [
    {
     "data": {
      "image/png": "[encoded data removed]",
      "text/plain": [
       "<matplotlib.figure.Figure at 0x7f50ae2e1ef0>"
      ]
     },
     "metadata": {},
     "output_type": "display_data"
    }
   ],
   "source": [
    "plt.plot(rounds, adaptive_scores - fixed_scores)\n",
    "plt.xlabel(\"number of rounds\")\n",
    "plt.ylabel(\"score gap for fixed discount\")\n",
    "plt.show()"
   ]
  },
  {
   "cell_type": "code",
   "execution_count": null,
   "metadata": {
    "collapsed": true
   },
   "outputs": [],
   "source": []
  },
  {
   "cell_type": "code",
   "execution_count": null,
   "metadata": {
    "collapsed": true
   },
   "outputs": [],
   "source": []
  },
  {
   "cell_type": "code",
   "execution_count": 276,
   "metadata": {},
   "outputs": [
    {
     "data": {
      "image/png": "[encoded data removed]",
      "text/plain": [
       "<matplotlib.figure.Figure at 0x7f50af76e710>"
      ]
     },
     "metadata": {},
     "output_type": "display_data"
    }
   ],
   "source": [
    "plt.imshow(adaptive_scores - fixed_scores)\n",
    "plt.ylabel(\"num rounds\")\n",
    "plt.xlabel(\"pi_cp\")\n",
    "plt.title(\"adaptive vs fixed\")\n",
    "plt.show()"
   ]
  },
  {
   "cell_type": "code",
   "execution_count": 277,
   "metadata": {},
   "outputs": [
    {
     "data": {
      "text/plain": [
       "array([[ 9.59814101e+01,  1.03229942e+02,  1.14557836e+02, ...,\n",
       "         1.93339704e+03,  1.96778698e+03,  1.97281725e+03],\n",
       "       [ 8.84893417e+01,  9.78734350e+01,  1.06385451e+02, ...,\n",
       "         1.94608170e+03,  1.96167073e+03,  1.97233527e+03],\n",
       "       [ 8.17403114e+01,  9.75162553e+01,  1.02188758e+02, ...,\n",
       "         1.93435979e+03,  1.94568200e+03,  1.94533738e+03],\n",
       "       ...,\n",
       "       [-2.51947748e+00,  1.37093702e+00,  7.72672808e+00, ...,\n",
       "         1.62771557e+03,  1.58075514e+03,  1.61048837e+03],\n",
       "       [-3.64655601e+00, -1.55386977e+00,  8.23547648e+00, ...,\n",
       "         1.56017390e+03,  1.57500720e+03,  1.64866659e+03],\n",
       "       [-1.48883519e+00, -7.13619255e-01, -6.70184835e-01, ...,\n",
       "         1.63040250e+03,  1.61474059e+03,  1.67439200e+03]])"
      ]
     },
     "execution_count": 277,
     "metadata": {},
     "output_type": "execute_result"
    }
   ],
   "source": [
    "adaptive_scores - fixed_scores"
   ]
  },
  {
   "cell_type": "code",
   "execution_count": 272,
   "metadata": {},
   "outputs": [
    {
     "data": {
      "image/png": "[encoded data removed]",
      "text/plain": [
       "<matplotlib.figure.Figure at 0x7f50af34a518>"
      ]
     },
     "metadata": {},
     "output_type": "display_data"
    }
   ],
   "source": [
    "plt.imshow(adaptive_scores - fixed_scores)\n",
    "plt.ylabel(\"num rounds\")\n",
    "plt.xlabel(\"variance\")\n",
    "plt.title(\"adaptive vs fixed\")\n",
    "plt.show()"
   ]
  },
  {
   "cell_type": "code",
   "execution_count": null,
   "metadata": {
    "collapsed": true
   },
   "outputs": [],
   "source": []
  },
  {
   "cell_type": "code",
   "execution_count": null,
   "metadata": {},
   "outputs": [],
   "source": []
  },
  {
   "cell_type": "code",
   "execution_count": null,
   "metadata": {
    "collapsed": true
   },
   "outputs": [],
   "source": []
  },
  {
   "cell_type": "code",
   "execution_count": null,
   "metadata": {},
   "outputs": [],
   "source": []
  },
  {
   "cell_type": "code",
   "execution_count": null,
   "metadata": {},
   "outputs": [],
   "source": []
  },
  {
   "cell_type": "code",
   "execution_count": null,
   "metadata": {},
   "outputs": [],
   "source": []
  },
  {
   "cell_type": "code",
   "execution_count": null,
   "metadata": {
    "collapsed": true
   },
   "outputs": [],
   "source": []
  },
  {
   "cell_type": "code",
   "execution_count": null,
   "metadata": {},
   "outputs": [],
   "source": []
  },
  {
   "cell_type": "code",
   "execution_count": 237,
   "metadata": {
    "collapsed": true
   },
   "outputs": [],
   "source": [
    "#increasing number of rounds\n",
    "#range of variances\n",
    "#what does sums of sequences of \"next round is max\" probabilities look like\n",
    "\n",
    "rounds = np.arange(20,80,1)\n",
    "noise_vars = np.arange(0.1,2,0.1)\n",
    "\n",
    "sums = np.zeros((len(rounds), len(noise_vars)))\n",
    "\n",
    "for i in range(len(rounds)):\n",
    "    T = rounds[i]\n",
    "    for j in range(len(noise_vars)):\n",
    "        noise_var = noise_vars[j]\n",
    "        #compute sequence\n",
    "        probs = []\n",
    "        max_z_so_far = -np.inf\n",
    "        for t in range(T):\n",
    "            z_t = np.random.normal(0,noise_var)\n",
    "            if z_t > max_so_far:\n",
    "                max_so_far = z_t\n",
    "            p_t = prob_next_t_is_max(max_so_far, t, T)\n",
    "            probs.append(p_t)\n",
    "        sums[i,j] = np.sum(probs)"
   ]
  },
  {
   "cell_type": "code",
   "execution_count": 241,
   "metadata": {},
   "outputs": [
    {
     "data": {
      "text/plain": [
       "0.0"
      ]
     },
     "execution_count": 241,
     "metadata": {},
     "output_type": "execute_result"
    }
   ],
   "source": [
    "prob_next_t_is_max(0.0, )"
   ]
  },
  {
   "cell_type": "code",
   "execution_count": 238,
   "metadata": {},
   "outputs": [
    {
     "data": {
      "image/png": "[encoded data removed]",
      "text/plain": [
       "<matplotlib.figure.Figure at 0x7f50ae25c9e8>"
      ]
     },
     "metadata": {},
     "output_type": "display_data"
    }
   ],
   "source": [
    "plt.imshow(sums)\n",
    "plt.show()"
   ]
  },
  {
   "cell_type": "code",
   "execution_count": 239,
   "metadata": {},
   "outputs": [
    {
     "data": {
      "image/png": "[encoded data removed]",
      "text/plain": [
       "<matplotlib.figure.Figure at 0x7f50ae3657b8>"
      ]
     },
     "metadata": {},
     "output_type": "display_data"
    }
   ],
   "source": [
    "plt.plot(sums)\n",
    "plt.ylabel(\"probability sum\")\n",
    "plt.xlabel(\"number of rounds\")\n",
    "plt.title(\"Different variance values\")\n",
    "plt.show()"
   ]
  },
  {
   "cell_type": "code",
   "execution_count": 175,
   "metadata": {},
   "outputs": [
    {
     "data": {
      "image/png": "[encoded data removed]",
      "text/plain": [
       "<matplotlib.figure.Figure at 0x7f50af7a8e10>"
      ]
     },
     "metadata": {},
     "output_type": "display_data"
    }
   ],
   "source": [
    "plt.plot(np.mean(np.exp(sums), axis=1))\n",
    "plt.plot(0.6552060180719781*np.arange(2,100,1) + 1)\n",
    "plt.show()\n"
   ]
  },
  {
   "cell_type": "code",
   "execution_count": 174,
   "metadata": {},
   "outputs": [
    {
     "data": {
      "text/plain": [
       "array([0.971855  , 0.98875166, 0.98780699, 0.9870579 , 0.98654291,\n",
       "       0.98613141, 0.98580888, 0.98555039, 0.98534008, 0.98516466,\n",
       "       0.9850172 , 0.98489194, 0.98478481, 0.98469217, 0.98461168,\n",
       "       0.98454138, 0.9844797 , 0.9844254 , 0.98437743, 0.98433495,\n",
       "       0.98429727, 0.9842638 , 0.98423404, 0.98420758, 0.98418405,\n",
       "       0.98416314, 0.98414459, 0.98412817, 0.98411368, 0.98410093,\n",
       "       0.98408977, 0.98408007, 0.9840717 , 0.98406454, 0.98405851,\n",
       "       0.98405351, 0.98404947, 0.98404632, 0.98404399, 0.98404242,\n",
       "       0.98404157, 0.98404138, 0.9840418 , 0.98404281, 0.98404436,\n",
       "       0.98404642, 0.98404896, 0.98405195, 0.98405536, 0.98405917,\n",
       "       0.98406336, 0.98406791, 0.98407279, 0.98407799, 0.9840835 ,\n",
       "       0.98408929, 0.98409536, 0.98410168, 0.98410825, 0.98411506,\n",
       "       0.98412209, 0.98412933, 0.98413678, 0.98414442, 0.98415224,\n",
       "       0.98416025, 0.98416842, 0.98417676, 0.98418525, 0.98419389,\n",
       "       0.98420268, 0.9842116 , 0.98422065, 0.98422983, 0.98423914,\n",
       "       0.98424856, 0.98425809, 0.98426773, 0.98427748, 0.98428733,\n",
       "       0.98429727, 0.98430731, 0.98431744, 0.98432766, 0.98433796,\n",
       "       0.98434834, 0.9843588 , 0.98436934, 0.98437995, 0.98439063,\n",
       "       0.98440138, 0.9844122 , 0.98442308, 0.98443403, 0.98444504,\n",
       "       0.9844561 , 0.98446722, 0.9844784 ])"
      ]
     },
     "execution_count": 174,
     "metadata": {},
     "output_type": "execute_result"
    }
   ],
   "source": [
    "line - 0.6552060180719781*np.arange(2,100,1)"
   ]
  },
  {
   "cell_type": "code",
   "execution_count": 172,
   "metadata": {},
   "outputs": [
    {
     "data": {
      "text/plain": [
       "array([ 1.31 ,  1.965,  2.62 ,  3.275,  3.93 ,  4.585,  5.24 ,  5.895,\n",
       "        6.55 ,  7.205,  7.86 ,  8.515,  9.17 ,  9.825, 10.48 , 11.135,\n",
       "       11.79 , 12.445, 13.1  , 13.755, 14.41 , 15.065, 15.72 , 16.375,\n",
       "       17.03 , 17.685, 18.34 , 18.995, 19.65 , 20.305, 20.96 , 21.615,\n",
       "       22.27 , 22.925, 23.58 , 24.235, 24.89 , 25.545, 26.2  , 26.855,\n",
       "       27.51 , 28.165, 28.82 , 29.475, 30.13 , 30.785, 31.44 , 32.095,\n",
       "       32.75 , 33.405, 34.06 , 34.715, 35.37 , 36.025, 36.68 , 37.335,\n",
       "       37.99 , 38.645, 39.3  , 39.955, 40.61 , 41.265, 41.92 , 42.575,\n",
       "       43.23 , 43.885, 44.54 , 45.195, 45.85 , 46.505, 47.16 , 47.815,\n",
       "       48.47 , 49.125, 49.78 , 50.435, 51.09 , 51.745, 52.4  , 53.055,\n",
       "       53.71 , 54.365, 55.02 , 55.675, 56.33 , 56.985, 57.64 , 58.295,\n",
       "       58.95 , 59.605, 60.26 , 60.915, 61.57 , 62.225, 62.88 , 63.535,\n",
       "       64.19 , 64.845])"
      ]
     },
     "execution_count": 172,
     "metadata": {},
     "output_type": "execute_result"
    }
   ],
   "source": [
    "0.655*np.arange(2,100,1)"
   ]
  },
  {
   "cell_type": "code",
   "execution_count": 170,
   "metadata": {},
   "outputs": [
    {
     "name": "stdout",
     "output_type": "stream",
     "text": [
      "0.6552060180719781\n"
     ]
    }
   ],
   "source": [
    "line = np.mean(np.exp(sums), axis=1)\n",
    "print((line[80]-line[20])/(79 - 19))"
   ]
  },
  {
   "cell_type": "code",
   "execution_count": 116,
   "metadata": {},
   "outputs": [
    {
     "ename": "KeyboardInterrupt",
     "evalue": "",
     "output_type": "error",
     "traceback": [
      "\u001b[0;31m---------------------------------------------------------------------------\u001b[0m",
      "\u001b[0;31mKeyboardInterrupt\u001b[0m                         Traceback (most recent call last)",
      "\u001b[0;32m<ipython-input-116-753e3bc5d07f>\u001b[0m in \u001b[0;36m<module>\u001b[0;34m()\u001b[0m\n\u001b[1;32m     27\u001b[0m             \u001b[0;32mif\u001b[0m \u001b[0mz_t\u001b[0m \u001b[0;34m>\u001b[0m \u001b[0mmax_so_far\u001b[0m\u001b[0;34m:\u001b[0m\u001b[0;34m\u001b[0m\u001b[0m\n\u001b[1;32m     28\u001b[0m                 \u001b[0mmax_so_far\u001b[0m \u001b[0;34m=\u001b[0m \u001b[0mz_t\u001b[0m\u001b[0;34m\u001b[0m\u001b[0m\n\u001b[0;32m---> 29\u001b[0;31m             \u001b[0mp_t\u001b[0m \u001b[0;34m=\u001b[0m \u001b[0;34m(\u001b[0m\u001b[0;36m1.0\u001b[0m\u001b[0;34m/\u001b[0m\u001b[0;34m(\u001b[0m\u001b[0mT\u001b[0m\u001b[0;34m-\u001b[0m\u001b[0mt\u001b[0m\u001b[0;34m)\u001b[0m\u001b[0;34m)\u001b[0m\u001b[0;34m*\u001b[0m\u001b[0;34m(\u001b[0m\u001b[0;36m1.0\u001b[0m \u001b[0;34m-\u001b[0m \u001b[0mprob_max_so_far\u001b[0m\u001b[0;34m(\u001b[0m\u001b[0mmax_so_far\u001b[0m\u001b[0;34m,\u001b[0m \u001b[0mt\u001b[0m\u001b[0;34m,\u001b[0m \u001b[0mT\u001b[0m\u001b[0;34m)\u001b[0m\u001b[0;34m)\u001b[0m\u001b[0;34m\u001b[0m\u001b[0m\n\u001b[0m\u001b[1;32m     30\u001b[0m             \u001b[0mprobs\u001b[0m\u001b[0;34m.\u001b[0m\u001b[0mappend\u001b[0m\u001b[0;34m(\u001b[0m\u001b[0mp_t\u001b[0m\u001b[0;34m)\u001b[0m\u001b[0;34m\u001b[0m\u001b[0m\n\u001b[1;32m     31\u001b[0m             \u001b[0mplay\u001b[0m \u001b[0;34m=\u001b[0m \u001b[0;36m1.0\u001b[0m \u001b[0;34m-\u001b[0m \u001b[0mp_t\u001b[0m \u001b[0;34m*\u001b[0m \u001b[0mpi_cp\u001b[0m\u001b[0;34m\u001b[0m\u001b[0m\n",
      "\u001b[0;32m<ipython-input-6-543d7dfccd03>\u001b[0m in \u001b[0;36mprob_max_so_far\u001b[0;34m(max_z, t, T)\u001b[0m\n\u001b[1;32m      4\u001b[0m \u001b[0;34m\u001b[0m\u001b[0m\n\u001b[1;32m      5\u001b[0m \u001b[0;32mdef\u001b[0m \u001b[0mprob_max_so_far\u001b[0m\u001b[0;34m(\u001b[0m\u001b[0mmax_z\u001b[0m\u001b[0;34m,\u001b[0m \u001b[0mt\u001b[0m\u001b[0;34m,\u001b[0m \u001b[0mT\u001b[0m\u001b[0;34m)\u001b[0m\u001b[0;34m:\u001b[0m\u001b[0;34m\u001b[0m\u001b[0m\n\u001b[0;32m----> 6\u001b[0;31m     \u001b[0;32mreturn\u001b[0m\u001b[0;34m(\u001b[0m\u001b[0mnp\u001b[0m\u001b[0;34m.\u001b[0m\u001b[0mpower\u001b[0m\u001b[0;34m(\u001b[0m\u001b[0mstats\u001b[0m\u001b[0;34m.\u001b[0m\u001b[0mnorm\u001b[0m\u001b[0;34m.\u001b[0m\u001b[0mcdf\u001b[0m\u001b[0;34m(\u001b[0m\u001b[0mmax_z\u001b[0m\u001b[0;34m,\u001b[0m\u001b[0;36m0\u001b[0m\u001b[0;34m,\u001b[0m\u001b[0;36m1\u001b[0m\u001b[0;34m)\u001b[0m\u001b[0;34m,\u001b[0m\u001b[0;34m(\u001b[0m\u001b[0mT\u001b[0m \u001b[0;34m-\u001b[0m \u001b[0mt\u001b[0m\u001b[0;34m)\u001b[0m\u001b[0;34m)\u001b[0m\u001b[0;34m)\u001b[0m\u001b[0;34m\u001b[0m\u001b[0m\n\u001b[0m\u001b[1;32m      7\u001b[0m \u001b[0;34m\u001b[0m\u001b[0m\n",
      "\u001b[0;32m~/applications/anaconda3/lib/python3.6/site-packages/scipy/stats/_distn_infrastructure.py\u001b[0m in \u001b[0;36mcdf\u001b[0;34m(self, x, *args, **kwds)\u001b[0m\n\u001b[1;32m   1734\u001b[0m         \u001b[0mdtyp\u001b[0m \u001b[0;34m=\u001b[0m \u001b[0mnp\u001b[0m\u001b[0;34m.\u001b[0m\u001b[0mfind_common_type\u001b[0m\u001b[0;34m(\u001b[0m\u001b[0;34m[\u001b[0m\u001b[0mx\u001b[0m\u001b[0;34m.\u001b[0m\u001b[0mdtype\u001b[0m\u001b[0;34m,\u001b[0m \u001b[0mnp\u001b[0m\u001b[0;34m.\u001b[0m\u001b[0mfloat64\u001b[0m\u001b[0;34m]\u001b[0m\u001b[0;34m,\u001b[0m \u001b[0;34m[\u001b[0m\u001b[0;34m]\u001b[0m\u001b[0;34m)\u001b[0m\u001b[0;34m\u001b[0m\u001b[0m\n\u001b[1;32m   1735\u001b[0m         \u001b[0mx\u001b[0m \u001b[0;34m=\u001b[0m \u001b[0mnp\u001b[0m\u001b[0;34m.\u001b[0m\u001b[0masarray\u001b[0m\u001b[0;34m(\u001b[0m\u001b[0;34m(\u001b[0m\u001b[0mx\u001b[0m \u001b[0;34m-\u001b[0m \u001b[0mloc\u001b[0m\u001b[0;34m)\u001b[0m\u001b[0;34m/\u001b[0m\u001b[0mscale\u001b[0m\u001b[0;34m,\u001b[0m \u001b[0mdtype\u001b[0m\u001b[0;34m=\u001b[0m\u001b[0mdtyp\u001b[0m\u001b[0;34m)\u001b[0m\u001b[0;34m\u001b[0m\u001b[0m\n\u001b[0;32m-> 1736\u001b[0;31m         \u001b[0mcond0\u001b[0m \u001b[0;34m=\u001b[0m \u001b[0mself\u001b[0m\u001b[0;34m.\u001b[0m\u001b[0m_argcheck\u001b[0m\u001b[0;34m(\u001b[0m\u001b[0;34m*\u001b[0m\u001b[0margs\u001b[0m\u001b[0;34m)\u001b[0m \u001b[0;34m&\u001b[0m \u001b[0;34m(\u001b[0m\u001b[0mscale\u001b[0m \u001b[0;34m>\u001b[0m \u001b[0;36m0\u001b[0m\u001b[0;34m)\u001b[0m\u001b[0;34m\u001b[0m\u001b[0m\n\u001b[0m\u001b[1;32m   1737\u001b[0m         \u001b[0mcond1\u001b[0m \u001b[0;34m=\u001b[0m \u001b[0mself\u001b[0m\u001b[0;34m.\u001b[0m\u001b[0m_open_support_mask\u001b[0m\u001b[0;34m(\u001b[0m\u001b[0mx\u001b[0m\u001b[0;34m)\u001b[0m \u001b[0;34m&\u001b[0m \u001b[0;34m(\u001b[0m\u001b[0mscale\u001b[0m \u001b[0;34m>\u001b[0m \u001b[0;36m0\u001b[0m\u001b[0;34m)\u001b[0m\u001b[0;34m\u001b[0m\u001b[0m\n\u001b[1;32m   1738\u001b[0m         \u001b[0mcond2\u001b[0m \u001b[0;34m=\u001b[0m \u001b[0;34m(\u001b[0m\u001b[0mx\u001b[0m \u001b[0;34m>=\u001b[0m \u001b[0mself\u001b[0m\u001b[0;34m.\u001b[0m\u001b[0mb\u001b[0m\u001b[0;34m)\u001b[0m \u001b[0;34m&\u001b[0m \u001b[0mcond0\u001b[0m\u001b[0;34m\u001b[0m\u001b[0m\n",
      "\u001b[0;31mKeyboardInterrupt\u001b[0m: "
     ]
    }
   ],
   "source": [
    "#linear utility\n",
    "#probabilistic maximization\n",
    "\n",
    "rounds = np.arange(10,100,1)\n",
    "max_x = 1 \n",
    "noise_var = 1\n",
    "\n",
    "perfect_scores = np.zeros((rounds.shape[0],1000))\n",
    "fixed_scores = np.zeros((rounds.shape[0],1000))\n",
    "adaptive_scores = np.zeros((rounds.shape[0],1000))\n",
    "\n",
    "for i in range(rounds.shape[0]):\n",
    "    T = rounds[i]\n",
    "    penalties = np.arange(1,T-1,(T-2)/1000)\n",
    "    for j in range(1000):\n",
    "        \n",
    "        pi_cp = penalties[j]\n",
    "        max_so_far = -np.inf\n",
    "        system_vals = []\n",
    "        rewards = []\n",
    "        probs = []\n",
    "        plays = []\n",
    "\n",
    "        for t in range(T):\n",
    "            z_t = np.random.normal(0,noise_var)\n",
    "            system_vals.append(z_t)\n",
    "            if z_t > max_so_far:\n",
    "                max_so_far = z_t\n",
    "            p_t = (1.0/(T-t))*(1.0 - prob_max_so_far(max_so_far, t, T))\n",
    "            probs.append(p_t)\n",
    "            play = 1.0 - p_t * pi_cp\n",
    "            rewards.append(play)\n",
    "            plays.append(play)\n",
    "            \n",
    "        perfect = T - 1\n",
    "        fixed = T - pi_cp\n",
    "        adaptive = np.sum(rewards) - pi_cp*plays[np.argmax(system_vals)]\n",
    "        \n",
    "        perfect_scores[i,j] = perfect\n",
    "        fixed_scores[i,j] = fixed\n",
    "        adaptive_scores[i,j] = adaptive\n",
    "    \n",
    "    \n",
    "\n"
   ]
  },
  {
   "cell_type": "code",
   "execution_count": null,
   "metadata": {
    "collapsed": true
   },
   "outputs": [],
   "source": [
    "adaptive_scores"
   ]
  },
  {
   "cell_type": "code",
   "execution_count": null,
   "metadata": {
    "collapsed": true
   },
   "outputs": [],
   "source": [
    "perfect_scores"
   ]
  },
  {
   "cell_type": "code",
   "execution_count": null,
   "metadata": {
    "collapsed": true
   },
   "outputs": [],
   "source": [
    "np.divide(adaptive_scores,perfect_scores)"
   ]
  },
  {
   "cell_type": "code",
   "execution_count": 51,
   "metadata": {},
   "outputs": [
    {
     "name": "stdout",
     "output_type": "stream",
     "text": [
      "87.30836700098617\n",
      "70.0\n",
      "99\n"
     ]
    }
   ],
   "source": [
    "print(np.sum(rewards))\n",
    "print(T - pi_cp)\n",
    "print(T - 1)"
   ]
  },
  {
   "cell_type": "code",
   "execution_count": null,
   "metadata": {
    "collapsed": true
   },
   "outputs": [],
   "source": []
  },
  {
   "cell_type": "code",
   "execution_count": 82,
   "metadata": {
    "collapsed": true
   },
   "outputs": [],
   "source": [
    "#compute probability of maximum\n",
    "#compute probability of having already seen maximum\n",
    "\n",
    "#linear utility, p_max = 1\n",
    "\n",
    "T = 100.0\n",
    "z_max = -np.inf\n",
    "MC_rounds = 1000\n",
    "\n",
    "\n",
    "#for mc in range(MC_rounds):\n",
    "retrospective_max = []\n",
    "\n",
    "values = []\n",
    "\n",
    "z_maxes = []\n",
    "\n",
    "for i in range(int(T)):\n",
    "    z = np.random.normal(0,1)\n",
    "    values.append(z)\n",
    "    if z > z_max:\n",
    "        z_max = z\n",
    "    z_maxes.append(z_max)\n",
    "    retrospective_max.append(prob_max_so_far(z_max, i, T))\n",
    "    "
   ]
  },
  {
   "cell_type": "code",
   "execution_count": 83,
   "metadata": {},
   "outputs": [
    {
     "data": {
      "image/png": "[encoded data removed]",
      "text/plain": [
       "<matplotlib.figure.Figure at 0x7fdabb52d2e8>"
      ]
     },
     "metadata": {},
     "output_type": "display_data"
    }
   ],
   "source": [
    "plt.plot(retrospective_max, label=\"probability of max occured\")\n",
    "plt.plot(z_maxes, label=\"max noise\")\n",
    "plt.legend()\n",
    "plt.show()\n"
   ]
  },
  {
   "cell_type": "code",
   "execution_count": 76,
   "metadata": {
    "collapsed": true
   },
   "outputs": [],
   "source": [
    "#compute probability of maximum\n",
    "#compute probability of having already seen maximum\n",
    "\n",
    "T = 100.0\n",
    "\n",
    "z_max = -np.inf\n",
    "MC_rounds = 1000\n",
    "\n",
    "max_round = []\n",
    "trials_prob = np.zeros((MC_rounds,int(T)))\n",
    "\n",
    "\n",
    "for mc in range(MC_rounds):\n",
    "    retrospective_max = []\n",
    "    values = []\n",
    "    z_maxes = []\n",
    "\n",
    "    for i in range(int(T)):\n",
    "        z = np.random.normal(0,1)\n",
    "        values.append(z)\n",
    "        if z > z_max:\n",
    "            z_max = z\n",
    "        z_maxes.append(z_max)\n",
    "        retrospective_max.append(prob_max_so_far(z_max, i, T))\n",
    "        \n",
    "    max_round.append(np.argmax(np.asarray(values)))\n",
    "    trials_prob[mc,:] = np.asarray(retrospective_max)\n",
    "    "
   ]
  },
  {
   "cell_type": "code",
   "execution_count": 77,
   "metadata": {},
   "outputs": [
    {
     "data": {
      "image/png": "[encoded data removed]",
      "text/plain": [
       "<matplotlib.figure.Figure at 0x7fdabac464e0>"
      ]
     },
     "metadata": {},
     "output_type": "display_data"
    }
   ],
   "source": [
    "plt.hist(max_round)\n",
    "plt.title(\"round of max occurnence\")\n",
    "plt.show()"
   ]
  },
  {
   "cell_type": "code",
   "execution_count": 78,
   "metadata": {},
   "outputs": [
    {
     "data": {
      "image/png": "[encoded data removed]",
      "text/plain": [
       "<matplotlib.figure.Figure at 0x7fdababd15f8>"
      ]
     },
     "metadata": {},
     "output_type": "display_data"
    }
   ],
   "source": [
    "plt.plot(trials_prob.T)\n",
    "plt.show()"
   ]
  },
  {
   "cell_type": "code",
   "execution_count": 79,
   "metadata": {},
   "outputs": [
    {
     "data": {
      "image/png": "[encoded data removed]",
      "text/plain": [
       "<matplotlib.figure.Figure at 0x7fdaba2f69e8>"
      ]
     },
     "metadata": {},
     "output_type": "display_data"
    }
   ],
   "source": [
    "plt.plot(np.mean(trials_prob,0))\n",
    "plt.ylim(0,1.1)\n",
    "plt.show()"
   ]
  },
  {
   "cell_type": "code",
   "execution_count": null,
   "metadata": {
    "collapsed": true
   },
   "outputs": [],
   "source": []
  },
  {
   "cell_type": "code",
   "execution_count": null,
   "metadata": {
    "collapsed": true
   },
   "outputs": [],
   "source": []
  }
 ],
 "metadata": {
  "kernelspec": {
   "display_name": "Python [conda env:anaconda3]",
   "language": "python",
   "name": "conda-env-anaconda3-py"
  },
  "language_info": {
   "codemirror_mode": {
    "name": "ipython",
    "version": 3
   },
   "file_extension": ".py",
   "mimetype": "text/x-python",
   "name": "python",
   "nbconvert_exporter": "python",
   "pygments_lexer": "ipython3",
   "version": "3.6.3"
  }
 },
 "nbformat": 4,
 "nbformat_minor": 2
}
