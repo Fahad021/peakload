{
 "cells": [
  {
   "cell_type": "code",
   "execution_count": null,
   "metadata": {
    "collapsed": true
   },
   "outputs": [],
   "source": [
    "from IPython.display import display, HTML\n",
    "\n",
    "display(HTML(data=\"\"\"\n",
    "<style>\n",
    "    div#notebook-container    { width: 95%; }\n",
    "    div#menubar-container     { width: 65%; }\n",
    "    div#maintoolbar-container { width: 99%; }\n",
    "</style>\n",
    "\"\"\"))"
   ]
  },
  {
   "cell_type": "code",
   "execution_count": 1,
   "metadata": {
    "collapsed": true
   },
   "outputs": [],
   "source": [
    "#use the Q2 2016 data first\n",
    "import sys\n",
    "import os\n",
    "import numpy as np\n",
    "import pickle\n",
    "import matplotlib.pyplot as plt\n",
    "import datetime\n",
    "import pandas as pd\n",
    "import seaborn\n",
    "import random\n",
    "\n",
    "import torch\n",
    "import torchvision\n",
    "import torchvision.transforms as transforms\n",
    "from torch.autograd import Variable\n",
    "import torch.nn as nn\n",
    "import torch.nn.functional as F\n",
    "import torch.optim as optim\n",
    "\n",
    "%load_ext autoreload\n",
    "%autoreload 2\n",
    "%matplotlib inline"
   ]
  },
  {
   "cell_type": "code",
   "execution_count": 2,
   "metadata": {
    "collapsed": true
   },
   "outputs": [],
   "source": [
    "def find_nearest_idx(array, value):\n",
    "    array = np.asarray(array)\n",
    "    idx = (np.abs(array - value)).argmin()\n",
    "    return(idx)"
   ]
  },
  {
   "cell_type": "code",
   "execution_count": 3,
   "metadata": {
    "collapsed": true
   },
   "outputs": [],
   "source": [
    "#ercot 2017 loads\n",
    "\n",
    "path = \"/home/chase/projects/peakload/data/ercot/\"\n",
    "ercot2017 = pd.read_excel(path + \"native_Load_2017.xlsx\")\n",
    "\n",
    "testloads = np.array(list(ercot2017['ERCOT']))"
   ]
  },
  {
   "cell_type": "code",
   "execution_count": 4,
   "metadata": {
    "collapsed": true
   },
   "outputs": [],
   "source": [
    "startdate = datetime.datetime(year=2010, month=1, day=1, hour=0, minute=0, second=0)\n",
    "curr = startdate\n",
    "enddate = datetime.datetime(year=2018, month=1, day=1, hour=0, minute=0, second=0)\n",
    "\n",
    "allhours = []\n",
    "\n",
    "while curr < enddate:\n",
    "    allhours.append(curr)\n",
    "    curr += datetime.timedelta(hours=1)\n",
    "    \n",
    "trainhours = np.array(allhours[0:-8760]) #all but last year, not a leap year\n",
    "testhours = np.array(allhours[-8760:])\n",
    "\n",
    "#get indecies of day starts in testhours\n",
    "startdate = datetime.datetime(year=2017, month=1, day=1, hour=0, minute=0, second=0)\n",
    "curr = startdate\n",
    "enddate = datetime.datetime(year=2018, month=1, day=1, hour=0, minute=0, second=0)\n",
    "\n",
    "day_start_i = []\n",
    "i = 0\n",
    "\n",
    "while curr < enddate:\n",
    "    if curr.hour == 0:\n",
    "        day_start_i.append(i)\n",
    "    curr += datetime.timedelta(hours=1)\n",
    "    i += 1\n"
   ]
  },
  {
   "cell_type": "code",
   "execution_count": 6,
   "metadata": {},
   "outputs": [
    {
     "name": "stdout",
     "output_type": "stream",
     "text": [
      "570.2781314827672 36556.57900951147\n"
     ]
    },
    {
     "name": "stderr",
     "output_type": "stream",
     "text": [
      "/home/chase/applications/anaconda3/lib/python3.6/site-packages/ipykernel/__main__.py:25: FutureWarning: `rcond` parameter will change to the default of machine precision times ``max(M, N)`` where M and N are the input matrix dimensions.\n",
      "To use the future default and silence this warning we advise to pass `rcond=None`, to keep using the old, explicitly pass `rcond=-1`.\n"
     ]
    },
    {
     "data": {
      "image/png": "[encoded data removed]",
      "text/plain": [
       "<matplotlib.figure.Figure at 0x7fb833178ef0>"
      ]
     },
     "metadata": {},
     "output_type": "display_data"
    }
   ],
   "source": [
    "#ERCOT data\n",
    "lds = datetime.datetime(year=2016, month=2, day=29, hour=0, minute=0) #lines 1415 to 1439\n",
    "lde = datetime.datetime(year=2016, month=2, day=29, hour=23, minute=0)\n",
    "\n",
    "path = \"/home/chase/projects/peakload/data/ercot/\"\n",
    "ercot2017 = pd.read_excel(path + \"native_Load_2017.xlsx\")\n",
    "ercot2016 = pd.read_excel(path + \"native_Load_2016.xlsx\") #leap year\n",
    "ercot2016.drop(ercot2016.index[1415:1439], inplace=True) #dropping leap days so years line up\n",
    "\n",
    "ercot2015 = pd.read_excel(path + \"native_Load_2015.xls\")\n",
    "ercot2014 = pd.read_excel(path + \"2014_ERCOT_Hourly_Load_Data.xls\")\n",
    "ercot2013 = pd.read_excel(path + \"2013_ERCOT_Hourly_Load_Data.xls\")\n",
    "ercot2012 = pd.read_excel(path + \"2012_ERCOT_Hourly_Load_Data.xls\") #leap year\n",
    "ercot2012.drop(ercot2012.index[1415:1439], inplace=True)\n",
    "\n",
    "ercot2011 = pd.read_excel(path + \"2011_ERCOT_Hourly_Load_Data.xls\")\n",
    "ercot2010 = pd.read_excel(path + \"2010_ERCOT_Hourly_Load_Data.xls\")\n",
    "\n",
    "yearly_data = [ercot2010, ercot2011, ercot2012, ercot2013, ercot2014, ercot2015, ercot2016, ercot2017]\n",
    "training = [list(ercot2010['ERCOT']), list(ercot2011['ERCOT']), list(ercot2012['ERCOT']), list(ercot2013['ERCOT']), list(ercot2014['ERCOT']), list(ercot2015['ERCOT']), list(ercot2016['ERCOT'])]\n",
    "means = [ np.nanmean(y) for y in training ]\n",
    "\n",
    "#use system-wide loadgrowth for all regions\n",
    "A = np.vstack((np.array([0, 1, 2, 3, 4, 5, 6]), np.array([1, 1, 1, 1, 1, 1, 1]))).T\n",
    "a, b = np.linalg.lstsq(A, np.array(means))[0]\n",
    "print(a, b)\n",
    "projected_mean = a*7.0 + b\n",
    "plt.plot(means + [projected_mean])\n",
    "means.append(projected_mean)\n",
    "load_growth = np.array(means)\n",
    "\n",
    "yearly_loads = np.zeros((8,8760))\n",
    "\n",
    "for i in range(len(yearly_data)):\n",
    "    yearly_loads[i,:] = np.array(yearly_data[i]['ERCOT']) - load_growth[i]\n",
    "    \n",
    "    \n",
    "#need to calculate cdf per month    \n",
    "model = np.nanmean(yearly_loads[0:6,:], axis=0)\n",
    "test = yearly_loads[7,:]\n",
    "#plt.plot(model, color=\"blue\", label=\"model\")\n",
    "#plt.plot(test, color=\"red\", label=\"test data\")\n",
    "#plt.legend()\n",
    "#plt.show()"
   ]
  },
  {
   "cell_type": "code",
   "execution_count": 34,
   "metadata": {},
   "outputs": [
    {
     "data": {
      "text/plain": [
       "31066.880542458108"
      ]
     },
     "execution_count": 34,
     "metadata": {},
     "output_type": "execute_result"
    }
   ],
   "source": [
    "np.nanmax(yearly_loads[0:10,:])"
   ]
  },
  {
   "cell_type": "code",
   "execution_count": 9,
   "metadata": {},
   "outputs": [
    {
     "name": "stdout",
     "output_type": "stream",
     "text": [
      "0 744\n",
      "744 1416\n",
      "1416 2160\n",
      "2160 2880\n",
      "2880 3624\n",
      "3624 4344\n",
      "4344 5088\n",
      "5088 5832\n",
      "5832 6552\n",
      "6552 7296\n",
      "7296 8016\n",
      "8016 8760\n"
     ]
    }
   ],
   "source": [
    "dayspermonth = [31, 28, 31, 30, 31, 30, 31, 31, 30, 31, 30, 31]\n",
    "\n",
    "for j in range(len(dayspermonth)):\n",
    "    hstart = 0 \n",
    "    for k in range(j):\n",
    "        hstart += dayspermonth[k]*24\n",
    "    hend = hstart + dayspermonth[j]*24\n",
    "    \n",
    "    print(hstart, hend)\n",
    "\n",
    "dayspermonth = [31, 28, 31, 30, 31, 30, 31, 30, 31, 30, 31]"
   ]
  },
  {
   "cell_type": "code",
   "execution_count": null,
   "metadata": {
    "collapsed": true
   },
   "outputs": [],
   "source": [
    "def find_nearest_idx(array, value):\n",
    "    array = np.asarray(array)\n",
    "    idx = (np.abs(array - value)).argmin()\n",
    "    return(idx)"
   ]
  },
  {
   "cell_type": "code",
   "execution_count": 41,
   "metadata": {},
   "outputs": [
    {
     "ename": "IndexError",
     "evalue": "list index out of range",
     "output_type": "error",
     "traceback": [
      "\u001b[0;31m---------------------------------------------------------------------------\u001b[0m",
      "\u001b[0;31mIndexError\u001b[0m                                Traceback (most recent call last)",
      "\u001b[0;32m<ipython-input-41-f5849aa7813c>\u001b[0m in \u001b[0;36m<module>\u001b[0;34m()\u001b[0m\n\u001b[1;32m     55\u001b[0m \u001b[0;34m\u001b[0m\u001b[0m\n\u001b[1;32m     56\u001b[0m         \u001b[0midx_true\u001b[0m \u001b[0;34m=\u001b[0m \u001b[0mfind_nearest_idx\u001b[0m\u001b[0;34m(\u001b[0m\u001b[0mnp\u001b[0m\u001b[0;34m.\u001b[0m\u001b[0marange\u001b[0m\u001b[0;34m(\u001b[0m\u001b[0mtrue_monthly_min\u001b[0m\u001b[0;34m[\u001b[0m\u001b[0mj\u001b[0m\u001b[0;34m]\u001b[0m\u001b[0;34m,\u001b[0m\u001b[0mtrue_monthly_max\u001b[0m\u001b[0;34m[\u001b[0m\u001b[0mj\u001b[0m\u001b[0;34m]\u001b[0m\u001b[0;34m,\u001b[0m\u001b[0;36m0.5\u001b[0m\u001b[0;34m)\u001b[0m\u001b[0;34m,\u001b[0m \u001b[0mval\u001b[0m\u001b[0;34m)\u001b[0m\u001b[0;34m\u001b[0m\u001b[0m\n\u001b[0;32m---> 57\u001b[0;31m         \u001b[0mtrue\u001b[0m \u001b[0;34m=\u001b[0m \u001b[0mtrue_cdf\u001b[0m\u001b[0;34m[\u001b[0m\u001b[0mj\u001b[0m\u001b[0;34m]\u001b[0m\u001b[0;34m[\u001b[0m\u001b[0midx_true\u001b[0m\u001b[0;34m]\u001b[0m\u001b[0;34m\u001b[0m\u001b[0m\n\u001b[0m\u001b[1;32m     58\u001b[0m         \u001b[0mtest_ranks\u001b[0m\u001b[0;34m.\u001b[0m\u001b[0mappend\u001b[0m\u001b[0;34m(\u001b[0m\u001b[0mtrue\u001b[0m\u001b[0;34m)\u001b[0m\u001b[0;34m\u001b[0m\u001b[0m\n\u001b[1;32m     59\u001b[0m \u001b[0;34m\u001b[0m\u001b[0m\n",
      "\u001b[0;31mIndexError\u001b[0m: list index out of range"
     ]
    }
   ],
   "source": [
    "power_vals = np.arange(np.min(model),np.max(model),0.5)\n",
    "monthly_power_vals = {}\n",
    "monthly_average_power_vals = {}\n",
    "true_cdf = {}\n",
    "empirical_cdf = {}\n",
    "avg_model_ranks = []#np.zeros((yearly_loads.shape[1], 1))\n",
    "emp_model_ranks = []\n",
    "test_ranks = []#np.zeros((yearly_loads.shape[1], 1))\n",
    "\n",
    "true_monthly_max = {}\n",
    "true_monthly_min = {}\n",
    "model_monthly_max = {}\n",
    "model_monthly_min = {}\n",
    "\n",
    "for j in range(len(dayspermonth)):\n",
    "    true_cdf[j] = []\n",
    "    empirical_cdf[j] = []\n",
    "    #for each month\n",
    "    hstart = 0 \n",
    "    for k in range(j):\n",
    "        hstart += dayspermonth[k]*24\n",
    "    hend = hstart + dayspermonth[j]*24\n",
    "    \n",
    "    #support over expected monthly maxes and mins\n",
    "    monthly_average_power_vals[j] = np.arange(np.min(model[hstart:hend,]),np.max(model[hstart:hend,]),0.5)\n",
    "    \n",
    "    #support over empirical monthly maxes and mins\n",
    "    model_monthly_max[j] = np.nanmax(yearly_loads[0:6,hstart:hend])\n",
    "    model_monthly_min[j] = np.nanmin(yearly_loads[0:6,hstart:hend])\n",
    "    \n",
    "    true_monthly_max[j] = np.nanmax(test[hstart:hend,])\n",
    "    true_monthly_min[j] = np.nanmin(test[hstart:hend,])\n",
    "    \n",
    "    monthly_power_vals[j] = np.arange(model_monthly_min[j],model_monthly_max[j],0.5)\n",
    "    \n",
    "    #calculate monthly empirical cdf based on hourly average model\n",
    "    for p in monthly_power_vals[j]:\n",
    "        greater = np.sum([ 1 for k in model[hstart:hend,] if k >= p ])/float(dayspermonth[j]*24)\n",
    "        empirical_cdf[j].append(1.0 - greater)\n",
    "    \n",
    "    #calculate true cdf values for each hour of 2017\n",
    "    for p in monthly_power_vals[j]:\n",
    "        greater = np.sum([ 1 for k in test[hstart:hend,] if k >= p ])/float(dayspermonth[j]*24)\n",
    "        true_cdf[j].append(1.0 - greater)\n",
    "    \n",
    "    for i in range(hstart,hend+1):\n",
    "        val = test[i,]\n",
    "        idx_avg = find_nearest_idx(monthly_average_power_vals[j], val)\n",
    "        mod_avg = empirical_cdf[j][idx_avg]\n",
    "        avg_model_ranks.append(mod_avg)\n",
    "        \n",
    "        idx_emp = find_nearest_idx(monthly_power_vals[j], val)\n",
    "        mod = empirical_cdf[j][idx_emp]\n",
    "        emp_model_ranks.append(mod)\n",
    "        \n",
    "        idx_true = find_nearest_idx(np.arange(true_monthly_min[j],true_monthly_max[j],0.5), val)\n",
    "        true = true_cdf[j][idx_true]\n",
    "        test_ranks.append(true)\n",
    "    \n"
   ]
  },
  {
   "cell_type": "code",
   "execution_count": 39,
   "metadata": {},
   "outputs": [
    {
     "data": {
      "text/plain": [
       "19087.541757309154"
      ]
     },
     "execution_count": 39,
     "metadata": {},
     "output_type": "execute_result"
    }
   ],
   "source": [
    "true_monthly_max[j]"
   ]
  },
  {
   "cell_type": "code",
   "execution_count": 32,
   "metadata": {},
   "outputs": [
    {
     "data": {
      "text/plain": [
       "[<matplotlib.lines.Line2D at 0x7fb82c36f1d0>]"
      ]
     },
     "execution_count": 32,
     "metadata": {},
     "output_type": "execute_result"
    },
    {
     "data": {
      "image/png": "[encoded data removed]",
      "text/plain": [
       "<matplotlib.figure.Figure at 0x7fb82c36f208>"
      ]
     },
     "metadata": {},
     "output_type": "display_data"
    }
   ],
   "source": [
    "plt.plot(avg_model_ranks, color=\"blue\")\n",
    "plt.plot(test_ranks, color=\"orange\")`"
   ]
  },
  {
   "cell_type": "code",
   "execution_count": null,
   "metadata": {
    "collapsed": true
   },
   "outputs": [],
   "source": [
    "plt.plot(emp_model_ranks, color=\"green\")\n",
    "plt.plot(test_ranks, color=\"orange\")"
   ]
  },
  {
   "cell_type": "code",
   "execution_count": 23,
   "metadata": {},
   "outputs": [
    {
     "name": "stdout",
     "output_type": "stream",
     "text": [
      "-11314.84803221206\n",
      "-12564.756294378507\n",
      "-13599.229487878947\n",
      "-13487.68809354506\n",
      "-12269.684188045076\n",
      "-7750.695326878896\n",
      "-6071.793923046102\n",
      "-4434.797038379357\n",
      "-9532.04401821297\n",
      "-13133.649019878578\n",
      "-13452.556273044494\n"
     ]
    }
   ],
   "source": [
    "for i in range(len(dayspermonth)):\n",
    "    print(np.min(monthly_power_vals[i]))"
   ]
  },
  {
   "cell_type": "code",
   "execution_count": 26,
   "metadata": {},
   "outputs": [
    {
     "data": {
      "text/plain": [
       "(8760,)"
      ]
     },
     "execution_count": 26,
     "metadata": {},
     "output_type": "execute_result"
    }
   ],
   "source": [
    "model.shape"
   ]
  },
  {
   "cell_type": "code",
   "execution_count": null,
   "metadata": {
    "collapsed": true
   },
   "outputs": [],
   "source": [
    "#compare perfect load forecast\n",
    "#using neural network\n",
    "#perfect and no action bars\n",
    "#cdf or load forecasting\n",
    "#time budget for load shedding"
   ]
  }
 ],
 "metadata": {
  "kernelspec": {
   "display_name": "Python [conda env:anaconda3]",
   "language": "python",
   "name": "conda-env-anaconda3-py"
  },
  "language_info": {
   "codemirror_mode": {
    "name": "ipython",
    "version": 3
   },
   "file_extension": ".py",
   "mimetype": "text/x-python",
   "name": "python",
   "nbconvert_exporter": "python",
   "pygments_lexer": "ipython3",
   "version": "3.6.3"
  }
 },
 "nbformat": 4,
 "nbformat_minor": 2
}
