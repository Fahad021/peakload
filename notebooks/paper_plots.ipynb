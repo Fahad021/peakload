{
 "cells": [
  {
   "cell_type": "code",
   "execution_count": 4,
   "metadata": {},
   "outputs": [
    {
     "name": "stdout",
     "output_type": "stream",
     "text": [
      "The autoreload extension is already loaded. To reload it, use:\n",
      "  %reload_ext autoreload\n"
     ]
    }
   ],
   "source": [
    "#im skipping leap days currently in multiple places\n",
    "import sys\n",
    "import os\n",
    "import numpy as np\n",
    "import pickle\n",
    "import matplotlib.pyplot as plt\n",
    "from matplotlib import rc\n",
    "import datetime\n",
    "import pandas as pd\n",
    "import seaborn\n",
    "import random\n",
    "import json\n",
    "import pickle\n",
    "import time\n",
    "import copy\n",
    "\n",
    "import torch\n",
    "import torchvision\n",
    "import torchvision.transforms as transforms\n",
    "from torch.autograd import Variable\n",
    "import torch.nn as nn\n",
    "import torch.nn.functional as F\n",
    "import torch.optim as optim\n",
    "\n",
    "%load_ext autoreload\n",
    "%autoreload 2\n",
    "%matplotlib inline"
   ]
  },
  {
   "cell_type": "code",
   "execution_count": 5,
   "metadata": {},
   "outputs": [],
   "source": [
    "x = np.arange(0,500,1)\n",
    "y = np.power(1.0/(1.0+x),0.7)\n",
    "\n",
    "x1 = 5\n",
    "x2 = 25\n",
    "xmax = 15\n",
    "p1 = []\n",
    "p2 = []\n",
    "for i in x:\n",
    "    p1.append(np.power(1.0/(1.0+x1),0.7))\n",
    "    p2.append(np.power(1.0/(1.0+x2),0.7))"
   ]
  },
  {
   "cell_type": "code",
   "execution_count": 6,
   "metadata": {},
   "outputs": [
    {
     "data": {
      "image/png": "[encoded data removed]",
      "text/plain": [
       "<matplotlib.figure.Figure at 0x7f9ed7db6cf8>"
      ]
     },
     "metadata": {},
     "output_type": "display_data"
    }
   ],
   "source": [
    "axes = plt.gca()\n",
    "\n",
    "plt.rc('text', usetex=True)\n",
    "\n",
    "plt.plot(x,y, lw=3, label=r\"$\\frac{\\partial g}{\\partial p}$\")\n",
    "#plt.plot([5,5],[0,np.power(1.0/(1.0+5),0.7)], color=\"red\")\n",
    "plt.plot([0,x1],[np.power(1.0/(1.0+x1),0.7),np.power(1.0/(1.0+x1),0.7)], color=\"red\")\n",
    "plt.plot([0,x2],[np.power(1.0/(1.0+x2),0.7),np.power(1.0/(1.0+x2),0.7)], color=\"red\")\n",
    "plt.plot([0,xmax],[np.power(1.0/(1.0+xmax),0.7),np.power(1.0/(1.0+xmax),0.7)], color=\"black\")\n",
    "#plt.plot(x, p1, color=\"red\")\n",
    "#plt.plot(x, p2, color=\"red\")\n",
    "plt.axvline(x = 25, ls=\"--\", color=\"red\")\n",
    "plt.axvline(x = 5, ls=\"--\", color=\"red\")\n",
    "plt.axvline(x = 15, ls=\"--\", color=\"black\")\n",
    "plt.xlim(0,35)\n",
    "plt.ylim(0,0.5)\n",
    "#plt.plot([(0,0),(1,1)])\n",
    "#ylab = plt.ylabel(r\"$\\frac{\\partial G}{\\partial p}$\", fontsize=28, labelpad=20)\n",
    "ylab = plt.ylabel(r\"$\\pi_{cp}$\", fontsize=28, labelpad=20)\n",
    "ylab.set_rotation(0)\n",
    "\n",
    "a=axes.get_xticks().tolist()\n",
    "for label in range(len(a)):\n",
    "    a[label] = ''\n",
    "a[1]='$p^{*}_{B}$'\n",
    "a[3]='$p_{max}$'\n",
    "a[5]='$p^{*}_{A}$'\n",
    "axes.set_xticklabels(a, fontsize=26)\n",
    "\n",
    "b = axes.get_yticks().tolist()\n",
    "for label in range(len(b)):\n",
    "    b[label] = ''\n",
    "axes.set_yticklabels(b)\n",
    "    \n",
    "plt.legend(fontsize=18)\n",
    "\n",
    "plt.show()"
   ]
  },
  {
   "cell_type": "code",
   "execution_count": null,
   "metadata": {
    "collapsed": true
   },
   "outputs": [],
   "source": []
  },
  {
   "cell_type": "code",
   "execution_count": null,
   "metadata": {
    "collapsed": true
   },
   "outputs": [],
   "source": []
  }
 ],
 "metadata": {
  "kernelspec": {
   "display_name": "Python [conda env:anaconda3]",
   "language": "python",
   "name": "conda-env-anaconda3-py"
  },
  "language_info": {
   "codemirror_mode": {
    "name": "ipython",
    "version": 3
   },
   "file_extension": ".py",
   "mimetype": "text/x-python",
   "name": "python",
   "nbconvert_exporter": "python",
   "pygments_lexer": "ipython3",
   "version": "3.6.3"
  }
 },
 "nbformat": 4,
 "nbformat_minor": 2
}
