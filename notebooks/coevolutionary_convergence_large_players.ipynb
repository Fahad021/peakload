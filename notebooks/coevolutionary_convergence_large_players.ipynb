{
 "cells": [
  {
   "cell_type": "code",
   "execution_count": 1,
   "metadata": {},
   "outputs": [
    {
     "data": {
      "text/html": [
       "\n",
       "<style>\n",
       "    div#notebook-container    { width: 95%; }\n",
       "    div#menubar-container     { width: 65%; }\n",
       "    div#maintoolbar-container { width: 99%; }\n",
       "</style>\n"
      ],
      "text/plain": [
       "<IPython.core.display.HTML object>"
      ]
     },
     "metadata": {},
     "output_type": "display_data"
    }
   ],
   "source": [
    "from IPython.display import display, HTML\n",
    "\n",
    "display(HTML(data=\"\"\"\n",
    "<style>\n",
    "    div#notebook-container    { width: 95%; }\n",
    "    div#menubar-container     { width: 65%; }\n",
    "    div#maintoolbar-container { width: 99%; }\n",
    "</style>\n",
    "\"\"\"))"
   ]
  },
  {
   "cell_type": "code",
   "execution_count": 3,
   "metadata": {
    "collapsed": true
   },
   "outputs": [],
   "source": [
    "import numpy as np\n",
    "import matplotlib.pyplot as plt\n",
    "from scipy.stats import *\n",
    "import copy\n",
    "import torch\n",
    "import torch.nn as nn\n",
    "import torch.nn.functional as F\n",
    "from torch.autograd import Variable\n",
    "import torch.optim as optim\n",
    "import seaborn"
   ]
  },
  {
   "cell_type": "code",
   "execution_count": 37,
   "metadata": {
    "collapsed": true
   },
   "outputs": [],
   "source": [
    "#global variables --- same as CDC paper for small players\n",
    "x_bar = 1.0   #maximum consumption\n",
    "noise_var = 1.0    #variance of noise values\n",
    "g = np.arange(0,1.1,0.1)  #discretization of space of power consumption values x \\in [0,\\bar{x}]\n",
    "s_vals = np.arange(-2.0,2.0,0.1)  #discretization of space of noise values, 98% of normal distribution with unit variance\n",
    "samples = np.random.normal(0, noise_var, size=100000)\n",
    "s_hist = np.histogram(samples, bins=np.arange(-2.0,2.1,0.1), normed=True)[0]\n",
    "s_hist = (1.0/np.linalg.norm(s_hist, ord=1)) * s_hist #probabilities over discretized noise values\n",
    "ramp_const = 0.3  #time coupling ramping constraint\n",
    "pi_cp_perc = 0.6  #ratio of pi_cp cost to total utility under a naive fixed strategy\n",
    "\n",
    "net_params = {'FEATURE_DIM': 4, 'OUTPUT_DIM': 1, 'HIDDEN_1': 16}\n",
    "\n",
    "base_path = \"/home/chase/projects/peakload/notebooks/\" #change this to path to notebook + data"
   ]
  },
  {
   "cell_type": "code",
   "execution_count": 38,
   "metadata": {
    "collapsed": true
   },
   "outputs": [],
   "source": [
    "def player_log_utility(x, a=1):\n",
    "    #sum across multiple values or return single play value\n",
    "    #a is player reward scale\n",
    "    if type(x) == np.ndarray:\n",
    "        return(a*np.sum(np.log(1 + x)))\n",
    "    elif type(x) == torch.Tensor:\n",
    "        x = np.asarray(x)\n",
    "        return(a*np.sum(np.log(1 + x)))\n",
    "    else:\n",
    "        return(a*np.log(1 + x))\n",
    "    \n",
    "def cp_round(plays_array):\n",
    "    #inputs is players + noise x plays array\n",
    "    return(np.argmax(np.sum(plays_array, axis=0)))\n",
    "           \n",
    "def player_reward(player_ind, plays_array, pi_cp, a=1):\n",
    "    plays = plays_array[player_ind,:]\n",
    "    cp_r = cp_round(plays_array)\n",
    "    reward = player_log_utility(plays, a) - pi_cp*plays[cp_r]\n",
    "    return(reward)\n",
    "\n",
    "def perturb_player(player_net, step_size=1e-1):\n",
    "    out = copy.deepcopy(player_net)\n",
    "    out.l1.weight.data += step_size*torch.randn(out.l1.weight.data.size())\n",
    "    out.l2.weight.data += step_size*torch.randn(out.l2.weight.data.size())\n",
    "    return(out)\n",
    "\n",
    "def mutate_player(player_net):\n",
    "    out = copy.deepcopy(player_net)\n",
    "    out.l1.weight.data = torch.randn(out.l1.weight.data.size())\n",
    "    out.l2.weight.data = torch.randn(out.l2.weight.data.size())\n",
    "    return(out)\n",
    "\n",
    "def moving_average(a, n=3) :\n",
    "    ret = np.cumsum(a, dtype=float)\n",
    "    ret[n:] = ret[n:] - ret[:-n]\n",
    "    return ret[n - 1:] / n"
   ]
  },
  {
   "cell_type": "code",
   "execution_count": 39,
   "metadata": {
    "collapsed": true
   },
   "outputs": [],
   "source": [
    "class nnet(nn.Module):\n",
    "    #a linear neural network with a sigmoid activiation function and a single hidden layer\n",
    "    def __init__(self, params):\n",
    "        super(nnet, self).__init__()\n",
    "        self.D_in = params['FEATURE_DIM']\n",
    "        self.H1 = params['HIDDEN_1']\n",
    "        self.D_out = params['OUTPUT_DIM']\n",
    "        self.l1 = nn.Linear(self.D_in, self.H1)\n",
    "        self.l2 = nn.Linear(self.H1, self.D_out)\n",
    "    \n",
    "    def forward(self, x):\n",
    "        x = torch.sigmoid(self.l1(x)) #sigmoid activation\n",
    "        x = self.l2(x) #hidden layer\n",
    "        return(x)"
   ]
  },
  {
   "cell_type": "code",
   "execution_count": null,
   "metadata": {
    "collapsed": true
   },
   "outputs": [],
   "source": []
  },
  {
   "cell_type": "code",
   "execution_count": 75,
   "metadata": {},
   "outputs": [
    {
     "name": "stdout",
     "output_type": "stream",
     "text": [
      "epoch:  0\n",
      "epoch:  1000\n",
      "epoch:  2000\n",
      "epoch:  3000\n",
      "epoch:  4000\n",
      "epoch:  5000\n",
      "epoch:  6000\n",
      "epoch:  7000\n",
      "epoch:  8000\n",
      "epoch:  9000\n",
      "epoch:  10000\n",
      "epoch:  11000\n",
      "epoch:  12000\n",
      "epoch:  13000\n",
      "epoch:  14000\n",
      "epoch:  15000\n",
      "epoch:  16000\n",
      "epoch:  17000\n",
      "epoch:  18000\n",
      "epoch:  19000\n",
      "epoch:  20000\n",
      "epoch:  21000\n",
      "epoch:  22000\n",
      "epoch:  23000\n",
      "epoch:  24000\n",
      "epoch:  25000\n",
      "epoch:  26000\n",
      "epoch:  27000\n",
      "epoch:  28000\n",
      "epoch:  29000\n",
      "epoch:  30000\n",
      "epoch:  31000\n",
      "epoch:  32000\n",
      "epoch:  33000\n",
      "epoch:  34000\n",
      "epoch:  35000\n",
      "epoch:  36000\n",
      "epoch:  37000\n",
      "epoch:  38000\n",
      "epoch:  39000\n",
      "epoch:  40000\n",
      "epoch:  41000\n",
      "epoch:  42000\n",
      "epoch:  43000\n",
      "epoch:  44000\n",
      "epoch:  45000\n",
      "epoch:  46000\n",
      "epoch:  47000\n",
      "epoch:  48000\n",
      "epoch:  49000\n",
      "epoch:  50000\n",
      "epoch:  51000\n",
      "epoch:  52000\n",
      "epoch:  53000\n",
      "epoch:  54000\n",
      "epoch:  55000\n",
      "epoch:  56000\n",
      "epoch:  57000\n",
      "epoch:  58000\n",
      "epoch:  59000\n",
      "epoch:  60000\n",
      "epoch:  61000\n",
      "epoch:  62000\n",
      "epoch:  63000\n",
      "epoch:  64000\n",
      "epoch:  65000\n",
      "epoch:  66000\n",
      "epoch:  67000\n",
      "epoch:  68000\n",
      "epoch:  69000\n",
      "epoch:  70000\n",
      "epoch:  71000\n",
      "epoch:  72000\n",
      "epoch:  73000\n",
      "epoch:  74000\n",
      "epoch:  75000\n",
      "epoch:  76000\n",
      "epoch:  77000\n",
      "epoch:  78000\n",
      "epoch:  79000\n",
      "epoch:  80000\n",
      "epoch:  81000\n",
      "epoch:  82000\n",
      "epoch:  83000\n",
      "epoch:  84000\n",
      "epoch:  85000\n",
      "epoch:  86000\n",
      "epoch:  87000\n",
      "epoch:  88000\n",
      "epoch:  89000\n",
      "epoch:  90000\n",
      "epoch:  91000\n",
      "epoch:  92000\n",
      "epoch:  93000\n",
      "epoch:  94000\n",
      "epoch:  95000\n",
      "epoch:  96000\n",
      "epoch:  97000\n",
      "epoch:  98000\n",
      "epoch:  99000\n",
      "epoch:  100000\n",
      "epoch:  101000\n",
      "epoch:  102000\n",
      "epoch:  103000\n",
      "epoch:  104000\n",
      "epoch:  105000\n",
      "epoch:  106000\n",
      "epoch:  107000\n",
      "epoch:  108000\n",
      "epoch:  109000\n",
      "epoch:  110000\n",
      "epoch:  111000\n",
      "epoch:  112000\n",
      "epoch:  113000\n",
      "epoch:  114000\n",
      "epoch:  115000\n",
      "epoch:  116000\n",
      "epoch:  117000\n",
      "epoch:  118000\n",
      "epoch:  119000\n",
      "epoch:  120000\n",
      "epoch:  121000\n",
      "epoch:  122000\n",
      "epoch:  123000\n",
      "epoch:  124000\n",
      "epoch:  125000\n",
      "epoch:  126000\n",
      "epoch:  127000\n",
      "epoch:  128000\n",
      "epoch:  129000\n",
      "epoch:  130000\n",
      "epoch:  131000\n",
      "epoch:  132000\n",
      "epoch:  133000\n",
      "epoch:  134000\n",
      "epoch:  135000\n",
      "epoch:  136000\n",
      "epoch:  137000\n",
      "epoch:  138000\n",
      "epoch:  139000\n",
      "epoch:  140000\n",
      "epoch:  141000\n",
      "epoch:  142000\n",
      "epoch:  143000\n",
      "epoch:  144000\n",
      "epoch:  145000\n",
      "epoch:  146000\n",
      "epoch:  147000\n",
      "epoch:  148000\n",
      "epoch:  149000\n",
      "epoch:  150000\n",
      "epoch:  151000\n",
      "epoch:  152000\n",
      "epoch:  153000\n",
      "epoch:  154000\n",
      "epoch:  155000\n",
      "epoch:  156000\n",
      "epoch:  157000\n",
      "epoch:  158000\n",
      "epoch:  159000\n",
      "epoch:  160000\n",
      "epoch:  161000\n",
      "epoch:  162000\n",
      "epoch:  163000\n",
      "epoch:  164000\n",
      "epoch:  165000\n",
      "epoch:  166000\n",
      "epoch:  167000\n",
      "epoch:  168000\n",
      "epoch:  169000\n",
      "epoch:  170000\n",
      "epoch:  171000\n",
      "epoch:  172000\n",
      "epoch:  173000\n",
      "epoch:  174000\n",
      "epoch:  175000\n",
      "epoch:  176000\n",
      "epoch:  177000\n",
      "epoch:  178000\n",
      "epoch:  179000\n",
      "epoch:  180000\n",
      "epoch:  181000\n",
      "epoch:  182000\n",
      "epoch:  183000\n",
      "epoch:  184000\n",
      "epoch:  185000\n",
      "epoch:  186000\n",
      "epoch:  187000\n",
      "epoch:  188000\n",
      "epoch:  189000\n",
      "epoch:  190000\n",
      "epoch:  191000\n",
      "epoch:  192000\n",
      "epoch:  193000\n",
      "epoch:  194000\n",
      "epoch:  195000\n",
      "epoch:  196000\n",
      "epoch:  197000\n",
      "epoch:  198000\n",
      "epoch:  199000\n",
      "epoch:  200000\n",
      "epoch:  201000\n",
      "epoch:  202000\n",
      "epoch:  203000\n",
      "epoch:  204000\n",
      "epoch:  205000\n",
      "epoch:  206000\n",
      "epoch:  207000\n",
      "epoch:  208000\n",
      "epoch:  209000\n",
      "epoch:  210000\n",
      "epoch:  211000\n",
      "epoch:  212000\n",
      "epoch:  213000\n",
      "epoch:  214000\n",
      "epoch:  215000\n",
      "epoch:  216000\n",
      "epoch:  217000\n",
      "epoch:  218000\n",
      "epoch:  219000\n",
      "epoch:  220000\n",
      "epoch:  221000\n",
      "epoch:  222000\n",
      "epoch:  223000\n",
      "epoch:  224000\n",
      "epoch:  225000\n",
      "epoch:  226000\n",
      "epoch:  227000\n",
      "epoch:  228000\n",
      "epoch:  229000\n",
      "epoch:  230000\n",
      "epoch:  231000\n",
      "epoch:  232000\n",
      "epoch:  233000\n",
      "epoch:  234000\n",
      "epoch:  235000\n",
      "epoch:  236000\n",
      "epoch:  237000\n",
      "epoch:  238000\n",
      "epoch:  239000\n",
      "epoch:  240000\n",
      "epoch:  241000\n",
      "epoch:  242000\n",
      "epoch:  243000\n",
      "epoch:  244000\n",
      "epoch:  245000\n",
      "epoch:  246000\n",
      "epoch:  247000\n",
      "epoch:  248000\n",
      "epoch:  249000\n",
      "epoch:  250000\n",
      "epoch:  251000\n",
      "epoch:  252000\n",
      "epoch:  253000\n",
      "epoch:  254000\n",
      "epoch:  255000\n",
      "epoch:  256000\n",
      "epoch:  257000\n",
      "epoch:  258000\n",
      "epoch:  259000\n",
      "epoch:  260000\n",
      "epoch:  261000\n",
      "epoch:  262000\n",
      "epoch:  263000\n",
      "epoch:  264000\n",
      "epoch:  265000\n",
      "epoch:  266000\n",
      "epoch:  267000\n",
      "epoch:  268000\n",
      "epoch:  269000\n",
      "epoch:  270000\n",
      "epoch:  271000\n",
      "epoch:  272000\n",
      "epoch:  273000\n",
      "epoch:  274000\n",
      "epoch:  275000\n",
      "epoch:  276000\n",
      "epoch:  277000\n",
      "epoch:  278000\n",
      "epoch:  279000\n",
      "epoch:  280000\n",
      "epoch:  281000\n",
      "epoch:  282000\n",
      "epoch:  283000\n",
      "epoch:  284000\n",
      "epoch:  285000\n",
      "epoch:  286000\n",
      "epoch:  287000\n",
      "epoch:  288000\n",
      "epoch:  289000\n",
      "epoch:  290000\n",
      "epoch:  291000\n",
      "epoch:  292000\n",
      "epoch:  293000\n",
      "epoch:  294000\n",
      "epoch:  295000\n",
      "epoch:  296000\n",
      "epoch:  297000\n",
      "epoch:  298000\n",
      "epoch:  299000\n",
      "epoch:  300000\n",
      "epoch:  301000\n",
      "epoch:  302000\n",
      "epoch:  303000\n",
      "epoch:  304000\n",
      "epoch:  305000\n",
      "epoch:  306000\n",
      "epoch:  307000\n",
      "epoch:  308000\n",
      "epoch:  309000\n",
      "epoch:  310000\n",
      "epoch:  311000\n",
      "epoch:  312000\n",
      "epoch:  313000\n",
      "epoch:  314000\n",
      "epoch:  315000\n",
      "epoch:  316000\n",
      "epoch:  317000\n",
      "epoch:  318000\n",
      "epoch:  319000\n",
      "epoch:  320000\n",
      "epoch:  321000\n",
      "epoch:  322000\n",
      "epoch:  323000\n",
      "epoch:  324000\n",
      "epoch:  325000\n",
      "epoch:  326000\n",
      "epoch:  327000\n",
      "epoch:  328000\n",
      "epoch:  329000\n",
      "epoch:  330000\n",
      "epoch:  331000\n",
      "epoch:  332000\n",
      "epoch:  333000\n",
      "epoch:  334000\n",
      "epoch:  335000\n",
      "epoch:  336000\n",
      "epoch:  337000\n",
      "epoch:  338000\n",
      "epoch:  339000\n",
      "epoch:  340000\n",
      "epoch:  341000\n",
      "epoch:  342000\n",
      "epoch:  343000\n",
      "epoch:  344000\n",
      "epoch:  345000\n",
      "epoch:  346000\n",
      "epoch:  347000\n",
      "epoch:  348000\n",
      "epoch:  349000\n",
      "epoch:  350000\n",
      "epoch:  351000\n",
      "epoch:  352000\n",
      "epoch:  353000\n",
      "epoch:  354000\n",
      "epoch:  355000\n",
      "epoch:  356000\n",
      "epoch:  357000\n",
      "epoch:  358000\n",
      "epoch:  359000\n",
      "epoch:  360000\n",
      "epoch:  361000\n",
      "epoch:  362000\n",
      "epoch:  363000\n",
      "epoch:  364000\n",
      "epoch:  365000\n",
      "epoch:  366000\n",
      "epoch:  367000\n",
      "epoch:  368000\n",
      "epoch:  369000\n",
      "epoch:  370000\n",
      "epoch:  371000\n",
      "epoch:  372000\n",
      "epoch:  373000\n",
      "epoch:  374000\n",
      "epoch:  375000\n",
      "epoch:  376000\n",
      "epoch:  377000\n",
      "epoch:  378000\n",
      "epoch:  379000\n",
      "epoch:  380000\n",
      "epoch:  381000\n",
      "epoch:  382000\n",
      "epoch:  383000\n",
      "epoch:  384000\n",
      "epoch:  385000\n",
      "epoch:  386000\n",
      "epoch:  387000\n",
      "epoch:  388000\n",
      "epoch:  389000\n",
      "epoch:  390000\n",
      "epoch:  391000\n",
      "epoch:  392000\n",
      "epoch:  393000\n",
      "epoch:  394000\n",
      "epoch:  395000\n",
      "epoch:  396000\n",
      "epoch:  397000\n",
      "epoch:  398000\n",
      "epoch:  399000\n",
      "epoch:  400000\n",
      "epoch:  401000\n",
      "epoch:  402000\n",
      "epoch:  403000\n",
      "epoch:  404000\n",
      "epoch:  405000\n",
      "epoch:  406000\n",
      "epoch:  407000\n",
      "epoch:  408000\n",
      "epoch:  409000\n",
      "epoch:  410000\n",
      "epoch:  411000\n",
      "epoch:  412000\n",
      "epoch:  413000\n",
      "epoch:  414000\n",
      "epoch:  415000\n",
      "epoch:  416000\n",
      "epoch:  417000\n",
      "epoch:  418000\n",
      "epoch:  419000\n",
      "epoch:  420000\n",
      "epoch:  421000\n",
      "epoch:  422000\n",
      "epoch:  423000\n",
      "epoch:  424000\n",
      "epoch:  425000\n",
      "epoch:  426000\n",
      "epoch:  427000\n",
      "epoch:  428000\n",
      "epoch:  429000\n",
      "epoch:  430000\n",
      "epoch:  431000\n",
      "epoch:  432000\n",
      "epoch:  433000\n",
      "epoch:  434000\n",
      "epoch:  435000\n",
      "epoch:  436000\n",
      "epoch:  437000\n",
      "epoch:  438000\n",
      "epoch:  439000\n",
      "epoch:  440000\n",
      "epoch:  441000\n",
      "epoch:  442000\n",
      "epoch:  443000\n",
      "epoch:  444000\n",
      "epoch:  445000\n",
      "epoch:  446000\n",
      "epoch:  447000\n",
      "epoch:  448000\n",
      "epoch:  449000\n",
      "epoch:  450000\n",
      "epoch:  451000\n",
      "epoch:  452000\n",
      "epoch:  453000\n",
      "epoch:  454000\n",
      "epoch:  455000\n",
      "epoch:  456000\n",
      "epoch:  457000\n",
      "epoch:  458000\n",
      "epoch:  459000\n",
      "epoch:  460000\n",
      "epoch:  461000\n",
      "epoch:  462000\n",
      "epoch:  463000\n",
      "epoch:  464000\n",
      "epoch:  465000\n",
      "epoch:  466000\n",
      "epoch:  467000\n",
      "epoch:  468000\n",
      "epoch:  469000\n",
      "epoch:  470000\n",
      "epoch:  471000\n",
      "epoch:  472000\n",
      "epoch:  473000\n",
      "epoch:  474000\n",
      "epoch:  475000\n",
      "epoch:  476000\n",
      "epoch:  477000\n",
      "epoch:  478000\n",
      "epoch:  479000\n",
      "epoch:  480000\n",
      "epoch:  481000\n",
      "epoch:  482000\n",
      "epoch:  483000\n",
      "epoch:  484000\n",
      "epoch:  485000\n",
      "epoch:  486000\n",
      "epoch:  487000\n",
      "epoch:  488000\n",
      "epoch:  489000\n",
      "epoch:  490000\n",
      "epoch:  491000\n",
      "epoch:  492000\n",
      "epoch:  493000\n",
      "epoch:  494000\n",
      "epoch:  495000\n",
      "epoch:  496000\n",
      "epoch:  497000\n",
      "epoch:  498000\n",
      "epoch:  499000\n",
      "epoch:  500000\n",
      "epoch:  501000\n",
      "epoch:  502000\n",
      "epoch:  503000\n",
      "epoch:  504000\n",
      "epoch:  505000\n",
      "epoch:  506000\n",
      "epoch:  507000\n",
      "epoch:  508000\n",
      "epoch:  509000\n",
      "epoch:  510000\n",
      "epoch:  511000\n",
      "epoch:  512000\n",
      "epoch:  513000\n",
      "epoch:  514000\n",
      "epoch:  515000\n",
      "epoch:  516000\n",
      "epoch:  517000\n",
      "epoch:  518000\n",
      "epoch:  519000\n",
      "epoch:  520000\n",
      "epoch:  521000\n",
      "epoch:  522000\n",
      "epoch:  523000\n",
      "epoch:  524000\n",
      "epoch:  525000\n",
      "epoch:  526000\n",
      "epoch:  527000\n",
      "epoch:  528000\n",
      "epoch:  529000\n",
      "epoch:  530000\n",
      "epoch:  531000\n",
      "epoch:  532000\n",
      "epoch:  533000\n",
      "epoch:  534000\n",
      "epoch:  535000\n",
      "epoch:  536000\n",
      "epoch:  537000\n",
      "epoch:  538000\n",
      "epoch:  539000\n",
      "epoch:  540000\n",
      "epoch:  541000\n",
      "epoch:  542000\n",
      "epoch:  543000\n",
      "epoch:  544000\n",
      "epoch:  545000\n",
      "epoch:  546000\n",
      "epoch:  547000\n",
      "epoch:  548000\n",
      "epoch:  549000\n",
      "epoch:  550000\n",
      "epoch:  551000\n",
      "epoch:  552000\n",
      "epoch:  553000\n"
     ]
    },
    {
     "name": "stdout",
     "output_type": "stream",
     "text": [
      "epoch:  554000\n",
      "epoch:  555000\n",
      "epoch:  556000\n",
      "epoch:  557000\n",
      "epoch:  558000\n",
      "epoch:  559000\n",
      "epoch:  560000\n",
      "epoch:  561000\n",
      "epoch:  562000\n",
      "epoch:  563000\n",
      "epoch:  564000\n",
      "epoch:  565000\n",
      "epoch:  566000\n",
      "epoch:  567000\n",
      "epoch:  568000\n",
      "epoch:  569000\n",
      "epoch:  570000\n",
      "epoch:  571000\n",
      "epoch:  572000\n",
      "epoch:  573000\n",
      "epoch:  574000\n",
      "epoch:  575000\n",
      "epoch:  576000\n",
      "epoch:  577000\n",
      "epoch:  578000\n",
      "epoch:  579000\n",
      "epoch:  580000\n",
      "epoch:  581000\n",
      "epoch:  582000\n",
      "epoch:  583000\n",
      "epoch:  584000\n",
      "epoch:  585000\n",
      "epoch:  586000\n",
      "epoch:  587000\n",
      "epoch:  588000\n",
      "epoch:  589000\n",
      "epoch:  590000\n",
      "epoch:  591000\n",
      "epoch:  592000\n",
      "epoch:  593000\n",
      "epoch:  594000\n",
      "epoch:  595000\n",
      "epoch:  596000\n"
     ]
    },
    {
     "ename": "KeyboardInterrupt",
     "evalue": "",
     "output_type": "error",
     "traceback": [
      "\u001b[0;31m---------------------------------------------------------------------------\u001b[0m",
      "\u001b[0;31mKeyboardInterrupt\u001b[0m                         Traceback (most recent call last)",
      "\u001b[0;32m<ipython-input-75-bf72d305b64d>\u001b[0m in \u001b[0;36m<module>\u001b[0;34m()\u001b[0m\n\u001b[1;32m     80\u001b[0m             \u001b[0mplayer_1\u001b[0m \u001b[0;34m=\u001b[0m \u001b[0mmutate_player\u001b[0m\u001b[0;34m(\u001b[0m\u001b[0mplayer_2\u001b[0m\u001b[0;34m)\u001b[0m\u001b[0;34m\u001b[0m\u001b[0;34m\u001b[0m\u001b[0m\n\u001b[1;32m     81\u001b[0m         \u001b[0;32melse\u001b[0m\u001b[0;34m:\u001b[0m\u001b[0;34m\u001b[0m\u001b[0;34m\u001b[0m\u001b[0m\n\u001b[0;32m---> 82\u001b[0;31m             \u001b[0mplayer_1\u001b[0m \u001b[0;34m=\u001b[0m \u001b[0mperturb_player\u001b[0m\u001b[0;34m(\u001b[0m\u001b[0mplayer_2\u001b[0m\u001b[0;34m)\u001b[0m\u001b[0;34m\u001b[0m\u001b[0;34m\u001b[0m\u001b[0m\n\u001b[0m\u001b[1;32m     83\u001b[0m         \u001b[0mbest_reward\u001b[0m\u001b[0;34m.\u001b[0m\u001b[0mappend\u001b[0m\u001b[0;34m(\u001b[0m\u001b[0mplayer_reward_2\u001b[0m\u001b[0;34m)\u001b[0m\u001b[0;34m\u001b[0m\u001b[0;34m\u001b[0m\u001b[0m\n\u001b[1;32m     84\u001b[0m         \u001b[0mwinner\u001b[0m\u001b[0;34m.\u001b[0m\u001b[0mappend\u001b[0m\u001b[0;34m(\u001b[0m\u001b[0;36m2\u001b[0m\u001b[0;34m)\u001b[0m\u001b[0;34m\u001b[0m\u001b[0;34m\u001b[0m\u001b[0m\n",
      "\u001b[0;32m<ipython-input-38-0ac969f73768>\u001b[0m in \u001b[0;36mperturb_player\u001b[0;34m(player_net, step_size)\u001b[0m\n\u001b[1;32m     22\u001b[0m \u001b[0;32mdef\u001b[0m \u001b[0mperturb_player\u001b[0m\u001b[0;34m(\u001b[0m\u001b[0mplayer_net\u001b[0m\u001b[0;34m,\u001b[0m \u001b[0mstep_size\u001b[0m\u001b[0;34m=\u001b[0m\u001b[0;36m1e-1\u001b[0m\u001b[0;34m)\u001b[0m\u001b[0;34m:\u001b[0m\u001b[0;34m\u001b[0m\u001b[0;34m\u001b[0m\u001b[0m\n\u001b[1;32m     23\u001b[0m     \u001b[0mout\u001b[0m \u001b[0;34m=\u001b[0m \u001b[0mcopy\u001b[0m\u001b[0;34m.\u001b[0m\u001b[0mdeepcopy\u001b[0m\u001b[0;34m(\u001b[0m\u001b[0mplayer_net\u001b[0m\u001b[0;34m)\u001b[0m\u001b[0;34m\u001b[0m\u001b[0;34m\u001b[0m\u001b[0m\n\u001b[0;32m---> 24\u001b[0;31m     \u001b[0mout\u001b[0m\u001b[0;34m.\u001b[0m\u001b[0ml1\u001b[0m\u001b[0;34m.\u001b[0m\u001b[0mweight\u001b[0m\u001b[0;34m.\u001b[0m\u001b[0mdata\u001b[0m \u001b[0;34m+=\u001b[0m \u001b[0mstep_size\u001b[0m\u001b[0;34m*\u001b[0m\u001b[0mtorch\u001b[0m\u001b[0;34m.\u001b[0m\u001b[0mrandn\u001b[0m\u001b[0;34m(\u001b[0m\u001b[0mout\u001b[0m\u001b[0;34m.\u001b[0m\u001b[0ml1\u001b[0m\u001b[0;34m.\u001b[0m\u001b[0mweight\u001b[0m\u001b[0;34m.\u001b[0m\u001b[0mdata\u001b[0m\u001b[0;34m.\u001b[0m\u001b[0msize\u001b[0m\u001b[0;34m(\u001b[0m\u001b[0;34m)\u001b[0m\u001b[0;34m)\u001b[0m\u001b[0;34m\u001b[0m\u001b[0;34m\u001b[0m\u001b[0m\n\u001b[0m\u001b[1;32m     25\u001b[0m     \u001b[0mout\u001b[0m\u001b[0;34m.\u001b[0m\u001b[0ml2\u001b[0m\u001b[0;34m.\u001b[0m\u001b[0mweight\u001b[0m\u001b[0;34m.\u001b[0m\u001b[0mdata\u001b[0m \u001b[0;34m+=\u001b[0m \u001b[0mstep_size\u001b[0m\u001b[0;34m*\u001b[0m\u001b[0mtorch\u001b[0m\u001b[0;34m.\u001b[0m\u001b[0mrandn\u001b[0m\u001b[0;34m(\u001b[0m\u001b[0mout\u001b[0m\u001b[0;34m.\u001b[0m\u001b[0ml2\u001b[0m\u001b[0;34m.\u001b[0m\u001b[0mweight\u001b[0m\u001b[0;34m.\u001b[0m\u001b[0mdata\u001b[0m\u001b[0;34m.\u001b[0m\u001b[0msize\u001b[0m\u001b[0;34m(\u001b[0m\u001b[0;34m)\u001b[0m\u001b[0;34m)\u001b[0m\u001b[0;34m\u001b[0m\u001b[0;34m\u001b[0m\u001b[0m\n\u001b[1;32m     26\u001b[0m     \u001b[0;32mreturn\u001b[0m\u001b[0;34m(\u001b[0m\u001b[0mout\u001b[0m\u001b[0;34m)\u001b[0m\u001b[0;34m\u001b[0m\u001b[0;34m\u001b[0m\u001b[0m\n",
      "\u001b[0;31mKeyboardInterrupt\u001b[0m: "
     ]
    }
   ],
   "source": [
    "#randomly initialize weights in network, perturb weights to evolve\n",
    "\n",
    "#create two independent players\n",
    "#for epoch\n",
    "    #evaluate players\n",
    "    #select best player, replace worst player with evolved best player\n",
    "T = 2 \n",
    "#pi_cp = pi_cp_perc*T*player_log_utility(x_bar)\n",
    "pi_cp = 1.2\n",
    "    \n",
    "player_1 = nnet(net_params)\n",
    "player_2 = mutate_player(player_1)\n",
    "\n",
    "epochs = 1000000\n",
    "\n",
    "player_1_init = 0.88\n",
    "player_2_init = 0.88\n",
    "\n",
    "best_reward = []\n",
    "winner = []\n",
    "\n",
    "for e in range(epochs):\n",
    "    if e % 1000 == 0:\n",
    "        print(\"epoch: \", e)\n",
    "    plays = np.zeros((3,T))\n",
    "    plays[0,0] = player_1_init #np.random.uniform(0.8,0.91)\n",
    "    plays[1,0] = player_2_init #np.random.uniform(0.75,0.95)\n",
    "    plays[2,0] = np.random.normal(0,noise_var)\n",
    "    max_so_far = 0.0\n",
    "    for t in range(1,T):\n",
    "        rounds_left = float(T - t)/float(T)\n",
    "        \n",
    "        player_1_input = Variable(torch.Tensor([[plays[0,t-1], max_so_far, rounds_left, 1.0]]))\n",
    "        player_2_input = Variable(torch.Tensor([[plays[1,t-1], max_so_far, rounds_left, 1.0]]))\n",
    "        \n",
    "        player_1_next = player_1(player_1_input)\n",
    "        player_2_next = player_2(player_2_input)\n",
    "        \n",
    "        player_1_next = float(player_1_next.data)\n",
    "        player_2_next = float(player_2_next.data)\n",
    "\n",
    "        if np.abs(plays[0,t-1] - player_1_next) > ramp_const:\n",
    "            if plays[0,t-1] < player_1_next:\n",
    "                player_1_next = plays[0,t-1] + ramp_const\n",
    "            else:\n",
    "                player_1_next = plays[0,t-1] - ramp_const\n",
    "                \n",
    "        if player_1_next < 0.0: player_1_next = 0.0\n",
    "        if player_1_next > x_bar: player_1_next = x_bar\n",
    "            \n",
    "        if np.abs(plays[1,t-1] - player_2_next) > ramp_const:\n",
    "            if plays[1,t-1] < player_2_next:\n",
    "                player_2_next = plays[1,t-1] + ramp_const\n",
    "            else:\n",
    "                player_2_next = plays[1,t-1] - ramp_const\n",
    "                \n",
    "        if player_2_next < 0.0: player_2_next = 0.0\n",
    "        if player_2_next > x_bar: player_2_next = x_bar\n",
    "        \n",
    "        plays[0,t] = player_1_next\n",
    "        plays[1,t] = player_2_next\n",
    "        \n",
    "        plays[2,t] = np.random.normal(0,noise_var)\n",
    "        max_so_far = np.sum(plays[:,cp_round(plays)]) #close to normalized\n",
    "        \n",
    "    player_reward_1 = player_reward(0, plays, pi_cp)\n",
    "    player_reward_2 = player_reward(1, plays, pi_cp)\n",
    "\n",
    "    if player_reward_1 > player_reward_2:\n",
    "        #keep player 1, throw out player 2\n",
    "        if e % 100 == 0:\n",
    "            player_2 = mutate_player(player_1)\n",
    "        else:\n",
    "            player_2 = perturb_player(player_1)\n",
    "        best_reward.append(player_reward_1)\n",
    "        winner.append(1)\n",
    "    else:\n",
    "        #visa versa\n",
    "        if e % 100 == 0:\n",
    "            player_1 = mutate_player(player_2)\n",
    "        else:\n",
    "            player_1 = perturb_player(player_2)\n",
    "        best_reward.append(player_reward_2)\n",
    "        winner.append(2)"
   ]
  },
  {
   "cell_type": "code",
   "execution_count": null,
   "metadata": {
    "collapsed": true
   },
   "outputs": [],
   "source": []
  },
  {
   "cell_type": "code",
   "execution_count": 76,
   "metadata": {},
   "outputs": [
    {
     "data": {
      "image/png": "[encoded data removed]",
      "text/plain": [
       "<matplotlib.figure.Figure at 0x7f8a00ca09b0>"
      ]
     },
     "metadata": {},
     "output_type": "display_data"
    }
   ],
   "source": [
    "plt.plot(moving_average(winner, 10000))\n",
    "plt.show()"
   ]
  },
  {
   "cell_type": "code",
   "execution_count": 77,
   "metadata": {},
   "outputs": [
    {
     "name": "stdout",
     "output_type": "stream",
     "text": [
      "1.2\n"
     ]
    }
   ],
   "source": [
    "#calculate naive optimal\n",
    "nopt = 2*player_log_utility(0.88) - pi_cp*0.88\n",
    "print(pi_cp)"
   ]
  },
  {
   "cell_type": "code",
   "execution_count": 78,
   "metadata": {},
   "outputs": [
    {
     "data": {
      "image/png": "[encoded data removed]",
      "text/plain": [
       "<matplotlib.figure.Figure at 0x7f8a00ca06a0>"
      ]
     },
     "metadata": {},
     "output_type": "display_data"
    }
   ],
   "source": [
    "out = moving_average(best_reward, 10000)\n",
    "plt.plot(out)\n",
    "plt.plot([nopt for i in range(len(out))])\n",
    "plt.show()"
   ]
  },
  {
   "cell_type": "code",
   "execution_count": 10,
   "metadata": {},
   "outputs": [
    {
     "data": {
      "text/plain": [
       "0.36297018901463585"
      ]
     },
     "execution_count": 10,
     "metadata": {},
     "output_type": "execute_result"
    }
   ],
   "source": [
    "player_reward(0, plays, pi_cp)"
   ]
  },
  {
   "cell_type": "code",
   "execution_count": 11,
   "metadata": {},
   "outputs": [
    {
     "data": {
      "text/plain": [
       "0.9702619188082341"
      ]
     },
     "execution_count": 11,
     "metadata": {},
     "output_type": "execute_result"
    }
   ],
   "source": [
    "max_so_far"
   ]
  },
  {
   "cell_type": "code",
   "execution_count": 12,
   "metadata": {},
   "outputs": [
    {
     "data": {
      "text/plain": [
       "1.50094"
      ]
     },
     "execution_count": 12,
     "metadata": {},
     "output_type": "execute_result"
    }
   ],
   "source": [
    "np.mean(winner)"
   ]
  },
  {
   "cell_type": "code",
   "execution_count": null,
   "metadata": {
    "collapsed": true
   },
   "outputs": [],
   "source": []
  },
  {
   "cell_type": "code",
   "execution_count": 86,
   "metadata": {},
   "outputs": [
    {
     "name": "stdout",
     "output_type": "stream",
     "text": [
      "-0.289568156003952\n",
      "-0.29055407643318176\n",
      "-0.29168859124183655\n",
      "-0.29296037554740906\n",
      "-0.2943139970302582\n",
      "-0.29562923312187195\n",
      "-0.29669681191444397\n",
      "-0.2971935570240021\n",
      "-0.29666104912757874\n",
      "-0.29449930787086487\n",
      "-0.2899869978427887\n",
      "-0.28236618638038635\n",
      "-0.2710219919681549\n",
      "-0.25581398606300354\n",
      "-0.23758378624916077\n",
      "-0.21880069375038147\n",
      "-0.20410528779029846\n",
      "-0.2001747190952301\n",
      "-0.21398642659187317\n",
      "-0.24893668293952942\n",
      "-0.3004104197025299\n",
      "-0.3552456200122833\n",
      "-0.39783886075019836\n",
      "-0.4183667004108429\n",
      "-0.41590407490730286\n",
      "-0.3956129848957062\n",
      "-0.36439064145088196\n",
      "-0.32813289761543274\n",
      "-0.2908928692340851\n",
      "-0.2550494968891144\n",
      "-0.22177556157112122\n",
      "-0.191485196352005\n",
      "-0.16415050625801086\n",
      "-0.13952401280403137\n",
      "-0.11726740002632141\n",
      "-0.0970325767993927\n",
      "-0.07849958539009094\n",
      "-0.06140068173408508\n",
      "-0.045518189668655396\n",
      "-0.030688315629959106\n"
     ]
    }
   ],
   "source": [
    "#plot of policy for T = 2\n",
    "x_curr_i = 2\n",
    "x_curr = g[x_curr_i]\n",
    "g_const = g[(g <= g[x_curr_i] + ramp_const) & (g >= g[x_curr_i] - ramp_const)]\n",
    "T = 5\n",
    "\n",
    "policies = []\n",
    "\n",
    "for t in [1]:#[1,2,3,8,9]:\n",
    "    net = player_1\n",
    "\n",
    "    policy = []\n",
    "    for s in 2.0*s_vals:\n",
    "        inputvec = torch.Tensor(np.array([x_curr, s, float(T-t)/float(T), 1.0])).unsqueeze(1).transpose(1,0)\n",
    "\n",
    "        play_output = net(inputvec)\n",
    "        play = float(play_output.data[0,0])\n",
    "        print(play)\n",
    "        #snap to nearest value in range\n",
    "        if play > x_bar: play = x_bar\n",
    "        if play < 0.0: play = 0.0\n",
    "\n",
    "        #snap to nearest feasible value if constraints violated\n",
    "        if np.abs(x_curr - play) > ramp_const:\n",
    "            if play > x_curr: play = x_curr + ramp_const\n",
    "            if play < x_curr: play = x_curr - ramp_const\n",
    "\n",
    "        policy.append(play)\n",
    "    policies.append(policy)\n",
    "    \n",
    "del(net)"
   ]
  },
  {
   "cell_type": "code",
   "execution_count": 83,
   "metadata": {},
   "outputs": [
    {
     "name": "stdout",
     "output_type": "stream",
     "text": [
      "0.2\n"
     ]
    }
   ],
   "source": [
    "print(x_curr)"
   ]
  },
  {
   "cell_type": "code",
   "execution_count": 85,
   "metadata": {},
   "outputs": [
    {
     "data": {
      "image/png": "[encoded data removed]",
      "text/plain": [
       "<matplotlib.figure.Figure at 0x7f8a00b0a710>"
      ]
     },
     "metadata": {},
     "output_type": "display_data"
    }
   ],
   "source": [
    "for t in range(1):\n",
    "    plt.plot(2.0*s_vals, np.asarray(policies[t]), label=\"t = \" + str(t+1))\n",
    "plt.legend(fontsize=12)\n",
    "plt.ylabel(\"Value of $x_{t+1}$ to play\", fontsize=14)\n",
    "plt.xlabel(\"Maximum observed noise thus far: $s_m$\", fontsize=14)\n",
    "plt.xticks(fontsize=12)\n",
    "plt.yticks(fontsize=12)\n",
    "plt.title(\"Policies for varying t, $x_1 = 0.3$, T = 4\", fontsize=14)\n",
    "plt.show()"
   ]
  },
  {
   "cell_type": "code",
   "execution_count": 16,
   "metadata": {},
   "outputs": [
    {
     "data": {
      "text/plain": [
       "tensor([[ 0.4618, -0.5819, -0.0705, -0.3124],\n",
       "        [-1.5488, -2.6585, -1.5072,  0.1234],\n",
       "        [ 1.0441, -1.5921, -2.3072,  0.2707],\n",
       "        [-0.0661,  1.4016,  0.3086, -1.0555]])"
      ]
     },
     "execution_count": 16,
     "metadata": {},
     "output_type": "execute_result"
    }
   ],
   "source": [
    "player_2.l1.weight.data"
   ]
  },
  {
   "cell_type": "code",
   "execution_count": null,
   "metadata": {
    "collapsed": true
   },
   "outputs": [],
   "source": []
  },
  {
   "cell_type": "code",
   "execution_count": 87,
   "metadata": {
    "collapsed": true
   },
   "outputs": [],
   "source": [
    "#function that determines what the optimal actions would have been\n",
    "def naive_optimal_action_paths(player_index, plays):\n",
    "    #2 round, ignoring initial conditions, #plus or minus the ramp constraint isn't neccessarily the optimal improvement\n",
    "    #players using this leads to some sort of matching pennies type scenario\n",
    "    player_array = plays[player_index,:]\n",
    "    player_optimal_actions = [player_array[0], player_array[1]]\n",
    "    \n",
    "    cpr = cp_round(plays)\n",
    "    if cpr == 1:\n",
    "        opt_act = player_array[0] - ramp_const\n",
    "        if opt_act < 0: opt_act = 0.0\n",
    "        player_optimal_actions[1] = opt_act\n",
    "    if cpr == 0:\n",
    "        opt_act = player_array[0] + ramp_const\n",
    "        if opt_act > 1: opt_act = 1.0\n",
    "        player_optimal_actions[1] = opt_act\n",
    "        \n",
    "    return(player_optimal_actions)\n",
    "\n",
    "def incremental_action_path_update(player_index, plays, inc=0.01):\n",
    "    player_array = plays[player_index,:]\n",
    "    player_optimal_actions = [player_array[0], player_array[1]]\n",
    "    \n",
    "    cpr = cp_round(plays)\n",
    "    \n",
    "    if cpr == 1:\n",
    "        opt_act = player_array[0] - inc*ramp_const\n",
    "        if opt_act < 0: opt_act = 0.0\n",
    "        player_optimal_actions[1] = opt_act\n",
    "    if cpr == 0:\n",
    "        opt_act = player_array[0] + inc*ramp_const\n",
    "        if opt_act > 1: opt_act = 1.0\n",
    "        player_optimal_actions[1] = opt_act\n",
    "        \n",
    "    return(player_optimal_actions)\n"
   ]
  },
  {
   "cell_type": "code",
   "execution_count": 91,
   "metadata": {},
   "outputs": [
    {
     "name": "stdout",
     "output_type": "stream",
     "text": [
      "epoch:  30000\n",
      "epoch:  30000\n",
      "epoch:  30000\n",
      "epoch:  30000\n",
      "epoch:  30000\n",
      "epoch:  30000\n",
      "epoch:  30000\n",
      "epoch:  30000\n",
      "epoch:  30000\n",
      "epoch:  30000\n",
      "epoch:  30000\n",
      "epoch:  30000\n",
      "epoch:  30000\n",
      "epoch:  30000\n",
      "epoch:  30000\n",
      "epoch:  30000\n",
      "epoch:  30000\n",
      "epoch:  30000\n",
      "epoch:  30000\n",
      "epoch:  30000\n",
      "epoch:  30000\n",
      "epoch:  30000\n",
      "epoch:  30000\n",
      "epoch:  30000\n",
      "epoch:  30000\n",
      "epoch:  30000\n",
      "epoch:  30000\n",
      "epoch:  30000\n",
      "epoch:  30000\n",
      "epoch:  30000\n"
     ]
    }
   ],
   "source": [
    "#try value function that incorporates a player's prediction of what they think the system will look like on the next round\n",
    "#the policy return is not differentiable with respect to the policy weights because of CP discontinuities but do it anyway\n",
    "#if that doesn't work add a log barrier to the rank ordered rounds so that the return *is* differentiable with respect to the weights allowing\n",
    "#us to drop the argmax term\n",
    "\n",
    "#two round, two player game\n",
    "#deterministic NN policy\n",
    "#target values should be maximum utility mod CP cost\n",
    "\n",
    "#this is without incorporating predictions of what the other agents are going to do\n",
    "\n",
    "pi_cp_perc = 0.6\n",
    "MC_N = 30000\n",
    "batch = 100\n",
    "T = 2\n",
    "#pi_cp = pi_cp_perc*T*player_log_utility(x_bar)\n",
    "pi_cp = 1.2\n",
    "\n",
    "player_1 = nnet(net_params)\n",
    "player_2 = mutate_player(player_1)\n",
    "\n",
    "player_1_init = 0.8\n",
    "player_2_init = 0.8\n",
    "\n",
    "player_1_path = []\n",
    "player_2_path = []\n",
    "\n",
    "player_1_training_pairs = []\n",
    "player_2_training_pairs = []\n",
    "\n",
    "player_1_returns = []\n",
    "player_2_returns = []\n",
    "\n",
    "batch_system_samps = []\n",
    "player_1_samps = []\n",
    "player_2_samps = []\n",
    "\n",
    "#may need to do policy gradient steps batched\n",
    "loss_player_1 = nn.MSELoss()\n",
    "loss_player_2 = nn.MSELoss()\n",
    "optimizer_1 = optim.SGD(player_1.parameters(),lr=0.005, momentum=0.9)\n",
    "optimizer_2 = optim.SGD(player_2.parameters(),lr=0.005, momentum=0.9)\n",
    "\n",
    "for mc in range(MC_N):\n",
    "    if mc % 1000 == 0:\n",
    "        print(\"epoch: \", mc)\n",
    "    plays = np.zeros((3,T))\n",
    "    plays[0,0] = player_1_init\n",
    "    plays[1,0] = player_2_init\n",
    "    plays[2,0] = np.random.normal(0,noise_var)\n",
    "    max_so_far = 0.0\n",
    "    #play the game\n",
    "    for t in range(1,T):\n",
    "        rounds_left = float(T - t)/float(T)\n",
    "        #for player in players:\n",
    "            #vectorize input\n",
    "        player_1_input = Variable(torch.Tensor([[plays[0,t-1], max_so_far, rounds_left, 1.0]]))\n",
    "        player_2_input = Variable(torch.Tensor([[plays[1,t-1], max_so_far, rounds_left, 1.0]]))\n",
    "\n",
    "        #get next action\n",
    "        player_1_next_tens = player_1(player_1_input)\n",
    "        player_2_next_tens = player_2(player_2_input)\n",
    "\n",
    "        #squeeze next action inside bounds\n",
    "        player_1_next = float(player_1_next_tens.data)\n",
    "        player_2_next = float(player_2_next_tens.data)\n",
    "\n",
    "        if np.abs(plays[0,t-1] - player_1_next) > ramp_const:\n",
    "            if plays[0,t-1] < player_1_next:\n",
    "                player_1_next = plays[0,t-1] + ramp_const\n",
    "            else:\n",
    "                player_1_next = plays[0,t-1] - ramp_const\n",
    "\n",
    "        if player_1_next < 0.0: player_1_next = 0.0\n",
    "        if player_1_next > x_bar: player_1_next = x_bar\n",
    "\n",
    "        if np.abs(plays[1,t-1] - player_2_next) > ramp_const:\n",
    "            if plays[1,t-1] < player_2_next:\n",
    "                player_2_next = plays[1,t-1] + ramp_const\n",
    "            else:\n",
    "                player_2_next = plays[1,t-1] - ramp_const\n",
    "\n",
    "        if player_2_next < 0.0: player_2_next = 0.0\n",
    "        if player_2_next > x_bar: player_2_next = x_bar\n",
    "\n",
    "        plays[0,t] = player_1_next\n",
    "        plays[1,t] = player_2_next\n",
    "            \n",
    "        s_t = np.random.normal(0, noise_var)\n",
    "        plays[2,t] = s_t\n",
    "        \n",
    "        max_so_far = np.max(plays[2,:])\n",
    "        \n",
    "        batch_system_samps.append([np.sum(plays[:,0]), np.sum(plays[:,1])])\n",
    "        player_1_samps.append([np.sum(plays[:,0]), plays[0,1]])\n",
    "        player_2_samps.append([np.sum(plays[:,0]), plays[1,1]])\n",
    "        \n",
    "        player_1_path.append((np.asarray(player_1_input), player_1_next))\n",
    "        player_2_path.append((np.asarray(player_2_input), player_2_next))\n",
    "        \n",
    "        player_1_returns.append(player_reward(0, plays, pi_cp))\n",
    "        player_2_returns.append(player_reward(1, plays, pi_cp))\n",
    "        \n",
    "        \n",
    "    #policy gradient step\n",
    "    #for player in players:\n",
    "    \n",
    "    \"\"\"\n",
    "    opt_action_player_1 = naive_optimal_action_paths(0, plays)[1]\n",
    "    opt_action_player_2 = naive_optimal_action_paths(1, plays)[1] #will it even converge to playing maximum\n",
    "    \"\"\"\n",
    "    \n",
    "    opt_action_player_1 = incremental_action_path_update(0, plays, inc=0.001)[1]\n",
    "    opt_action_player_2 = incremental_action_path_update(1, plays, inc=0.001)[1]\n",
    "        \n",
    "    player_1_training_pairs.append((player_1_next_tens, opt_action_player_1))\n",
    "    player_2_training_pairs.append((player_2_next_tens, opt_action_player_2))\n",
    "    \n",
    "    if mc % batch == 0:\n",
    "\n",
    "        outputs_1 = []\n",
    "        labels_1 = []\n",
    "        for p in player_1_training_pairs:\n",
    "            outputs_1.append(p[0])\n",
    "            labels_1.append(torch.Tensor([[p[1]]]))\n",
    "        outputs_1 = torch.cat(outputs_1)\n",
    "        labels_1 = Variable(torch.cat(labels_1))\n",
    "        \n",
    "        outputs_2 = []\n",
    "        labels_2 = []\n",
    "        for p in player_2_training_pairs:\n",
    "            outputs_2.append(p[0])\n",
    "            labels_2.append(torch.Tensor([[p[1]]]))\n",
    "        outputs_2 = torch.cat(outputs_2)\n",
    "        labels_2 = Variable(torch.cat(labels_2))\n",
    "        \n",
    "        optimizer_1.zero_grad()\n",
    "        optimizer_2.zero_grad()\n",
    "\n",
    "        loss_p1_value = loss_player_1(outputs_1, labels_1)#player_1_next_tens, torch.Tensor([[opt_action_player_1]]))\n",
    "        loss_p2_value = loss_player_2(outputs_2, labels_2)#player_2_next_tens, torch.Tensor([[opt_action_player_2]]))\n",
    "\n",
    "        loss_p1_value.backward(retain_graph=True)\n",
    "        loss_p2_value.backward(retain_graph=True)\n",
    "\n",
    "        optimizer_1.step()\n",
    "        optimizer_2.step()\n",
    "        \n",
    "        batch_system_samps = []\n",
    "        player_1_samps = []\n",
    "        player_2_samps = []"
   ]
  },
  {
   "cell_type": "code",
   "execution_count": 92,
   "metadata": {},
   "outputs": [
    {
     "data": {
      "image/png": "[encoded data removed]",
      "text/plain": [
       "<matplotlib.figure.Figure at 0x7f8a00d1ae10>"
      ]
     },
     "metadata": {},
     "output_type": "display_data"
    }
   ],
   "source": [
    "bs = np.asarray(batch_system_samps)\n",
    "bs.shape\n",
    "\n",
    "plt.scatter(bs[:,0], bs[:,1])\n",
    "plt.xlabel(\"s1\")\n",
    "plt.ylabel(\"s2\")\n",
    "plt.show()"
   ]
  },
  {
   "cell_type": "code",
   "execution_count": 93,
   "metadata": {},
   "outputs": [
    {
     "name": "stdout",
     "output_type": "stream",
     "text": [
      "(99, 2)\n"
     ]
    },
    {
     "data": {
      "image/png": "[encoded data removed]",
      "text/plain": [
       "<matplotlib.figure.Figure at 0x7f8a01b99c50>"
      ]
     },
     "metadata": {},
     "output_type": "display_data"
    }
   ],
   "source": [
    "bs = np.asarray(player_1_samps)\n",
    "print(bs.shape)\n",
    "\n",
    "plt.scatter(bs[:,0], bs[:,1])\n",
    "plt.xlabel(\"s1\")\n",
    "plt.ylabel(\"p1_2\")\n",
    "plt.show()"
   ]
  },
  {
   "cell_type": "code",
   "execution_count": 94,
   "metadata": {},
   "outputs": [
    {
     "name": "stdout",
     "output_type": "stream",
     "text": [
      "(99, 2)\n"
     ]
    },
    {
     "data": {
      "image/png": "[encoded data removed]",
      "text/plain": [
       "<matplotlib.figure.Figure at 0x7f8a01818e80>"
      ]
     },
     "metadata": {},
     "output_type": "display_data"
    }
   ],
   "source": [
    "bs = np.asarray(player_2_samps)\n",
    "print(bs.shape)\n",
    "\n",
    "plt.scatter(bs[:,0], bs[:,1])\n",
    "plt.xlabel(\"s1\")\n",
    "plt.ylabel(\"p2_2\")\n",
    "plt.show()"
   ]
  },
  {
   "cell_type": "code",
   "execution_count": 95,
   "metadata": {
    "collapsed": true
   },
   "outputs": [],
   "source": [
    "#plot the strategies\n",
    "#not working for the 2 round case because max_so_far is the max noise not the max system value\n",
    "player_1_input = Variable(torch.Tensor([[plays[0,t-1], max_so_far, rounds_left, 1.0]]))\n",
    "player_2_input = Variable(torch.Tensor([[plays[1,t-1], max_so_far, rounds_left, 1.0]]))\n",
    "\n",
    "player_1_next_tens = player_1(player_1_input)\n",
    "player_2_next_tens = player_2(player_2_input)"
   ]
  },
  {
   "cell_type": "code",
   "execution_count": 96,
   "metadata": {},
   "outputs": [
    {
     "name": "stdout",
     "output_type": "stream",
     "text": [
      "0.18890002064230624\n",
      "0.18868406009978664\n"
     ]
    }
   ],
   "source": [
    "print(np.mean(player_1_returns))\n",
    "print(np.mean(player_2_returns))"
   ]
  },
  {
   "cell_type": "code",
   "execution_count": null,
   "metadata": {
    "collapsed": true
   },
   "outputs": [],
   "source": [
    "nopt = 2*player_log_utility(0.88) - pi_cp*0.88\n",
    "print(pi_cp)"
   ]
  },
  {
   "cell_type": "code",
   "execution_count": 109,
   "metadata": {},
   "outputs": [
    {
     "data": {
      "image/png": "[encoded data removed]",
      "text/plain": [
       "<matplotlib.figure.Figure at 0x7f89e8d86b00>"
      ]
     },
     "metadata": {},
     "output_type": "display_data"
    }
   ],
   "source": [
    "#plt.plot(player_1_returns)\n",
    "plt.plot(moving_average(player_2_returns, 1000), label=\"player 1\")\n",
    "plt.plot(moving_average(player_1_returns, 1000), label=\"player 2\")\n",
    "plt.plot([nopt for i in range(len(moving_average(player_1_returns, 1000)))], label=\"naive optimal\")\n",
    "plt.title(\"Expected rewards during training with policy gradient\")\n",
    "plt.xlabel(\"epoch\")\n",
    "plt.ylabel(\"expected reward\")\n",
    "plt.legend()\n",
    "plt.show()\n",
    "\n",
    "#look at the mean of players' rewards per round"
   ]
  },
  {
   "cell_type": "code",
   "execution_count": 103,
   "metadata": {},
   "outputs": [
    {
     "data": {
      "image/png": "[encoded data removed]",
      "text/plain": [
       "<matplotlib.figure.Figure at 0x7f8a0176b860>"
      ]
     },
     "metadata": {},
     "output_type": "display_data"
    }
   ],
   "source": [
    "actions = []\n",
    "for p in player_2_path:\n",
    "    actions.append(p[1])\n",
    "    \n",
    "plt.plot(actions)\n",
    "plt.show()"
   ]
  },
  {
   "cell_type": "code",
   "execution_count": 104,
   "metadata": {},
   "outputs": [
    {
     "data": {
      "image/png": "[encoded data removed]",
      "text/plain": [
       "<matplotlib.figure.Figure at 0x7f8a0609cbe0>"
      ]
     },
     "metadata": {},
     "output_type": "display_data"
    }
   ],
   "source": [
    "actions = []\n",
    "for p in player_1_path:\n",
    "    actions.append(p[1])\n",
    "    \n",
    "plt.plot(actions)\n",
    "plt.show()"
   ]
  },
  {
   "cell_type": "code",
   "execution_count": null,
   "metadata": {
    "collapsed": true
   },
   "outputs": [],
   "source": []
  },
  {
   "cell_type": "code",
   "execution_count": null,
   "metadata": {
    "collapsed": true
   },
   "outputs": [],
   "source": []
  },
  {
   "cell_type": "markdown",
   "metadata": {},
   "source": [
    "### Naive update full ramp_const increment"
   ]
  },
  {
   "cell_type": "code",
   "execution_count": 106,
   "metadata": {},
   "outputs": [
    {
     "data": {
      "image/png": "[encoded data removed]",
      "text/plain": [
       "<matplotlib.figure.Figure at 0x7f8a017b6438>"
      ]
     },
     "metadata": {},
     "output_type": "display_data"
    }
   ],
   "source": [
    "#plt.plot(player_1_returns)\n",
    "plt.plot(moving_average(player_2_returns, 100))\n",
    "plt.plot(moving_average(player_1_returns, 100))\n",
    "plt.show()"
   ]
  },
  {
   "cell_type": "code",
   "execution_count": 107,
   "metadata": {},
   "outputs": [
    {
     "data": {
      "image/png": "[encoded data removed]",
      "text/plain": [
       "<matplotlib.figure.Figure at 0x7f89e969d1d0>"
      ]
     },
     "metadata": {},
     "output_type": "display_data"
    }
   ],
   "source": [
    "actions = []\n",
    "for p in player_2_path:\n",
    "    actions.append(p[1])\n",
    "    \n",
    "plt.plot(actions)\n",
    "plt.show()"
   ]
  },
  {
   "cell_type": "code",
   "execution_count": 28,
   "metadata": {},
   "outputs": [
    {
     "data": {
      "image/png": "[encoded data removed]",
      "text/plain": [
       "<matplotlib.figure.Figure at 0x7f15b3752b70>"
      ]
     },
     "metadata": {},
     "output_type": "display_data"
    }
   ],
   "source": [
    "actions = []\n",
    "for p in player_1_path:\n",
    "    actions.append(p[1])\n",
    "    \n",
    "plt.plot(actions)\n",
    "plt.show()"
   ]
  },
  {
   "cell_type": "code",
   "execution_count": null,
   "metadata": {
    "collapsed": true
   },
   "outputs": [],
   "source": []
  },
  {
   "cell_type": "code",
   "execution_count": 32,
   "metadata": {},
   "outputs": [
    {
     "data": {
      "text/plain": [
       "[0.09949293172920903, 0.0]"
      ]
     },
     "execution_count": 32,
     "metadata": {},
     "output_type": "execute_result"
    }
   ],
   "source": [
    "optimal_action_paths(0,plays)"
   ]
  },
  {
   "cell_type": "code",
   "execution_count": 35,
   "metadata": {
    "collapsed": true
   },
   "outputs": [],
   "source": [
    "#like the above\n",
    "#we need each player to have some sort of predictor of what the other player is going to do\n",
    "\n",
    "#have to player keep a ledger of what the players did on previous turns\n",
    "#have some sort of function that maps the previous sum to the next output\n",
    "#predict the player doing a noisy sample of what the player did in a similar situation previously"
   ]
  },
  {
   "cell_type": "code",
   "execution_count": null,
   "metadata": {
    "collapsed": true
   },
   "outputs": [],
   "source": []
  }
 ],
 "metadata": {
  "kernelspec": {
   "display_name": "Python [conda env:anaconda3]",
   "language": "python",
   "name": "conda-env-anaconda3-py"
  },
  "language_info": {
   "codemirror_mode": {
    "name": "ipython",
    "version": 3
   },
   "file_extension": ".py",
   "mimetype": "text/x-python",
   "name": "python",
   "nbconvert_exporter": "python",
   "pygments_lexer": "ipython3",
   "version": "3.6.8"
  }
 },
 "nbformat": 4,
 "nbformat_minor": 2
}
