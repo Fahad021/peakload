{
 "cells": [
  {
   "cell_type": "code",
   "execution_count": 1,
   "metadata": {
    "collapsed": true
   },
   "outputs": [],
   "source": [
    "#im skipping leap days currently in multiple places\n",
    "import sys\n",
    "import os\n",
    "import numpy as np\n",
    "import pickle\n",
    "import matplotlib.pyplot as plt\n",
    "import datetime\n",
    "import pandas as pd\n",
    "import seaborn\n",
    "import random\n",
    "import json\n",
    "import pickle\n",
    "import time\n",
    "import copy\n",
    "\n",
    "import torch\n",
    "import torchvision\n",
    "import torchvision.transforms as transforms\n",
    "from torch.autograd import Variable\n",
    "import torch.nn as nn\n",
    "import torch.nn.functional as F\n",
    "import torch.optim as optim\n",
    "\n",
    "%load_ext autoreload\n",
    "%autoreload 2\n",
    "%matplotlib inline"
   ]
  },
  {
   "cell_type": "code",
   "execution_count": 2,
   "metadata": {
    "collapsed": true
   },
   "outputs": [],
   "source": [
    "def print_model_scores(scores, name):\n",
    "    print(\"====\" + name + \"====\")\n",
    "    for k in scores:\n",
    "        print(k + \": \" + str(scores[k]))\n",
    "    print(\"=================\\n\")\n",
    "    \n",
    "def fone(prec, rec):\n",
    "    f = 2.0 / ( (1.0/prec) + (1.0/rec) )\n",
    "    return(f)"
   ]
  },
  {
   "cell_type": "code",
   "execution_count": 3,
   "metadata": {
    "collapsed": true
   },
   "outputs": [],
   "source": [
    "#high recall means no false negatives\n",
    "#high precision means no false positives"
   ]
  },
  {
   "cell_type": "code",
   "execution_count": 4,
   "metadata": {},
   "outputs": [
    {
     "data": {
      "text/plain": [
       "['tanh_sigmoid_LOOKBACK_168_HIDDEN_1_1000_HIDDEN_2_1000_HIDDEN_3_1000_LOSS_EW_EPOCHS_100_stats',\n",
       " 'tanh_dropout_LOOKBACK_168_HIDDEN_1_2500_HIDDEN_2_1000_HIDDEN_3_100_LOSS_EW_EPOCHS_100_DATA_directory_stats',\n",
       " 'double_sigmoid_LOOKBACK_168_HIDDEN_1_250_HIDDEN_2_250_LOSS_EW_EPOCHS_100_stats',\n",
       " 'tanh_sigmoid_weather_LOOKBACK_168_HIDDEN_1_250_HIDDEN_2_250_HIDDEN_3_50_LOSS_EW_EPOCHS_200_DATA_directory_stats',\n",
       " 'tanh_sigmoid_LOOKBACK_168_HIDDEN_1_1000_HIDDEN_2_500_HIDDEN_3_500_LOSS_EW_EPOCHS_100_stats',\n",
       " 'single_sigmoid_LOOKBACK_168_HIDDEN_1_1000_LOSS_L1_EPOCHS_100_stats',\n",
       " 'tanh_sigmoid_LOOKBACK_168_HIDDEN_1_1000_HIDDEN_2_250_HIDDEN_3_250_LOSS_EW_EPOCHS_100_stats',\n",
       " 'tanh_sigmoid_LOOKBACK_168_HIDDEN_1_250_HIDDEN_2_250_HIDDEN_3_250_LOSS_EW_EPOCHS_100_stats',\n",
       " 'tanh_dropout_LOOKBACK_168_HIDDEN_1_1500_HIDDEN_2_250_HIDDEN_3_25_LOSS_EW_EPOCHS_100_DATA_directory_stats',\n",
       " 'tanh_sigmoid_LOOKBACK_168_HIDDEN_1_1500_HIDDEN_2_1500_HIDDEN_3_1500_LOSS_EW_EPOCHS_100_stats',\n",
       " 'tanh_dropout_LOOKBACK_168_HIDDEN_1_10000_HIDDEN_2_250_HIDDEN_3_25_LOSS_EW_EPOCHS_100_DATA_directory_stats',\n",
       " 'single_sigmoid_LOOKBACK_168_HIDDEN_1_1000_LOSS_EW_EPOCHS_100_stats',\n",
       " 'tanh_sigmoid_weather_LOOKBACK_168_HIDDEN_1_2500_HIDDEN_2_250_HIDDEN_3_50_LOSS_EW_EPOCHS_200_DATA_directory_stats',\n",
       " 'tanh_dropout_LOOKBACK_168_HIDDEN_1_5000_HIDDEN_2_250_HIDDEN_3_25_LOSS_EW_EPOCHS_100_DATA_directory_stats',\n",
       " 'tanh_dropout_LOOKBACK_168_HIDDEN_1_7500_HIDDEN_2_250_HIDDEN_3_25_LOSS_EW_EPOCHS_100_DATA_directory_stats',\n",
       " 'tanh_sigmoid_LOOKBACK_168_HIDDEN_1_1500_HIDDEN_2_250_HIDDEN_3_250_LOSS_EW_EPOCHS_100_stats',\n",
       " 'tanh_dropout_LOOKBACK_168_HIDDEN_1_10000_HIDDEN_2_1000_HIDDEN_3_100_LOSS_EW_EPOCHS_100_DATA_directory_stats',\n",
       " 'tanh_sigmoid_weather_LOOKBACK_168_HIDDEN_1_5000_HIDDEN_2_250_HIDDEN_3_50_LOSS_EW_EPOCHS_200_DATA_directory_stats',\n",
       " 'single_sigmoid_LOOKBACK_168_HIDDEN_1_250_LOSS_L1_EPOCHS_100_stats',\n",
       " 'tanh_dropout_LOOKBACK_168_HIDDEN_1_2500_HIDDEN_2_250_HIDDEN_3_25_LOSS_EW_EPOCHS_100_DATA_directory_stats',\n",
       " 'single_sigmoid_LOOKBACK_168_HIDDEN_1_250_LOSS_EW_EPOCHS_100_stats',\n",
       " 'single_sigmoid_LOOKBACK_168_HIDDEN_1_500_LOSS_EW_EPOCHS_100_stats',\n",
       " 'tanh_sigmoid_weather_LOOKBACK_168_HIDDEN_1_1500_HIDDEN_2_250_HIDDEN_3_50_LOSS_EW_EPOCHS_200_DATA_directory_stats',\n",
       " 'tanh_sigmoid_weather_LOOKBACK_168_HIDDEN_1_500_HIDDEN_2_250_HIDDEN_3_50_LOSS_EW_EPOCHS_200_DATA_directory_stats',\n",
       " 'tanh_sigmoid_weather_LOOKBACK_168_HIDDEN_1_7500_HIDDEN_2_250_HIDDEN_3_50_LOSS_EW_EPOCHS_200_DATA_directory_stats',\n",
       " 'tanh_sigmoid_LOOKBACK_168_HIDDEN_1_1500_HIDDEN_2_1000_HIDDEN_3_1000_LOSS_EW_EPOCHS_100_stats',\n",
       " 'tanh_dropout_LOOKBACK_168_HIDDEN_1_7500_HIDDEN_2_1000_HIDDEN_3_100_LOSS_EW_EPOCHS_100_DATA_directory_stats',\n",
       " 'tanh_sigmoid_LOOKBACK_168_HIDDEN_1_1500_HIDDEN_2_500_HIDDEN_3_500_LOSS_EW_EPOCHS_100_stats',\n",
       " 'single_sigmoid_LOOKBACK_168_HIDDEN_1_500_LOSS_L1_EPOCHS_100_stats',\n",
       " 'tanh_sigmoid_LOOKBACK_168_HIDDEN_1_500_HIDDEN_2_250_HIDDEN_3_250_LOSS_EW_EPOCHS_100_stats',\n",
       " 'tanh_sigmoid_weather_LOOKBACK_168_HIDDEN_1_1000_HIDDEN_2_250_HIDDEN_3_50_LOSS_EW_EPOCHS_200_DATA_directory_stats',\n",
       " 'tanh_dropout_LOOKBACK_168_HIDDEN_1_5000_HIDDEN_2_2500_HIDDEN_3_200_LOSS_EW_EPOCHS_100_DATA_directory_stats',\n",
       " 'tanh_sigmoid_LOOKBACK_168_HIDDEN_1_500_HIDDEN_2_500_HIDDEN_3_500_LOSS_EW_EPOCHS_100_stats',\n",
       " 'tanh_dropout_LOOKBACK_168_HIDDEN_1_5000_HIDDEN_2_1000_HIDDEN_3_100_LOSS_EW_EPOCHS_100_DATA_directory_stats']"
      ]
     },
     "execution_count": 4,
     "metadata": {},
     "output_type": "execute_result"
    }
   ],
   "source": [
    "report_path = \"/home/chase/projects/peakload/data/nets/reports\"\n",
    "\n",
    "#need to write models to seperate folder\n",
    "reports = os.listdir(report_path)\n",
    "reports"
   ]
  },
  {
   "cell_type": "code",
   "execution_count": 5,
   "metadata": {},
   "outputs": [
    {
     "name": "stdout",
     "output_type": "stream",
     "text": [
      "0.22643191944165442 0.88686490607888\n",
      "0.6765944645006018 0.2065597667638484\n",
      "0.27389132340052585 0.8571428571428572\n",
      "0.8054655870445345 0.22523485584710073\n",
      "0.2884460172595766 0.7825639426076108\n",
      "0.0878841599282481 1.0\n",
      "0.38136054421768706 0.7113918347542801\n",
      "0.33977003319108584 0.8244298884036875\n",
      "0.6932746979388771 0.24185293164885005\n",
      "0.1836827122153209 0.9569106536355445\n",
      "0.6899044205495819 0.22715419501133785\n",
      "0.18071042570499976 0.8003327095030152\n",
      "0.8562015503875969 0.2377146096533852\n",
      "0.7845622119815668 0.18146663427275675\n",
      "0.7450084602368866 0.15890427599611273\n",
      "0.3754568969172709 0.665387814514452\n",
      "0.721179302045728 0.1967930029154519\n",
      "0.8856154910096818 0.21290492387431165\n",
      "0.1054662168932782 1.0\n",
      "0.7325295075295074 0.20592403628117917\n",
      "0.2246456729866717 0.641768905524364\n",
      "0.17425332211084757 0.7387017397934429\n",
      "0.8764652014652016 0.13089569160997733\n",
      "0.8888888888888888 0.10549481697440882\n",
      "0.8984946236559139 0.1034054097829608\n",
      "0.24937458854509545 0.9073126776183544\n",
      "0.6654471544715447 0.2192338840298024\n",
      "0.28396149305240215 0.789356761627504\n",
      "0.09551392684147025 1.0\n",
      "0.34412538884900695 0.7655680321619186\n",
      "0.8864087301587301 0.11724570780693229\n",
      "0.7199509803921569 0.25609005506964694\n",
      "0.2726838790573082 0.867786095515353\n",
      "0.7279314888010541 0.1627510528020732\n"
     ]
    }
   ],
   "source": [
    "\n",
    "\n",
    "thresh = 0.99\n",
    "max_rec = ['blank', 0.0]\n",
    "max_prec = ['blank', 0.0]\n",
    "min_thresh_loss = ['blank', 1000]\n",
    "min_mean_set_loss = ['blank', 1000.0]\n",
    "max_fone = ['blank', 0.0]\n",
    "wprecs = []\n",
    "wrecs = []\n",
    "precs = []\n",
    "recs = []\n",
    "\n",
    "for model in reports:\n",
    "    currpath = report_path + \"/\" + model\n",
    "    outputs = os.listdir(currpath)\n",
    "    for res in outputs:\n",
    "        with open(currpath + \"/\" + res, 'rb') as d:\n",
    "            stats = pickle.load(d)\n",
    "            stats = stats['test_model_scores']\n",
    "            \n",
    "        if stats['batch_precision'][thresh] > max_prec[1]:\n",
    "            max_prec[0] = model\n",
    "            max_prec[1] = stats['batch_precision'][thresh]\n",
    "            \n",
    "        if stats['batch_recall'][thresh] > max_rec[1]:\n",
    "            max_rec[0] = model\n",
    "            max_rec[1] = stats['batch_recall'][thresh]\n",
    "            \n",
    "        if stats['thresh_losses'][thresh] < min_thresh_loss[1]:\n",
    "            min_thresh_loss[0] = model\n",
    "            min_thresh_loss[1] = stats['thresh_losses'][thresh]\n",
    "            \n",
    "        f = fone(stats['batch_precision'][thresh], stats['batch_recall'][thresh])\n",
    "        if f > max_fone[1]:\n",
    "            max_fone[0] = model\n",
    "            max_fone[1] = f\n",
    "            \n",
    "        if stats['mean_set_loss'] < min_mean_set_loss[1]:\n",
    "            min_mean_set_loss[0] = model\n",
    "            min_mean_set_loss[1] = stats['mean_set_loss']\n",
    "            \n",
    "        tokens = model.split(\"_\")\n",
    "        if tokens[1] == \"dropout\" or tokens[2] == \"weather\":\n",
    "            wprecs.append(stats['batch_precision'][thresh])\n",
    "            wrecs.append(stats['batch_recall'][thresh])\n",
    "        \n",
    "        else:\n",
    "            precs.append(stats['batch_precision'][thresh])\n",
    "            recs.append(stats['batch_recall'][thresh])\n",
    "        #print_model_scores(stats, model)\n",
    "        print(stats['batch_precision'][thresh], stats['batch_recall'][thresh])"
   ]
  },
  {
   "cell_type": "code",
   "execution_count": 6,
   "metadata": {},
   "outputs": [
    {
     "data": {
      "image/png": "[encoded data removed]",
      "text/plain": [
       "<matplotlib.figure.Figure at 0x7facb42e1e48>"
      ]
     },
     "metadata": {},
     "output_type": "display_data"
    }
   ],
   "source": [
    "plt.scatter(precs, recs, color=\"blue\", label=\"No weather data\")\n",
    "plt.scatter(wprecs, wrecs, color=\"red\", label=\"With weather data\")\n",
    "plt.xlabel(\"binary precision, thresh >0.99\")\n",
    "plt.ylabel(\"binary recall, thresh >0.99\")\n",
    "plt.legend()\n",
    "plt.show()"
   ]
  },
  {
   "cell_type": "code",
   "execution_count": 4,
   "metadata": {},
   "outputs": [
    {
     "name": "stdout",
     "output_type": "stream",
     "text": [
      "['tanh_sigmoid_weather_LOOKBACK_168_HIDDEN_1_7500_HIDDEN_2_250_HIDDEN_3_50_LOSS_EW_EPOCHS_200_DATA_directory_stats', 0.8984946236559139]\n"
     ]
    }
   ],
   "source": [
    "print(max_prec)"
   ]
  },
  {
   "cell_type": "code",
   "execution_count": 8,
   "metadata": {},
   "outputs": [
    {
     "name": "stdout",
     "output_type": "stream",
     "text": [
      "['single_sigmoid_LOOKBACK_168_HIDDEN_1_1000_LOSS_L1_EPOCHS_100_stats', 1.0]\n"
     ]
    }
   ],
   "source": [
    "print(max_rec)"
   ]
  },
  {
   "cell_type": "code",
   "execution_count": 13,
   "metadata": {},
   "outputs": [
    {
     "name": "stdout",
     "output_type": "stream",
     "text": [
      "['tanh_sigmoid_LOOKBACK_168_HIDDEN_1_1000_HIDDEN_2_250_HIDDEN_3_250_LOSS_EW_EPOCHS_100_stats', 0.4965384335454663]\n"
     ]
    }
   ],
   "source": [
    "print(max_fone)"
   ]
  },
  {
   "cell_type": "code",
   "execution_count": 5,
   "metadata": {},
   "outputs": [
    {
     "name": "stdout",
     "output_type": "stream",
     "text": [
      "['tanh_dropout_LOOKBACK_168_HIDDEN_1_1500_HIDDEN_2_250_HIDDEN_3_25_LOSS_EW_EPOCHS_100_DATA_directory_stats', 0.01570262979919514]\n",
      "137.55503704094943\n"
     ]
    }
   ],
   "source": [
    "print(min_thresh_loss)\n",
    "print(min_thresh_loss[1] * 8760)"
   ]
  },
  {
   "cell_type": "code",
   "execution_count": 6,
   "metadata": {},
   "outputs": [
    {
     "name": "stdout",
     "output_type": "stream",
     "text": [
      "['tanh_sigmoid_weather_LOOKBACK_168_HIDDEN_1_2500_HIDDEN_2_250_HIDDEN_3_50_LOSS_EW_EPOCHS_200_DATA_directory_stats', 0.05701833963394165]\n",
      "499.48065519332886\n"
     ]
    }
   ],
   "source": [
    "print(min_mean_set_loss)\n",
    "print(min_mean_set_loss[1] * 8760)"
   ]
  },
  {
   "cell_type": "code",
   "execution_count": null,
   "metadata": {
    "collapsed": true
   },
   "outputs": [],
   "source": [
    "#compare baseline to high thresholds\n",
    "#plot recall/precsion as a function of threshold, 1 - recall is false negative, 1 - precision is false positive"
   ]
  }
 ],
 "metadata": {
  "kernelspec": {
   "display_name": "Python [conda env:anaconda3]",
   "language": "python",
   "name": "conda-env-anaconda3-py"
  },
  "language_info": {
   "codemirror_mode": {
    "name": "ipython",
    "version": 3
   },
   "file_extension": ".py",
   "mimetype": "text/x-python",
   "name": "python",
   "nbconvert_exporter": "python",
   "pygments_lexer": "ipython3",
   "version": "3.6.3"
  }
 },
 "nbformat": 4,
 "nbformat_minor": 2
}
