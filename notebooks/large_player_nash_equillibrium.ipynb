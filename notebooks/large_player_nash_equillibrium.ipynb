{
 "cells": [
  {
   "cell_type": "code",
   "execution_count": 2,
   "metadata": {},
   "outputs": [
    {
     "data": {
      "text/html": [
       "\n",
       "<style>\n",
       "    div#notebook-container    { width: 95%; }\n",
       "    div#menubar-container     { width: 65%; }\n",
       "    div#maintoolbar-container { width: 99%; }\n",
       "</style>\n"
      ],
      "text/plain": [
       "<IPython.core.display.HTML object>"
      ]
     },
     "metadata": {},
     "output_type": "display_data"
    }
   ],
   "source": [
    "from IPython.display import display, HTML\n",
    "\n",
    "display(HTML(data=\"\"\"\n",
    "<style>\n",
    "    div#notebook-container    { width: 95%; }\n",
    "    div#menubar-container     { width: 65%; }\n",
    "    div#maintoolbar-container { width: 99%; }\n",
    "</style>\n",
    "\"\"\"))"
   ]
  },
  {
   "cell_type": "code",
   "execution_count": 3,
   "metadata": {
    "collapsed": true
   },
   "outputs": [],
   "source": [
    "import numpy as np\n",
    "import matplotlib.pyplot as plt\n",
    "from scipy.stats import *\n",
    "import copy\n",
    "import torch\n",
    "import torch.nn as nn\n",
    "import torch.nn.functional as F\n",
    "from torch.autograd import Variable\n",
    "import torch.optim as optim\n",
    "import seaborn"
   ]
  },
  {
   "cell_type": "code",
   "execution_count": 4,
   "metadata": {
    "collapsed": true
   },
   "outputs": [],
   "source": [
    "class nnet(nn.Module):\n",
    "    #a linear neural network with a sigmoid activiation function and a single hidden layer\n",
    "    def __init__(self, params):\n",
    "        super(nnet, self).__init__()\n",
    "        self.D_in = params['FEATURE_DIM']\n",
    "        self.H1 = params['HIDDEN_1']\n",
    "        self.D_out = params['OUTPUT_DIM']\n",
    "        self.l1 = nn.Linear(self.D_in, self.H1)\n",
    "        self.l2 = nn.Linear(self.H1, self.D_out)\n",
    "    \n",
    "    def forward(self, x):\n",
    "        x = torch.sigmoid(self.l1(x)) #sigmoid activation\n",
    "        x = self.l2(x) #hidden layer\n",
    "        return(x)"
   ]
  },
  {
   "cell_type": "code",
   "execution_count": 5,
   "metadata": {
    "collapsed": true
   },
   "outputs": [],
   "source": [
    "#global variables --- same as CDC paper for small players\n",
    "x_bar = 1.0   #maximum consumption\n",
    "noise_var = 1.0    #variance of noise values\n",
    "g = np.arange(0,1.1,0.1)  #discretization of space of power consumption values x \\in [0,\\bar{x}]\n",
    "s_vals = np.arange(-2.0,2.0,0.1)  #discretization of space of noise values, 98% of normal distribution with unit variance\n",
    "samples = np.random.normal(0, noise_var, size=100000)\n",
    "s_hist = np.histogram(samples, bins=np.arange(-2.0,2.1,0.1), normed=True)[0]\n",
    "s_hist = (1.0/np.linalg.norm(s_hist, ord=1)) * s_hist #probabilities over discretized noise values\n",
    "ramp_const = 0.3  #time coupling ramping constraint\n",
    "pi_cp_perc = 0.6  #ratio of pi_cp cost to total utility under a naive fixed strategy\n",
    "\n",
    "net_params = {'FEATURE_DIM': 4, 'OUTPUT_DIM': 1, 'HIDDEN_1': 16}\n",
    "\n",
    "base_path = \"/home/chase/projects/peakload/notebooks/\" #change this to path to notebook + data"
   ]
  },
  {
   "cell_type": "code",
   "execution_count": 6,
   "metadata": {
    "collapsed": true
   },
   "outputs": [],
   "source": [
    "#helper functions \n",
    "\n",
    "def player_return(utility_func, plays, system_vals, pi_cp):\n",
    "    indicator_vec = vec_softmax(system_vals)\n",
    "    cp_cost = pi_cp(plays*indicator_vec)\n",
    "    rev = np.sum(utility_func(plays))\n",
    "    out = rev - cp_cost\n",
    "    return(out)\n",
    "\n",
    "def vec_softmax(system_vals, beta=50):\n",
    "    #system_vals must be numpy array\n",
    "    if type(np.array([1])) != np.ndarray:\n",
    "        print(\"System values not numpy array\")\n",
    "    else:\n",
    "        #large beta approximates argmax indicator vector\n",
    "        numer = np.exp(beta*system_vals)\n",
    "        denom = np.sum(np.exp(beta*system_vals))\n",
    "        out = (1.0/denom)*numer\n",
    "        return(out)\n",
    "    \n",
    "def linear_player_utility_lambda(a=2):\n",
    "    return(lambda x: a*x)\n",
    "    \n",
    "def player_utility_lambda(a=1):\n",
    "    return(lambda x: a*np.log(1 + x))\n",
    "\n",
    "def player_d_utility_lambda(a=1):\n",
    "    return(lambda x: a/(1 + x))\n",
    "\n",
    "def player_dd_utility_lambda(a=1):\n",
    "    return(lambda x: -a/np.power(1 + x, 2))"
   ]
  },
  {
   "cell_type": "code",
   "execution_count": null,
   "metadata": {
    "collapsed": true
   },
   "outputs": [],
   "source": [
    "#no noise, no ramp constraints\n",
    "\n",
    "#two players perform gradient descent on neural policies\n",
    "\n",
    "#compare to nash equillibrium\n",
    "\n",
    "#without scheduled learning rate\n",
    "\n",
    "#with scheduled learning rate\n",
    "\n",
    "### Discretize and force ties"
   ]
  },
  {
   "cell_type": "markdown",
   "metadata": {
    "collapsed": true
   },
   "source": [
    "### No noise, no ramp constraints, two players, linear utility"
   ]
  },
  {
   "cell_type": "code",
   "execution_count": null,
   "metadata": {
    "collapsed": true
   },
   "outputs": [],
   "source": [
    "T = 10\n",
    "\n",
    "player_1_policy = nnet(net_params)\n",
    "player_2_policy = nnet(net_params) #players are different due to random initialization\n",
    "\n",
    "player_1_util = linear_player_utility_lambda(a=5)\n",
    "player_2_util = linear_player_utility_lambda(a=2)\n",
    "\n",
    "loss_player_1 = nn.MSELoss()\n",
    "loss_player_2 = nn.MSELoss()\n",
    "\n",
    "optimizer_1 = optim.SGD(player_1_policy.parameters(), lr=0.005, momentum=0.9)\n",
    "optimizer_2 = optim.SGD(player_2_policy.parameters(), lr=0.005, momentum=0.9)\n",
    "\n",
    "epochs = 10000\n",
    "\n",
    "prev_play_1 = np.random.uniform(0,1)\n",
    "prev_play_2 = np.random.uniform(0,1)\n",
    "\n",
    "player_1_paths = []\n",
    "player_2_paths = []\n",
    "\n",
    "player_1_training_pairs = []\n",
    "player_2_training_pairs = []\n",
    "\n",
    "player_1_returns = []\n",
    "player_2_returns = []\n",
    "\n",
    "for e in range(epochs):\n",
    "    if e % 1000 == 0:\n",
    "        print(\"epoch: \", e)\n",
    "    \n",
    "    #path for each epoch\n",
    "    player_1_paths.append([])\n",
    "    player_2_paths.append([])\n",
    "    \n",
    "    #plays for each epoch\n",
    "    plays = np.zeros((3, T))\n",
    "    \n",
    "    #initialize max_so_far\n",
    "    max_so_far = 0.0\n",
    "    \n",
    "    #play game\n",
    "    for t in range(T):\n",
    "        rounds_left = float(T - t)/float(T)\n",
    "        \n",
    "        player_1_input = Variable(torch.Tensor([prev_play_1, max_so_far, rounds_left, 1.0]))\n",
    "        player_2_input = Variable(torch.Tensor([prev_play_2, max_so_far, rounds_left, 1.0]))\n",
    "        \n",
    "        player_1_next = float(player_1_policy(player_1_input).data)\n",
    "        player_2_next = float(player_2_policy(player_2_input).data)\n",
    "        \n",
    "        plays[0,t] = player_1_next\n",
    "        plays[1,t] = player_2_next\n",
    "        plays[2,t] = player_1_next + player_2_next\n",
    "        \n",
    "        max_so_far = np.max(plays[2,:])\n",
    "        \n",
    "        #append current input and output to player path\n",
    "        player_1_paths[-1].append((np.asarray(player_1_input), player_1_next))\n",
    "        player_2_paths[-1].append((np.asarray(player_2_input), player_1_next))\n",
    "        \n",
    "        \n",
    "    #compute reward for player given completed path\n",
    "    player_1_returns.append(player_return(player_1_util, plays[0,:], plays[2,:], pi_cp))\n",
    "    player_2_returns.append(player_return(player_2_util, plays[1,:], plays[2,:], pi_cp))\n",
    "        \n",
    "    #for each path + reward, compute incremental step to improve reward --- choose all non CP rounds, increase incrementally, choose CP round and decrease incrementally\n",
    "    \n",
    "    #schedule increments\n",
    "    \n",
    "    #once enough training examples are batched\n",
    "    \n",
    "        #MSE loss on each player, backward, reset paths and rewards\n",
    "        "
   ]
  },
  {
   "cell_type": "code",
   "execution_count": 11,
   "metadata": {},
   "outputs": [
    {
     "name": "stdout",
     "output_type": "stream",
     "text": [
      "[[]]\n"
     ]
    }
   ],
   "source": [
    "lis = []\n",
    "lis.append([])\n",
    "print(lis)"
   ]
  },
  {
   "cell_type": "code",
   "execution_count": null,
   "metadata": {
    "collapsed": true
   },
   "outputs": [],
   "source": []
  }
 ],
 "metadata": {
  "kernelspec": {
   "display_name": "Python [conda env:anaconda3]",
   "language": "python",
   "name": "conda-env-anaconda3-py"
  },
  "language_info": {
   "codemirror_mode": {
    "name": "ipython",
    "version": 3
   },
   "file_extension": ".py",
   "mimetype": "text/x-python",
   "name": "python",
   "nbconvert_exporter": "python",
   "pygments_lexer": "ipython3",
   "version": "3.6.8"
  }
 },
 "nbformat": 4,
 "nbformat_minor": 2
}
