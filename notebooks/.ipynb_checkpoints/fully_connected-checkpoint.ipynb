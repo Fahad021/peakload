{
 "cells": [
  {
   "cell_type": "code",
   "execution_count": 2,
   "metadata": {
    "collapsed": true
   },
   "outputs": [],
   "source": [
    "#im skipping leap days currently in multiple places\n",
    "import sys\n",
    "import os\n",
    "import numpy as np\n",
    "import pickle\n",
    "import matplotlib.pyplot as plt\n",
    "import datetime\n",
    "import pandas as pd\n",
    "import seaborn\n",
    "import random\n",
    "\n",
    "import torch\n",
    "import torchvision\n",
    "import torchvision.transforms as transforms\n",
    "from torch.autograd import Variable\n",
    "import torch.nn as nn\n",
    "import torch.nn.functional as F\n",
    "import torch.optim as optim\n",
    "\n",
    "%load_ext autoreload\n",
    "%autoreload 2\n",
    "%matplotlib inline"
   ]
  },
  {
   "cell_type": "code",
   "execution_count": 3,
   "metadata": {},
   "outputs": [],
   "source": [
    "#ERCOT data\n",
    "lds = datetime.datetime(year=2016, month=2, day=29, hour=0, minute=0) #lines 1415 to 1439\n",
    "lde = datetime.datetime(year=2016, month=2, day=29, hour=23, minute=0)\n",
    "\n",
    "path = \"/home/chase/projects/peakload/data/ercot/\"\n",
    "ercot2017 = pd.read_excel(path + \"native_Load_2017.xlsx\")\n",
    "ercot2016 = pd.read_excel(path + \"native_Load_2016.xlsx\") #leap year\n",
    "ercot2016.drop(ercot2016.index[1415:1439], inplace=True)\n",
    "\n",
    "ercot2015 = pd.read_excel(path + \"native_Load_2015.xls\")\n",
    "ercot2014 = pd.read_excel(path + \"2014_ERCOT_Hourly_Load_Data.xls\")\n",
    "ercot2013 = pd.read_excel(path + \"2013_ERCOT_Hourly_Load_Data.xls\")\n",
    "ercot2012 = pd.read_excel(path + \"2012_ERCOT_Hourly_Load_Data.xls\") #leap year\n",
    "ercot2012.drop(ercot2012.index[1415:1439], inplace=True)\n",
    "\n",
    "ercot2011 = pd.read_excel(path + \"2011_ERCOT_Hourly_Load_Data.xls\")\n",
    "ercot2010 = pd.read_excel(path + \"2010_ERCOT_Hourly_Load_Data.xls\")\n",
    "\n",
    "ercotdata = list(ercot2010['ERCOT']) + list(ercot2011['ERCOT']) + list(ercot2012['ERCOT']) + list(ercot2013['ERCOT']) + list(ercot2014['ERCOT']) + list(ercot2015['ERCOT']) + list(ercot2016['ERCOT']) + list(ercot2017['ERCOT'])\n",
    "yearly_data = [ercot2010, ercot2011, ercot2012, ercot2013, ercot2014, ercot2015, ercot2016, ercot2017]"
   ]
  },
  {
   "cell_type": "code",
   "execution_count": 114,
   "metadata": {},
   "outputs": [],
   "source": [
    "startdate = datetime.datetime(year=2011, month=1, day=1, hour=0, minute=0, second=0)\n",
    "curr = startdate\n",
    "enddate = datetime.datetime(year=2017, month=12, day=31, hour=23, minute=0, second=0)\n",
    "\n",
    "allhours = []\n",
    "\n",
    "while curr <= enddate:\n",
    "    if curr.month == 2 and curr.day == 29:\n",
    "        pass\n",
    "    else:\n",
    "        allhours.append(curr)\n",
    "    curr += datetime.timedelta(hours=1)\n",
    "    \n",
    "trainhours = allhours[0:-8760]\n",
    "valhours = allhours[-8760:]"
   ]
  },
  {
   "cell_type": "code",
   "execution_count": 4,
   "metadata": {
    "collapsed": true
   },
   "outputs": [],
   "source": [
    "yearly_loads = np.zeros((8,8760))\n",
    "\n",
    "for i in range(len(yearly_data)):\n",
    "    yearly_loads[i,:] = np.array(yearly_data[i]['ERCOT'])"
   ]
  },
  {
   "cell_type": "code",
   "execution_count": 75,
   "metadata": {
    "collapsed": true
   },
   "outputs": [],
   "source": [
    "train_data = yearly_loads[0:6,:]\n",
    "train_data_vec = yearly_loads[0,:]\n",
    "for j in range(1,train_data.shape[0]):\n",
    "    train_data_vec = np.concatenate((train_data_vec, train_data[j,:]), axis= 0)\n",
    "\n",
    "val_data = yearly_loads[-1,:]\n",
    "\n",
    "train_data_labels = np.zeros((train_data.shape[0]*train_data.shape[1], 1))\n",
    "val_data_labels = np.zeros((val_data.shape[0], 1))\n",
    "\n",
    "for i in range(train_data_labels.shape[0]):\n",
    "    year = int(np.floor(float(i)/8760.0))\n",
    "    greater = np.sum([1 for k in yearly_loads[year,:] if k >= train_data_vec[i]])/float(yearly_loads.shape[1])\n",
    "    train_data_labels[i] = 1.0 - greater\n",
    "        \n",
    "for i in range(val_data_labels.shape[0]):\n",
    "    year = train_data.shape[0] - 1\n",
    "    greater = np.sum([1 for k in yearly_loads[year,:] if k >= val_data[i]])/float(yearly_loads.shape[1])\n",
    "    val_data_labels[i] = 1.0 - greater"
   ]
  },
  {
   "cell_type": "code",
   "execution_count": 6,
   "metadata": {
    "collapsed": true
   },
   "outputs": [],
   "source": [
    "train_data_arr = np.reshape(train_data_labels, (6,8760))\n",
    "model = np.mean(train_data_arr, axis=0)"
   ]
  },
  {
   "cell_type": "code",
   "execution_count": 115,
   "metadata": {},
   "outputs": [
    {
     "name": "stdout",
     "output_type": "stream",
     "text": [
      "(61320,)\n",
      "61320\n",
      "8760\n",
      "52560\n"
     ]
    }
   ],
   "source": [
    "all_loads = np.concatenate((train_data_vec, val_data))\n",
    "print(all_loads.shape)\n",
    "print(len(allhours))\n",
    "print(len(valhours))\n",
    "print(len(trainhours))"
   ]
  },
  {
   "cell_type": "code",
   "execution_count": 58,
   "metadata": {},
   "outputs": [],
   "source": [
    "load_features = {}\n",
    "seasons = {1: 0, 2: 0, 3: 0, 4: 1, 5: 1, 6: 1, 7: 2, 8: 2, 9: 2, 10: 3, 11: 3, 12: 3}\n",
    "\n",
    "for i in range(len(allhours)):\n",
    "    load_features[allhours[i]] = {}\n",
    "    loads_dayhour = []\n",
    "    loads_hour = []\n",
    "    \n",
    "    currtime = allhours[i]\n",
    "    dt_back = currtime\n",
    "    stop_1 = currtime - datetime.timedelta(days=30*4)\n",
    "    stop_2 = currtime - datetime.timedelta(days=30*2)\n",
    "    \n",
    "    while dt_back > stop_1:\n",
    "        if dt_back < allhours[0]:\n",
    "            break\n",
    "        if dt_back.month == 2 and dt_back.day == 29:\n",
    "            pass\n",
    "        else:\n",
    "            #get loads over the last 2 months by matching day/hour\n",
    "            if dt_back.hour == currtime.hour and dt_back.weekday() == currtime.weekday():\n",
    "                loads_dayhour.append(all_loads[allhours.index(dt_back)])\n",
    "            #get loads over the last 2 months by matching hour\n",
    "            if dt_back > stop_2:\n",
    "                if dt_back.hour == currtime.hour:\n",
    "                    loads_hour.append(all_loads[allhours.index(dt_back)])\n",
    "        dt_back -= datetime.timedelta(hours=24)\n",
    "    \n",
    "    dhhist = np.histogram(loads_dayhour, bins=7)[0]\n",
    "    dayhourmax = np.max(loads_dayhour)\n",
    "    dayhourmin = np.min(loads_dayhour)\n",
    "    dayhourhist = (1.0/sum(dhhist)) * dhhist\n",
    "    dayhourmean = np.mean(loads_dayhour)\n",
    "    dayhourvar = np.var(loads_dayhour)\n",
    "    hourmax = np.max(loads_hour)\n",
    "    hourmin = np.min(loads_hour)\n",
    "    hhist = np.histogram(loads_hour, bins=7)[0]\n",
    "    hourhist = (1.0/sum(hhist)) * hhist\n",
    "    hourmean = np.mean(loads_hour)\n",
    "    hourvar = np.var(loads_hour)\n",
    "    \n",
    "    load_features[currtime][\"dayhourmax\"] = dayhourmax #1\n",
    "    load_features[currtime][\"dayhourmin\"] = dayhourmin #1\n",
    "    load_features[currtime][\"dayhourhist\"] = dayhourhist #7\n",
    "    load_features[currtime][\"dayhourmean\"] = dayhourmean #1\n",
    "    load_features[currtime][\"dayhourvar\"] = dayhourvar #1\n",
    "    load_features[currtime][\"hourmax\"] = hourmax #1\n",
    "    load_features[currtime][\"hourmin\"] = hourmin #1\n",
    "    load_features[currtime][\"hourhist\"] = hourhist #7\n",
    "    load_features[currtime][\"hourmean\"] = hourmean #1\n",
    "    load_features[currtime][\"hourvar\"] = hourvar #1\n",
    "    load_features[currtime][\"month\"] = currtime.month #1\n",
    "    load_features[currtime][\"week\"] = currtime.isocalendar()[1] #1\n",
    "    load_features[currtime][\"weekday\"] = currtime.weekday() #1\n",
    "    load_features[currtime][\"season\"] = seasons[currtime.month] #1"
   ]
  },
  {
   "cell_type": "code",
   "execution_count": 65,
   "metadata": {
    "collapsed": true
   },
   "outputs": [],
   "source": [
    "import copy\n",
    "\n",
    "load_feautres_copy = copy.copy(load_features)"
   ]
  },
  {
   "cell_type": "code",
   "execution_count": 73,
   "metadata": {},
   "outputs": [],
   "source": [
    "import json\n",
    "import time\n",
    "\n",
    "out_features = {}\n",
    "for key in load_feautres_copy:\n",
    "    t = str(int(time.mktime(key.timetuple())))\n",
    "    out_features[t] = {}\n",
    "    for kk in load_feautres_copy[key]:\n",
    "        item = load_feautres_copy[key][kk]\n",
    "        if type(item) == np.ndarray:\n",
    "            out_features[t][kk] = item.tolist()\n",
    "        else:\n",
    "            out_features[t][kk] = item\n",
    "        \n",
    "\n",
    "with open(\"/home/chase/projects/peakload/data/ercot/load_features.json\", 'w') as d:\n",
    "    out = json.dumps(out_features)\n",
    "    d.write(out)"
   ]
  },
  {
   "cell_type": "code",
   "execution_count": 71,
   "metadata": {},
   "outputs": [
    {
     "data": {
      "text/plain": [
       "False"
      ]
     },
     "execution_count": 71,
     "metadata": {},
     "output_type": "execute_result"
    }
   ],
   "source": [
    "#reload feature data"
   ]
  },
  {
   "cell_type": "code",
   "execution_count": null,
   "metadata": {},
   "outputs": [],
   "source": [
    "#feature construction\n",
    "\n",
    "lookback = 24*7\n",
    "\n",
    "#training data input arrays, output_arrays 24 hours ahead\n",
    "training_data_pairs = []\n",
    "\n",
    "for i in range(len(trainhours)-lookback-24): #must offset for last 24 hours in dataset\n",
    "    currtime = trainhours[i]\n",
    "    data_point = np.zeros((lookback, 28)) #current number of features\n",
    "    label = np.zeros((24,1))\n",
    "    for j in range(lookback):\n",
    "        features = load_features[currtime]\n",
    "        data_point[j,0] = train_data_vec[i+j]\n",
    "        data_point[j,1:8] = features[\"hourhist\"]\n",
    "        data_point[j,8:15] = features[\"dayhourhist\"]\n",
    "        data_point[j,16] = features[\"dayhourmax\"]\n",
    "        data_point[j,17] = features[\"dayhourmin\"]\n",
    "        data_point[j,18] = features[\"dayhourmean\"]\n",
    "        data_point[j,19] = features[\"dayhourvar\"]\n",
    "        data_point[j,20] = features[\"hourmax\"]\n",
    "        data_point[j,21] = features[\"hourmin\"]\n",
    "        data_point[j,22] = features[\"hourmean\"]\n",
    "        data_point[j,23] = features[\"hourvar\"]\n",
    "        data_point[j,24] = features[\"month\"]\n",
    "        data_point[j,25] = features[\"week\"]\n",
    "        data_point[j,26] = features[\"weekday\"]\n",
    "        data_point[j,27] = features[\"season\"]\n",
    "    for j in range(24):\n",
    "        label[j,0] = train_data_labels[(i+24)+j]\n",
    "    training_data_pairs.append((data_point, label))\n",
    "\n",
    "test_data_pairs = []\n",
    "for i in range(len(valhours)-lookback-24):\n",
    "    currtime = valhours[i]\n",
    "    data_point = np.zeros((lookback,28))\n",
    "    label = np.zeros((24,1))\n",
    "    for j in range(lookback):\n",
    "        features = load_features[currtime]\n",
    "        data_point[j,0] = val_data[i+j]\n",
    "        data_point[j,1:8] = features[\"hourhist\"]\n",
    "        data_point[j,8:15] = features[\"dayhourhist\"]\n",
    "        data_point[j,16] = features[\"dayhourmax\"]\n",
    "        data_point[j,17] = features[\"dayhourmin\"]\n",
    "        data_point[j,18] = features[\"dayhourmean\"]\n",
    "        data_point[j,19] = features[\"dayhourvar\"]\n",
    "        data_point[j,20] = features[\"hourmax\"]\n",
    "        data_point[j,21] = features[\"hourmin\"]\n",
    "        data_point[j,22] = features[\"hourmean\"]\n",
    "        data_point[j,23] = features[\"hourvar\"]\n",
    "        data_point[j,24] = features[\"month\"]\n",
    "        data_point[j,25] = features[\"week\"]\n",
    "        data_point[j,26] = features[\"weekday\"]\n",
    "        data_point[j,27] = features[\"season\"]\n",
    "    for j in range(24):\n",
    "        label[j,0] = val_data_labels[(i+24)+j]\n",
    "    test_data_pairs.append((data_point, label))\n",
    "    \n",
    "all_data_pairs = training_data_pairs + test_data_pairs\n",
    "        "
   ]
  },
  {
   "cell_type": "code",
   "execution_count": 444,
   "metadata": {},
   "outputs": [],
   "source": [
    "normcolumns = [0, 16, 17, 18, 19, 20, 21, 22, 23, 24, 25, 26, 27]\n",
    "\n",
    "colmaxs = np.zeros((1,28))\n",
    "colmins = np.zeros((1,28))\n",
    "for pair in all_data_pairs:\n",
    "    currmax = np.max(pair[0],axis=0)\n",
    "    currmax = currmax[np.newaxis,:]\n",
    "    currmin = np.min(pair[0],axis=0)\n",
    "    currmin = currmin[np.newaxis,:]\n",
    "    \n",
    "    cmax = np.concatenate((colmaxs, currmax), axis=0)\n",
    "    cmin = np.concatenate((colmins, currmin), axis=0)\n",
    "    \n",
    "    colmaxs = np.max(cmax, axis=0)[np.newaxis,:]\n",
    "    colmins = np.min(cmin, axis=0)[np.newaxis,:]\n"
   ]
  },
  {
   "cell_type": "code",
   "execution_count": 464,
   "metadata": {},
   "outputs": [
    {
     "data": {
      "text/plain": [
       "array([ 0.62225388,  0.63982049,  0.66447699,  0.66209164,  0.64650042,\n",
       "        0.62037223,  0.58126031,  0.54566653,  0.52258983,  0.51207992,\n",
       "        0.50926412,  0.51098238,  0.526481  ,  0.56037706,  0.60994559,\n",
       "        0.62627455,  0.62099246,  0.61905359,  0.61006128,  0.5994832 ,\n",
       "        0.58605415,  0.57489956,  0.56218268,  0.5545562 ,  0.55391924,\n",
       "        0.56608222,  0.59392455,  0.60310894,  0.59778975,  0.58581418,\n",
       "        0.56294497,  0.5404721 ,  0.5233133 ,  0.51545999,  0.51429912,\n",
       "        0.5165894 ,  0.52474984,  0.54258038,  0.56528528,  0.58511312,\n",
       "        0.59829371,  0.59996695,  0.58697286,  0.56131656,  0.53085642,\n",
       "        0.50073705,  0.47436781,  0.45615193,  0.45185108,  0.4635578 ,\n",
       "        0.50354332,  0.52213457,  0.52280614,  0.51631834,  0.50149007,\n",
       "        0.48327012,  0.46723709,  0.45931745,  0.45659349,  0.45803619,\n",
       "        0.46521167,  0.47881139,  0.49834902,  0.51189935,  0.51947899,\n",
       "        0.5125051 ,  0.49993991,  0.48709956,  0.4792548 ,  0.47509357,\n",
       "        0.47125965,  0.47396736,  0.48056142,  0.49758782,  0.53170077,\n",
       "        0.54760354,  0.54916536,  0.5428948 ,  0.52616996,  0.50581088,\n",
       "        0.49560233,  0.49611597,  0.50124859,  0.51064239,  0.5314766 ,\n",
       "        0.57177215,  0.62994327,  0.6517474 ,  0.63651568,  0.62366507,\n",
       "        0.60862634,  0.58777268,  0.56492398,  0.54412503,  0.5239092 ,\n",
       "        0.51057753,  0.50654079,  0.52168742,  0.56971812,  0.59753355,\n",
       "        0.60046167,  0.59164586,  0.56411322,  0.53477681,  0.52008326,\n",
       "        0.51739742,  0.52366507,  0.53351956,  0.55429718,  0.60044479,\n",
       "        0.66606271,  0.67530683,  0.63436979,  0.59521187,  0.56396415,\n",
       "        0.53550463,  0.51230159,  0.4948911 ,  0.47877259,  0.46969844,\n",
       "        0.4695624 ,  0.48445983,  0.5342305 ,  0.56452838,  0.57091998,\n",
       "        0.56296972,  0.53500903,  0.50867477,  0.49481322,  0.49250195,\n",
       "        0.49828509,  0.50894888,  0.53209342,  0.58045831,  0.65267369,\n",
       "        0.66155713,  0.61590454,  0.57667141,  0.54419073,  0.51580192,\n",
       "        0.49104103,  0.47470869,  0.45916325,  0.44967375,  0.44846826,\n",
       "        0.46091444,  0.50319275,  0.53001396,  0.53763281,  0.53124824,\n",
       "        0.50449585,  0.47605456,  0.46166921,  0.45852065,  0.4624726 ,\n",
       "        0.47180857,  0.49357675,  0.54041817,  0.61077004,  0.62133455,\n",
       "        0.58172621,  0.54631212,  0.51982558,  0.49524028,  0.47763333,\n",
       "        0.46459181,  0.45270534,  0.44558611])"
      ]
     },
     "execution_count": 464,
     "metadata": {},
     "output_type": "execute_result"
    }
   ],
   "source": []
  },
  {
   "cell_type": "code",
   "execution_count": 461,
   "metadata": {},
   "outputs": [
    {
     "data": {
      "text/plain": [
       "array([[  6.96204076e+04,   8.81355932e-01,   7.28813559e-01,\n",
       "          5.93220339e-01,   1.00000000e+00,   4.33333333e-01,\n",
       "          6.00000000e-01,   5.00000000e-01,   8.33333333e-01,\n",
       "          6.66666667e-01,   6.66666667e-01,   1.00000000e+00,\n",
       "          5.00000000e-01,   5.55555556e-01,   6.66666667e-01,\n",
       "          0.00000000e+00,   6.96204076e+04,   5.21139666e+04,\n",
       "          6.14793360e+04,   1.90730266e+08,   6.96204076e+04,\n",
       "          5.36184458e+04,   6.36651761e+04,   9.78771220e+07,\n",
       "          1.20000000e+01,   5.30000000e+01,   6.00000000e+00,\n",
       "          3.00000000e+00]])"
      ]
     },
     "execution_count": 461,
     "metadata": {},
     "output_type": "execute_result"
    }
   ],
   "source": [
    "colmaxs"
   ]
  },
  {
   "cell_type": "code",
   "execution_count": 457,
   "metadata": {},
   "outputs": [],
   "source": [
    "normed_data_pairs = []\n",
    "\n",
    "for pair in all_data_pairs:\n",
    "    normedarr = pair[0]\n",
    "    for column in normcolumns:\n",
    "        coldata = copy.copy(pair[0][:,column])\n",
    "        coldata = (1.0/(colmaxs[0,column] - colmins[0,column])) * (pair[0][:,column] - colmins[0,column])\n",
    "        normedarr[:,column] = coldata.T\n",
    "    \n",
    "    normed_data_pairs.append((normedarr, pair[1]))"
   ]
  },
  {
   "cell_type": "code",
   "execution_count": 199,
   "metadata": {},
   "outputs": [],
   "source": [
    "#shuffle training/test data pairs, split out validation\n",
    "import random\n",
    "\n",
    "random.shuffle(training_data_pairs)\n",
    "training_pairs = training_data_pairs[0:int(0.9*float(len(training_data_pairs)))]\n",
    "val_pairs = training_data_pairs[int(0.9*float(len(training_data_pairs))):]\n",
    "\n",
    "random.shuffle(test_data_pairs)"
   ]
  },
  {
   "cell_type": "code",
   "execution_count": 197,
   "metadata": {},
   "outputs": [],
   "source": []
  },
  {
   "cell_type": "code",
   "execution_count": 257,
   "metadata": {},
   "outputs": [],
   "source": [
    "def batch_sample_list(datalist, batchsize):\n",
    "    remainder = len(datalist) % batchsize\n",
    "    diff = batchsize - remainder\n",
    "    tail = datalist[-diff:] + datalist[0:remainder]\n",
    "    out = [ datalist[i*batchsize:(i+1)*batchsize] for i in range(int(float(len(datalist))/float(batchsize)))]\n",
    "    out = out + [tail]\n",
    "    return(out)\n",
    "\n",
    "def torch_reshape_data(databatch):\n",
    "    inputs = []\n",
    "    labels = []\n",
    "    for sample in databatch:\n",
    "        inputs.append(sample[0].flatten())\n",
    "        labels.append(sample[1].flatten())\n",
    "    return(torch.Tensor(np.asarray(inputs)), torch.Tensor(np.asarray(labels)))"
   ]
  },
  {
   "cell_type": "code",
   "execution_count": 244,
   "metadata": {},
   "outputs": [],
   "source": [
    "trainbatches = batch_sample_list(val_pairs, 10)\n",
    "inputs, labels = torch_reshape_data(trainbatches[0])"
   ]
  },
  {
   "cell_type": "code",
   "execution_count": 245,
   "metadata": {},
   "outputs": [
    {
     "data": {
      "text/plain": [
       "(torch.FloatTensor, torch.Size([10, 24]))"
      ]
     },
     "execution_count": 245,
     "metadata": {},
     "output_type": "execute_result"
    }
   ],
   "source": [
    "type(inputs), labels.shape"
   ]
  },
  {
   "cell_type": "code",
   "execution_count": 399,
   "metadata": {},
   "outputs": [
    {
     "name": "stdout",
     "output_type": "stream",
     "text": [
      "472\n",
      "47.2\n"
     ]
    }
   ],
   "source": [
    "train_batches = batch_sample_list(training_pairs, 100)\n",
    "num_batches = len(train_batches)\n",
    "tenth = num_batches/10\n",
    "\n",
    "print(num_batches)\n",
    "print(tenth)"
   ]
  },
  {
   "cell_type": "code",
   "execution_count": 403,
   "metadata": {},
   "outputs": [],
   "source": [
    "def set_loss(net_obj, datalist):\n",
    "    losses = []\n",
    "    for i, data, in enumerate(datalist):\n",
    "        inputs, labels = torch_reshape_data([data])\n",
    "        labels = Variable(labels.cuda())\n",
    "        outputs = net_obj(Variable(inputs.cuda()))\n",
    "        loss = criterion(outputs, labels)\n",
    "        losses.append(loss.data[0])\n",
    "    return(np.mean(losses))\n",
    "    \n",
    "\n",
    "def train(net_obj, loss_fnc, opt_fnc, traindata, valdata, batchsize=100, epochs=100):  \n",
    "    train_batches = batch_sample_list(traindata, batchsize)\n",
    "    num_batches = len(train_batches)\n",
    "    tenth = int(num_batches/10)\n",
    "    \n",
    "    training_epoch_loss = []\n",
    "    train_epoch_set_loss = []\n",
    "    val_epoch_set_loss = []\n",
    "    \n",
    "    for epoch in range(epochs):\n",
    "        running_loss = 0.0\n",
    "        for i, data in enumerate(trainbatches):\n",
    "            inputs, labels = torch_reshape_data(data)\n",
    "\n",
    "            # wrap them in Variable\n",
    "            inputs, labels = Variable(inputs.cuda()), Variable(labels.cuda()) #they need to be .cuda() with each training epoch\n",
    "\n",
    "            # zero the parameter gradients\n",
    "            optimizer.zero_grad()\n",
    "\n",
    "            # forward + backward + optimize\n",
    "            outputs = net_obj(inputs)\n",
    "            loss = criterion(outputs, labels)\n",
    "            loss.backward()\n",
    "            optimizer.step()\n",
    "\n",
    "            # print statistics\n",
    "            running_loss += loss.data[0]\n",
    "\n",
    "        #training loss\n",
    "        print(running_loss)\n",
    "        training_epoch_loss.append(running_loss)\n",
    "       \n",
    "    #epoch set loss\n",
    "    train_set_loss = set_loss(net_obj, traindata)\n",
    "    print(\"training set loss: \" + str(train_set_loss))\n",
    "    train_epoch_set_loss.append(train_set_loss)\n",
    "    val_set_loss = set_loss(net_obj, valdata)\n",
    "    print(\"val set loss:\" + str(val_set_loss))\n",
    "    val_epoch_set_loss.append(val_set_loss)\n",
    "                \n",
    "    return(training_epoch_loss, train_epoch_set_loss, val_epoch_set_loss)"
   ]
  },
  {
   "cell_type": "code",
   "execution_count": 395,
   "metadata": {
    "collapsed": true
   },
   "outputs": [],
   "source": [
    "class linear_net(nn.Module):\n",
    "    def __init__(self):\n",
    "        super(linear_net, self).__init__()\n",
    "        self.D_in = lookback * 28\n",
    "        self.H1 = 250\n",
    "        self.H2 = 150\n",
    "        self.H3 = 50\n",
    "        self.D_out = 24\n",
    "        self.l1 = nn.Linear(self.D_in, self.H1)\n",
    "        self.l2 = nn.Linear(self.H1, self.H2)\n",
    "        self.l3 = nn.Linear(self.H2, self.H3)\n",
    "        self.l4 = nn.Linear(self.H3, self.D_out)\n",
    "    \n",
    "    def forward(self, x):\n",
    "        x = F.sigmoid(self.l1(F.dropout(x)))\n",
    "        x = F.sigmoid(self.l2(x))\n",
    "        x = F.softmax(self.l3(x))\n",
    "        x = self.l4(x)\n",
    "        return(x)"
   ]
  },
  {
   "cell_type": "code",
   "execution_count": 385,
   "metadata": {
    "collapsed": true
   },
   "outputs": [],
   "source": [
    "class conv_net(nn.Module):\n",
    "    def __init__(self):\n",
    "        super(linear_net, self).__init__()\n",
    "        self.D_in = lookback * 28\n",
    "        self.H = 250\n",
    "        self.window = 2\n",
    "        self.pool = 10\n",
    "        self.D_out = 24\n",
    "        self.l1 = nn.Linear(self.D_in, self.H)\n",
    "        self.conv1 = nn.Conv1d(self.H, self.H, self.window)\n",
    "        self.l2 = nn.Linear(self.H, self.D_out)\n",
    "    \n",
    "    def forward(self, x):\n",
    "        x = F.relu(self.l1(x))\n",
    "        x = F.avg_pool1d(self.conv1(x),self.pool)\n",
    "        x = self.l2(x)\n",
    "        return(x)"
   ]
  },
  {
   "cell_type": "code",
   "execution_count": 404,
   "metadata": {},
   "outputs": [],
   "source": [
    "batch_size = 100 #batch size\n",
    "\n",
    "net = linear_net().cuda()\n",
    "\n",
    "criterion = nn.L1Loss()\n",
    "optimizer = optim.SGD(net.parameters(), lr=0.001, momentum=0.9)"
   ]
  },
  {
   "cell_type": "code",
   "execution_count": 405,
   "metadata": {},
   "outputs": [
    {
     "name": "stdout",
     "output_type": "stream",
     "text": [
      "229.7384566962719\n",
      "172.11543729901314\n",
      "148.25309224426746\n",
      "138.3695435076952\n",
      "134.2889770269394\n",
      "132.62611673772335\n",
      "131.93922066688538\n",
      "131.65856318175793\n",
      "131.54775670170784\n",
      "131.50199507176876\n",
      "131.48302605748177\n",
      "131.47487179934978\n",
      "131.47100611031055\n",
      "131.46922755241394\n",
      "131.4680959135294\n",
      "131.46749185025692\n",
      "131.46715453267097\n",
      "131.46688525378704\n",
      "131.4667161256075\n",
      "131.46649700403214\n",
      "131.46631629765034\n"
     ]
    },
    {
     "ename": "KeyboardInterrupt",
     "evalue": "",
     "output_type": "error",
     "traceback": [
      "\u001b[0;31m---------------------------------------------------------------------------\u001b[0m",
      "\u001b[0;31mKeyboardInterrupt\u001b[0m                         Traceback (most recent call last)",
      "\u001b[0;32m<ipython-input-405-b2c3635d7584>\u001b[0m in \u001b[0;36m<module>\u001b[0;34m()\u001b[0m\n\u001b[0;32m----> 1\u001b[0;31m \u001b[0mtrain_losses\u001b[0m\u001b[0;34m,\u001b[0m \u001b[0mtrain_accs\u001b[0m\u001b[0;34m,\u001b[0m \u001b[0mtest_accs\u001b[0m \u001b[0;34m=\u001b[0m \u001b[0mtrain\u001b[0m\u001b[0;34m(\u001b[0m\u001b[0mnet\u001b[0m\u001b[0;34m,\u001b[0m \u001b[0mcriterion\u001b[0m\u001b[0;34m,\u001b[0m \u001b[0moptimizer\u001b[0m\u001b[0;34m,\u001b[0m \u001b[0mtraining_pairs\u001b[0m\u001b[0;34m,\u001b[0m \u001b[0mval_pairs\u001b[0m\u001b[0;34m)\u001b[0m\u001b[0;34m\u001b[0m\u001b[0m\n\u001b[0m",
      "\u001b[0;32m<ipython-input-403-abf203694258>\u001b[0m in \u001b[0;36mtrain\u001b[0;34m(net_obj, loss_fnc, opt_fnc, traindata, valdata, batchsize, epochs)\u001b[0m\n\u001b[1;32m     22\u001b[0m         \u001b[0mrunning_loss\u001b[0m \u001b[0;34m=\u001b[0m \u001b[0;36m0.0\u001b[0m\u001b[0;34m\u001b[0m\u001b[0m\n\u001b[1;32m     23\u001b[0m         \u001b[0;32mfor\u001b[0m \u001b[0mi\u001b[0m\u001b[0;34m,\u001b[0m \u001b[0mdata\u001b[0m \u001b[0;32min\u001b[0m \u001b[0menumerate\u001b[0m\u001b[0;34m(\u001b[0m\u001b[0mtrainbatches\u001b[0m\u001b[0;34m)\u001b[0m\u001b[0;34m:\u001b[0m\u001b[0;34m\u001b[0m\u001b[0m\n\u001b[0;32m---> 24\u001b[0;31m             \u001b[0minputs\u001b[0m\u001b[0;34m,\u001b[0m \u001b[0mlabels\u001b[0m \u001b[0;34m=\u001b[0m \u001b[0mtorch_reshape_data\u001b[0m\u001b[0;34m(\u001b[0m\u001b[0mdata\u001b[0m\u001b[0;34m)\u001b[0m\u001b[0;34m\u001b[0m\u001b[0m\n\u001b[0m\u001b[1;32m     25\u001b[0m \u001b[0;34m\u001b[0m\u001b[0m\n\u001b[1;32m     26\u001b[0m             \u001b[0;31m# wrap them in Variable\u001b[0m\u001b[0;34m\u001b[0m\u001b[0;34m\u001b[0m\u001b[0m\n",
      "\u001b[0;32m<ipython-input-257-2345be6bf7c0>\u001b[0m in \u001b[0;36mtorch_reshape_data\u001b[0;34m(databatch)\u001b[0m\n\u001b[1;32m     13\u001b[0m         \u001b[0minputs\u001b[0m\u001b[0;34m.\u001b[0m\u001b[0mappend\u001b[0m\u001b[0;34m(\u001b[0m\u001b[0msample\u001b[0m\u001b[0;34m[\u001b[0m\u001b[0;36m0\u001b[0m\u001b[0;34m]\u001b[0m\u001b[0;34m.\u001b[0m\u001b[0mflatten\u001b[0m\u001b[0;34m(\u001b[0m\u001b[0;34m)\u001b[0m\u001b[0;34m)\u001b[0m\u001b[0;34m\u001b[0m\u001b[0m\n\u001b[1;32m     14\u001b[0m         \u001b[0mlabels\u001b[0m\u001b[0;34m.\u001b[0m\u001b[0mappend\u001b[0m\u001b[0;34m(\u001b[0m\u001b[0msample\u001b[0m\u001b[0;34m[\u001b[0m\u001b[0;36m1\u001b[0m\u001b[0;34m]\u001b[0m\u001b[0;34m.\u001b[0m\u001b[0mflatten\u001b[0m\u001b[0;34m(\u001b[0m\u001b[0;34m)\u001b[0m\u001b[0;34m)\u001b[0m\u001b[0;34m\u001b[0m\u001b[0m\n\u001b[0;32m---> 15\u001b[0;31m     \u001b[0;32mreturn\u001b[0m\u001b[0;34m(\u001b[0m\u001b[0mtorch\u001b[0m\u001b[0;34m.\u001b[0m\u001b[0mTensor\u001b[0m\u001b[0;34m(\u001b[0m\u001b[0mnp\u001b[0m\u001b[0;34m.\u001b[0m\u001b[0masarray\u001b[0m\u001b[0;34m(\u001b[0m\u001b[0minputs\u001b[0m\u001b[0;34m)\u001b[0m\u001b[0;34m)\u001b[0m\u001b[0;34m,\u001b[0m \u001b[0mtorch\u001b[0m\u001b[0;34m.\u001b[0m\u001b[0mTensor\u001b[0m\u001b[0;34m(\u001b[0m\u001b[0mnp\u001b[0m\u001b[0;34m.\u001b[0m\u001b[0masarray\u001b[0m\u001b[0;34m(\u001b[0m\u001b[0mlabels\u001b[0m\u001b[0;34m)\u001b[0m\u001b[0;34m)\u001b[0m\u001b[0;34m)\u001b[0m\u001b[0;34m\u001b[0m\u001b[0m\n\u001b[0m",
      "\u001b[0;31mKeyboardInterrupt\u001b[0m: "
     ]
    }
   ],
   "source": [
    "train_losses, train_accs, test_accs = train(net, criterion, optimizer, training_pairs, val_pairs)"
   ]
  },
  {
   "cell_type": "code",
   "execution_count": 406,
   "metadata": {},
   "outputs": [],
   "source": [
    "inputs, labels = torch_reshape_data(training_pairs[0:10])\n",
    "labels = Variable(labels.cuda())\n",
    "outputs = net(Variable(inputs.cuda()))"
   ]
  },
  {
   "cell_type": "code",
   "execution_count": 407,
   "metadata": {},
   "outputs": [
    {
     "data": {
      "text/plain": [
       "\n",
       "\n",
       "Columns 0 to 9 \n",
       " 0.5055  0.5075  0.5062  0.5013  0.5014  0.4986  0.5043  0.5084  0.5039  0.5016\n",
       " 0.5056  0.5068  0.5062  0.5006  0.5024  0.4982  0.5051  0.5087  0.5041  0.5011\n",
       " 0.5053  0.5073  0.5063  0.5013  0.5013  0.4986  0.5045  0.5082  0.5039  0.5020\n",
       " 0.5054  0.5073  0.5064  0.5012  0.5012  0.4986  0.5046  0.5081  0.5037  0.5018\n",
       " 0.5054  0.5069  0.5066  0.5011  0.5014  0.4988  0.5051  0.5084  0.5039  0.5018\n",
       " 0.5056  0.5068  0.5062  0.5007  0.5023  0.4984  0.5050  0.5086  0.5040  0.5014\n",
       " 0.5056  0.5068  0.5062  0.5007  0.5023  0.4984  0.5050  0.5086  0.5040  0.5014\n",
       " 0.5053  0.5072  0.5068  0.5012  0.5011  0.4986  0.5044  0.5080  0.5036  0.5017\n",
       " 0.5053  0.5067  0.5067  0.5005  0.5028  0.4981  0.5053  0.5086  0.5042  0.5009\n",
       " 0.5055  0.5074  0.5064  0.5013  0.5012  0.4986  0.5044  0.5082  0.5036  0.5018\n",
       "\n",
       "Columns 10 to 19 \n",
       " 0.5076  0.5027  0.5021  0.4996  0.5019  0.5042  0.5030  0.4997  0.5068  0.5069\n",
       " 0.5072  0.5021  0.5017  0.4997  0.5011  0.5040  0.5034  0.4999  0.5065  0.5070\n",
       " 0.5077  0.5028  0.5020  0.4997  0.5020  0.5042  0.5028  0.4998  0.5070  0.5070\n",
       " 0.5075  0.5029  0.5017  0.4996  0.5017  0.5042  0.5025  0.4997  0.5068  0.5073\n",
       " 0.5076  0.5029  0.5018  0.4996  0.5016  0.5040  0.5026  0.4996  0.5068  0.5071\n",
       " 0.5074  0.5023  0.5017  0.4997  0.5013  0.5039  0.5032  0.4998  0.5067  0.5070\n",
       " 0.5074  0.5023  0.5017  0.4997  0.5013  0.5039  0.5032  0.4998  0.5067  0.5070\n",
       " 0.5076  0.5028  0.5017  0.4995  0.5017  0.5042  0.5026  0.4998  0.5067  0.5072\n",
       " 0.5065  0.5022  0.5012  0.5000  0.5009  0.5038  0.5031  0.5002  0.5063  0.5071\n",
       " 0.5075  0.5029  0.5020  0.4997  0.5017  0.5041  0.5029  0.4998  0.5069  0.5069\n",
       "\n",
       "Columns 20 to 23 \n",
       " 0.5113  0.5081  0.5077  0.5058\n",
       " 0.5114  0.5085  0.5075  0.5056\n",
       " 0.5114  0.5081  0.5077  0.5060\n",
       " 0.5114  0.5083  0.5080  0.5061\n",
       " 0.5116  0.5082  0.5081  0.5062\n",
       " 0.5114  0.5084  0.5077  0.5057\n",
       " 0.5114  0.5084  0.5077  0.5057\n",
       " 0.5115  0.5083  0.5081  0.5062\n",
       " 0.5118  0.5083  0.5078  0.5061\n",
       " 0.5114  0.5082  0.5078  0.5060\n",
       "[torch.cuda.FloatTensor of size 10x24 (GPU 0)]"
      ]
     },
     "execution_count": 407,
     "metadata": {},
     "output_type": "execute_result"
    }
   ],
   "source": [
    "outputs.data"
   ]
  },
  {
   "cell_type": "code",
   "execution_count": 408,
   "metadata": {},
   "outputs": [
    {
     "data": {
      "text/plain": [
       "[<matplotlib.lines.Line2D at 0x7ff6bc87e0b8>]"
      ]
     },
     "execution_count": 408,
     "metadata": {},
     "output_type": "execute_result"
    },
    {
     "data": {
      "image/png": "[encoded data removed]",
      "text/plain": [
       "<matplotlib.figure.Figure at 0x7ff70128c0b8>"
      ]
     },
     "metadata": {},
     "output_type": "display_data"
    }
   ],
   "source": [
    "plt.plot(outputs.data[0,:].cpu().numpy())"
   ]
  },
  {
   "cell_type": "code",
   "execution_count": null,
   "metadata": {
    "collapsed": true
   },
   "outputs": [],
   "source": []
  },
  {
   "cell_type": "code",
   "execution_count": 31,
   "metadata": {},
   "outputs": [
    {
     "data": {
      "text/plain": [
       "array([1, 0, 0, 0, 0, 1, 0, 0, 0, 1])"
      ]
     },
     "execution_count": 31,
     "metadata": {},
     "output_type": "execute_result"
    }
   ],
   "source": [
    "import torch\n",
    "from torch.autograd import Variable\n",
    "\n",
    "# N is batch size; D_in is input dimension;\n",
    "# H is hidden dimension; D_out is output dimension.\n",
    "N, D_in, H, D_out = 64, lookback*28, 250, 24\n",
    "\n",
    "model = torch.nn.Sequential(\n",
    "          torch.nn.Linear(D_in, H),\n",
    "          torch.nn.ReLU(),\n",
    "          torch.nn.Linear(H, D_out),\n",
    "        )\n",
    "\n",
    "loss_fn = torch.nn.L1Loss()\n",
    "optimizer = optim.SGD(net.parameters(), lr=0.001, momentum=0.9)\n",
    "\n",
    "for t in range(500):\n",
    "    y_pred = model(x)\n",
    "    loss = loss_fn(y_pred, y)\n",
    "    print(t, loss.data[0])\n",
    "\n",
    "    model.zero_grad()\n",
    "    loss.backward()\n",
    "\n",
    "    for param in model.parameters():\n",
    "        param.data -= learning_rate * param.grad.data"
   ]
  },
  {
   "cell_type": "code",
   "execution_count": null,
   "metadata": {
    "collapsed": true
   },
   "outputs": [],
   "source": []
  },
  {
   "cell_type": "code",
   "execution_count": 323,
   "metadata": {},
   "outputs": [
    {
     "name": "stdout",
     "output_type": "stream",
     "text": [
      "outputs torch.Size([3, 5, 7])\n",
      "hidden torch.Size([2, 5, 50])\n"
     ]
    }
   ],
   "source": [
    "import torch\n",
    "from torch import nn\n",
    "from torch.autograd import Variable\n",
    "import torch.nn.functional as F\n",
    "\n",
    "class RNN(nn.Module):\n",
    "    def __init__(self, input_size, hidden_size, output_size, n_layers=1):\n",
    "        super(RNN, self).__init__()\n",
    "        self.input_size = input_size\n",
    "        self.hidden_size = hidden_size\n",
    "        self.output_size = output_size\n",
    "        self.n_layers = n_layers\n",
    "\n",
    "        self.c1 = nn.Conv1d(input_size, hidden_size, 2)\n",
    "        self.p1 = nn.AvgPool1d(2)\n",
    "        self.c2 = nn.Conv1d(hidden_size, hidden_size, 1)\n",
    "        self.p2 = nn.AvgPool1d(2)\n",
    "        self.gru = nn.GRU(hidden_size, hidden_size, n_layers, dropout=0.01)\n",
    "        self.out = nn.Linear(hidden_size, output_size)\n",
    "\n",
    "    def forward(self, inputs, hidden):\n",
    "        batch_size = inputs.size(1)\n",
    "        \n",
    "        # Turn (seq_len x batch_size x input_size) into (batch_size x input_size x seq_len) for CNN\n",
    "        inputs = inputs.transpose(0, 1).transpose(1, 2)\n",
    "\n",
    "        # Run through Conv1d and Pool1d layers\n",
    "        c = self.c1(inputs)\n",
    "        p = self.p1(c)\n",
    "        c = self.c2(p)\n",
    "        p = self.p2(c)\n",
    "\n",
    "        # Turn (batch_size x hidden_size x seq_len) back into (seq_len x batch_size x hidden_size) for RNN\n",
    "        p = p.transpose(1, 2).transpose(0, 1)\n",
    "        \n",
    "        p = F.tanh(p)\n",
    "        output, hidden = self.gru(p, hidden)\n",
    "        conv_seq_len = output.size(0)\n",
    "        output = output.view(conv_seq_len * batch_size, self.hidden_size) # Treating (conv_seq_len x batch_size) as batch_size for linear layer\n",
    "        output = F.tanh(self.out(output))\n",
    "        output = output.view(conv_seq_len, -1, self.output_size)\n",
    "        return output, hidden\n",
    "\n",
    "input_size = 20\n",
    "hidden_size = 50\n",
    "output_size = 7\n",
    "batch_size = 5\n",
    "n_layers = 2\n",
    "seq_len = 15\n",
    "\n",
    "rnn = RNN(input_size, hidden_size, output_size, n_layers=n_layers)\n",
    "\n",
    "inputs = Variable(torch.rand(seq_len, batch_size, input_size)) # seq_len x batch_size x \n",
    "outputs, hidden = rnn(inputs, None)\n",
    "print('outputs', outputs.size()) # conv_seq_len x batch_size x output_size\n",
    "print('hidden', hidden.size()) # n_layers x batch_size x hidden_size"
   ]
  },
  {
   "cell_type": "code",
   "execution_count": 329,
   "metadata": {},
   "outputs": [
    {
     "data": {
      "text/plain": [
       "torch.Size([15, 5, 20])"
      ]
     },
     "execution_count": 329,
     "metadata": {},
     "output_type": "execute_result"
    }
   ],
   "source": [
    "inputs.data.shape"
   ]
  },
  {
   "cell_type": "code",
   "execution_count": null,
   "metadata": {
    "collapsed": true
   },
   "outputs": [],
   "source": []
  }
 ],
 "metadata": {
  "kernelspec": {
   "display_name": "Python [conda env:anaconda3]",
   "language": "python",
   "name": "conda-env-anaconda3-py"
  },
  "language_info": {
   "codemirror_mode": {
    "name": "ipython",
    "version": 3
   },
   "file_extension": ".py",
   "mimetype": "text/x-python",
   "name": "python",
   "nbconvert_exporter": "python",
   "pygments_lexer": "ipython3",
   "version": "3.6.3"
  }
 },
 "nbformat": 4,
 "nbformat_minor": 2
}
